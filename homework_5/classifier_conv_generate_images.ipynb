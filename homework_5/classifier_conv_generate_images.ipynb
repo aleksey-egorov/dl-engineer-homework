{
 "cells": [
  {
   "cell_type": "code",
   "execution_count": 1,
   "metadata": {},
   "outputs": [],
   "source": [
    "import torch\n",
    "import torch.nn as nn\n",
    "import torch.nn.functional as F\n",
    "import torch.optim as optim\n",
    "from torchvision import datasets, transforms\n",
    "\n",
    "from utils import *\n",
    "import numpy as np\n",
    "%matplotlib inline"
   ]
  },
  {
   "cell_type": "markdown",
   "metadata": {},
   "source": [
    "## Подготовка и визуализация данных"
   ]
  },
  {
   "cell_type": "code",
   "execution_count": 2,
   "metadata": {},
   "outputs": [],
   "source": [
    "train_loader, valid_loader, test_loader = mnist(valid=10000, batch_size=50)"
   ]
  },
  {
   "cell_type": "code",
   "execution_count": 3,
   "metadata": {},
   "outputs": [
    {
     "data": {
      "image/png": "[encoded data removed]",
      "text/plain": [
       "<Figure size 800x400 with 50 Axes>"
      ]
     },
     "metadata": {},
     "output_type": "display_data"
    }
   ],
   "source": [
    "images = mnist_plotdata()\n",
    "plot_mnist(images, (5, 10))"
   ]
  },
  {
   "cell_type": "markdown",
   "metadata": {},
   "source": [
    "## Обучение классификатора"
   ]
  },
  {
   "cell_type": "code",
   "execution_count": 4,
   "metadata": {},
   "outputs": [],
   "source": [
    "class ConvLayer(nn.Module):\n",
    "    def __init__(self, size, padding=1, pool_layer=nn.MaxPool2d(2, stride=2),\n",
    "                 bn=False, dropout=False, activation_fn=nn.ReLU()):\n",
    "        super(ConvLayer, self).__init__()\n",
    "        layers = []\n",
    "        layers.append(nn.Conv2d(size[0], size[1], size[2], padding=padding))\n",
    "        if pool_layer is not None:\n",
    "            layers.append(pool_layer)\n",
    "        if bn:\n",
    "            layers.append(nn.BatchNorm2d(size[1]))\n",
    "        if dropout:\n",
    "            layers.append(nn.Dropout2d())\n",
    "        layers.append(activation_fn)\n",
    "        \n",
    "        self.model = nn.Sequential(*layers)\n",
    "    \n",
    "    def forward(self, x):\n",
    "        return self.model(x)"
   ]
  },
  {
   "cell_type": "code",
   "execution_count": 5,
   "metadata": {},
   "outputs": [],
   "source": [
    "class FullyConnected(nn.Module):\n",
    "    def __init__(self, sizes, dropout=False, activation_fn=nn.Tanh):\n",
    "        super(FullyConnected, self).__init__()\n",
    "        layers = []\n",
    "        \n",
    "        for i in range(len(sizes) - 2):\n",
    "            layers.append(nn.Linear(sizes[i], sizes[i+1]))\n",
    "            if dropout:\n",
    "                layers.append(nn.Dropout())\n",
    "            layers.append(activation_fn())\n",
    "        else: # нам не нужен дропаут и фнкция активации в последнем слое\n",
    "            layers.append(nn.Linear(sizes[-2], sizes[-1]))\n",
    "        \n",
    "        self.model = nn.Sequential(*layers)\n",
    "        \n",
    "    def forward(self, x):\n",
    "        return self.model(x)"
   ]
  },
  {
   "cell_type": "code",
   "execution_count": 6,
   "metadata": {},
   "outputs": [],
   "source": [
    "class Net(nn.Module):\n",
    "    def __init__(self, batchnorm=False, dropout=False, lr=1e-4, l2=0.):\n",
    "        super(Net, self).__init__()\n",
    "        \n",
    "        \n",
    "        self._conv1 = ConvLayer([1, 16, 3], bn=batchnorm)\n",
    "        self._conv2 = ConvLayer([16, 32, 3], bn=batchnorm, activation_fn=nn.Sigmoid())\n",
    "        \n",
    "        self.fc = FullyConnected([32*7*7, 10], dropout=dropout)\n",
    "        \n",
    "        self._loss = None\n",
    "        self.optim = optim.Adam(self.parameters(), lr=lr, weight_decay=l2)\n",
    "    \n",
    "    def conv(self, x):\n",
    "        x = self._conv1(x)\n",
    "        x = self._conv2(x)\n",
    "        return x\n",
    "        \n",
    "    def forward(self, x):\n",
    "        x = self.conv(x)\n",
    "        x = x.view(-1, 32*7*7)\n",
    "        x = self.fc(x)\n",
    "        return x\n",
    "    \n",
    "    def loss(self, output, target, **kwargs):\n",
    "        self._loss = F.cross_entropy(output, target, **kwargs)\n",
    "        self._correct = output.data.max(1, keepdim=True)[1]\n",
    "        self._correct = self._correct.eq(target.data.view_as(self._correct)).to(torch.float).cpu().mean()\n",
    "        return self._loss"
   ]
  },
  {
   "cell_type": "code",
   "execution_count": 7,
   "metadata": {},
   "outputs": [],
   "source": [
    "def train(epoch, models, log=None):\n",
    "    train_size = len(train_loader.sampler)\n",
    "    for batch_idx, (data, target) in enumerate(train_loader):\n",
    "        for model in models.values():\n",
    "            model.optim.zero_grad()\n",
    "            output = model(data)\n",
    "            loss = model.loss(output, target)\n",
    "            loss.backward()\n",
    "            model.optim.step()\n",
    "            \n",
    "        if batch_idx % 200 == 0:\n",
    "            line = 'Train Epoch: {} [{}/{} ({:.0f}%)]\\tLosses '.format(\n",
    "                epoch, batch_idx * len(data), train_size, 100. * batch_idx / len(train_loader))\n",
    "            losses = ' '.join(['{}: {:.6f}'.format(k, m._loss.item()) for k, m in models.items()])\n",
    "            print(line + losses)\n",
    "            \n",
    "    else:\n",
    "        batch_idx += 1\n",
    "        line = 'Train Epoch: {} [{}/{} ({:.0f}%)]\\tLosses '.format(\n",
    "            epoch, batch_idx * len(data), train_size, 100. * batch_idx / len(train_loader))\n",
    "        losses = ' '.join(['{}: {:.6f}'.format(k, m._loss.item()) for k, m in models.items()])\n",
    "        if log is not None:\n",
    "            for k in models:\n",
    "                log[k].append((models[k]._loss, models[k]._correct))\n",
    "        print(line + losses)"
   ]
  },
  {
   "cell_type": "code",
   "execution_count": 8,
   "metadata": {},
   "outputs": [],
   "source": [
    "models = {'bn': Net(True), 'drop': Net(False, True), 'plain': Net()}\n",
    "train_log = {k: [] for k in models}\n",
    "test_log = {k: [] for k in models}"
   ]
  },
  {
   "cell_type": "code",
   "execution_count": 9,
   "metadata": {},
   "outputs": [],
   "source": [
    "def test(models, loader, log=None):\n",
    "    test_size = len(loader.sampler)\n",
    "    avg_lambda = lambda l: 'Loss: {:.4f}'.format(l)\n",
    "    acc_lambda = lambda c, p: 'Accuracy: {}/{} ({:.0f}%)'.format(c, test_size, p)\n",
    "    line = lambda i, l, c, p: '{}: '.format(i) + avg_lambda(l) + '\\t' + acc_lambda(c, p)\n",
    "\n",
    "    test_loss = {k: 0. for k in models}\n",
    "    correct = {k: 0. for k in models}\n",
    "    with torch.no_grad():\n",
    "        for data, target in loader:\n",
    "            output = {k: m(data) for k, m in models.items()}\n",
    "            for k, m in models.items():\n",
    "                test_loss[k] += m.loss(output[k], target, size_average=False).item() # sum up batch loss\n",
    "                pred = output[k].data.max(1, keepdim=True)[1] # get the index of the max log-probability\n",
    "                correct[k] += pred.eq(target.data.view_as(pred)).cpu().sum().item()\n",
    "    \n",
    "    for k in models:\n",
    "        test_loss[k] /= test_size\n",
    "    correct_pct = {k: c / test_size for k, c in correct.items()}\n",
    "    lines = '\\n'.join([line(k, test_loss[k], correct[k], 100*correct_pct[k]) for k in models]) + '\\n'\n",
    "    report = 'Test set:\\n' + lines\n",
    "    if log is not None:\n",
    "        for k in models:\n",
    "            log[k].append((test_loss[k], correct_pct[k]))\n",
    "    print(report)"
   ]
  },
  {
   "cell_type": "code",
   "execution_count": null,
   "metadata": {},
   "outputs": [],
   "source": []
  },
  {
   "cell_type": "code",
   "execution_count": 10,
   "metadata": {
    "scrolled": false
   },
   "outputs": [
    {
     "name": "stdout",
     "output_type": "stream",
     "text": [
      "Train Epoch: 1 [0/50000 (0%)]\tLosses bn: 2.321211 drop: 2.366359 plain: 2.315452\n",
      "Train Epoch: 1 [10000/50000 (20%)]\tLosses bn: 1.983631 drop: 2.143769 plain: 2.079109\n",
      "Train Epoch: 1 [20000/50000 (40%)]\tLosses bn: 1.617757 drop: 1.699987 plain: 1.482413\n",
      "Train Epoch: 1 [30000/50000 (60%)]\tLosses bn: 1.223414 drop: 1.012117 plain: 0.870405\n",
      "Train Epoch: 1 [40000/50000 (80%)]\tLosses bn: 1.026440 drop: 0.779003 plain: 0.677134\n",
      "Train Epoch: 1 [50000/50000 (100%)]\tLosses bn: 0.806642 drop: 0.594043 plain: 0.545427\n",
      "Test set:\n",
      "bn: Loss: 0.8310\tAccuracy: 8976.0/10000 (90%)\n",
      "drop: Loss: 0.6549\tAccuracy: 8473.0/10000 (85%)\n",
      "plain: Loss: 0.5985\tAccuracy: 8621.0/10000 (86%)\n",
      "\n",
      "Train Epoch: 2 [0/50000 (0%)]\tLosses bn: 0.945210 drop: 0.842307 plain: 0.813063\n",
      "Train Epoch: 2 [10000/50000 (20%)]\tLosses bn: 0.583218 drop: 0.421145 plain: 0.348294\n",
      "Train Epoch: 2 [20000/50000 (40%)]\tLosses bn: 0.626592 drop: 0.534753 plain: 0.502547\n",
      "Train Epoch: 2 [30000/50000 (60%)]\tLosses bn: 0.515316 drop: 0.464888 plain: 0.453993\n",
      "Train Epoch: 2 [40000/50000 (80%)]\tLosses bn: 0.461269 drop: 0.469988 plain: 0.425179\n",
      "Train Epoch: 2 [50000/50000 (100%)]\tLosses bn: 0.398226 drop: 0.431258 plain: 0.401149\n",
      "Test set:\n",
      "bn: Loss: 0.3851\tAccuracy: 9370.0/10000 (94%)\n",
      "drop: Loss: 0.3742\tAccuracy: 9019.0/10000 (90%)\n",
      "plain: Loss: 0.3490\tAccuracy: 9096.0/10000 (91%)\n",
      "\n",
      "Train Epoch: 3 [0/50000 (0%)]\tLosses bn: 0.397681 drop: 0.410268 plain: 0.375507\n",
      "Train Epoch: 3 [10000/50000 (20%)]\tLosses bn: 0.377775 drop: 0.379522 plain: 0.344110\n",
      "Train Epoch: 3 [20000/50000 (40%)]\tLosses bn: 0.403262 drop: 0.465153 plain: 0.454921\n",
      "Train Epoch: 3 [30000/50000 (60%)]\tLosses bn: 0.461150 drop: 0.436559 plain: 0.417520\n",
      "Train Epoch: 3 [40000/50000 (80%)]\tLosses bn: 0.257983 drop: 0.300301 plain: 0.270047\n",
      "Train Epoch: 3 [50000/50000 (100%)]\tLosses bn: 0.177133 drop: 0.160829 plain: 0.138982\n",
      "Test set:\n",
      "bn: Loss: 0.2492\tAccuracy: 9492.0/10000 (95%)\n",
      "drop: Loss: 0.2691\tAccuracy: 9290.0/10000 (93%)\n",
      "plain: Loss: 0.2600\tAccuracy: 9309.0/10000 (93%)\n",
      "\n",
      "Train Epoch: 4 [0/50000 (0%)]\tLosses bn: 0.167107 drop: 0.244254 plain: 0.229836\n",
      "Train Epoch: 4 [10000/50000 (20%)]\tLosses bn: 0.336633 drop: 0.421641 plain: 0.423007\n",
      "Train Epoch: 4 [20000/50000 (40%)]\tLosses bn: 0.137396 drop: 0.165739 plain: 0.137649\n",
      "Train Epoch: 4 [30000/50000 (60%)]\tLosses bn: 0.190839 drop: 0.221783 plain: 0.221182\n",
      "Train Epoch: 4 [40000/50000 (80%)]\tLosses bn: 0.143107 drop: 0.230695 plain: 0.202918\n",
      "Train Epoch: 4 [50000/50000 (100%)]\tLosses bn: 0.193241 drop: 0.207559 plain: 0.213041\n",
      "Test set:\n",
      "bn: Loss: 0.1833\tAccuracy: 9594.0/10000 (96%)\n",
      "drop: Loss: 0.2115\tAccuracy: 9448.0/10000 (94%)\n",
      "plain: Loss: 0.2101\tAccuracy: 9433.0/10000 (94%)\n",
      "\n",
      "Train Epoch: 5 [0/50000 (0%)]\tLosses bn: 0.148455 drop: 0.160122 plain: 0.168996\n",
      "Train Epoch: 5 [10000/50000 (20%)]\tLosses bn: 0.123492 drop: 0.100129 plain: 0.094460\n",
      "Train Epoch: 5 [20000/50000 (40%)]\tLosses bn: 0.131412 drop: 0.171222 plain: 0.166010\n",
      "Train Epoch: 5 [30000/50000 (60%)]\tLosses bn: 0.304800 drop: 0.363939 plain: 0.370337\n",
      "Train Epoch: 5 [40000/50000 (80%)]\tLosses bn: 0.222581 drop: 0.319001 plain: 0.353782\n",
      "Train Epoch: 5 [50000/50000 (100%)]\tLosses bn: 0.140996 drop: 0.200618 plain: 0.190535\n",
      "Test set:\n",
      "bn: Loss: 0.1453\tAccuracy: 9643.0/10000 (96%)\n",
      "drop: Loss: 0.1712\tAccuracy: 9550.0/10000 (96%)\n",
      "plain: Loss: 0.1762\tAccuracy: 9506.0/10000 (95%)\n",
      "\n",
      "Train Epoch: 6 [0/50000 (0%)]\tLosses bn: 0.138066 drop: 0.182803 plain: 0.172765\n",
      "Train Epoch: 6 [10000/50000 (20%)]\tLosses bn: 0.077657 drop: 0.111280 plain: 0.095132\n",
      "Train Epoch: 6 [20000/50000 (40%)]\tLosses bn: 0.067241 drop: 0.132696 plain: 0.121561\n",
      "Train Epoch: 6 [30000/50000 (60%)]\tLosses bn: 0.175593 drop: 0.182983 plain: 0.180480\n",
      "Train Epoch: 6 [40000/50000 (80%)]\tLosses bn: 0.197792 drop: 0.238702 plain: 0.222832\n",
      "Train Epoch: 6 [50000/50000 (100%)]\tLosses bn: 0.122628 drop: 0.130292 plain: 0.146267\n",
      "Test set:\n",
      "bn: Loss: 0.1217\tAccuracy: 9688.0/10000 (97%)\n",
      "drop: Loss: 0.1437\tAccuracy: 9627.0/10000 (96%)\n",
      "plain: Loss: 0.1512\tAccuracy: 9579.0/10000 (96%)\n",
      "\n",
      "Train Epoch: 7 [0/50000 (0%)]\tLosses bn: 0.205515 drop: 0.257542 plain: 0.285318\n",
      "Train Epoch: 7 [10000/50000 (20%)]\tLosses bn: 0.149401 drop: 0.156637 plain: 0.165660\n",
      "Train Epoch: 7 [20000/50000 (40%)]\tLosses bn: 0.072909 drop: 0.073364 plain: 0.088617\n",
      "Train Epoch: 7 [30000/50000 (60%)]\tLosses bn: 0.099342 drop: 0.115225 plain: 0.128033\n",
      "Train Epoch: 7 [40000/50000 (80%)]\tLosses bn: 0.093522 drop: 0.105397 plain: 0.099164\n",
      "Train Epoch: 7 [50000/50000 (100%)]\tLosses bn: 0.080040 drop: 0.095033 plain: 0.100655\n",
      "Test set:\n",
      "bn: Loss: 0.1046\tAccuracy: 9727.0/10000 (97%)\n",
      "drop: Loss: 0.1248\tAccuracy: 9685.0/10000 (97%)\n",
      "plain: Loss: 0.1333\tAccuracy: 9627.0/10000 (96%)\n",
      "\n",
      "Train Epoch: 8 [0/50000 (0%)]\tLosses bn: 0.193987 drop: 0.253632 plain: 0.272597\n",
      "Train Epoch: 8 [10000/50000 (20%)]\tLosses bn: 0.169885 drop: 0.185957 plain: 0.222996\n",
      "Train Epoch: 8 [20000/50000 (40%)]\tLosses bn: 0.045342 drop: 0.051376 plain: 0.068869\n",
      "Train Epoch: 8 [30000/50000 (60%)]\tLosses bn: 0.108220 drop: 0.148154 plain: 0.187341\n",
      "Train Epoch: 8 [40000/50000 (80%)]\tLosses bn: 0.065596 drop: 0.076738 plain: 0.084953\n",
      "Train Epoch: 8 [50000/50000 (100%)]\tLosses bn: 0.058545 drop: 0.080591 plain: 0.092401\n",
      "Test set:\n",
      "bn: Loss: 0.0920\tAccuracy: 9756.0/10000 (98%)\n",
      "drop: Loss: 0.1110\tAccuracy: 9715.0/10000 (97%)\n",
      "plain: Loss: 0.1193\tAccuracy: 9664.0/10000 (97%)\n",
      "\n",
      "Train Epoch: 9 [0/50000 (0%)]\tLosses bn: 0.084126 drop: 0.098312 plain: 0.118937\n",
      "Train Epoch: 9 [10000/50000 (20%)]\tLosses bn: 0.116202 drop: 0.144718 plain: 0.140383\n",
      "Train Epoch: 9 [20000/50000 (40%)]\tLosses bn: 0.072761 drop: 0.110684 plain: 0.084192\n",
      "Train Epoch: 9 [30000/50000 (60%)]\tLosses bn: 0.085896 drop: 0.176878 plain: 0.181465\n",
      "Train Epoch: 9 [40000/50000 (80%)]\tLosses bn: 0.160026 drop: 0.160697 plain: 0.215879\n",
      "Train Epoch: 9 [50000/50000 (100%)]\tLosses bn: 0.062140 drop: 0.069683 plain: 0.089388\n",
      "Test set:\n",
      "bn: Loss: 0.0826\tAccuracy: 9776.0/10000 (98%)\n",
      "drop: Loss: 0.1000\tAccuracy: 9743.0/10000 (97%)\n",
      "plain: Loss: 0.1076\tAccuracy: 9710.0/10000 (97%)\n",
      "\n",
      "Train Epoch: 10 [0/50000 (0%)]\tLosses bn: 0.079206 drop: 0.085382 plain: 0.103742\n",
      "Train Epoch: 10 [10000/50000 (20%)]\tLosses bn: 0.029581 drop: 0.036915 plain: 0.038902\n",
      "Train Epoch: 10 [20000/50000 (40%)]\tLosses bn: 0.114113 drop: 0.115387 plain: 0.102100\n",
      "Train Epoch: 10 [30000/50000 (60%)]\tLosses bn: 0.053141 drop: 0.081740 plain: 0.089047\n",
      "Train Epoch: 10 [40000/50000 (80%)]\tLosses bn: 0.120438 drop: 0.115742 plain: 0.110201\n",
      "Train Epoch: 10 [50000/50000 (100%)]\tLosses bn: 0.051197 drop: 0.109247 plain: 0.097317\n",
      "Test set:\n",
      "bn: Loss: 0.0765\tAccuracy: 9785.0/10000 (98%)\n",
      "drop: Loss: 0.0925\tAccuracy: 9757.0/10000 (98%)\n",
      "plain: Loss: 0.0997\tAccuracy: 9725.0/10000 (97%)\n",
      "\n",
      "Train Epoch: 11 [0/50000 (0%)]\tLosses bn: 0.125799 drop: 0.202388 plain: 0.202620\n",
      "Train Epoch: 11 [10000/50000 (20%)]\tLosses bn: 0.142659 drop: 0.187231 plain: 0.193671\n",
      "Train Epoch: 11 [20000/50000 (40%)]\tLosses bn: 0.104507 drop: 0.097063 plain: 0.091078\n",
      "Train Epoch: 11 [30000/50000 (60%)]\tLosses bn: 0.009076 drop: 0.018414 plain: 0.016202\n",
      "Train Epoch: 11 [40000/50000 (80%)]\tLosses bn: 0.038166 drop: 0.047451 plain: 0.039441\n",
      "Train Epoch: 11 [50000/50000 (100%)]\tLosses bn: 0.152194 drop: 0.202584 plain: 0.210011\n",
      "Test set:\n",
      "bn: Loss: 0.0706\tAccuracy: 9806.0/10000 (98%)\n",
      "drop: Loss: 0.0856\tAccuracy: 9767.0/10000 (98%)\n",
      "plain: Loss: 0.0927\tAccuracy: 9745.0/10000 (97%)\n",
      "\n",
      "Train Epoch: 12 [0/50000 (0%)]\tLosses bn: 0.085534 drop: 0.157181 plain: 0.221378\n",
      "Train Epoch: 12 [10000/50000 (20%)]\tLosses bn: 0.090212 drop: 0.155731 plain: 0.143298\n",
      "Train Epoch: 12 [20000/50000 (40%)]\tLosses bn: 0.041931 drop: 0.056281 plain: 0.078709\n",
      "Train Epoch: 12 [30000/50000 (60%)]\tLosses bn: 0.080356 drop: 0.083724 plain: 0.080832\n",
      "Train Epoch: 12 [40000/50000 (80%)]\tLosses bn: 0.064614 drop: 0.046952 plain: 0.049504\n",
      "Train Epoch: 12 [50000/50000 (100%)]\tLosses bn: 0.047516 drop: 0.084661 plain: 0.087300\n",
      "Test set:\n",
      "bn: Loss: 0.0660\tAccuracy: 9817.0/10000 (98%)\n",
      "drop: Loss: 0.0805\tAccuracy: 9779.0/10000 (98%)\n",
      "plain: Loss: 0.0866\tAccuracy: 9765.0/10000 (98%)\n",
      "\n",
      "Train Epoch: 13 [0/50000 (0%)]\tLosses bn: 0.091830 drop: 0.052311 plain: 0.068895\n",
      "Train Epoch: 13 [10000/50000 (20%)]\tLosses bn: 0.083759 drop: 0.094647 plain: 0.102570\n",
      "Train Epoch: 13 [20000/50000 (40%)]\tLosses bn: 0.097149 drop: 0.105105 plain: 0.101321\n"
     ]
    },
    {
     "name": "stdout",
     "output_type": "stream",
     "text": [
      "Train Epoch: 13 [30000/50000 (60%)]\tLosses bn: 0.087020 drop: 0.107918 plain: 0.087848\n",
      "Train Epoch: 13 [40000/50000 (80%)]\tLosses bn: 0.063241 drop: 0.093782 plain: 0.092025\n",
      "Train Epoch: 13 [50000/50000 (100%)]\tLosses bn: 0.111502 drop: 0.133983 plain: 0.111518\n",
      "Test set:\n",
      "bn: Loss: 0.0620\tAccuracy: 9826.0/10000 (98%)\n",
      "drop: Loss: 0.0763\tAccuracy: 9794.0/10000 (98%)\n",
      "plain: Loss: 0.0821\tAccuracy: 9786.0/10000 (98%)\n",
      "\n",
      "Train Epoch: 14 [0/50000 (0%)]\tLosses bn: 0.043944 drop: 0.056376 plain: 0.074980\n",
      "Train Epoch: 14 [10000/50000 (20%)]\tLosses bn: 0.111450 drop: 0.115631 plain: 0.122007\n",
      "Train Epoch: 14 [20000/50000 (40%)]\tLosses bn: 0.036749 drop: 0.053451 plain: 0.058533\n",
      "Train Epoch: 14 [30000/50000 (60%)]\tLosses bn: 0.092588 drop: 0.131743 plain: 0.143191\n",
      "Train Epoch: 14 [40000/50000 (80%)]\tLosses bn: 0.163556 drop: 0.237785 plain: 0.243132\n",
      "Train Epoch: 14 [50000/50000 (100%)]\tLosses bn: 0.062185 drop: 0.132587 plain: 0.154689\n",
      "Test set:\n",
      "bn: Loss: 0.0598\tAccuracy: 9839.0/10000 (98%)\n",
      "drop: Loss: 0.0730\tAccuracy: 9797.0/10000 (98%)\n",
      "plain: Loss: 0.0782\tAccuracy: 9791.0/10000 (98%)\n",
      "\n",
      "Train Epoch: 15 [0/50000 (0%)]\tLosses bn: 0.040560 drop: 0.060029 plain: 0.058473\n",
      "Train Epoch: 15 [10000/50000 (20%)]\tLosses bn: 0.100692 drop: 0.096654 plain: 0.086337\n",
      "Train Epoch: 15 [20000/50000 (40%)]\tLosses bn: 0.032589 drop: 0.041945 plain: 0.064954\n",
      "Train Epoch: 15 [30000/50000 (60%)]\tLosses bn: 0.134112 drop: 0.103448 plain: 0.133897\n",
      "Train Epoch: 15 [40000/50000 (80%)]\tLosses bn: 0.022505 drop: 0.028074 plain: 0.042659\n",
      "Train Epoch: 15 [50000/50000 (100%)]\tLosses bn: 0.027487 drop: 0.025480 plain: 0.062061\n",
      "Test set:\n",
      "bn: Loss: 0.0579\tAccuracy: 9830.0/10000 (98%)\n",
      "drop: Loss: 0.0700\tAccuracy: 9815.0/10000 (98%)\n",
      "plain: Loss: 0.0745\tAccuracy: 9801.0/10000 (98%)\n",
      "\n",
      "Train Epoch: 16 [0/50000 (0%)]\tLosses bn: 0.028101 drop: 0.024823 plain: 0.020247\n",
      "Train Epoch: 16 [10000/50000 (20%)]\tLosses bn: 0.022358 drop: 0.050041 plain: 0.047301\n",
      "Train Epoch: 16 [20000/50000 (40%)]\tLosses bn: 0.049919 drop: 0.049471 plain: 0.032628\n",
      "Train Epoch: 16 [30000/50000 (60%)]\tLosses bn: 0.053276 drop: 0.101062 plain: 0.103779\n",
      "Train Epoch: 16 [40000/50000 (80%)]\tLosses bn: 0.059539 drop: 0.041444 plain: 0.039095\n",
      "Train Epoch: 16 [50000/50000 (100%)]\tLosses bn: 0.003630 drop: 0.005261 plain: 0.007227\n",
      "Test set:\n",
      "bn: Loss: 0.0552\tAccuracy: 9837.0/10000 (98%)\n",
      "drop: Loss: 0.0689\tAccuracy: 9809.0/10000 (98%)\n",
      "plain: Loss: 0.0729\tAccuracy: 9800.0/10000 (98%)\n",
      "\n",
      "Train Epoch: 17 [0/50000 (0%)]\tLosses bn: 0.028256 drop: 0.029623 plain: 0.047155\n",
      "Train Epoch: 17 [10000/50000 (20%)]\tLosses bn: 0.153176 drop: 0.100420 plain: 0.138508\n",
      "Train Epoch: 17 [20000/50000 (40%)]\tLosses bn: 0.031959 drop: 0.054820 plain: 0.064331\n",
      "Train Epoch: 17 [30000/50000 (60%)]\tLosses bn: 0.009055 drop: 0.035291 plain: 0.027163\n",
      "Train Epoch: 17 [40000/50000 (80%)]\tLosses bn: 0.033115 drop: 0.027717 plain: 0.050653\n",
      "Train Epoch: 17 [50000/50000 (100%)]\tLosses bn: 0.014582 drop: 0.029324 plain: 0.050548\n",
      "Test set:\n",
      "bn: Loss: 0.0532\tAccuracy: 9847.0/10000 (98%)\n",
      "drop: Loss: 0.0657\tAccuracy: 9821.0/10000 (98%)\n",
      "plain: Loss: 0.0696\tAccuracy: 9810.0/10000 (98%)\n",
      "\n",
      "Train Epoch: 18 [0/50000 (0%)]\tLosses bn: 0.091188 drop: 0.084644 plain: 0.059591\n",
      "Train Epoch: 18 [10000/50000 (20%)]\tLosses bn: 0.015103 drop: 0.028263 plain: 0.020789\n",
      "Train Epoch: 18 [20000/50000 (40%)]\tLosses bn: 0.115500 drop: 0.146845 plain: 0.170471\n",
      "Train Epoch: 18 [30000/50000 (60%)]\tLosses bn: 0.045387 drop: 0.048104 plain: 0.056139\n",
      "Train Epoch: 18 [40000/50000 (80%)]\tLosses bn: 0.122646 drop: 0.152239 plain: 0.164409\n",
      "Train Epoch: 18 [50000/50000 (100%)]\tLosses bn: 0.048367 drop: 0.053196 plain: 0.041712\n",
      "Test set:\n",
      "bn: Loss: 0.0509\tAccuracy: 9861.0/10000 (99%)\n",
      "drop: Loss: 0.0632\tAccuracy: 9830.0/10000 (98%)\n",
      "plain: Loss: 0.0667\tAccuracy: 9825.0/10000 (98%)\n",
      "\n",
      "Train Epoch: 19 [0/50000 (0%)]\tLosses bn: 0.047754 drop: 0.046123 plain: 0.062085\n",
      "Train Epoch: 19 [10000/50000 (20%)]\tLosses bn: 0.009604 drop: 0.016026 plain: 0.013690\n",
      "Train Epoch: 19 [20000/50000 (40%)]\tLosses bn: 0.044684 drop: 0.097669 plain: 0.149910\n",
      "Train Epoch: 19 [30000/50000 (60%)]\tLosses bn: 0.022861 drop: 0.028081 plain: 0.022841\n",
      "Train Epoch: 19 [40000/50000 (80%)]\tLosses bn: 0.023916 drop: 0.047010 plain: 0.058627\n",
      "Train Epoch: 19 [50000/50000 (100%)]\tLosses bn: 0.024363 drop: 0.032688 plain: 0.027753\n",
      "Test set:\n",
      "bn: Loss: 0.0521\tAccuracy: 9855.0/10000 (99%)\n",
      "drop: Loss: 0.0630\tAccuracy: 9821.0/10000 (98%)\n",
      "plain: Loss: 0.0663\tAccuracy: 9821.0/10000 (98%)\n",
      "\n",
      "Train Epoch: 20 [0/50000 (0%)]\tLosses bn: 0.020102 drop: 0.053664 plain: 0.055746\n",
      "Train Epoch: 20 [10000/50000 (20%)]\tLosses bn: 0.009928 drop: 0.022521 plain: 0.034609\n",
      "Train Epoch: 20 [20000/50000 (40%)]\tLosses bn: 0.019134 drop: 0.026065 plain: 0.036877\n",
      "Train Epoch: 20 [30000/50000 (60%)]\tLosses bn: 0.029993 drop: 0.086424 plain: 0.080865\n",
      "Train Epoch: 20 [40000/50000 (80%)]\tLosses bn: 0.010444 drop: 0.016691 plain: 0.030659\n",
      "Train Epoch: 20 [50000/50000 (100%)]\tLosses bn: 0.057958 drop: 0.066656 plain: 0.066975\n",
      "Test set:\n",
      "bn: Loss: 0.0496\tAccuracy: 9857.0/10000 (99%)\n",
      "drop: Loss: 0.0613\tAccuracy: 9829.0/10000 (98%)\n",
      "plain: Loss: 0.0646\tAccuracy: 9824.0/10000 (98%)\n",
      "\n",
      "Train Epoch: 21 [0/50000 (0%)]\tLosses bn: 0.024257 drop: 0.046764 plain: 0.055583\n",
      "Train Epoch: 21 [10000/50000 (20%)]\tLosses bn: 0.017559 drop: 0.025309 plain: 0.028943\n",
      "Train Epoch: 21 [20000/50000 (40%)]\tLosses bn: 0.034222 drop: 0.082832 plain: 0.099064\n",
      "Train Epoch: 21 [30000/50000 (60%)]\tLosses bn: 0.023194 drop: 0.025501 plain: 0.034796\n",
      "Train Epoch: 21 [40000/50000 (80%)]\tLosses bn: 0.058926 drop: 0.074344 plain: 0.083421\n",
      "Train Epoch: 21 [50000/50000 (100%)]\tLosses bn: 0.042910 drop: 0.077058 plain: 0.095594\n",
      "Test set:\n",
      "bn: Loss: 0.0487\tAccuracy: 9860.0/10000 (99%)\n",
      "drop: Loss: 0.0600\tAccuracy: 9833.0/10000 (98%)\n",
      "plain: Loss: 0.0629\tAccuracy: 9828.0/10000 (98%)\n",
      "\n",
      "Train Epoch: 22 [0/50000 (0%)]\tLosses bn: 0.007882 drop: 0.016102 plain: 0.014684\n",
      "Train Epoch: 22 [10000/50000 (20%)]\tLosses bn: 0.043608 drop: 0.052073 plain: 0.046098\n",
      "Train Epoch: 22 [20000/50000 (40%)]\tLosses bn: 0.006166 drop: 0.020892 plain: 0.028936\n",
      "Train Epoch: 22 [30000/50000 (60%)]\tLosses bn: 0.024825 drop: 0.027974 plain: 0.026417\n",
      "Train Epoch: 22 [40000/50000 (80%)]\tLosses bn: 0.032333 drop: 0.050948 plain: 0.077265\n",
      "Train Epoch: 22 [50000/50000 (100%)]\tLosses bn: 0.029392 drop: 0.084173 plain: 0.090485\n",
      "Test set:\n",
      "bn: Loss: 0.0474\tAccuracy: 9859.0/10000 (99%)\n",
      "drop: Loss: 0.0584\tAccuracy: 9828.0/10000 (98%)\n",
      "plain: Loss: 0.0613\tAccuracy: 9830.0/10000 (98%)\n",
      "\n",
      "Train Epoch: 23 [0/50000 (0%)]\tLosses bn: 0.025937 drop: 0.041684 plain: 0.044581\n",
      "Train Epoch: 23 [10000/50000 (20%)]\tLosses bn: 0.005748 drop: 0.008213 plain: 0.011644\n",
      "Train Epoch: 23 [20000/50000 (40%)]\tLosses bn: 0.167698 drop: 0.154606 plain: 0.163903\n",
      "Train Epoch: 23 [30000/50000 (60%)]\tLosses bn: 0.014983 drop: 0.017364 plain: 0.030403\n",
      "Train Epoch: 23 [40000/50000 (80%)]\tLosses bn: 0.058142 drop: 0.036188 plain: 0.030778\n",
      "Train Epoch: 23 [50000/50000 (100%)]\tLosses bn: 0.033567 drop: 0.060265 plain: 0.085174\n",
      "Test set:\n",
      "bn: Loss: 0.0463\tAccuracy: 9862.0/10000 (99%)\n",
      "drop: Loss: 0.0576\tAccuracy: 9834.0/10000 (98%)\n",
      "plain: Loss: 0.0593\tAccuracy: 9840.0/10000 (98%)\n",
      "\n",
      "Train Epoch: 24 [0/50000 (0%)]\tLosses bn: 0.050494 drop: 0.039924 plain: 0.074918\n",
      "Train Epoch: 24 [10000/50000 (20%)]\tLosses bn: 0.026917 drop: 0.033943 plain: 0.059018\n",
      "Train Epoch: 24 [20000/50000 (40%)]\tLosses bn: 0.005937 drop: 0.014202 plain: 0.021354\n",
      "Train Epoch: 24 [30000/50000 (60%)]\tLosses bn: 0.015040 drop: 0.023862 plain: 0.026124\n",
      "Train Epoch: 24 [40000/50000 (80%)]\tLosses bn: 0.022750 drop: 0.020746 plain: 0.044109\n",
      "Train Epoch: 24 [50000/50000 (100%)]\tLosses bn: 0.037595 drop: 0.035095 plain: 0.031878\n",
      "Test set:\n",
      "bn: Loss: 0.0461\tAccuracy: 9861.0/10000 (99%)\n",
      "drop: Loss: 0.0562\tAccuracy: 9833.0/10000 (98%)\n",
      "plain: Loss: 0.0580\tAccuracy: 9842.0/10000 (98%)\n",
      "\n",
      "Train Epoch: 25 [0/50000 (0%)]\tLosses bn: 0.010627 drop: 0.025061 plain: 0.022776\n",
      "Train Epoch: 25 [10000/50000 (20%)]\tLosses bn: 0.022020 drop: 0.017885 plain: 0.021085\n",
      "Train Epoch: 25 [20000/50000 (40%)]\tLosses bn: 0.014421 drop: 0.020325 plain: 0.024421\n",
      "Train Epoch: 25 [30000/50000 (60%)]\tLosses bn: 0.043709 drop: 0.094499 plain: 0.105829\n",
      "Train Epoch: 25 [40000/50000 (80%)]\tLosses bn: 0.002979 drop: 0.007095 plain: 0.011259\n"
     ]
    },
    {
     "name": "stdout",
     "output_type": "stream",
     "text": [
      "Train Epoch: 25 [50000/50000 (100%)]\tLosses bn: 0.006077 drop: 0.014395 plain: 0.016973\n",
      "Test set:\n",
      "bn: Loss: 0.0457\tAccuracy: 9867.0/10000 (99%)\n",
      "drop: Loss: 0.0558\tAccuracy: 9834.0/10000 (98%)\n",
      "plain: Loss: 0.0577\tAccuracy: 9841.0/10000 (98%)\n",
      "\n",
      "Train Epoch: 26 [0/50000 (0%)]\tLosses bn: 0.028269 drop: 0.062989 plain: 0.057384\n",
      "Train Epoch: 26 [10000/50000 (20%)]\tLosses bn: 0.011680 drop: 0.017395 plain: 0.017992\n",
      "Train Epoch: 26 [20000/50000 (40%)]\tLosses bn: 0.011372 drop: 0.008431 plain: 0.010662\n",
      "Train Epoch: 26 [30000/50000 (60%)]\tLosses bn: 0.054524 drop: 0.063850 plain: 0.089488\n",
      "Train Epoch: 26 [40000/50000 (80%)]\tLosses bn: 0.013299 drop: 0.029598 plain: 0.026037\n",
      "Train Epoch: 26 [50000/50000 (100%)]\tLosses bn: 0.023931 drop: 0.030393 plain: 0.033021\n",
      "Test set:\n",
      "bn: Loss: 0.0461\tAccuracy: 9865.0/10000 (99%)\n",
      "drop: Loss: 0.0556\tAccuracy: 9837.0/10000 (98%)\n",
      "plain: Loss: 0.0566\tAccuracy: 9840.0/10000 (98%)\n",
      "\n",
      "Train Epoch: 27 [0/50000 (0%)]\tLosses bn: 0.033743 drop: 0.064461 plain: 0.041079\n",
      "Train Epoch: 27 [10000/50000 (20%)]\tLosses bn: 0.068332 drop: 0.106984 plain: 0.119945\n",
      "Train Epoch: 27 [20000/50000 (40%)]\tLosses bn: 0.010446 drop: 0.022171 plain: 0.024248\n",
      "Train Epoch: 27 [30000/50000 (60%)]\tLosses bn: 0.037990 drop: 0.066589 plain: 0.056764\n",
      "Train Epoch: 27 [40000/50000 (80%)]\tLosses bn: 0.110781 drop: 0.130873 plain: 0.159084\n",
      "Train Epoch: 27 [50000/50000 (100%)]\tLosses bn: 0.020376 drop: 0.053927 plain: 0.052949\n",
      "Test set:\n",
      "bn: Loss: 0.0435\tAccuracy: 9875.0/10000 (99%)\n",
      "drop: Loss: 0.0542\tAccuracy: 9842.0/10000 (98%)\n",
      "plain: Loss: 0.0555\tAccuracy: 9851.0/10000 (99%)\n",
      "\n",
      "Train Epoch: 28 [0/50000 (0%)]\tLosses bn: 0.034387 drop: 0.041794 plain: 0.041126\n",
      "Train Epoch: 28 [10000/50000 (20%)]\tLosses bn: 0.036022 drop: 0.039798 plain: 0.048588\n",
      "Train Epoch: 28 [20000/50000 (40%)]\tLosses bn: 0.019943 drop: 0.032616 plain: 0.033363\n",
      "Train Epoch: 28 [30000/50000 (60%)]\tLosses bn: 0.008031 drop: 0.018780 plain: 0.007171\n",
      "Train Epoch: 28 [40000/50000 (80%)]\tLosses bn: 0.008751 drop: 0.010292 plain: 0.012043\n",
      "Train Epoch: 28 [50000/50000 (100%)]\tLosses bn: 0.020790 drop: 0.030167 plain: 0.030289\n",
      "Test set:\n",
      "bn: Loss: 0.0431\tAccuracy: 9869.0/10000 (99%)\n",
      "drop: Loss: 0.0540\tAccuracy: 9831.0/10000 (98%)\n",
      "plain: Loss: 0.0547\tAccuracy: 9847.0/10000 (98%)\n",
      "\n",
      "Train Epoch: 29 [0/50000 (0%)]\tLosses bn: 0.010078 drop: 0.019243 plain: 0.017599\n",
      "Train Epoch: 29 [10000/50000 (20%)]\tLosses bn: 0.075999 drop: 0.103320 plain: 0.081733\n",
      "Train Epoch: 29 [20000/50000 (40%)]\tLosses bn: 0.043709 drop: 0.046667 plain: 0.055418\n",
      "Train Epoch: 29 [30000/50000 (60%)]\tLosses bn: 0.020755 drop: 0.013333 plain: 0.012662\n",
      "Train Epoch: 29 [40000/50000 (80%)]\tLosses bn: 0.021648 drop: 0.054596 plain: 0.058894\n",
      "Train Epoch: 29 [50000/50000 (100%)]\tLosses bn: 0.028149 drop: 0.052153 plain: 0.051424\n",
      "Test set:\n",
      "bn: Loss: 0.0421\tAccuracy: 9875.0/10000 (99%)\n",
      "drop: Loss: 0.0530\tAccuracy: 9838.0/10000 (98%)\n",
      "plain: Loss: 0.0537\tAccuracy: 9851.0/10000 (99%)\n",
      "\n",
      "Train Epoch: 30 [0/50000 (0%)]\tLosses bn: 0.082306 drop: 0.077355 plain: 0.082049\n",
      "Train Epoch: 30 [10000/50000 (20%)]\tLosses bn: 0.067154 drop: 0.085452 plain: 0.104561\n",
      "Train Epoch: 30 [20000/50000 (40%)]\tLosses bn: 0.016012 drop: 0.030881 plain: 0.028628\n",
      "Train Epoch: 30 [30000/50000 (60%)]\tLosses bn: 0.008821 drop: 0.011689 plain: 0.010846\n",
      "Train Epoch: 30 [40000/50000 (80%)]\tLosses bn: 0.134532 drop: 0.165011 plain: 0.143356\n",
      "Train Epoch: 30 [50000/50000 (100%)]\tLosses bn: 0.002921 drop: 0.007457 plain: 0.007254\n",
      "Test set:\n",
      "bn: Loss: 0.0436\tAccuracy: 9870.0/10000 (99%)\n",
      "drop: Loss: 0.0529\tAccuracy: 9841.0/10000 (98%)\n",
      "plain: Loss: 0.0544\tAccuracy: 9846.0/10000 (98%)\n",
      "\n",
      "Train Epoch: 31 [0/50000 (0%)]\tLosses bn: 0.004442 drop: 0.005595 plain: 0.016451\n",
      "Train Epoch: 31 [10000/50000 (20%)]\tLosses bn: 0.046017 drop: 0.048494 plain: 0.059280\n",
      "Train Epoch: 31 [20000/50000 (40%)]\tLosses bn: 0.014266 drop: 0.014744 plain: 0.016749\n",
      "Train Epoch: 31 [30000/50000 (60%)]\tLosses bn: 0.005051 drop: 0.005275 plain: 0.005484\n",
      "Train Epoch: 31 [40000/50000 (80%)]\tLosses bn: 0.006318 drop: 0.023231 plain: 0.019786\n",
      "Train Epoch: 31 [50000/50000 (100%)]\tLosses bn: 0.003662 drop: 0.011369 plain: 0.031004\n",
      "Test set:\n",
      "bn: Loss: 0.0425\tAccuracy: 9870.0/10000 (99%)\n",
      "drop: Loss: 0.0518\tAccuracy: 9845.0/10000 (98%)\n",
      "plain: Loss: 0.0530\tAccuracy: 9851.0/10000 (99%)\n",
      "\n",
      "Train Epoch: 32 [0/50000 (0%)]\tLosses bn: 0.026206 drop: 0.067453 plain: 0.088969\n",
      "Train Epoch: 32 [10000/50000 (20%)]\tLosses bn: 0.037911 drop: 0.027612 plain: 0.033459\n",
      "Train Epoch: 32 [20000/50000 (40%)]\tLosses bn: 0.047566 drop: 0.100091 plain: 0.114195\n",
      "Train Epoch: 32 [30000/50000 (60%)]\tLosses bn: 0.009190 drop: 0.007205 plain: 0.009357\n",
      "Train Epoch: 32 [40000/50000 (80%)]\tLosses bn: 0.014529 drop: 0.015906 plain: 0.014794\n",
      "Train Epoch: 32 [50000/50000 (100%)]\tLosses bn: 0.015417 drop: 0.016492 plain: 0.016172\n",
      "Test set:\n",
      "bn: Loss: 0.0418\tAccuracy: 9867.0/10000 (99%)\n",
      "drop: Loss: 0.0513\tAccuracy: 9846.0/10000 (98%)\n",
      "plain: Loss: 0.0524\tAccuracy: 9843.0/10000 (98%)\n",
      "\n",
      "Train Epoch: 33 [0/50000 (0%)]\tLosses bn: 0.107616 drop: 0.106478 plain: 0.139761\n",
      "Train Epoch: 33 [10000/50000 (20%)]\tLosses bn: 0.024823 drop: 0.077179 plain: 0.083587\n",
      "Train Epoch: 33 [20000/50000 (40%)]\tLosses bn: 0.009359 drop: 0.024771 plain: 0.026571\n",
      "Train Epoch: 33 [30000/50000 (60%)]\tLosses bn: 0.343559 drop: 0.361001 plain: 0.337619\n",
      "Train Epoch: 33 [40000/50000 (80%)]\tLosses bn: 0.023990 drop: 0.017276 plain: 0.023573\n",
      "Train Epoch: 33 [50000/50000 (100%)]\tLosses bn: 0.003342 drop: 0.016125 plain: 0.014860\n",
      "Test set:\n",
      "bn: Loss: 0.0400\tAccuracy: 9880.0/10000 (99%)\n",
      "drop: Loss: 0.0503\tAccuracy: 9851.0/10000 (99%)\n",
      "plain: Loss: 0.0513\tAccuracy: 9861.0/10000 (99%)\n",
      "\n",
      "Train Epoch: 34 [0/50000 (0%)]\tLosses bn: 0.038556 drop: 0.054981 plain: 0.061862\n",
      "Train Epoch: 34 [10000/50000 (20%)]\tLosses bn: 0.009630 drop: 0.013257 plain: 0.023837\n",
      "Train Epoch: 34 [20000/50000 (40%)]\tLosses bn: 0.018930 drop: 0.015441 plain: 0.017162\n",
      "Train Epoch: 34 [30000/50000 (60%)]\tLosses bn: 0.002898 drop: 0.020311 plain: 0.019663\n",
      "Train Epoch: 34 [40000/50000 (80%)]\tLosses bn: 0.011621 drop: 0.019578 plain: 0.025735\n",
      "Train Epoch: 34 [50000/50000 (100%)]\tLosses bn: 0.045885 drop: 0.044456 plain: 0.032917\n",
      "Test set:\n",
      "bn: Loss: 0.0423\tAccuracy: 9868.0/10000 (99%)\n",
      "drop: Loss: 0.0509\tAccuracy: 9850.0/10000 (98%)\n",
      "plain: Loss: 0.0517\tAccuracy: 9859.0/10000 (99%)\n",
      "\n",
      "Train Epoch: 35 [0/50000 (0%)]\tLosses bn: 0.014103 drop: 0.019256 plain: 0.014424\n",
      "Train Epoch: 35 [10000/50000 (20%)]\tLosses bn: 0.004611 drop: 0.009686 plain: 0.005826\n",
      "Train Epoch: 35 [20000/50000 (40%)]\tLosses bn: 0.024788 drop: 0.017872 plain: 0.026632\n",
      "Train Epoch: 35 [30000/50000 (60%)]\tLosses bn: 0.001985 drop: 0.007413 plain: 0.011275\n",
      "Train Epoch: 35 [40000/50000 (80%)]\tLosses bn: 0.016572 drop: 0.037259 plain: 0.030919\n",
      "Train Epoch: 35 [50000/50000 (100%)]\tLosses bn: 0.017051 drop: 0.031660 plain: 0.035222\n",
      "Test set:\n",
      "bn: Loss: 0.0402\tAccuracy: 9882.0/10000 (99%)\n",
      "drop: Loss: 0.0501\tAccuracy: 9851.0/10000 (99%)\n",
      "plain: Loss: 0.0506\tAccuracy: 9851.0/10000 (99%)\n",
      "\n",
      "Train Epoch: 36 [0/50000 (0%)]\tLosses bn: 0.003840 drop: 0.003778 plain: 0.005630\n",
      "Train Epoch: 36 [10000/50000 (20%)]\tLosses bn: 0.006511 drop: 0.008897 plain: 0.012418\n",
      "Train Epoch: 36 [20000/50000 (40%)]\tLosses bn: 0.006878 drop: 0.005657 plain: 0.007891\n",
      "Train Epoch: 36 [30000/50000 (60%)]\tLosses bn: 0.011650 drop: 0.010024 plain: 0.011478\n",
      "Train Epoch: 36 [40000/50000 (80%)]\tLosses bn: 0.005693 drop: 0.010824 plain: 0.011468\n",
      "Train Epoch: 36 [50000/50000 (100%)]\tLosses bn: 0.004942 drop: 0.032309 plain: 0.016951\n",
      "Test set:\n",
      "bn: Loss: 0.0397\tAccuracy: 9878.0/10000 (99%)\n",
      "drop: Loss: 0.0488\tAccuracy: 9853.0/10000 (99%)\n",
      "plain: Loss: 0.0495\tAccuracy: 9857.0/10000 (99%)\n",
      "\n",
      "Train Epoch: 37 [0/50000 (0%)]\tLosses bn: 0.006370 drop: 0.007869 plain: 0.016330\n",
      "Train Epoch: 37 [10000/50000 (20%)]\tLosses bn: 0.006127 drop: 0.013185 plain: 0.015860\n",
      "Train Epoch: 37 [20000/50000 (40%)]\tLosses bn: 0.003549 drop: 0.007491 plain: 0.006607\n",
      "Train Epoch: 37 [30000/50000 (60%)]\tLosses bn: 0.018081 drop: 0.080153 plain: 0.088739\n",
      "Train Epoch: 37 [40000/50000 (80%)]\tLosses bn: 0.003391 drop: 0.009571 plain: 0.006563\n",
      "Train Epoch: 37 [50000/50000 (100%)]\tLosses bn: 0.031333 drop: 0.092321 plain: 0.106594\n",
      "Test set:\n",
      "bn: Loss: 0.0401\tAccuracy: 9886.0/10000 (99%)\n",
      "drop: Loss: 0.0493\tAccuracy: 9846.0/10000 (98%)\n",
      "plain: Loss: 0.0501\tAccuracy: 9856.0/10000 (99%)\n",
      "\n",
      "Train Epoch: 38 [0/50000 (0%)]\tLosses bn: 0.011964 drop: 0.011467 plain: 0.010859\n"
     ]
    },
    {
     "name": "stdout",
     "output_type": "stream",
     "text": [
      "Train Epoch: 38 [10000/50000 (20%)]\tLosses bn: 0.011478 drop: 0.029399 plain: 0.026290\n",
      "Train Epoch: 38 [20000/50000 (40%)]\tLosses bn: 0.026577 drop: 0.025469 plain: 0.036301\n",
      "Train Epoch: 38 [30000/50000 (60%)]\tLosses bn: 0.009138 drop: 0.014397 plain: 0.006625\n",
      "Train Epoch: 38 [40000/50000 (80%)]\tLosses bn: 0.054361 drop: 0.082528 plain: 0.104217\n",
      "Train Epoch: 38 [50000/50000 (100%)]\tLosses bn: 0.018166 drop: 0.018464 plain: 0.020306\n",
      "Test set:\n",
      "bn: Loss: 0.0404\tAccuracy: 9881.0/10000 (99%)\n",
      "drop: Loss: 0.0497\tAccuracy: 9849.0/10000 (98%)\n",
      "plain: Loss: 0.0500\tAccuracy: 9856.0/10000 (99%)\n",
      "\n",
      "Train Epoch: 39 [0/50000 (0%)]\tLosses bn: 0.081513 drop: 0.174758 plain: 0.159801\n",
      "Train Epoch: 39 [10000/50000 (20%)]\tLosses bn: 0.015375 drop: 0.035930 plain: 0.035884\n",
      "Train Epoch: 39 [20000/50000 (40%)]\tLosses bn: 0.026939 drop: 0.027451 plain: 0.030880\n",
      "Train Epoch: 39 [30000/50000 (60%)]\tLosses bn: 0.020674 drop: 0.042843 plain: 0.052811\n",
      "Train Epoch: 39 [40000/50000 (80%)]\tLosses bn: 0.008618 drop: 0.021011 plain: 0.032184\n",
      "Train Epoch: 39 [50000/50000 (100%)]\tLosses bn: 0.022970 drop: 0.019287 plain: 0.029096\n",
      "Test set:\n",
      "bn: Loss: 0.0403\tAccuracy: 9881.0/10000 (99%)\n",
      "drop: Loss: 0.0489\tAccuracy: 9858.0/10000 (99%)\n",
      "plain: Loss: 0.0494\tAccuracy: 9862.0/10000 (99%)\n",
      "\n",
      "Train Epoch: 40 [0/50000 (0%)]\tLosses bn: 0.009025 drop: 0.029636 plain: 0.020109\n",
      "Train Epoch: 40 [10000/50000 (20%)]\tLosses bn: 0.008122 drop: 0.014946 plain: 0.014523\n",
      "Train Epoch: 40 [20000/50000 (40%)]\tLosses bn: 0.005365 drop: 0.011544 plain: 0.010110\n",
      "Train Epoch: 40 [30000/50000 (60%)]\tLosses bn: 0.023362 drop: 0.063134 plain: 0.100387\n",
      "Train Epoch: 40 [40000/50000 (80%)]\tLosses bn: 0.012553 drop: 0.022274 plain: 0.026893\n",
      "Train Epoch: 40 [50000/50000 (100%)]\tLosses bn: 0.034357 drop: 0.040746 plain: 0.039019\n",
      "Test set:\n",
      "bn: Loss: 0.0406\tAccuracy: 9882.0/10000 (99%)\n",
      "drop: Loss: 0.0479\tAccuracy: 9858.0/10000 (99%)\n",
      "plain: Loss: 0.0488\tAccuracy: 9861.0/10000 (99%)\n",
      "\n"
     ]
    }
   ],
   "source": [
    "for epoch in range(1, 41):\n",
    "    for model in models.values():\n",
    "        model.train()\n",
    "    train(epoch, models, train_log)\n",
    "    for model in models.values():\n",
    "        model.eval()\n",
    "    test(models, valid_loader, test_log)"
   ]
  },
  {
   "cell_type": "code",
   "execution_count": 11,
   "metadata": {},
   "outputs": [
    {
     "data": {
      "image/png": "[encoded data removed]",
      "text/plain": [
       "<Figure size 432x288 with 1 Axes>"
      ]
     },
     "metadata": {},
     "output_type": "display_data"
    }
   ],
   "source": [
    "plot_graphs(test_log, 'loss')"
   ]
  },
  {
   "cell_type": "code",
   "execution_count": 12,
   "metadata": {},
   "outputs": [
    {
     "data": {
      "image/png": "[encoded data removed]",
      "text/plain": [
       "<Figure size 432x288 with 1 Axes>"
      ]
     },
     "metadata": {},
     "output_type": "display_data"
    }
   ],
   "source": [
    "plot_graphs(test_log, 'accuracy')"
   ]
  },
  {
   "cell_type": "code",
   "execution_count": 13,
   "metadata": {},
   "outputs": [
    {
     "name": "stderr",
     "output_type": "stream",
     "text": [
      "/Users/aleksey/anaconda3/envs/otus-dl-engineer/lib/python3.6/site-packages/torch/serialization.py:193: UserWarning: Couldn't retrieve source code for container of type Net. It won't be checked for correctness upon loading.\n",
      "  \"type \" + obj.__name__ + \". It won't be checked \"\n",
      "/Users/aleksey/anaconda3/envs/otus-dl-engineer/lib/python3.6/site-packages/torch/serialization.py:193: UserWarning: Couldn't retrieve source code for container of type ConvLayer. It won't be checked for correctness upon loading.\n",
      "  \"type \" + obj.__name__ + \". It won't be checked \"\n",
      "/Users/aleksey/anaconda3/envs/otus-dl-engineer/lib/python3.6/site-packages/torch/serialization.py:193: UserWarning: Couldn't retrieve source code for container of type FullyConnected. It won't be checked for correctness upon loading.\n",
      "  \"type \" + obj.__name__ + \". It won't be checked \"\n"
     ]
    }
   ],
   "source": [
    "torch.save(models['bn'], './model_classifier_conv')"
   ]
  },
  {
   "cell_type": "markdown",
   "metadata": {},
   "source": [
    "## Оптимизация изображений"
   ]
  },
  {
   "cell_type": "code",
   "execution_count": 10,
   "metadata": {},
   "outputs": [],
   "source": [
    "model = torch.load('./model_classifier_conv')"
   ]
  },
  {
   "cell_type": "code",
   "execution_count": 11,
   "metadata": {
    "scrolled": false
   },
   "outputs": [
    {
     "data": {
      "image/png": "[encoded data removed]",
      "text/plain": [
       "<Figure size 800x400 with 50 Axes>"
      ]
     },
     "metadata": {},
     "output_type": "display_data"
    },
    {
     "name": "stdout",
     "output_type": "stream",
     "text": [
      "[tensor(7), tensor(2), tensor(1), tensor(0), tensor(4), tensor(1), tensor(4), tensor(9), tensor(5), tensor(9), tensor(0), tensor(6), tensor(9), tensor(0), tensor(1), tensor(5), tensor(9), tensor(7), tensor(3), tensor(4), tensor(9), tensor(6), tensor(6), tensor(5), tensor(4), tensor(0), tensor(7), tensor(4), tensor(0), tensor(1), tensor(3), tensor(1), tensor(3), tensor(4), tensor(7), tensor(2), tensor(7), tensor(1), tensor(2), tensor(1), tensor(1), tensor(7), tensor(4), tensor(2), tensor(3), tensor(5), tensor(1), tensor(2), tensor(4), tensor(4)]\n"
     ]
    }
   ],
   "source": [
    "data, _ = next(iter(test_loader))\n",
    "output = model.forward(data)\n",
    "predictions = [output[i].argmax() for i in range(50)]\n",
    "plot_mnist(data.data.numpy(), (5, 10))\n",
    "\n",
    "print (predictions)"
   ]
  },
  {
   "cell_type": "code",
   "execution_count": 41,
   "metadata": {},
   "outputs": [
    {
     "data": {
      "image/png": "[encoded data removed]",
      "text/plain": [
       "<Figure size 800x400 with 1 Axes>"
      ]
     },
     "metadata": {},
     "output_type": "display_data"
    }
   ],
   "source": [
    "data, _ = next(iter(test_loader))\n",
    "#img = torch.ones((50, 784))\n",
    "img = torch.randn((784)).view(-1, 1, 28, 28)\n",
    "to_plot = img.clamp(0, 1).data.numpy()\n",
    "plot_mnist(to_plot, (5, 10))\n"
   ]
  },
  {
   "cell_type": "code",
   "execution_count": 42,
   "metadata": {
    "scrolled": false
   },
   "outputs": [],
   "source": [
    "from torch.autograd import Variable\n",
    "\n",
    "def generate_image(img, cl):\n",
    "    \n",
    "    gen_img_par = Variable(img, requires_grad=True)    \n",
    "    target = torch.zeros((10)) \n",
    "    target[cl] = 1\n",
    "    target = target.view(1, 10)\n",
    "    \n",
    "    loss_stats = []    \n",
    "    gen_optim = optim.Adam([gen_img_par], lr=1, weight_decay=0.1)\n",
    "\n",
    "    for i in range(1, 3000001):  \n",
    "             \n",
    "        out = torch.exp(model.forward(gen_img_par))\n",
    "                 \n",
    "        gen_optim.zero_grad()\n",
    "        loss = F.mse_loss(out, target)    \n",
    "        loss.backward()          \n",
    "        gen_optim.step()\n",
    "        \n",
    "        if i % 5000 == 0:    \n",
    "            print (\"Iteration {}: loss={} prediction={}\".format(i,loss, out.argmax()))\n",
    "            ls = loss.detach().numpy()            \n",
    "            loss_stats.append(ls)\n",
    "            \n",
    "            #1print(\"PRED=\", out.argmax())\n",
    "            print(\"OUT=\", out)\n",
    "            #print(\"TR=\", target)\n",
    "                        \n",
    "            if len(loss_stats) > 1000:    \n",
    "                if ls > loss_stats[-2] and ls > loss_stats[-3] and ls > loss_stats[-4] and ls > loss_stats[-5]:\n",
    "                    print (\"Loss is rising .. stop\")\n",
    "                    break\n",
    "\n",
    "        if i % 50000 == 0:\n",
    "            to_plot = gen_img_par.view(-1, 1, 28, 28).clamp(0, 1).data.numpy()\n",
    "            plot_mnist(to_plot, (1, 1))\n",
    "                        \n",
    "    return gen_img_par    "
   ]
  },
  {
   "cell_type": "code",
   "execution_count": 43,
   "metadata": {
    "scrolled": false
   },
   "outputs": [
    {
     "name": "stdout",
     "output_type": "stream",
     "text": [
      "Iteration 5000: loss=0.12192873656749725 prediction=8\n",
      "OUT= tensor([[ 0.0225,  0.0008,  0.0811,  0.0056,  0.0000,  0.0001,  0.0001,\n",
      "          0.0006,  0.4223,  0.1881]])\n",
      "Iteration 10000: loss=0.11941418796777725 prediction=8\n",
      "OUT= tensor([[ 0.0398,  0.0011,  0.0825,  0.0030,  0.0000,  0.0001,  0.0004,\n",
      "          0.0006,  0.4155,  0.1236]])\n",
      "Iteration 15000: loss=0.12326630204916 prediction=8\n",
      "OUT= tensor([[ 0.0029,  0.0006,  0.0823,  0.0134,  0.0001,  0.0001,  0.0002,\n",
      "          0.0022,  0.4763,  0.0059]])\n",
      "Iteration 20000: loss=0.12474904954433441 prediction=8\n",
      "OUT= tensor([[ 0.0580,  0.0010,  0.0648,  0.0029,  0.0000,  0.0002,  0.0001,\n",
      "          0.0007,  0.4806,  0.1045]])\n",
      "Iteration 25000: loss=27.17034912109375 prediction=7\n",
      "OUT= tensor([[ 1.0285e-05,  2.8486e+00,  5.7028e+00,  1.0934e-01,  1.1484e+00,\n",
      "          7.2070e+00,  1.4097e-05,  1.3509e+01,  3.6256e-08,  1.0467e-06]])\n",
      "Iteration 30000: loss=0.13157792389392853 prediction=8\n",
      "OUT= tensor([[ 0.0845,  0.0006,  0.0132,  0.0010,  0.0000,  0.0007,  0.0001,\n",
      "          0.0006,  0.4967,  0.2508]])\n",
      "Iteration 35000: loss=0.12673106789588928 prediction=8\n",
      "OUT= tensor([[ 0.0594,  0.0007,  0.0584,  0.0038,  0.0000,  0.0001,  0.0001,\n",
      "          0.0007,  0.5055,  0.0790]])\n",
      "Iteration 40000: loss=0.10743381828069687 prediction=2\n",
      "OUT= tensor([[ 9.2781e-05,  3.4116e-04,  2.0105e-01,  1.8058e-01,  1.9768e-05,\n",
      "          3.2312e-03,  8.4652e-06,  4.4497e-02,  5.1153e-04,  1.0157e-04]])\n",
      "Iteration 45000: loss=0.12654529511928558 prediction=8\n",
      "OUT= tensor([[ 0.0789,  0.0006,  0.1312,  0.0046,  0.0000,  0.0001,  0.0001,\n",
      "          0.0007,  0.4848,  0.0898]])\n",
      "Iteration 50000: loss=2.8734710216522217 prediction=7\n",
      "OUT= tensor([[ 6.4572e-06,  1.0854e+00,  1.9809e+00,  6.5687e-02,  3.1487e-01,\n",
      "          3.4967e+00,  5.7125e-05,  3.5318e+00,  4.7216e-08,  3.7187e-07]])\n"
     ]
    },
    {
     "data": {
      "image/png": "[encoded data removed]",
      "text/plain": [
       "<Figure size 80x80 with 1 Axes>"
      ]
     },
     "metadata": {},
     "output_type": "display_data"
    },
    {
     "name": "stdout",
     "output_type": "stream",
     "text": [
      "Iteration 55000: loss=0.12425495684146881 prediction=8\n",
      "OUT= tensor([[ 0.0488,  0.0015,  0.0357,  0.0020,  0.0000,  0.0002,  0.0001,\n",
      "          0.0009,  0.4603,  0.1734]])\n",
      "Iteration 60000: loss=0.2284095585346222 prediction=7\n",
      "OUT= tensor([[ 2.3358e-03,  8.4250e-02,  7.3071e-01,  6.2939e-02,  5.6712e-06,\n",
      "          7.3009e-02,  9.5906e-05,  9.4988e-01,  5.4208e-06,  4.8414e-04]])\n",
      "Iteration 65000: loss=0.13389188051223755 prediction=8\n",
      "OUT= tensor([[ 0.0014,  0.0011,  0.1600,  0.1181,  0.0000,  0.0001,  0.0001,\n",
      "          0.0022,  0.5489,  0.0169]])\n",
      "Iteration 70000: loss=0.12388934195041656 prediction=8\n",
      "OUT= tensor([[ 0.0635,  0.0008,  0.1050,  0.0006,  0.0001,  0.0002,  0.0003,\n",
      "          0.0005,  0.4539,  0.1394]])\n",
      "Iteration 75000: loss=0.12773703038692474 prediction=8\n",
      "OUT= tensor([[ 0.0276,  0.0011,  0.0101,  0.0151,  0.0000,  0.0002,  0.0000,\n",
      "          0.0009,  0.5098,  0.1365]])\n",
      "Iteration 80000: loss=0.12681931257247925 prediction=8\n",
      "OUT= tensor([[ 0.0734,  0.0008,  0.0763,  0.0009,  0.0000,  0.0001,  0.0002,\n",
      "          0.0004,  0.4900,  0.1359]])\n",
      "Iteration 85000: loss=0.12881216406822205 prediction=8\n",
      "OUT= tensor([[ 0.0007,  0.0001,  0.0005,  0.0023,  0.0002,  0.0023,  0.0001,\n",
      "          0.0000,  0.5251,  0.1120]])\n",
      "Iteration 90000: loss=0.1256624162197113 prediction=8\n",
      "OUT= tensor([[ 0.0309,  0.0012,  0.0520,  0.0070,  0.0000,  0.0001,  0.0001,\n",
      "          0.0007,  0.4745,  0.1737]])\n",
      "Iteration 95000: loss=0.12834930419921875 prediction=8\n",
      "OUT= tensor([[ 0.1290,  0.0004,  0.0277,  0.0008,  0.0000,  0.0008,  0.0001,\n",
      "          0.0002,  0.4701,  0.2143]])\n",
      "Iteration 100000: loss=0.1289532482624054 prediction=8\n",
      "OUT= tensor([[ 0.0848,  0.0011,  0.0317,  0.0008,  0.0000,  0.0004,  0.0000,\n",
      "          0.0009,  0.4933,  0.2002]])\n"
     ]
    },
    {
     "data": {
      "image/png": "[encoded data removed]",
      "text/plain": [
       "<Figure size 80x80 with 1 Axes>"
      ]
     },
     "metadata": {},
     "output_type": "display_data"
    },
    {
     "name": "stdout",
     "output_type": "stream",
     "text": [
      "Iteration 105000: loss=0.49841389060020447 prediction=7\n",
      "OUT= tensor([[ 3.5191e-07,  3.1801e-02,  8.6598e-01,  2.0194e-01,  2.7774e-01,\n",
      "          1.2360e+00,  9.1465e-04,  1.2850e+00,  6.3933e-08,  1.3279e-06]])\n",
      "Iteration 110000: loss=0.1286361813545227 prediction=8\n",
      "OUT= tensor([[ 0.0787,  0.0006,  0.1090,  0.0021,  0.0000,  0.0001,  0.0003,\n",
      "          0.0006,  0.5109,  0.0918]])\n",
      "Iteration 115000: loss=0.7266401052474976 prediction=5\n",
      "OUT= tensor([[ 4.7760e-07,  8.2692e-01,  1.0771e+00,  5.2254e-02,  7.4116e-02,\n",
      "          2.1554e+00,  1.0253e-03,  1.1926e+00,  2.1721e-06,  1.8318e-06]])\n",
      "Iteration 120000: loss=0.12345977872610092 prediction=8\n",
      "OUT= tensor([[ 0.1564,  0.0014,  0.0829,  0.0011,  0.0000,  0.0002,  0.0001,\n",
      "          0.0015,  0.4492,  0.0657]])\n",
      "Iteration 125000: loss=0.1219194307923317 prediction=8\n",
      "OUT= tensor([[ 0.0664,  0.0012,  0.0656,  0.0016,  0.0000,  0.0002,  0.0001,\n",
      "          0.0007,  0.4468,  0.1155]])\n",
      "Iteration 130000: loss=0.12513600289821625 prediction=8\n",
      "OUT= tensor([[ 0.0091,  0.0007,  0.0617,  0.0025,  0.0000,  0.0002,  0.0002,\n",
      "          0.0005,  0.4746,  0.1538]])\n",
      "Iteration 135000: loss=2.217776298522949 prediction=2\n",
      "OUT= tensor([[ 1.9609e-06,  3.8895e-01,  2.9369e+00,  6.7496e-02,  2.9949e-01,\n",
      "          2.6149e+00,  2.1819e-05,  2.4995e+00,  1.5670e-07,  9.9007e-06]])\n",
      "Iteration 140000: loss=0.126590758562088 prediction=8\n",
      "OUT= tensor([[ 0.0312,  0.0012,  0.0344,  0.0104,  0.0000,  0.0002,  0.0001,\n",
      "          0.0006,  0.4778,  0.1942]])\n",
      "Iteration 145000: loss=0.12212876230478287 prediction=8\n",
      "OUT= tensor([[ 0.0847,  0.0006,  0.0979,  0.0028,  0.0000,  0.0001,  0.0001,\n",
      "          0.0009,  0.4526,  0.0305]])\n",
      "Iteration 150000: loss=0.12497792392969131 prediction=8\n",
      "OUT= tensor([[ 0.1547,  0.0027,  0.0232,  0.0009,  0.0000,  0.0003,  0.0000,\n",
      "          0.0020,  0.4691,  0.1033]])\n"
     ]
    },
    {
     "data": {
      "image/png": "[encoded data removed]",
      "text/plain": [
       "<Figure size 80x80 with 1 Axes>"
      ]
     },
     "metadata": {},
     "output_type": "display_data"
    },
    {
     "name": "stdout",
     "output_type": "stream",
     "text": [
      "Iteration 155000: loss=0.12723375856876373 prediction=8\n",
      "OUT= tensor([[ 0.0136,  0.0011,  0.0841,  0.0076,  0.0000,  0.0001,  0.0000,\n",
      "          0.0015,  0.5124,  0.0683]])\n",
      "Iteration 160000: loss=0.12312568724155426 prediction=8\n",
      "OUT= tensor([[ 0.0256,  0.0016,  0.0387,  0.0047,  0.0000,  0.0002,  0.0001,\n",
      "          0.0012,  0.4568,  0.1534]])\n",
      "Iteration 165000: loss=0.13121546804904938 prediction=2\n",
      "OUT= tensor([[ 0.0000,  0.0073,  0.4816,  0.0174,  0.0012,  0.2939,  0.0000,\n",
      "          0.0906,  0.0000,  0.0000]])\n",
      "Iteration 170000: loss=0.12689855694770813 prediction=8\n",
      "OUT= tensor([[ 0.0840,  0.0014,  0.0301,  0.0011,  0.0000,  0.0003,  0.0000,\n",
      "          0.0008,  0.4801,  0.1828]])\n",
      "Iteration 175000: loss=11.72265338897705 prediction=5\n",
      "OUT= tensor([[ 1.1600e-06,  4.3385e-01,  4.0611e-01,  2.6706e-01,  3.6432e-01,\n",
      "          7.9511e+00,  1.5810e-04,  7.3019e+00,  4.2964e-08,  3.6225e-06]])\n",
      "Iteration 180000: loss=0.12121559679508209 prediction=8\n",
      "OUT= tensor([[ 0.0081,  0.0006,  0.0493,  0.0239,  0.0000,  0.0001,  0.0001,\n",
      "          0.0006,  0.4286,  0.1630]])\n",
      "Iteration 185000: loss=0.12692692875862122 prediction=8\n",
      "OUT= tensor([[ 0.0387,  0.0020,  0.0724,  0.0019,  0.0000,  0.0002,  0.0001,\n",
      "          0.0008,  0.4987,  0.1335]])\n",
      "Iteration 190000: loss=0.12686286866664886 prediction=8\n",
      "OUT= tensor([[ 0.0716,  0.0010,  0.0715,  0.0053,  0.0000,  0.0001,  0.0001,\n",
      "          0.0005,  0.5018,  0.0925]])\n",
      "Iteration 195000: loss=0.12849116325378418 prediction=8\n",
      "OUT= tensor([[ 0.0135,  0.0006,  0.1460,  0.0092,  0.0000,  0.0001,  0.0001,\n",
      "          0.0010,  0.5065,  0.0890]])\n",
      "Iteration 200000: loss=0.12612304091453552 prediction=8\n",
      "OUT= tensor([[ 0.0334,  0.0018,  0.0707,  0.0052,  0.0000,  0.0001,  0.0001,\n",
      "          0.0013,  0.5016,  0.0841]])\n"
     ]
    },
    {
     "data": {
      "image/png": "[encoded data removed]",
      "text/plain": [
       "<Figure size 80x80 with 1 Axes>"
      ]
     },
     "metadata": {},
     "output_type": "display_data"
    },
    {
     "name": "stdout",
     "output_type": "stream",
     "text": [
      "Iteration 205000: loss=0.12266366183757782 prediction=8\n",
      "OUT= tensor([[ 0.0009,  0.0002,  0.0995,  0.0004,  0.0027,  0.0003,  0.0030,\n",
      "          0.0001,  0.4659,  0.0029]])\n",
      "Iteration 210000: loss=0.12410775572061539 prediction=8\n",
      "OUT= tensor([[ 0.0489,  0.0007,  0.0728,  0.0031,  0.0000,  0.0001,  0.0001,\n",
      "          0.0005,  0.4752,  0.0945]])\n",
      "Iteration 215000: loss=0.1251535266637802 prediction=8\n",
      "OUT= tensor([[ 0.0159,  0.0007,  0.0403,  0.0030,  0.0000,  0.0004,  0.0003,\n",
      "          0.0013,  0.4955,  0.0739]])\n",
      "Iteration 220000: loss=0.12881651520729065 prediction=8\n",
      "OUT= tensor([[ 0.0585,  0.0022,  0.0733,  0.0032,  0.0000,  0.0001,  0.0001,\n",
      "          0.0009,  0.5169,  0.1284]])\n",
      "Iteration 225000: loss=9.564004898071289 prediction=7\n",
      "OUT= tensor([[ 1.2286e-06,  6.8383e-02,  1.3082e+00,  1.5346e+00,  1.9403e-01,\n",
      "          6.6888e+00,  2.9721e-05,  6.7770e+00,  1.7883e-07,  1.1174e-05]])\n",
      "Iteration 230000: loss=0.11974100023508072 prediction=8\n",
      "OUT= tensor([[ 0.0148,  0.0002,  0.0533,  0.0003,  0.0000,  0.0039,  0.0031,\n",
      "          0.0004,  0.4412,  0.0111]])\n",
      "Iteration 235000: loss=0.12016361951828003 prediction=8\n",
      "OUT= tensor([[ 0.0391,  0.0010,  0.1302,  0.0046,  0.0000,  0.0001,  0.0001,\n",
      "          0.0012,  0.4283,  0.0417]])\n",
      "Iteration 240000: loss=0.12052108347415924 prediction=8\n",
      "OUT= tensor([[ 0.0443,  0.0009,  0.0917,  0.0025,  0.0000,  0.0001,  0.0002,\n",
      "          0.0015,  0.4395,  0.0586]])\n",
      "Iteration 245000: loss=0.12406869977712631 prediction=8\n",
      "OUT= tensor([[ 0.0638,  0.0010,  0.0572,  0.0025,  0.0000,  0.0001,  0.0001,\n",
      "          0.0008,  0.4638,  0.1418]])\n",
      "Iteration 250000: loss=0.12417193502187729 prediction=8\n",
      "OUT= tensor([[ 0.1000,  0.0016,  0.0535,  0.0026,  0.0000,  0.0001,  0.0002,\n",
      "          0.0005,  0.4709,  0.1014]])\n"
     ]
    },
    {
     "data": {
      "image/png": "[encoded data removed]",
      "text/plain": [
       "<Figure size 80x80 with 1 Axes>"
      ]
     },
     "metadata": {},
     "output_type": "display_data"
    },
    {
     "name": "stdout",
     "output_type": "stream",
     "text": [
      "Iteration 255000: loss=0.12349454313516617 prediction=8\n",
      "OUT= tensor([[ 0.0767,  0.0014,  0.1436,  0.0005,  0.0000,  0.0004,  0.0008,\n",
      "          0.0007,  0.4502,  0.0925]])\n",
      "Iteration 260000: loss=0.13005834817886353 prediction=8\n",
      "OUT= tensor([[ 0.1361,  0.0014,  0.0158,  0.0007,  0.0000,  0.0004,  0.0000,\n",
      "          0.0008,  0.4979,  0.1916]])\n",
      "Iteration 265000: loss=0.12615005671977997 prediction=8\n",
      "OUT= tensor([[ 0.0470,  0.0006,  0.1592,  0.0013,  0.0000,  0.0002,  0.0003,\n",
      "          0.0006,  0.4800,  0.0692]])\n",
      "Iteration 270000: loss=0.1252007633447647 prediction=8\n",
      "OUT= tensor([[ 0.0087,  0.0002,  0.0278,  0.0003,  0.0003,  0.0004,  0.0001,\n",
      "          0.0007,  0.5005,  0.0312]])\n",
      "Iteration 275000: loss=0.1296028047800064 prediction=8\n",
      "OUT= tensor([[ 0.0948,  0.0011,  0.1430,  0.0011,  0.0000,  0.0001,  0.0002,\n",
      "          0.0008,  0.5111,  0.0875]])\n",
      "Iteration 280000: loss=0.12384893000125885 prediction=8\n",
      "OUT= tensor([[ 0.1171,  0.0011,  0.1035,  0.0008,  0.0000,  0.0003,  0.0002,\n",
      "          0.0005,  0.4609,  0.0617]])\n",
      "Iteration 285000: loss=0.12358877807855606 prediction=8\n",
      "OUT= tensor([[ 0.0011,  0.0001,  0.0171,  0.0034,  0.0000,  0.0049,  0.0001,\n",
      "          0.0007,  0.4804,  0.0712]])\n",
      "Iteration 290000: loss=0.28889399766921997 prediction=5\n",
      "OUT= tensor([[ 6.6761e-06,  5.6332e-01,  9.8577e-01,  4.7377e-02,  4.3236e-01,\n",
      "          1.1222e+00,  3.7439e-05,  5.2725e-01,  2.0236e-06,  1.3305e-06]])\n",
      "Iteration 295000: loss=0.1243901476264 prediction=8\n",
      "OUT= tensor([[ 0.0475,  0.0008,  0.1497,  0.0028,  0.0000,  0.0001,  0.0001,\n",
      "          0.0009,  0.4644,  0.0715]])\n",
      "Iteration 300000: loss=1.703843355178833 prediction=5\n",
      "OUT= tensor([[ 2.3209e-08,  1.0454e+00,  2.3479e+00,  8.5699e-01,  1.4399e+00,\n",
      "          2.7666e+00,  3.3838e-04,  1.0304e+00,  1.5974e-07,  5.2006e-07]])\n"
     ]
    },
    {
     "data": {
      "image/png": "[encoded data removed]",
      "text/plain": [
       "<Figure size 80x80 with 1 Axes>"
      ]
     },
     "metadata": {},
     "output_type": "display_data"
    },
    {
     "name": "stdout",
     "output_type": "stream",
     "text": [
      "Iteration 305000: loss=0.12414088100194931 prediction=8\n",
      "OUT= tensor([[ 0.0249,  0.0006,  0.0573,  0.0066,  0.0000,  0.0001,  0.0001,\n",
      "          0.0004,  0.4547,  0.1785]])\n",
      "Iteration 310000: loss=0.13031019270420074 prediction=8\n",
      "OUT= tensor([[ 0.0234,  0.0008,  0.0634,  0.0074,  0.0000,  0.0001,  0.0001,\n",
      "          0.0005,  0.5219,  0.1664]])\n",
      "Iteration 315000: loss=0.13203157484531403 prediction=8\n",
      "OUT= tensor([[ 0.0566,  0.0005,  0.0356,  0.0034,  0.0000,  0.0001,  0.0000,\n",
      "          0.0006,  0.5240,  0.2052]])\n",
      "Iteration 320000: loss=2.212118625640869 prediction=2\n",
      "OUT= tensor([[ 7.1953e-06,  1.4493e+00,  3.0523e+00,  7.1401e-02,  5.6544e-01,\n",
      "          2.6435e+00,  6.4853e-05,  2.3000e+00,  8.8497e-08,  4.9955e-07]])\n",
      "Iteration 325000: loss=0.12551197409629822 prediction=8\n",
      "OUT= tensor([[ 0.0292,  0.0016,  0.1183,  0.0181,  0.0000,  0.0001,  0.0001,\n",
      "          0.0012,  0.4928,  0.0181]])\n",
      "Iteration 330000: loss=0.12704259157180786 prediction=8\n",
      "OUT= tensor([[ 2.5651e-02,  1.6918e-03,  1.1588e-01,  1.8295e-02,  8.0953e-06,\n",
      "          7.6227e-05,  6.4773e-05,  1.7055e-03,  5.0886e-01,  2.1125e-02]])\n",
      "Iteration 335000: loss=134.34115600585938 prediction=5\n",
      "OUT= tensor([[ 1.0774e-06,  1.5839e+01,  4.0975e+00,  2.2394e-02,  7.1303e+00,\n",
      "          2.3391e+01,  3.8494e-04,  2.2549e+01,  7.7185e-09,  6.5936e-07]])\n",
      "Iteration 340000: loss=3.3006339073181152 prediction=5\n",
      "OUT= tensor([[ 3.4114e-06,  1.1474e+00,  2.8840e+00,  2.5153e-01,  5.2097e-01,\n",
      "          3.9135e+00,  5.6147e-04,  3.0029e+00,  2.1273e-08,  3.4429e-06]])\n",
      "Iteration 345000: loss=0.12332715094089508 prediction=8\n",
      "OUT= tensor([[ 0.0634,  0.0003,  0.0754,  0.0074,  0.0000,  0.0001,  0.0001,\n",
      "          0.0006,  0.4603,  0.1108]])\n",
      "Iteration 350000: loss=0.12844572961330414 prediction=8\n",
      "OUT= tensor([[ 0.0920,  0.0008,  0.0591,  0.0040,  0.0000,  0.0001,  0.0001,\n",
      "          0.0006,  0.5047,  0.1391]])\n"
     ]
    },
    {
     "data": {
      "image/png": "[encoded data removed]",
      "text/plain": [
       "<Figure size 80x80 with 1 Axes>"
      ]
     },
     "metadata": {},
     "output_type": "display_data"
    },
    {
     "name": "stdout",
     "output_type": "stream",
     "text": [
      "Iteration 355000: loss=0.12658348679542542 prediction=8\n",
      "OUT= tensor([[ 0.0858,  0.0007,  0.1504,  0.0007,  0.0000,  0.0001,  0.0004,\n",
      "          0.0003,  0.4779,  0.0944]])\n",
      "Iteration 360000: loss=0.1234189048409462 prediction=8\n",
      "OUT= tensor([[ 0.0240,  0.0010,  0.0696,  0.0040,  0.0000,  0.0001,  0.0001,\n",
      "          0.0011,  0.4676,  0.1096]])\n",
      "Iteration 365000: loss=3.9987194538116455 prediction=5\n",
      "OUT= tensor([[ 1.9002e-05,  3.1188e-01,  3.5436e+00,  1.6442e-01,  3.1950e-01,\n",
      "          4.7688e+00,  6.4674e-05,  2.0215e+00,  1.5691e-07,  2.3234e-07]])\n",
      "Iteration 370000: loss=0.1276392787694931 prediction=8\n",
      "OUT= tensor([[ 0.0377,  0.0002,  0.1028,  0.0003,  0.0001,  0.0001,  0.0001,\n",
      "          0.0001,  0.5060,  0.0933]])\n",
      "Iteration 375000: loss=0.1281164288520813 prediction=8\n",
      "OUT= tensor([[ 0.0563,  0.0008,  0.0617,  0.0013,  0.0000,  0.0001,  0.0001,\n",
      "          0.0006,  0.5085,  0.1307]])\n",
      "Iteration 380000: loss=0.10289473831653595 prediction=2\n",
      "OUT= tensor([[ 2.5018e-07,  4.1177e-03,  1.4064e-01,  4.8444e-03,  1.2116e-01,\n",
      "          4.9620e-02,  6.9550e-05,  1.4864e-02,  5.8912e-05,  2.7675e-06]])\n",
      "Iteration 385000: loss=0.1228884682059288 prediction=8\n",
      "OUT= tensor([[ 0.0350,  0.0015,  0.0262,  0.0026,  0.0001,  0.0002,  0.0001,\n",
      "          0.0007,  0.4384,  0.1941]])\n",
      "Iteration 390000: loss=0.12440117448568344 prediction=8\n",
      "OUT= tensor([[ 0.0055,  0.0004,  0.1695,  0.0093,  0.0000,  0.0001,  0.0004,\n",
      "          0.0016,  0.4628,  0.0430]])\n",
      "Iteration 395000: loss=0.1291959285736084 prediction=8\n",
      "OUT= tensor([[ 0.0825,  0.0012,  0.0235,  0.0013,  0.0001,  0.0003,  0.0001,\n",
      "          0.0009,  0.4736,  0.2504]])\n",
      "Iteration 400000: loss=0.1288573443889618 prediction=8\n",
      "OUT= tensor([[ 0.0738,  0.0012,  0.0266,  0.0015,  0.0000,  0.0004,  0.0001,\n",
      "          0.0008,  0.4755,  0.2422]])\n"
     ]
    },
    {
     "data": {
      "image/png": "[encoded data removed]",
      "text/plain": [
       "<Figure size 80x80 with 1 Axes>"
      ]
     },
     "metadata": {},
     "output_type": "display_data"
    },
    {
     "name": "stdout",
     "output_type": "stream",
     "text": [
      "Iteration 405000: loss=0.10382004827260971 prediction=5\n",
      "OUT= tensor([[ 0.0001,  0.0000,  0.0192,  0.0000,  0.0118,  0.1926,  0.0006,\n",
      "          0.0003,  0.0257,  0.0000]])\n",
      "Iteration 410000: loss=0.13057130575180054 prediction=8\n",
      "OUT= tensor([[ 0.1222,  0.0007,  0.0718,  0.0004,  0.0000,  0.0003,  0.0002,\n",
      "          0.0004,  0.5078,  0.1708]])\n",
      "Iteration 415000: loss=0.12450055778026581 prediction=8\n",
      "OUT= tensor([[ 0.0477,  0.0022,  0.1661,  0.0018,  0.0000,  0.0001,  0.0002,\n",
      "          0.0011,  0.4646,  0.0602]])\n",
      "Iteration 420000: loss=0.12257124483585358 prediction=8\n",
      "OUT= tensor([[ 0.0233,  0.0001,  0.1187,  0.0004,  0.0004,  0.0001,  0.0000,\n",
      "          0.0002,  0.4456,  0.1128]])\n",
      "Iteration 425000: loss=0.12516170740127563 prediction=8\n",
      "OUT= tensor([[ 0.0455,  0.0016,  0.0207,  0.0025,  0.0000,  0.0002,  0.0000,\n",
      "          0.0009,  0.4591,  0.2039]])\n",
      "Iteration 430000: loss=0.12208479642868042 prediction=8\n",
      "OUT= tensor([[ 0.0651,  0.0005,  0.1460,  0.0013,  0.0000,  0.0002,  0.0001,\n",
      "          0.0007,  0.4373,  0.0704]])\n",
      "Iteration 435000: loss=0.1305304765701294 prediction=8\n",
      "OUT= tensor([[ 0.0015,  0.0000,  0.2024,  0.0001,  0.0578,  0.0000,  0.0000,\n",
      "          0.0001,  0.5109,  0.0005]])\n",
      "Iteration 440000: loss=0.1267157793045044 prediction=8\n",
      "OUT= tensor([[ 0.0292,  0.0006,  0.0897,  0.0040,  0.0000,  0.0001,  0.0000,\n",
      "          0.0006,  0.4908,  0.1361]])\n",
      "Iteration 445000: loss=0.1266605705022812 prediction=8\n",
      "OUT= tensor([[ 0.0678,  0.0013,  0.0555,  0.0027,  0.0000,  0.0001,  0.0001,\n",
      "          0.0009,  0.4926,  0.1379]])\n",
      "Iteration 450000: loss=0.1273297518491745 prediction=8\n",
      "OUT= tensor([[ 0.0570,  0.0019,  0.0471,  0.0028,  0.0000,  0.0001,  0.0001,\n",
      "          0.0012,  0.5098,  0.1086]])\n"
     ]
    },
    {
     "data": {
      "image/png": "[encoded data removed]",
      "text/plain": [
       "<Figure size 80x80 with 1 Axes>"
      ]
     },
     "metadata": {},
     "output_type": "display_data"
    },
    {
     "name": "stdout",
     "output_type": "stream",
     "text": [
      "Iteration 455000: loss=0.1289617419242859 prediction=7\n",
      "OUT= tensor([[ 4.9424e-07,  9.8723e-04,  1.7135e-01,  3.0236e-01,  4.1383e-02,\n",
      "          2.5128e-01,  3.3738e-04,  3.2551e-01,  1.4782e-05,  4.3369e-07]])\n",
      "Iteration 460000: loss=0.1346147209405899 prediction=8\n",
      "OUT= tensor([[ 0.0013,  0.0012,  0.0641,  0.1952,  0.0000,  0.0001,  0.0002,\n",
      "          0.0030,  0.5529,  0.0243]])\n",
      "Iteration 465000: loss=0.12759754061698914 prediction=8\n",
      "OUT= tensor([[ 0.0309,  0.0013,  0.1696,  0.0046,  0.0000,  0.0001,  0.0001,\n",
      "          0.0026,  0.4982,  0.0236]])\n",
      "Iteration 470000: loss=0.11013256013393402 prediction=5\n",
      "OUT= tensor([[ 2.2405e-06,  7.1570e-05,  1.4398e-01,  1.2386e-03,  2.5560e-03,\n",
      "          2.8411e-01,  1.8747e-05,  5.2455e-04,  2.8043e-03,  1.8077e-04]])\n",
      "Iteration 475000: loss=0.12270759046077728 prediction=8\n",
      "OUT= tensor([[ 0.0786,  0.0014,  0.0531,  0.0019,  0.0000,  0.0002,  0.0001,\n",
      "          0.0009,  0.4465,  0.1470]])\n",
      "Iteration 480000: loss=0.12729699909687042 prediction=8\n",
      "OUT= tensor([[ 0.0732,  0.0006,  0.0325,  0.0018,  0.0001,  0.0001,  0.0001,\n",
      "          0.0015,  0.5082,  0.0972]])\n",
      "Iteration 485000: loss=0.1240595206618309 prediction=8\n",
      "OUT= tensor([[ 0.0514,  0.0007,  0.0900,  0.0015,  0.0000,  0.0002,  0.0001,\n",
      "          0.0005,  0.4691,  0.1055]])\n",
      "Iteration 490000: loss=0.13480405509471893 prediction=8\n",
      "OUT= tensor([[ 0.0002,  0.0001,  0.3625,  0.0015,  0.0177,  0.0001,  0.0000,\n",
      "          0.0001,  0.4653,  0.0027]])\n",
      "Iteration 495000: loss=0.13184404373168945 prediction=8\n",
      "OUT= tensor([[ 0.0318,  0.0007,  0.0072,  0.0017,  0.0001,  0.0005,  0.0001,\n",
      "          0.0008,  0.5166,  0.2280]])\n",
      "Iteration 500000: loss=0.1310599148273468 prediction=8\n",
      "OUT= tensor([[ 0.0196,  0.0018,  0.0189,  0.0028,  0.0000,  0.0003,  0.0000,\n",
      "          0.0015,  0.5250,  0.1942]])\n"
     ]
    },
    {
     "data": {
      "image/png": "[encoded data removed]",
      "text/plain": [
       "<Figure size 80x80 with 1 Axes>"
      ]
     },
     "metadata": {},
     "output_type": "display_data"
    },
    {
     "name": "stdout",
     "output_type": "stream",
     "text": [
      "Iteration 505000: loss=2.5891168117523193 prediction=2\n",
      "OUT= tensor([[ 4.0339e-06,  1.3711e+00,  4.0005e+00,  2.3109e-01,  1.5494e-01,\n",
      "          2.4857e+00,  3.6537e-05,  1.8691e+00,  1.2507e-08,  2.3778e-06]])\n",
      "Iteration 510000: loss=0.12439978122711182 prediction=8\n",
      "OUT= tensor([[ 0.0490,  0.0008,  0.0765,  0.0012,  0.0001,  0.0002,  0.0001,\n",
      "          0.0003,  0.4494,  0.1878]])\n",
      "Iteration 515000: loss=53.000633239746094 prediction=7\n",
      "OUT= tensor([[ 2.5760e-06,  5.4889e+00,  1.3239e+01,  2.6791e-01,  9.4930e-01,\n",
      "          9.4653e+00,  1.7896e-05,  1.5621e+01,  1.3708e-08,  4.5574e-07]])\n",
      "Iteration 520000: loss=0.12253429740667343 prediction=8\n",
      "OUT= tensor([[ 0.0018,  0.0024,  0.0219,  0.0945,  0.0000,  0.0002,  0.0001,\n",
      "          0.0010,  0.4565,  0.1112]])\n",
      "Iteration 525000: loss=0.1180967316031456 prediction=8\n",
      "OUT= tensor([[ 0.0074,  0.0012,  0.0264,  0.0111,  0.0001,  0.0002,  0.0001,\n",
      "          0.0019,  0.4105,  0.1184]])\n",
      "Iteration 530000: loss=0.1240154355764389 prediction=8\n",
      "OUT= tensor([[ 0.0622,  0.0012,  0.0302,  0.0019,  0.0000,  0.0003,  0.0000,\n",
      "          0.0014,  0.4603,  0.1606]])\n",
      "Iteration 535000: loss=0.12573248147964478 prediction=8\n",
      "OUT= tensor([[ 0.0418,  0.0008,  0.1151,  0.0017,  0.0000,  0.0002,  0.0001,\n",
      "          0.0007,  0.4777,  0.1253]])\n",
      "Iteration 540000: loss=0.12699690461158752 prediction=8\n",
      "OUT= tensor([[ 0.0176,  0.0022,  0.0849,  0.0120,  0.0000,  0.0002,  0.0001,\n",
      "          0.0006,  0.5153,  0.0335]])\n",
      "Iteration 545000: loss=0.1185322254896164 prediction=8\n",
      "OUT= tensor([[ 3.7512e-02,  3.5329e-03,  1.1762e-01,  1.5408e-02,  5.9560e-06,\n",
      "          8.1763e-05,  6.6705e-05,  2.1574e-03,  4.1953e-01,  2.9860e-02]])\n",
      "Iteration 550000: loss=0.11736737191677094 prediction=8\n",
      "OUT= tensor([[ 0.0009,  0.0000,  0.1343,  0.0037,  0.0000,  0.0081,  0.0001,\n",
      "          0.0000,  0.3945,  0.0030]])\n"
     ]
    },
    {
     "data": {
      "image/png": "[encoded data removed]",
      "text/plain": [
       "<Figure size 80x80 with 1 Axes>"
      ]
     },
     "metadata": {},
     "output_type": "display_data"
    },
    {
     "name": "stdout",
     "output_type": "stream",
     "text": [
      "Iteration 555000: loss=0.12210218608379364 prediction=8\n",
      "OUT= tensor([[ 0.1418,  0.0006,  0.0873,  0.0006,  0.0000,  0.0003,  0.0005,\n",
      "          0.0004,  0.4377,  0.0532]])\n",
      "Iteration 560000: loss=0.12691766023635864 prediction=8\n",
      "OUT= tensor([[ 0.1266,  0.0005,  0.1411,  0.0003,  0.0000,  0.0003,  0.0011,\n",
      "          0.0003,  0.4748,  0.0940]])\n",
      "Iteration 565000: loss=0.10209403187036514 prediction=8\n",
      "OUT= tensor([[ 3.6964e-06,  4.8417e-06,  2.6886e-02,  3.0156e-04,  2.6997e-03,\n",
      "          1.0582e-02,  1.9746e-06,  8.8866e-05,  1.4149e-01,  9.4228e-03]])\n",
      "Iteration 570000: loss=0.12234644591808319 prediction=8\n",
      "OUT= tensor([[ 0.0223,  0.0013,  0.0926,  0.0041,  0.0000,  0.0001,  0.0000,\n",
      "          0.0010,  0.4492,  0.1230]])\n",
      "Iteration 575000: loss=0.12427575886249542 prediction=8\n",
      "OUT= tensor([[ 0.1221,  0.0011,  0.0554,  0.0005,  0.0000,  0.0003,  0.0001,\n",
      "          0.0006,  0.4647,  0.1048]])\n",
      "Iteration 580000: loss=0.12420229613780975 prediction=8\n",
      "OUT= tensor([[ 0.0642,  0.0007,  0.0859,  0.0003,  0.0000,  0.0008,  0.0002,\n",
      "          0.0002,  0.4386,  0.1988]])\n",
      "Iteration 585000: loss=0.12283529341220856 prediction=8\n",
      "OUT= tensor([[ 0.0431,  0.0012,  0.1011,  0.0038,  0.0000,  0.0001,  0.0001,\n",
      "          0.0011,  0.4612,  0.0766]])\n",
      "Iteration 590000: loss=0.1257471889257431 prediction=8\n",
      "OUT= tensor([[ 0.1086,  0.0013,  0.0965,  0.0006,  0.0000,  0.0002,  0.0001,\n",
      "          0.0010,  0.4755,  0.1130]])\n",
      "Iteration 595000: loss=0.12480469793081284 prediction=8\n",
      "OUT= tensor([[ 0.0388,  0.0011,  0.0507,  0.0020,  0.0000,  0.0002,  0.0001,\n",
      "          0.0005,  0.4688,  0.1625]])\n",
      "Iteration 600000: loss=0.12346263229846954 prediction=8\n",
      "OUT= tensor([[ 0.1165,  0.0005,  0.0409,  0.0004,  0.0001,  0.0003,  0.0003,\n",
      "          0.0005,  0.4470,  0.1436]])\n"
     ]
    },
    {
     "data": {
      "image/png": "[encoded data removed]",
      "text/plain": [
       "<Figure size 80x80 with 1 Axes>"
      ]
     },
     "metadata": {},
     "output_type": "display_data"
    },
    {
     "name": "stdout",
     "output_type": "stream",
     "text": [
      "Iteration 605000: loss=0.7228497266769409 prediction=5\n",
      "OUT= tensor([[ 6.0416e-06,  1.0921e+00,  1.8249e-01,  6.3547e-02,  1.1179e+00,\n",
      "          2.3490e+00,  6.3671e-05,  6.4439e-01,  7.4612e-08,  1.6243e-05]])\n",
      "Iteration 610000: loss=0.12128432095050812 prediction=8\n",
      "OUT= tensor([[ 0.0630,  0.0009,  0.0681,  0.0014,  0.0000,  0.0006,  0.0001,\n",
      "          0.0002,  0.4343,  0.1323]])\n",
      "Iteration 615000: loss=0.12015986442565918 prediction=8\n",
      "OUT= tensor([[ 0.0746,  0.0011,  0.0527,  0.0017,  0.0001,  0.0002,  0.0001,\n",
      "          0.0006,  0.4016,  0.1848]])\n",
      "Iteration 620000: loss=0.121688112616539 prediction=8\n",
      "OUT= tensor([[ 3.3366e-02,  1.0367e-03,  8.4865e-02,  8.5078e-03,  9.6495e-06,\n",
      "          9.7124e-05,  1.0587e-04,  6.9286e-04,  4.5491e-01,  6.0166e-02]])\n",
      "Iteration 625000: loss=0.1451992392539978 prediction=5\n",
      "OUT= tensor([[ 2.9198e-06,  1.2799e-03,  4.0038e-01,  3.9994e-04,  1.4172e-01,\n",
      "          5.2358e-01,  7.2405e-04,  2.7342e-04,  4.9591e-03,  1.7339e-06]])\n",
      "Iteration 630000: loss=0.12305955588817596 prediction=8\n",
      "OUT= tensor([[ 0.0250,  0.0017,  0.0945,  0.0028,  0.0000,  0.0002,  0.0003,\n",
      "          0.0008,  0.4586,  0.1184]])\n",
      "Iteration 635000: loss=0.12582352757453918 prediction=8\n",
      "OUT= tensor([[ 0.1087,  0.0010,  0.0385,  0.0017,  0.0000,  0.0002,  0.0001,\n",
      "          0.0005,  0.4765,  0.1406]])\n",
      "Iteration 640000: loss=0.13246259093284607 prediction=8\n",
      "OUT= tensor([[ 0.0010,  0.0002,  0.0068,  0.0030,  0.0004,  0.0002,  0.0003,\n",
      "          0.0000,  0.5345,  0.1982]])\n",
      "Iteration 645000: loss=1.030127763748169 prediction=5\n",
      "OUT= tensor([[ 1.0445e-06,  3.9613e-03,  1.0965e+00,  1.3617e-02,  5.2960e-01,\n",
      "          2.5453e+00,  1.0851e-05,  1.1609e+00,  1.4082e-06,  1.0216e-05]])\n",
      "Iteration 650000: loss=0.12231914699077606 prediction=8\n",
      "OUT= tensor([[ 0.0246,  0.0009,  0.0796,  0.0037,  0.0000,  0.0001,  0.0001,\n",
      "          0.0018,  0.4614,  0.0719]])\n"
     ]
    },
    {
     "data": {
      "image/png": "[encoded data removed]",
      "text/plain": [
       "<Figure size 80x80 with 1 Axes>"
      ]
     },
     "metadata": {},
     "output_type": "display_data"
    },
    {
     "name": "stdout",
     "output_type": "stream",
     "text": [
      "Iteration 655000: loss=0.12300354242324829 prediction=8\n",
      "OUT= tensor([[ 0.0733,  0.0017,  0.0656,  0.0023,  0.0000,  0.0001,  0.0001,\n",
      "          0.0005,  0.4591,  0.1143]])\n",
      "Iteration 660000: loss=0.12536939978599548 prediction=8\n",
      "OUT= tensor([[ 0.0184,  0.0002,  0.1533,  0.0013,  0.0001,  0.0002,  0.0002,\n",
      "          0.0002,  0.4775,  0.0473]])\n",
      "Iteration 665000: loss=0.12528584897518158 prediction=8\n",
      "OUT= tensor([[ 0.0944,  0.0002,  0.0737,  0.0015,  0.0000,  0.0002,  0.0001,\n",
      "          0.0004,  0.4727,  0.1243]])\n",
      "Iteration 670000: loss=0.1361231654882431 prediction=2\n",
      "OUT= tensor([[ 3.6689e-04,  1.3847e-01,  6.2835e-01,  5.5692e-04,  3.8360e-02,\n",
      "          4.5269e-01,  4.8108e-04,  1.3332e-01,  9.7023e-06,  6.3833e-07]])\n",
      "Iteration 675000: loss=0.12688937783241272 prediction=8\n",
      "OUT= tensor([[ 0.1002,  0.0015,  0.2134,  0.0015,  0.0000,  0.0001,  0.0001,\n",
      "          0.0016,  0.4626,  0.0481]])\n",
      "Iteration 680000: loss=0.12292609363794327 prediction=8\n",
      "OUT= tensor([[ 0.0721,  0.0012,  0.0776,  0.0011,  0.0000,  0.0002,  0.0001,\n",
      "          0.0004,  0.4428,  0.1563]])\n",
      "Iteration 685000: loss=0.12576518952846527 prediction=8\n",
      "OUT= tensor([[ 0.0679,  0.0011,  0.0244,  0.0024,  0.0000,  0.0002,  0.0001,\n",
      "          0.0008,  0.4892,  0.1240]])\n",
      "Iteration 690000: loss=0.38271549344062805 prediction=5\n",
      "OUT= tensor([[ 1.6097e-07,  5.9436e-01,  2.5539e-01,  1.0855e-02,  3.9579e-02,\n",
      "          1.6882e+00,  1.7576e-04,  8.6360e-01,  3.3299e-06,  2.8867e-06]])\n",
      "Iteration 695000: loss=0.13132646679878235 prediction=8\n",
      "OUT= tensor([[ 0.1002,  0.0004,  0.0130,  0.0003,  0.0001,  0.0009,  0.0001,\n",
      "          0.0005,  0.4753,  0.2793]])\n",
      "Iteration 700000: loss=3.229360580444336 prediction=5\n",
      "OUT= tensor([[ 2.2615e-06,  3.1038e-01,  2.6064e+00,  6.3514e-02,  1.8068e+00,\n",
      "          4.4245e+00,  1.6091e-04,  1.4764e+00,  8.6840e-08,  2.6791e-06]])\n"
     ]
    },
    {
     "data": {
      "image/png": "[encoded data removed]",
      "text/plain": [
       "<Figure size 80x80 with 1 Axes>"
      ]
     },
     "metadata": {},
     "output_type": "display_data"
    },
    {
     "name": "stdout",
     "output_type": "stream",
     "text": [
      "Iteration 705000: loss=0.10094455629587173 prediction=4\n",
      "OUT= tensor([[ 3.0660e-08,  2.5565e-02,  2.9784e-02,  1.3464e-02,  2.1203e-01,\n",
      "          5.7427e-02,  1.8639e-04,  1.0295e-01,  8.6403e-05,  3.4112e-06]])\n",
      "Iteration 710000: loss=0.12722091376781464 prediction=8\n",
      "OUT= tensor([[ 0.0510,  0.0005,  0.0940,  0.0045,  0.0000,  0.0000,  0.0001,\n",
      "          0.0008,  0.5045,  0.0846]])\n",
      "Iteration 715000: loss=0.13499026000499725 prediction=8\n",
      "OUT= tensor([[ 0.0003,  0.0002,  0.1547,  0.0008,  0.0089,  0.0001,  0.0001,\n",
      "          0.0001,  0.5711,  0.0063]])\n",
      "Iteration 720000: loss=0.10793907940387726 prediction=2\n",
      "OUT= tensor([[ 5.6182e-07,  4.0766e-04,  2.8177e-01,  2.3224e-02,  9.8459e-04,\n",
      "          1.4098e-02,  3.5898e-04,  6.4651e-03,  5.4933e-03,  2.4407e-06]])\n",
      "Iteration 725000: loss=0.12168500572443008 prediction=7\n",
      "OUT= tensor([[ 6.3031e-07,  6.1821e-02,  2.9941e-01,  1.5729e-02,  1.0066e-02,\n",
      "          1.2960e-01,  7.4709e-06,  4.7945e-01,  9.7612e-07,  7.8278e-05]])\n"
     ]
    },
    {
     "ename": "KeyboardInterrupt",
     "evalue": "",
     "traceback": [
      "\u001b[0;31m---------------------------------------------------------------------------\u001b[0m",
      "\u001b[0;31mKeyboardInterrupt\u001b[0m                         Traceback (most recent call last)",
      "\u001b[0;32m<ipython-input-43-fd68766caca5>\u001b[0m in \u001b[0;36m<module>\u001b[0;34m()\u001b[0m\n\u001b[0;32m----> 1\u001b[0;31m \u001b[0mnew_image_randn\u001b[0m \u001b[0;34m=\u001b[0m \u001b[0mgenerate_image\u001b[0m\u001b[0;34m(\u001b[0m\u001b[0mimg\u001b[0m\u001b[0;34m,\u001b[0m \u001b[0;36m1\u001b[0m\u001b[0;34m)\u001b[0m\u001b[0;34m\u001b[0m\u001b[0m\n\u001b[0m",
      "\u001b[0;32m<ipython-input-42-75144c5b417b>\u001b[0m in \u001b[0;36mgenerate_image\u001b[0;34m(img, cl)\u001b[0m\n\u001b[1;32m     17\u001b[0m         \u001b[0mgen_optim\u001b[0m\u001b[0;34m.\u001b[0m\u001b[0mzero_grad\u001b[0m\u001b[0;34m(\u001b[0m\u001b[0;34m)\u001b[0m\u001b[0;34m\u001b[0m\u001b[0m\n\u001b[1;32m     18\u001b[0m         \u001b[0mloss\u001b[0m \u001b[0;34m=\u001b[0m \u001b[0mF\u001b[0m\u001b[0;34m.\u001b[0m\u001b[0mmse_loss\u001b[0m\u001b[0;34m(\u001b[0m\u001b[0mout\u001b[0m\u001b[0;34m,\u001b[0m \u001b[0mtarget\u001b[0m\u001b[0;34m)\u001b[0m\u001b[0;34m\u001b[0m\u001b[0m\n\u001b[0;32m---> 19\u001b[0;31m         \u001b[0mloss\u001b[0m\u001b[0;34m.\u001b[0m\u001b[0mbackward\u001b[0m\u001b[0;34m(\u001b[0m\u001b[0;34m)\u001b[0m\u001b[0;34m\u001b[0m\u001b[0m\n\u001b[0m\u001b[1;32m     20\u001b[0m         \u001b[0mgen_optim\u001b[0m\u001b[0;34m.\u001b[0m\u001b[0mstep\u001b[0m\u001b[0;34m(\u001b[0m\u001b[0;34m)\u001b[0m\u001b[0;34m\u001b[0m\u001b[0m\n\u001b[1;32m     21\u001b[0m \u001b[0;34m\u001b[0m\u001b[0m\n",
      "\u001b[0;32m~/anaconda3/envs/otus-dl-engineer/lib/python3.6/site-packages/torch/tensor.py\u001b[0m in \u001b[0;36mbackward\u001b[0;34m(self, gradient, retain_graph, create_graph)\u001b[0m\n\u001b[1;32m     91\u001b[0m                 \u001b[0mproducts\u001b[0m\u001b[0;34m.\u001b[0m \u001b[0mDefaults\u001b[0m \u001b[0mto\u001b[0m\u001b[0;31m \u001b[0m\u001b[0;31m`\u001b[0m\u001b[0;31m`\u001b[0m\u001b[0;32mFalse\u001b[0m\u001b[0;31m`\u001b[0m\u001b[0;31m`\u001b[0m\u001b[0;34m.\u001b[0m\u001b[0;34m\u001b[0m\u001b[0m\n\u001b[1;32m     92\u001b[0m         \"\"\"\n\u001b[0;32m---> 93\u001b[0;31m         \u001b[0mtorch\u001b[0m\u001b[0;34m.\u001b[0m\u001b[0mautograd\u001b[0m\u001b[0;34m.\u001b[0m\u001b[0mbackward\u001b[0m\u001b[0;34m(\u001b[0m\u001b[0mself\u001b[0m\u001b[0;34m,\u001b[0m \u001b[0mgradient\u001b[0m\u001b[0;34m,\u001b[0m \u001b[0mretain_graph\u001b[0m\u001b[0;34m,\u001b[0m \u001b[0mcreate_graph\u001b[0m\u001b[0;34m)\u001b[0m\u001b[0;34m\u001b[0m\u001b[0m\n\u001b[0m\u001b[1;32m     94\u001b[0m \u001b[0;34m\u001b[0m\u001b[0m\n\u001b[1;32m     95\u001b[0m     \u001b[0;32mdef\u001b[0m \u001b[0mregister_hook\u001b[0m\u001b[0;34m(\u001b[0m\u001b[0mself\u001b[0m\u001b[0;34m,\u001b[0m \u001b[0mhook\u001b[0m\u001b[0;34m)\u001b[0m\u001b[0;34m:\u001b[0m\u001b[0;34m\u001b[0m\u001b[0m\n",
      "\u001b[0;32m~/anaconda3/envs/otus-dl-engineer/lib/python3.6/site-packages/torch/autograd/__init__.py\u001b[0m in \u001b[0;36mbackward\u001b[0;34m(tensors, grad_tensors, retain_graph, create_graph, grad_variables)\u001b[0m\n\u001b[1;32m     87\u001b[0m     Variable._execution_engine.run_backward(\n\u001b[1;32m     88\u001b[0m         \u001b[0mtensors\u001b[0m\u001b[0;34m,\u001b[0m \u001b[0mgrad_tensors\u001b[0m\u001b[0;34m,\u001b[0m \u001b[0mretain_graph\u001b[0m\u001b[0;34m,\u001b[0m \u001b[0mcreate_graph\u001b[0m\u001b[0;34m,\u001b[0m\u001b[0;34m\u001b[0m\u001b[0m\n\u001b[0;32m---> 89\u001b[0;31m         allow_unreachable=True)  # allow_unreachable flag\n\u001b[0m\u001b[1;32m     90\u001b[0m \u001b[0;34m\u001b[0m\u001b[0m\n\u001b[1;32m     91\u001b[0m \u001b[0;34m\u001b[0m\u001b[0m\n",
      "\u001b[0;31mKeyboardInterrupt\u001b[0m: "
     ],
     "output_type": "error"
    }
   ],
   "source": [
    "new_image_randn = generate_image(img, 1)"
   ]
  },
  {
   "cell_type": "code",
   "execution_count": null,
   "metadata": {},
   "outputs": [],
   "source": []
  },
  {
   "cell_type": "code",
   "execution_count": null,
   "metadata": {},
   "outputs": [],
   "source": []
  },
  {
   "cell_type": "code",
   "execution_count": null,
   "metadata": {},
   "outputs": [],
   "source": []
  },
  {
   "cell_type": "code",
   "execution_count": null,
   "metadata": {},
   "outputs": [],
   "source": []
  },
  {
   "cell_type": "code",
   "execution_count": null,
   "metadata": {},
   "outputs": [],
   "source": []
  },
  {
   "cell_type": "code",
   "execution_count": null,
   "metadata": {},
   "outputs": [],
   "source": []
  },
  {
   "cell_type": "code",
   "execution_count": null,
   "metadata": {},
   "outputs": [],
   "source": []
  },
  {
   "cell_type": "code",
   "execution_count": null,
   "metadata": {},
   "outputs": [],
   "source": []
  }
 ],
 "metadata": {
  "kernelspec": {
   "display_name": "Python 3",
   "language": "python",
   "name": "python3"
  },
  "language_info": {
   "codemirror_mode": {
    "name": "ipython",
    "version": 3
   },
   "file_extension": ".py",
   "mimetype": "text/x-python",
   "name": "python",
   "nbconvert_exporter": "python",
   "pygments_lexer": "ipython3",
   "version": "3.6.6"
  }
 },
 "nbformat": 4,
 "nbformat_minor": 2
}
