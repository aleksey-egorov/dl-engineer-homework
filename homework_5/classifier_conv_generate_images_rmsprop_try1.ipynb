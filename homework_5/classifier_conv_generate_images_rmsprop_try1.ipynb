{
 "cells": [
  {
   "cell_type": "code",
   "execution_count": 1,
   "metadata": {},
   "outputs": [],
   "source": [
    "import torch\n",
    "import torch.nn as nn\n",
    "import torch.nn.functional as F\n",
    "import torch.optim as optim\n",
    "from torchvision import datasets, transforms\n",
    "\n",
    "from utils import *\n",
    "import numpy as np\n",
    "%matplotlib inline"
   ]
  },
  {
   "cell_type": "markdown",
   "metadata": {},
   "source": [
    "## Подготовка и визуализация данных"
   ]
  },
  {
   "cell_type": "code",
   "execution_count": 2,
   "metadata": {},
   "outputs": [],
   "source": [
    "train_loader, valid_loader, test_loader = mnist(valid=10000, batch_size=50)"
   ]
  },
  {
   "cell_type": "code",
   "execution_count": 3,
   "metadata": {},
   "outputs": [
    {
     "data": {
      "image/png": "[encoded data removed]",
      "text/plain": [
       "<Figure size 800x400 with 50 Axes>"
      ]
     },
     "metadata": {},
     "output_type": "display_data"
    }
   ],
   "source": [
    "images = mnist_plotdata()\n",
    "plot_mnist(images, (5, 10))"
   ]
  },
  {
   "cell_type": "markdown",
   "metadata": {},
   "source": [
    "## Обучение классификатора"
   ]
  },
  {
   "cell_type": "code",
   "execution_count": 4,
   "metadata": {},
   "outputs": [],
   "source": [
    "class ConvLayer(nn.Module):\n",
    "    def __init__(self, size, padding=1, pool_layer=nn.MaxPool2d(2, stride=2),\n",
    "                 bn=False, dropout=False, activation_fn=nn.ReLU()):\n",
    "        super(ConvLayer, self).__init__()\n",
    "        layers = []\n",
    "        layers.append(nn.Conv2d(size[0], size[1], size[2], padding=padding))\n",
    "        if pool_layer is not None:\n",
    "            layers.append(pool_layer)\n",
    "        if bn:\n",
    "            layers.append(nn.BatchNorm2d(size[1]))\n",
    "        if dropout:\n",
    "            layers.append(nn.Dropout2d())\n",
    "        layers.append(activation_fn)\n",
    "        \n",
    "        self.model = nn.Sequential(*layers)\n",
    "    \n",
    "    def forward(self, x):\n",
    "        return self.model(x)"
   ]
  },
  {
   "cell_type": "code",
   "execution_count": 5,
   "metadata": {},
   "outputs": [],
   "source": [
    "class FullyConnected(nn.Module):\n",
    "    def __init__(self, sizes, dropout=False, activation_fn=nn.Tanh):\n",
    "        super(FullyConnected, self).__init__()\n",
    "        layers = []\n",
    "        \n",
    "        for i in range(len(sizes) - 2):\n",
    "            layers.append(nn.Linear(sizes[i], sizes[i+1]))\n",
    "            if dropout:\n",
    "                layers.append(nn.Dropout())\n",
    "            layers.append(activation_fn())\n",
    "        else: # нам не нужен дропаут и фнкция активации в последнем слое\n",
    "            layers.append(nn.Linear(sizes[-2], sizes[-1]))            \n",
    "        \n",
    "        self.model = nn.Sequential(*layers)\n",
    "        \n",
    "    def forward(self, x):\n",
    "        return self.model(x)"
   ]
  },
  {
   "cell_type": "code",
   "execution_count": 6,
   "metadata": {},
   "outputs": [],
   "source": [
    "class Net(nn.Module):\n",
    "    def __init__(self, batchnorm=False, dropout=False, lr=1e-4, l2=0.):\n",
    "        super(Net, self).__init__()\n",
    "        \n",
    "        \n",
    "        self._conv1 = ConvLayer([1, 16, 3], bn=batchnorm)\n",
    "        self._conv2 = ConvLayer([16, 32, 3], bn=batchnorm, activation_fn=nn.Sigmoid())\n",
    "        \n",
    "        self.fc = FullyConnected([32*7*7, 10], dropout=dropout)\n",
    "        \n",
    "        self._loss = None\n",
    "        self.optim = optim.Adam(self.parameters(), lr=lr, weight_decay=l2)\n",
    "    \n",
    "    def conv(self, x):\n",
    "        x = self._conv1(x)\n",
    "        x = self._conv2(x)\n",
    "        return x\n",
    "        \n",
    "    def forward(self, x):\n",
    "        x = self.conv(x)\n",
    "        x = x.view(-1, 32*7*7)\n",
    "        x = self.fc(x)\n",
    "        \n",
    "        return x\n",
    "    \n",
    "    def loss(self, output, target, **kwargs):           \n",
    "        self._loss = F.cross_entropy(output, target, **kwargs)\n",
    "        self._correct = output.data.max(1, keepdim=True)[1]\n",
    "        self._correct = self._correct.eq(target.data.view_as(self._correct)).to(torch.float).cpu().mean()\n",
    "        return self._loss"
   ]
  },
  {
   "cell_type": "code",
   "execution_count": 7,
   "metadata": {},
   "outputs": [],
   "source": [
    "def train(epoch, models, log=None):\n",
    "    train_size = len(train_loader.sampler)\n",
    "    for batch_idx, (data, target) in enumerate(train_loader):\n",
    "        for model in models.values():\n",
    "            model.optim.zero_grad()\n",
    "            output = model(data)\n",
    "            loss = model.loss(output, target)\n",
    "            loss.backward()\n",
    "            model.optim.step()\n",
    "            \n",
    "        if batch_idx % 200 == 0:\n",
    "            line = 'Train Epoch: {} [{}/{} ({:.0f}%)]\\tLosses '.format(\n",
    "                epoch, batch_idx * len(data), train_size, 100. * batch_idx / len(train_loader))\n",
    "            losses = ' '.join(['{}: {:.6f}'.format(k, m._loss.item()) for k, m in models.items()])\n",
    "            print(line + losses)\n",
    "            \n",
    "    else:\n",
    "        batch_idx += 1\n",
    "        line = 'Train Epoch: {} [{}/{} ({:.0f}%)]\\tLosses '.format(\n",
    "            epoch, batch_idx * len(data), train_size, 100. * batch_idx / len(train_loader))\n",
    "        losses = ' '.join(['{}: {:.6f}'.format(k, m._loss.item()) for k, m in models.items()])\n",
    "        if log is not None:\n",
    "            for k in models:\n",
    "                log[k].append((models[k]._loss, models[k]._correct))\n",
    "        print(line + losses)"
   ]
  },
  {
   "cell_type": "code",
   "execution_count": 8,
   "metadata": {},
   "outputs": [],
   "source": [
    "models = {'bn': Net(True), 'drop': Net(False, True), 'plain': Net()}\n",
    "train_log = {k: [] for k in models}\n",
    "test_log = {k: [] for k in models}"
   ]
  },
  {
   "cell_type": "code",
   "execution_count": 9,
   "metadata": {},
   "outputs": [],
   "source": [
    "def test(models, loader, log=None):\n",
    "    test_size = len(loader.sampler)\n",
    "    avg_lambda = lambda l: 'Loss: {:.4f}'.format(l)\n",
    "    acc_lambda = lambda c, p: 'Accuracy: {}/{} ({:.0f}%)'.format(c, test_size, p)\n",
    "    line = lambda i, l, c, p: '{}: '.format(i) + avg_lambda(l) + '\\t' + acc_lambda(c, p)\n",
    "\n",
    "    test_loss = {k: 0. for k in models}\n",
    "    correct = {k: 0. for k in models}\n",
    "    with torch.no_grad():\n",
    "        for data, target in loader:\n",
    "            output = {k: m(data) for k, m in models.items()}\n",
    "            for k, m in models.items():\n",
    "                test_loss[k] += m.loss(output[k], target, size_average=False).item() # sum up batch loss\n",
    "                pred = output[k].data.max(1, keepdim=True)[1] # get the index of the max log-probability\n",
    "                correct[k] += pred.eq(target.data.view_as(pred)).cpu().sum().item()\n",
    "    \n",
    "    for k in models:\n",
    "        test_loss[k] /= test_size\n",
    "    correct_pct = {k: c / test_size for k, c in correct.items()}\n",
    "    lines = '\\n'.join([line(k, test_loss[k], correct[k], 100*correct_pct[k]) for k in models]) + '\\n'\n",
    "    report = 'Test set:\\n' + lines\n",
    "    if log is not None:\n",
    "        for k in models:\n",
    "            log[k].append((test_loss[k], correct_pct[k]))\n",
    "    print(report)"
   ]
  },
  {
   "cell_type": "code",
   "execution_count": null,
   "metadata": {},
   "outputs": [],
   "source": []
  },
  {
   "cell_type": "code",
   "execution_count": 10,
   "metadata": {
    "scrolled": true
   },
   "outputs": [
    {
     "name": "stdout",
     "output_type": "stream",
     "text": [
      "Train Epoch: 1 [0/50000 (0%)]\tLosses bn: 2.327237 drop: 2.327067 plain: 2.398716\n",
      "Train Epoch: 1 [10000/50000 (20%)]\tLosses bn: 1.940708 drop: 2.064648 plain: 2.166881\n",
      "Train Epoch: 1 [20000/50000 (40%)]\tLosses bn: 1.701396 drop: 1.560394 plain: 1.792192\n",
      "Train Epoch: 1 [30000/50000 (60%)]\tLosses bn: 1.356526 drop: 1.018548 plain: 1.202888\n",
      "Train Epoch: 1 [40000/50000 (80%)]\tLosses bn: 0.990829 drop: 0.651022 plain: 0.738635\n",
      "Train Epoch: 1 [50000/50000 (100%)]\tLosses bn: 0.963648 drop: 0.721057 plain: 0.716659\n",
      "Test set:\n",
      "bn: Loss: 0.9073\tAccuracy: 8850.0/10000 (88%)\n",
      "drop: Loss: 0.6407\tAccuracy: 8445.0/10000 (84%)\n",
      "plain: Loss: 0.6657\tAccuracy: 8510.0/10000 (85%)\n",
      "\n",
      "Train Epoch: 2 [0/50000 (0%)]\tLosses bn: 0.997129 drop: 0.727063 plain: 0.745833\n",
      "Train Epoch: 2 [10000/50000 (20%)]\tLosses bn: 0.682070 drop: 0.406315 plain: 0.428687\n",
      "Train Epoch: 2 [20000/50000 (40%)]\tLosses bn: 0.486867 drop: 0.359889 plain: 0.347797\n",
      "Train Epoch: 2 [30000/50000 (60%)]\tLosses bn: 0.545352 drop: 0.371274 plain: 0.347713\n",
      "Train Epoch: 2 [40000/50000 (80%)]\tLosses bn: 0.510042 drop: 0.439951 plain: 0.408037\n",
      "Train Epoch: 2 [50000/50000 (100%)]\tLosses bn: 0.416844 drop: 0.423435 plain: 0.413837\n",
      "Test set:\n",
      "bn: Loss: 0.4373\tAccuracy: 9296.0/10000 (93%)\n",
      "drop: Loss: 0.3943\tAccuracy: 8930.0/10000 (89%)\n",
      "plain: Loss: 0.3750\tAccuracy: 9020.0/10000 (90%)\n",
      "\n",
      "Train Epoch: 3 [0/50000 (0%)]\tLosses bn: 0.369019 drop: 0.305009 plain: 0.281277\n",
      "Train Epoch: 3 [10000/50000 (20%)]\tLosses bn: 0.369492 drop: 0.334903 plain: 0.340899\n",
      "Train Epoch: 3 [20000/50000 (40%)]\tLosses bn: 0.417424 drop: 0.404461 plain: 0.381824\n",
      "Train Epoch: 3 [30000/50000 (60%)]\tLosses bn: 0.315797 drop: 0.297388 plain: 0.296474\n",
      "Train Epoch: 3 [40000/50000 (80%)]\tLosses bn: 0.261375 drop: 0.248148 plain: 0.225967\n",
      "Train Epoch: 3 [50000/50000 (100%)]\tLosses bn: 0.277585 drop: 0.222827 plain: 0.202330\n",
      "Test set:\n",
      "bn: Loss: 0.2824\tAccuracy: 9485.0/10000 (95%)\n",
      "drop: Loss: 0.2989\tAccuracy: 9210.0/10000 (92%)\n",
      "plain: Loss: 0.2751\tAccuracy: 9295.0/10000 (93%)\n",
      "\n",
      "Train Epoch: 4 [0/50000 (0%)]\tLosses bn: 0.349640 drop: 0.299476 plain: 0.269330\n",
      "Train Epoch: 4 [10000/50000 (20%)]\tLosses bn: 0.244959 drop: 0.210793 plain: 0.180792\n",
      "Train Epoch: 4 [20000/50000 (40%)]\tLosses bn: 0.211865 drop: 0.219294 plain: 0.198792\n",
      "Train Epoch: 4 [30000/50000 (60%)]\tLosses bn: 0.338663 drop: 0.376711 plain: 0.326102\n",
      "Train Epoch: 4 [40000/50000 (80%)]\tLosses bn: 0.305700 drop: 0.352367 plain: 0.327401\n",
      "Train Epoch: 4 [50000/50000 (100%)]\tLosses bn: 0.153689 drop: 0.182764 plain: 0.191185\n",
      "Test set:\n",
      "bn: Loss: 0.2055\tAccuracy: 9583.0/10000 (96%)\n",
      "drop: Loss: 0.2358\tAccuracy: 9327.0/10000 (93%)\n",
      "plain: Loss: 0.2145\tAccuracy: 9405.0/10000 (94%)\n",
      "\n",
      "Train Epoch: 5 [0/50000 (0%)]\tLosses bn: 0.153880 drop: 0.157563 plain: 0.150874\n",
      "Train Epoch: 5 [10000/50000 (20%)]\tLosses bn: 0.122075 drop: 0.104856 plain: 0.078374\n",
      "Train Epoch: 5 [20000/50000 (40%)]\tLosses bn: 0.136767 drop: 0.188884 plain: 0.164297\n",
      "Train Epoch: 5 [30000/50000 (60%)]\tLosses bn: 0.150120 drop: 0.170746 plain: 0.150215\n",
      "Train Epoch: 5 [40000/50000 (80%)]\tLosses bn: 0.103640 drop: 0.105422 plain: 0.088915\n",
      "Train Epoch: 5 [50000/50000 (100%)]\tLosses bn: 0.140848 drop: 0.129798 plain: 0.116173\n",
      "Test set:\n",
      "bn: Loss: 0.1647\tAccuracy: 9637.0/10000 (96%)\n",
      "drop: Loss: 0.1970\tAccuracy: 9453.0/10000 (95%)\n",
      "plain: Loss: 0.1770\tAccuracy: 9529.0/10000 (95%)\n",
      "\n",
      "Train Epoch: 6 [0/50000 (0%)]\tLosses bn: 0.154070 drop: 0.231622 plain: 0.205521\n",
      "Train Epoch: 6 [10000/50000 (20%)]\tLosses bn: 0.157297 drop: 0.159245 plain: 0.153301\n",
      "Train Epoch: 6 [20000/50000 (40%)]\tLosses bn: 0.088739 drop: 0.140256 plain: 0.131232\n",
      "Train Epoch: 6 [30000/50000 (60%)]\tLosses bn: 0.078952 drop: 0.082094 plain: 0.070402\n",
      "Train Epoch: 6 [40000/50000 (80%)]\tLosses bn: 0.127157 drop: 0.166335 plain: 0.135126\n",
      "Train Epoch: 6 [50000/50000 (100%)]\tLosses bn: 0.070304 drop: 0.118524 plain: 0.078909\n",
      "Test set:\n",
      "bn: Loss: 0.1338\tAccuracy: 9695.0/10000 (97%)\n",
      "drop: Loss: 0.1667\tAccuracy: 9560.0/10000 (96%)\n",
      "plain: Loss: 0.1501\tAccuracy: 9604.0/10000 (96%)\n",
      "\n",
      "Train Epoch: 7 [0/50000 (0%)]\tLosses bn: 0.089295 drop: 0.109358 plain: 0.079499\n",
      "Train Epoch: 7 [10000/50000 (20%)]\tLosses bn: 0.102691 drop: 0.117465 plain: 0.109902\n",
      "Train Epoch: 7 [20000/50000 (40%)]\tLosses bn: 0.082014 drop: 0.118113 plain: 0.124105\n",
      "Train Epoch: 7 [30000/50000 (60%)]\tLosses bn: 0.164814 drop: 0.239381 plain: 0.208018\n",
      "Train Epoch: 7 [40000/50000 (80%)]\tLosses bn: 0.064093 drop: 0.073119 plain: 0.063338\n",
      "Train Epoch: 7 [50000/50000 (100%)]\tLosses bn: 0.065606 drop: 0.056400 plain: 0.049784\n",
      "Test set:\n",
      "bn: Loss: 0.1164\tAccuracy: 9723.0/10000 (97%)\n",
      "drop: Loss: 0.1464\tAccuracy: 9599.0/10000 (96%)\n",
      "plain: Loss: 0.1323\tAccuracy: 9641.0/10000 (96%)\n",
      "\n",
      "Train Epoch: 8 [0/50000 (0%)]\tLosses bn: 0.060159 drop: 0.079695 plain: 0.065427\n",
      "Train Epoch: 8 [10000/50000 (20%)]\tLosses bn: 0.129941 drop: 0.099721 plain: 0.116465\n",
      "Train Epoch: 8 [20000/50000 (40%)]\tLosses bn: 0.083751 drop: 0.146235 plain: 0.135496\n",
      "Train Epoch: 8 [30000/50000 (60%)]\tLosses bn: 0.088668 drop: 0.114988 plain: 0.103464\n",
      "Train Epoch: 8 [40000/50000 (80%)]\tLosses bn: 0.099237 drop: 0.095180 plain: 0.070559\n",
      "Train Epoch: 8 [50000/50000 (100%)]\tLosses bn: 0.035611 drop: 0.049188 plain: 0.041612\n",
      "Test set:\n",
      "bn: Loss: 0.1013\tAccuracy: 9745.0/10000 (97%)\n",
      "drop: Loss: 0.1288\tAccuracy: 9668.0/10000 (97%)\n",
      "plain: Loss: 0.1170\tAccuracy: 9685.0/10000 (97%)\n",
      "\n",
      "Train Epoch: 9 [0/50000 (0%)]\tLosses bn: 0.045100 drop: 0.038268 plain: 0.041818\n",
      "Train Epoch: 9 [10000/50000 (20%)]\tLosses bn: 0.269216 drop: 0.288357 plain: 0.271480\n",
      "Train Epoch: 9 [20000/50000 (40%)]\tLosses bn: 0.120527 drop: 0.133807 plain: 0.147652\n",
      "Train Epoch: 9 [30000/50000 (60%)]\tLosses bn: 0.104121 drop: 0.131729 plain: 0.101192\n",
      "Train Epoch: 9 [40000/50000 (80%)]\tLosses bn: 0.139674 drop: 0.143124 plain: 0.146045\n",
      "Train Epoch: 9 [50000/50000 (100%)]\tLosses bn: 0.078622 drop: 0.069178 plain: 0.058742\n",
      "Test set:\n",
      "bn: Loss: 0.0912\tAccuracy: 9770.0/10000 (98%)\n",
      "drop: Loss: 0.1164\tAccuracy: 9703.0/10000 (97%)\n",
      "plain: Loss: 0.1069\tAccuracy: 9720.0/10000 (97%)\n",
      "\n",
      "Train Epoch: 10 [0/50000 (0%)]\tLosses bn: 0.041737 drop: 0.103385 plain: 0.075589\n",
      "Train Epoch: 10 [10000/50000 (20%)]\tLosses bn: 0.141812 drop: 0.121923 plain: 0.140096\n",
      "Train Epoch: 10 [20000/50000 (40%)]\tLosses bn: 0.027064 drop: 0.034639 plain: 0.035345\n",
      "Train Epoch: 10 [30000/50000 (60%)]\tLosses bn: 0.115228 drop: 0.171391 plain: 0.139703\n",
      "Train Epoch: 10 [40000/50000 (80%)]\tLosses bn: 0.110683 drop: 0.176361 plain: 0.155264\n",
      "Train Epoch: 10 [50000/50000 (100%)]\tLosses bn: 0.048552 drop: 0.083701 plain: 0.061429\n",
      "Test set:\n",
      "bn: Loss: 0.0845\tAccuracy: 9773.0/10000 (98%)\n",
      "drop: Loss: 0.1079\tAccuracy: 9703.0/10000 (97%)\n",
      "plain: Loss: 0.0992\tAccuracy: 9734.0/10000 (97%)\n",
      "\n",
      "Train Epoch: 11 [0/50000 (0%)]\tLosses bn: 0.100384 drop: 0.144880 plain: 0.132314\n",
      "Train Epoch: 11 [10000/50000 (20%)]\tLosses bn: 0.134345 drop: 0.164845 plain: 0.111857\n",
      "Train Epoch: 11 [20000/50000 (40%)]\tLosses bn: 0.069651 drop: 0.063074 plain: 0.066144\n",
      "Train Epoch: 11 [30000/50000 (60%)]\tLosses bn: 0.103461 drop: 0.085467 plain: 0.109317\n",
      "Train Epoch: 11 [40000/50000 (80%)]\tLosses bn: 0.029039 drop: 0.053699 plain: 0.045385\n",
      "Train Epoch: 11 [50000/50000 (100%)]\tLosses bn: 0.047925 drop: 0.047447 plain: 0.042084\n",
      "Test set:\n",
      "bn: Loss: 0.0814\tAccuracy: 9771.0/10000 (98%)\n",
      "drop: Loss: 0.1008\tAccuracy: 9723.0/10000 (97%)\n",
      "plain: Loss: 0.0926\tAccuracy: 9756.0/10000 (98%)\n",
      "\n",
      "Train Epoch: 12 [0/50000 (0%)]\tLosses bn: 0.031250 drop: 0.023160 plain: 0.039006\n",
      "Train Epoch: 12 [10000/50000 (20%)]\tLosses bn: 0.068411 drop: 0.058232 plain: 0.056774\n",
      "Train Epoch: 12 [20000/50000 (40%)]\tLosses bn: 0.036533 drop: 0.074719 plain: 0.064589\n",
      "Train Epoch: 12 [30000/50000 (60%)]\tLosses bn: 0.027595 drop: 0.049183 plain: 0.037045\n",
      "Train Epoch: 12 [40000/50000 (80%)]\tLosses bn: 0.049104 drop: 0.030873 plain: 0.027208\n",
      "Train Epoch: 12 [50000/50000 (100%)]\tLosses bn: 0.038817 drop: 0.085320 plain: 0.055156\n",
      "Test set:\n",
      "bn: Loss: 0.0736\tAccuracy: 9792.0/10000 (98%)\n",
      "drop: Loss: 0.0937\tAccuracy: 9736.0/10000 (97%)\n",
      "plain: Loss: 0.0868\tAccuracy: 9771.0/10000 (98%)\n",
      "\n",
      "Train Epoch: 13 [0/50000 (0%)]\tLosses bn: 0.155932 drop: 0.149641 plain: 0.140681\n",
      "Train Epoch: 13 [10000/50000 (20%)]\tLosses bn: 0.099760 drop: 0.095010 plain: 0.092473\n",
      "Train Epoch: 13 [20000/50000 (40%)]\tLosses bn: 0.019482 drop: 0.034754 plain: 0.027214\n"
     ]
    },
    {
     "name": "stdout",
     "output_type": "stream",
     "text": [
      "Train Epoch: 13 [30000/50000 (60%)]\tLosses bn: 0.097599 drop: 0.141717 plain: 0.099757\n",
      "Train Epoch: 13 [40000/50000 (80%)]\tLosses bn: 0.087630 drop: 0.099346 plain: 0.125132\n",
      "Train Epoch: 13 [50000/50000 (100%)]\tLosses bn: 0.072654 drop: 0.091802 plain: 0.093036\n",
      "Test set:\n",
      "bn: Loss: 0.0702\tAccuracy: 9790.0/10000 (98%)\n",
      "drop: Loss: 0.0874\tAccuracy: 9761.0/10000 (98%)\n",
      "plain: Loss: 0.0818\tAccuracy: 9784.0/10000 (98%)\n",
      "\n",
      "Train Epoch: 14 [0/50000 (0%)]\tLosses bn: 0.029795 drop: 0.061071 plain: 0.057620\n",
      "Train Epoch: 14 [10000/50000 (20%)]\tLosses bn: 0.078697 drop: 0.104760 plain: 0.097463\n",
      "Train Epoch: 14 [20000/50000 (40%)]\tLosses bn: 0.039354 drop: 0.049134 plain: 0.053806\n",
      "Train Epoch: 14 [30000/50000 (60%)]\tLosses bn: 0.115576 drop: 0.137587 plain: 0.077492\n",
      "Train Epoch: 14 [40000/50000 (80%)]\tLosses bn: 0.049868 drop: 0.040388 plain: 0.031665\n",
      "Train Epoch: 14 [50000/50000 (100%)]\tLosses bn: 0.050742 drop: 0.038363 plain: 0.041651\n",
      "Test set:\n",
      "bn: Loss: 0.0659\tAccuracy: 9822.0/10000 (98%)\n",
      "drop: Loss: 0.0840\tAccuracy: 9769.0/10000 (98%)\n",
      "plain: Loss: 0.0796\tAccuracy: 9800.0/10000 (98%)\n",
      "\n",
      "Train Epoch: 15 [0/50000 (0%)]\tLosses bn: 0.057511 drop: 0.066875 plain: 0.054423\n",
      "Train Epoch: 15 [10000/50000 (20%)]\tLosses bn: 0.247636 drop: 0.288114 plain: 0.306102\n",
      "Train Epoch: 15 [20000/50000 (40%)]\tLosses bn: 0.148739 drop: 0.101395 plain: 0.106276\n",
      "Train Epoch: 15 [30000/50000 (60%)]\tLosses bn: 0.149429 drop: 0.168317 plain: 0.149202\n",
      "Train Epoch: 15 [40000/50000 (80%)]\tLosses bn: 0.126079 drop: 0.189043 plain: 0.169767\n",
      "Train Epoch: 15 [50000/50000 (100%)]\tLosses bn: 0.085114 drop: 0.079812 plain: 0.112638\n",
      "Test set:\n",
      "bn: Loss: 0.0612\tAccuracy: 9834.0/10000 (98%)\n",
      "drop: Loss: 0.0787\tAccuracy: 9781.0/10000 (98%)\n",
      "plain: Loss: 0.0751\tAccuracy: 9802.0/10000 (98%)\n",
      "\n",
      "Train Epoch: 16 [0/50000 (0%)]\tLosses bn: 0.013100 drop: 0.025184 plain: 0.015774\n",
      "Train Epoch: 16 [10000/50000 (20%)]\tLosses bn: 0.065673 drop: 0.089529 plain: 0.082000\n",
      "Train Epoch: 16 [20000/50000 (40%)]\tLosses bn: 0.303194 drop: 0.268193 plain: 0.252724\n",
      "Train Epoch: 16 [30000/50000 (60%)]\tLosses bn: 0.034872 drop: 0.049526 plain: 0.031747\n",
      "Train Epoch: 16 [40000/50000 (80%)]\tLosses bn: 0.022417 drop: 0.017802 plain: 0.020190\n",
      "Train Epoch: 16 [50000/50000 (100%)]\tLosses bn: 0.060326 drop: 0.070974 plain: 0.061033\n",
      "Test set:\n",
      "bn: Loss: 0.0593\tAccuracy: 9837.0/10000 (98%)\n",
      "drop: Loss: 0.0750\tAccuracy: 9794.0/10000 (98%)\n",
      "plain: Loss: 0.0712\tAccuracy: 9811.0/10000 (98%)\n",
      "\n",
      "Train Epoch: 17 [0/50000 (0%)]\tLosses bn: 0.035774 drop: 0.036655 plain: 0.040702\n",
      "Train Epoch: 17 [10000/50000 (20%)]\tLosses bn: 0.038761 drop: 0.046025 plain: 0.038445\n",
      "Train Epoch: 17 [20000/50000 (40%)]\tLosses bn: 0.024572 drop: 0.051296 plain: 0.047101\n",
      "Train Epoch: 17 [30000/50000 (60%)]\tLosses bn: 0.005952 drop: 0.007554 plain: 0.009617\n",
      "Train Epoch: 17 [40000/50000 (80%)]\tLosses bn: 0.034666 drop: 0.104042 plain: 0.095151\n",
      "Train Epoch: 17 [50000/50000 (100%)]\tLosses bn: 0.051584 drop: 0.058395 plain: 0.066669\n",
      "Test set:\n",
      "bn: Loss: 0.0587\tAccuracy: 9825.0/10000 (98%)\n",
      "drop: Loss: 0.0728\tAccuracy: 9795.0/10000 (98%)\n",
      "plain: Loss: 0.0698\tAccuracy: 9808.0/10000 (98%)\n",
      "\n",
      "Train Epoch: 18 [0/50000 (0%)]\tLosses bn: 0.077142 drop: 0.153210 plain: 0.118128\n",
      "Train Epoch: 18 [10000/50000 (20%)]\tLosses bn: 0.124946 drop: 0.133540 plain: 0.114455\n",
      "Train Epoch: 18 [20000/50000 (40%)]\tLosses bn: 0.026382 drop: 0.045235 plain: 0.051063\n",
      "Train Epoch: 18 [30000/50000 (60%)]\tLosses bn: 0.005590 drop: 0.011594 plain: 0.010771\n",
      "Train Epoch: 18 [40000/50000 (80%)]\tLosses bn: 0.090534 drop: 0.059812 plain: 0.059211\n",
      "Train Epoch: 18 [50000/50000 (100%)]\tLosses bn: 0.074416 drop: 0.039440 plain: 0.042350\n",
      "Test set:\n",
      "bn: Loss: 0.0576\tAccuracy: 9831.0/10000 (98%)\n",
      "drop: Loss: 0.0703\tAccuracy: 9797.0/10000 (98%)\n",
      "plain: Loss: 0.0672\tAccuracy: 9818.0/10000 (98%)\n",
      "\n",
      "Train Epoch: 19 [0/50000 (0%)]\tLosses bn: 0.009099 drop: 0.023632 plain: 0.014132\n",
      "Train Epoch: 19 [10000/50000 (20%)]\tLosses bn: 0.050781 drop: 0.078442 plain: 0.047434\n",
      "Train Epoch: 19 [20000/50000 (40%)]\tLosses bn: 0.053032 drop: 0.057798 plain: 0.046072\n",
      "Train Epoch: 19 [30000/50000 (60%)]\tLosses bn: 0.009497 drop: 0.024122 plain: 0.013631\n",
      "Train Epoch: 19 [40000/50000 (80%)]\tLosses bn: 0.148418 drop: 0.182687 plain: 0.183531\n",
      "Train Epoch: 19 [50000/50000 (100%)]\tLosses bn: 0.010255 drop: 0.036810 plain: 0.035951\n",
      "Test set:\n",
      "bn: Loss: 0.0534\tAccuracy: 9842.0/10000 (98%)\n",
      "drop: Loss: 0.0680\tAccuracy: 9806.0/10000 (98%)\n",
      "plain: Loss: 0.0649\tAccuracy: 9826.0/10000 (98%)\n",
      "\n",
      "Train Epoch: 20 [0/50000 (0%)]\tLosses bn: 0.023882 drop: 0.028564 plain: 0.019677\n",
      "Train Epoch: 20 [10000/50000 (20%)]\tLosses bn: 0.019324 drop: 0.017875 plain: 0.013234\n",
      "Train Epoch: 20 [20000/50000 (40%)]\tLosses bn: 0.033424 drop: 0.023608 plain: 0.022695\n",
      "Train Epoch: 20 [30000/50000 (60%)]\tLosses bn: 0.048642 drop: 0.038842 plain: 0.037438\n",
      "Train Epoch: 20 [40000/50000 (80%)]\tLosses bn: 0.048097 drop: 0.072644 plain: 0.085514\n",
      "Train Epoch: 20 [50000/50000 (100%)]\tLosses bn: 0.050655 drop: 0.057871 plain: 0.045029\n",
      "Test set:\n",
      "bn: Loss: 0.0530\tAccuracy: 9854.0/10000 (99%)\n",
      "drop: Loss: 0.0661\tAccuracy: 9813.0/10000 (98%)\n",
      "plain: Loss: 0.0636\tAccuracy: 9829.0/10000 (98%)\n",
      "\n",
      "Train Epoch: 21 [0/50000 (0%)]\tLosses bn: 0.007473 drop: 0.040897 plain: 0.019756\n",
      "Train Epoch: 21 [10000/50000 (20%)]\tLosses bn: 0.014142 drop: 0.024506 plain: 0.020174\n",
      "Train Epoch: 21 [20000/50000 (40%)]\tLosses bn: 0.026366 drop: 0.041443 plain: 0.035826\n",
      "Train Epoch: 21 [30000/50000 (60%)]\tLosses bn: 0.029913 drop: 0.040507 plain: 0.041901\n",
      "Train Epoch: 21 [40000/50000 (80%)]\tLosses bn: 0.022595 drop: 0.032186 plain: 0.028701\n",
      "Train Epoch: 21 [50000/50000 (100%)]\tLosses bn: 0.119384 drop: 0.107061 plain: 0.086615\n",
      "Test set:\n",
      "bn: Loss: 0.0505\tAccuracy: 9849.0/10000 (98%)\n",
      "drop: Loss: 0.0641\tAccuracy: 9825.0/10000 (98%)\n",
      "plain: Loss: 0.0621\tAccuracy: 9827.0/10000 (98%)\n",
      "\n",
      "Train Epoch: 22 [0/50000 (0%)]\tLosses bn: 0.006828 drop: 0.008578 plain: 0.010084\n",
      "Train Epoch: 22 [10000/50000 (20%)]\tLosses bn: 0.029222 drop: 0.029629 plain: 0.024100\n",
      "Train Epoch: 22 [20000/50000 (40%)]\tLosses bn: 0.018908 drop: 0.031653 plain: 0.055165\n",
      "Train Epoch: 22 [30000/50000 (60%)]\tLosses bn: 0.013702 drop: 0.031394 plain: 0.035037\n",
      "Train Epoch: 22 [40000/50000 (80%)]\tLosses bn: 0.057642 drop: 0.056216 plain: 0.060939\n",
      "Train Epoch: 22 [50000/50000 (100%)]\tLosses bn: 0.027305 drop: 0.053092 plain: 0.050260\n",
      "Test set:\n",
      "bn: Loss: 0.0505\tAccuracy: 9859.0/10000 (99%)\n",
      "drop: Loss: 0.0624\tAccuracy: 9835.0/10000 (98%)\n",
      "plain: Loss: 0.0603\tAccuracy: 9836.0/10000 (98%)\n",
      "\n",
      "Train Epoch: 23 [0/50000 (0%)]\tLosses bn: 0.026678 drop: 0.016418 plain: 0.019308\n",
      "Train Epoch: 23 [10000/50000 (20%)]\tLosses bn: 0.146845 drop: 0.170617 plain: 0.197751\n",
      "Train Epoch: 23 [20000/50000 (40%)]\tLosses bn: 0.059725 drop: 0.045225 plain: 0.047423\n",
      "Train Epoch: 23 [30000/50000 (60%)]\tLosses bn: 0.008736 drop: 0.015847 plain: 0.018578\n",
      "Train Epoch: 23 [40000/50000 (80%)]\tLosses bn: 0.117221 drop: 0.084998 plain: 0.095342\n",
      "Train Epoch: 23 [50000/50000 (100%)]\tLosses bn: 0.048515 drop: 0.057595 plain: 0.036329\n",
      "Test set:\n",
      "bn: Loss: 0.0484\tAccuracy: 9861.0/10000 (99%)\n",
      "drop: Loss: 0.0612\tAccuracy: 9831.0/10000 (98%)\n",
      "plain: Loss: 0.0587\tAccuracy: 9840.0/10000 (98%)\n",
      "\n",
      "Train Epoch: 24 [0/50000 (0%)]\tLosses bn: 0.003678 drop: 0.009562 plain: 0.010402\n",
      "Train Epoch: 24 [10000/50000 (20%)]\tLosses bn: 0.014974 drop: 0.016277 plain: 0.014942\n",
      "Train Epoch: 24 [20000/50000 (40%)]\tLosses bn: 0.006523 drop: 0.028916 plain: 0.033917\n",
      "Train Epoch: 24 [30000/50000 (60%)]\tLosses bn: 0.056524 drop: 0.060678 plain: 0.058688\n",
      "Train Epoch: 24 [40000/50000 (80%)]\tLosses bn: 0.016166 drop: 0.023979 plain: 0.039268\n",
      "Train Epoch: 24 [50000/50000 (100%)]\tLosses bn: 0.041166 drop: 0.057987 plain: 0.036977\n",
      "Test set:\n",
      "bn: Loss: 0.0503\tAccuracy: 9859.0/10000 (99%)\n",
      "drop: Loss: 0.0604\tAccuracy: 9836.0/10000 (98%)\n",
      "plain: Loss: 0.0576\tAccuracy: 9843.0/10000 (98%)\n",
      "\n",
      "Train Epoch: 25 [0/50000 (0%)]\tLosses bn: 0.009448 drop: 0.032160 plain: 0.028456\n",
      "Train Epoch: 25 [10000/50000 (20%)]\tLosses bn: 0.042513 drop: 0.029845 plain: 0.036688\n",
      "Train Epoch: 25 [20000/50000 (40%)]\tLosses bn: 0.016050 drop: 0.031750 plain: 0.025160\n",
      "Train Epoch: 25 [30000/50000 (60%)]\tLosses bn: 0.009941 drop: 0.009341 plain: 0.010214\n",
      "Train Epoch: 25 [40000/50000 (80%)]\tLosses bn: 0.022349 drop: 0.039187 plain: 0.028947\n"
     ]
    },
    {
     "name": "stdout",
     "output_type": "stream",
     "text": [
      "Train Epoch: 25 [50000/50000 (100%)]\tLosses bn: 0.062874 drop: 0.063268 plain: 0.067614\n",
      "Test set:\n",
      "bn: Loss: 0.0466\tAccuracy: 9864.0/10000 (99%)\n",
      "drop: Loss: 0.0584\tAccuracy: 9846.0/10000 (98%)\n",
      "plain: Loss: 0.0562\tAccuracy: 9838.0/10000 (98%)\n",
      "\n",
      "Train Epoch: 26 [0/50000 (0%)]\tLosses bn: 0.026951 drop: 0.027114 plain: 0.026477\n",
      "Train Epoch: 26 [10000/50000 (20%)]\tLosses bn: 0.022352 drop: 0.034438 plain: 0.032168\n",
      "Train Epoch: 26 [20000/50000 (40%)]\tLosses bn: 0.020409 drop: 0.032141 plain: 0.032243\n",
      "Train Epoch: 26 [30000/50000 (60%)]\tLosses bn: 0.005217 drop: 0.033979 plain: 0.023460\n",
      "Train Epoch: 26 [40000/50000 (80%)]\tLosses bn: 0.025118 drop: 0.013730 plain: 0.014087\n",
      "Train Epoch: 26 [50000/50000 (100%)]\tLosses bn: 0.044910 drop: 0.037579 plain: 0.045741\n",
      "Test set:\n",
      "bn: Loss: 0.0484\tAccuracy: 9867.0/10000 (99%)\n",
      "drop: Loss: 0.0591\tAccuracy: 9844.0/10000 (98%)\n",
      "plain: Loss: 0.0568\tAccuracy: 9841.0/10000 (98%)\n",
      "\n",
      "Train Epoch: 27 [0/50000 (0%)]\tLosses bn: 0.018049 drop: 0.011464 plain: 0.011011\n",
      "Train Epoch: 27 [10000/50000 (20%)]\tLosses bn: 0.013635 drop: 0.017275 plain: 0.015936\n",
      "Train Epoch: 27 [20000/50000 (40%)]\tLosses bn: 0.019021 drop: 0.020744 plain: 0.011016\n",
      "Train Epoch: 27 [30000/50000 (60%)]\tLosses bn: 0.061000 drop: 0.056490 plain: 0.067959\n",
      "Train Epoch: 27 [40000/50000 (80%)]\tLosses bn: 0.015556 drop: 0.027326 plain: 0.020653\n",
      "Train Epoch: 27 [50000/50000 (100%)]\tLosses bn: 0.016516 drop: 0.036916 plain: 0.033156\n",
      "Test set:\n",
      "bn: Loss: 0.0465\tAccuracy: 9867.0/10000 (99%)\n",
      "drop: Loss: 0.0584\tAccuracy: 9840.0/10000 (98%)\n",
      "plain: Loss: 0.0560\tAccuracy: 9851.0/10000 (99%)\n",
      "\n",
      "Train Epoch: 28 [0/50000 (0%)]\tLosses bn: 0.046014 drop: 0.052954 plain: 0.081709\n",
      "Train Epoch: 28 [10000/50000 (20%)]\tLosses bn: 0.021126 drop: 0.030619 plain: 0.037085\n",
      "Train Epoch: 28 [20000/50000 (40%)]\tLosses bn: 0.011947 drop: 0.020545 plain: 0.018444\n",
      "Train Epoch: 28 [30000/50000 (60%)]\tLosses bn: 0.026602 drop: 0.029247 plain: 0.035899\n",
      "Train Epoch: 28 [40000/50000 (80%)]\tLosses bn: 0.007274 drop: 0.012960 plain: 0.022468\n",
      "Train Epoch: 28 [50000/50000 (100%)]\tLosses bn: 0.015440 drop: 0.013756 plain: 0.015495\n",
      "Test set:\n",
      "bn: Loss: 0.0451\tAccuracy: 9859.0/10000 (99%)\n",
      "drop: Loss: 0.0557\tAccuracy: 9850.0/10000 (98%)\n",
      "plain: Loss: 0.0540\tAccuracy: 9847.0/10000 (98%)\n",
      "\n",
      "Train Epoch: 29 [0/50000 (0%)]\tLosses bn: 0.077506 drop: 0.065154 plain: 0.097977\n",
      "Train Epoch: 29 [10000/50000 (20%)]\tLosses bn: 0.055896 drop: 0.051865 plain: 0.021775\n",
      "Train Epoch: 29 [20000/50000 (40%)]\tLosses bn: 0.007187 drop: 0.009629 plain: 0.005825\n",
      "Train Epoch: 29 [30000/50000 (60%)]\tLosses bn: 0.006209 drop: 0.007131 plain: 0.008181\n",
      "Train Epoch: 29 [40000/50000 (80%)]\tLosses bn: 0.018166 drop: 0.010467 plain: 0.012483\n",
      "Train Epoch: 29 [50000/50000 (100%)]\tLosses bn: 0.003105 drop: 0.010370 plain: 0.016566\n",
      "Test set:\n",
      "bn: Loss: 0.0470\tAccuracy: 9862.0/10000 (99%)\n",
      "drop: Loss: 0.0570\tAccuracy: 9844.0/10000 (98%)\n",
      "plain: Loss: 0.0549\tAccuracy: 9846.0/10000 (98%)\n",
      "\n",
      "Train Epoch: 30 [0/50000 (0%)]\tLosses bn: 0.028270 drop: 0.058744 plain: 0.057885\n",
      "Train Epoch: 30 [10000/50000 (20%)]\tLosses bn: 0.029396 drop: 0.030850 plain: 0.028597\n",
      "Train Epoch: 30 [20000/50000 (40%)]\tLosses bn: 0.021049 drop: 0.026667 plain: 0.021744\n",
      "Train Epoch: 30 [30000/50000 (60%)]\tLosses bn: 0.153891 drop: 0.122674 plain: 0.110758\n",
      "Train Epoch: 30 [40000/50000 (80%)]\tLosses bn: 0.007460 drop: 0.014684 plain: 0.013336\n",
      "Train Epoch: 30 [50000/50000 (100%)]\tLosses bn: 0.049335 drop: 0.058133 plain: 0.053609\n",
      "Test set:\n",
      "bn: Loss: 0.0457\tAccuracy: 9867.0/10000 (99%)\n",
      "drop: Loss: 0.0555\tAccuracy: 9842.0/10000 (98%)\n",
      "plain: Loss: 0.0532\tAccuracy: 9846.0/10000 (98%)\n",
      "\n",
      "Train Epoch: 31 [0/50000 (0%)]\tLosses bn: 0.036292 drop: 0.034764 plain: 0.048404\n",
      "Train Epoch: 31 [10000/50000 (20%)]\tLosses bn: 0.004318 drop: 0.008960 plain: 0.006587\n",
      "Train Epoch: 31 [20000/50000 (40%)]\tLosses bn: 0.007456 drop: 0.020561 plain: 0.016939\n",
      "Train Epoch: 31 [30000/50000 (60%)]\tLosses bn: 0.027747 drop: 0.022678 plain: 0.022754\n",
      "Train Epoch: 31 [40000/50000 (80%)]\tLosses bn: 0.066518 drop: 0.148641 plain: 0.113953\n",
      "Train Epoch: 31 [50000/50000 (100%)]\tLosses bn: 0.017675 drop: 0.012353 plain: 0.013834\n",
      "Test set:\n",
      "bn: Loss: 0.0444\tAccuracy: 9865.0/10000 (99%)\n",
      "drop: Loss: 0.0552\tAccuracy: 9852.0/10000 (99%)\n",
      "plain: Loss: 0.0531\tAccuracy: 9846.0/10000 (98%)\n",
      "\n",
      "Train Epoch: 32 [0/50000 (0%)]\tLosses bn: 0.009710 drop: 0.011044 plain: 0.008898\n",
      "Train Epoch: 32 [10000/50000 (20%)]\tLosses bn: 0.012677 drop: 0.021915 plain: 0.030661\n",
      "Train Epoch: 32 [20000/50000 (40%)]\tLosses bn: 0.015459 drop: 0.011407 plain: 0.017420\n",
      "Train Epoch: 32 [30000/50000 (60%)]\tLosses bn: 0.092877 drop: 0.042300 plain: 0.032625\n",
      "Train Epoch: 32 [40000/50000 (80%)]\tLosses bn: 0.026531 drop: 0.033113 plain: 0.042284\n",
      "Train Epoch: 32 [50000/50000 (100%)]\tLosses bn: 0.008934 drop: 0.011252 plain: 0.006172\n",
      "Test set:\n",
      "bn: Loss: 0.0431\tAccuracy: 9874.0/10000 (99%)\n",
      "drop: Loss: 0.0534\tAccuracy: 9859.0/10000 (99%)\n",
      "plain: Loss: 0.0513\tAccuracy: 9852.0/10000 (99%)\n",
      "\n",
      "Train Epoch: 33 [0/50000 (0%)]\tLosses bn: 0.013544 drop: 0.041013 plain: 0.033021\n",
      "Train Epoch: 33 [10000/50000 (20%)]\tLosses bn: 0.063717 drop: 0.099712 plain: 0.071032\n",
      "Train Epoch: 33 [20000/50000 (40%)]\tLosses bn: 0.013542 drop: 0.008014 plain: 0.010674\n",
      "Train Epoch: 33 [30000/50000 (60%)]\tLosses bn: 0.010718 drop: 0.013631 plain: 0.016404\n",
      "Train Epoch: 33 [40000/50000 (80%)]\tLosses bn: 0.019775 drop: 0.056202 plain: 0.049624\n",
      "Train Epoch: 33 [50000/50000 (100%)]\tLosses bn: 0.007249 drop: 0.013530 plain: 0.012215\n",
      "Test set:\n",
      "bn: Loss: 0.0438\tAccuracy: 9874.0/10000 (99%)\n",
      "drop: Loss: 0.0523\tAccuracy: 9858.0/10000 (99%)\n",
      "plain: Loss: 0.0505\tAccuracy: 9855.0/10000 (99%)\n",
      "\n",
      "Train Epoch: 34 [0/50000 (0%)]\tLosses bn: 0.012474 drop: 0.015296 plain: 0.018497\n",
      "Train Epoch: 34 [10000/50000 (20%)]\tLosses bn: 0.038274 drop: 0.047320 plain: 0.056210\n",
      "Train Epoch: 34 [20000/50000 (40%)]\tLosses bn: 0.021356 drop: 0.025080 plain: 0.016773\n",
      "Train Epoch: 34 [30000/50000 (60%)]\tLosses bn: 0.007417 drop: 0.015686 plain: 0.017602\n",
      "Train Epoch: 34 [40000/50000 (80%)]\tLosses bn: 0.011447 drop: 0.011872 plain: 0.011793\n",
      "Train Epoch: 34 [50000/50000 (100%)]\tLosses bn: 0.060073 drop: 0.067443 plain: 0.051095\n",
      "Test set:\n",
      "bn: Loss: 0.0442\tAccuracy: 9868.0/10000 (99%)\n",
      "drop: Loss: 0.0534\tAccuracy: 9850.0/10000 (98%)\n",
      "plain: Loss: 0.0513\tAccuracy: 9848.0/10000 (98%)\n",
      "\n",
      "Train Epoch: 35 [0/50000 (0%)]\tLosses bn: 0.014812 drop: 0.025660 plain: 0.034502\n",
      "Train Epoch: 35 [10000/50000 (20%)]\tLosses bn: 0.001880 drop: 0.002555 plain: 0.002848\n",
      "Train Epoch: 35 [20000/50000 (40%)]\tLosses bn: 0.021622 drop: 0.031454 plain: 0.025307\n",
      "Train Epoch: 35 [30000/50000 (60%)]\tLosses bn: 0.002621 drop: 0.004058 plain: 0.005121\n",
      "Train Epoch: 35 [40000/50000 (80%)]\tLosses bn: 0.006957 drop: 0.009762 plain: 0.008902\n",
      "Train Epoch: 35 [50000/50000 (100%)]\tLosses bn: 0.004299 drop: 0.007245 plain: 0.004355\n",
      "Test set:\n",
      "bn: Loss: 0.0424\tAccuracy: 9880.0/10000 (99%)\n",
      "drop: Loss: 0.0527\tAccuracy: 9859.0/10000 (99%)\n",
      "plain: Loss: 0.0501\tAccuracy: 9859.0/10000 (99%)\n",
      "\n",
      "Train Epoch: 36 [0/50000 (0%)]\tLosses bn: 0.011185 drop: 0.021030 plain: 0.015186\n",
      "Train Epoch: 36 [10000/50000 (20%)]\tLosses bn: 0.036498 drop: 0.058458 plain: 0.053437\n",
      "Train Epoch: 36 [20000/50000 (40%)]\tLosses bn: 0.014476 drop: 0.029543 plain: 0.041152\n",
      "Train Epoch: 36 [30000/50000 (60%)]\tLosses bn: 0.026080 drop: 0.028152 plain: 0.018618\n",
      "Train Epoch: 36 [40000/50000 (80%)]\tLosses bn: 0.016840 drop: 0.029463 plain: 0.038971\n",
      "Train Epoch: 36 [50000/50000 (100%)]\tLosses bn: 0.080592 drop: 0.041794 plain: 0.050421\n",
      "Test set:\n",
      "bn: Loss: 0.0431\tAccuracy: 9875.0/10000 (99%)\n",
      "drop: Loss: 0.0520\tAccuracy: 9857.0/10000 (99%)\n",
      "plain: Loss: 0.0502\tAccuracy: 9856.0/10000 (99%)\n",
      "\n",
      "Train Epoch: 37 [0/50000 (0%)]\tLosses bn: 0.040237 drop: 0.107351 plain: 0.116985\n",
      "Train Epoch: 37 [10000/50000 (20%)]\tLosses bn: 0.047162 drop: 0.038643 plain: 0.039730\n",
      "Train Epoch: 37 [20000/50000 (40%)]\tLosses bn: 0.012995 drop: 0.036690 plain: 0.037616\n",
      "Train Epoch: 37 [30000/50000 (60%)]\tLosses bn: 0.005494 drop: 0.003660 plain: 0.003322\n",
      "Train Epoch: 37 [40000/50000 (80%)]\tLosses bn: 0.075948 drop: 0.108838 plain: 0.150008\n",
      "Train Epoch: 37 [50000/50000 (100%)]\tLosses bn: 0.017218 drop: 0.020357 plain: 0.014759\n",
      "Test set:\n",
      "bn: Loss: 0.0430\tAccuracy: 9869.0/10000 (99%)\n",
      "drop: Loss: 0.0508\tAccuracy: 9865.0/10000 (99%)\n",
      "plain: Loss: 0.0485\tAccuracy: 9857.0/10000 (99%)\n",
      "\n",
      "Train Epoch: 38 [0/50000 (0%)]\tLosses bn: 0.058489 drop: 0.083313 plain: 0.128794\n"
     ]
    },
    {
     "name": "stdout",
     "output_type": "stream",
     "text": [
      "Train Epoch: 38 [10000/50000 (20%)]\tLosses bn: 0.005484 drop: 0.023479 plain: 0.014725\n",
      "Train Epoch: 38 [20000/50000 (40%)]\tLosses bn: 0.021665 drop: 0.028262 plain: 0.029909\n",
      "Train Epoch: 38 [30000/50000 (60%)]\tLosses bn: 0.003145 drop: 0.008260 plain: 0.005832\n",
      "Train Epoch: 38 [40000/50000 (80%)]\tLosses bn: 0.017277 drop: 0.018855 plain: 0.023037\n",
      "Train Epoch: 38 [50000/50000 (100%)]\tLosses bn: 0.071951 drop: 0.054389 plain: 0.047094\n",
      "Test set:\n",
      "bn: Loss: 0.0425\tAccuracy: 9877.0/10000 (99%)\n",
      "drop: Loss: 0.0506\tAccuracy: 9862.0/10000 (99%)\n",
      "plain: Loss: 0.0484\tAccuracy: 9858.0/10000 (99%)\n",
      "\n",
      "Train Epoch: 39 [0/50000 (0%)]\tLosses bn: 0.003092 drop: 0.005656 plain: 0.006828\n",
      "Train Epoch: 39 [10000/50000 (20%)]\tLosses bn: 0.009749 drop: 0.012060 plain: 0.008190\n",
      "Train Epoch: 39 [20000/50000 (40%)]\tLosses bn: 0.024282 drop: 0.028808 plain: 0.028665\n",
      "Train Epoch: 39 [30000/50000 (60%)]\tLosses bn: 0.031108 drop: 0.047713 plain: 0.055226\n",
      "Train Epoch: 39 [40000/50000 (80%)]\tLosses bn: 0.002226 drop: 0.009321 plain: 0.006970\n",
      "Train Epoch: 39 [50000/50000 (100%)]\tLosses bn: 0.023412 drop: 0.037204 plain: 0.016435\n",
      "Test set:\n",
      "bn: Loss: 0.0419\tAccuracy: 9877.0/10000 (99%)\n",
      "drop: Loss: 0.0501\tAccuracy: 9862.0/10000 (99%)\n",
      "plain: Loss: 0.0478\tAccuracy: 9859.0/10000 (99%)\n",
      "\n",
      "Train Epoch: 40 [0/50000 (0%)]\tLosses bn: 0.010007 drop: 0.009198 plain: 0.017798\n",
      "Train Epoch: 40 [10000/50000 (20%)]\tLosses bn: 0.007625 drop: 0.014728 plain: 0.013848\n",
      "Train Epoch: 40 [20000/50000 (40%)]\tLosses bn: 0.043902 drop: 0.052186 plain: 0.042105\n",
      "Train Epoch: 40 [30000/50000 (60%)]\tLosses bn: 0.006977 drop: 0.011528 plain: 0.015429\n",
      "Train Epoch: 40 [40000/50000 (80%)]\tLosses bn: 0.001919 drop: 0.002263 plain: 0.002416\n",
      "Train Epoch: 40 [50000/50000 (100%)]\tLosses bn: 0.018356 drop: 0.014746 plain: 0.014414\n",
      "Test set:\n",
      "bn: Loss: 0.0412\tAccuracy: 9876.0/10000 (99%)\n",
      "drop: Loss: 0.0496\tAccuracy: 9860.0/10000 (99%)\n",
      "plain: Loss: 0.0478\tAccuracy: 9858.0/10000 (99%)\n",
      "\n"
     ]
    }
   ],
   "source": [
    "for epoch in range(1, 41):\n",
    "    for model in models.values():\n",
    "        model.train()\n",
    "    train(epoch, models, train_log)\n",
    "    for model in models.values():\n",
    "        model.eval()\n",
    "    test(models, valid_loader, test_log)"
   ]
  },
  {
   "cell_type": "code",
   "execution_count": 11,
   "metadata": {},
   "outputs": [
    {
     "data": {
      "image/png": "[encoded data removed]",
      "text/plain": [
       "<Figure size 432x288 with 1 Axes>"
      ]
     },
     "metadata": {},
     "output_type": "display_data"
    }
   ],
   "source": [
    "plot_graphs(test_log, 'loss')"
   ]
  },
  {
   "cell_type": "code",
   "execution_count": 12,
   "metadata": {},
   "outputs": [
    {
     "data": {
      "image/png": "[encoded data removed]",
      "text/plain": [
       "<Figure size 432x288 with 1 Axes>"
      ]
     },
     "metadata": {},
     "output_type": "display_data"
    }
   ],
   "source": [
    "plot_graphs(test_log, 'accuracy')"
   ]
  },
  {
   "cell_type": "code",
   "execution_count": 13,
   "metadata": {},
   "outputs": [
    {
     "name": "stderr",
     "output_type": "stream",
     "text": [
      "/Users/aleksey/anaconda3/envs/otus-dl-engineer/lib/python3.6/site-packages/torch/serialization.py:193: UserWarning: Couldn't retrieve source code for container of type Net. It won't be checked for correctness upon loading.\n",
      "  \"type \" + obj.__name__ + \". It won't be checked \"\n",
      "/Users/aleksey/anaconda3/envs/otus-dl-engineer/lib/python3.6/site-packages/torch/serialization.py:193: UserWarning: Couldn't retrieve source code for container of type ConvLayer. It won't be checked for correctness upon loading.\n",
      "  \"type \" + obj.__name__ + \". It won't be checked \"\n",
      "/Users/aleksey/anaconda3/envs/otus-dl-engineer/lib/python3.6/site-packages/torch/serialization.py:193: UserWarning: Couldn't retrieve source code for container of type FullyConnected. It won't be checked for correctness upon loading.\n",
      "  \"type \" + obj.__name__ + \". It won't be checked \"\n"
     ]
    }
   ],
   "source": [
    "torch.save(models['bn'], './model_classifier_convs')"
   ]
  },
  {
   "cell_type": "markdown",
   "metadata": {},
   "source": [
    "## Оптимизация изображений"
   ]
  },
  {
   "cell_type": "code",
   "execution_count": 8,
   "metadata": {},
   "outputs": [],
   "source": [
    "model = torch.load('./model_classifier_convs')"
   ]
  },
  {
   "cell_type": "code",
   "execution_count": 9,
   "metadata": {
    "scrolled": false
   },
   "outputs": [
    {
     "data": {
      "image/png": "[encoded data removed]",
      "text/plain": [
       "<Figure size 800x400 with 50 Axes>"
      ]
     },
     "metadata": {},
     "output_type": "display_data"
    },
    {
     "name": "stdout",
     "output_type": "stream",
     "text": [
      "[tensor(7), tensor(2), tensor(1), tensor(0), tensor(4), tensor(1), tensor(4), tensor(9), tensor(5), tensor(9), tensor(0), tensor(6), tensor(9), tensor(0), tensor(1), tensor(5), tensor(9), tensor(7), tensor(3), tensor(4), tensor(9), tensor(6), tensor(6), tensor(5), tensor(4), tensor(0), tensor(7), tensor(4), tensor(0), tensor(1), tensor(3), tensor(1), tensor(3), tensor(4), tensor(7), tensor(2), tensor(7), tensor(1), tensor(2), tensor(1), tensor(1), tensor(7), tensor(4), tensor(2), tensor(3), tensor(5), tensor(1), tensor(2), tensor(4), tensor(4)]\n"
     ]
    }
   ],
   "source": [
    "data, _ = next(iter(test_loader))\n",
    "output = model.forward(data)\n",
    "predictions = [output[i].argmax() for i in range(50)]\n",
    "plot_mnist(data.data.numpy(), (5, 10))\n",
    "\n",
    "print (predictions)"
   ]
  },
  {
   "cell_type": "code",
   "execution_count": 21,
   "metadata": {},
   "outputs": [
    {
     "data": {
      "image/png": "[encoded data removed]",
      "text/plain": [
       "<Figure size 80x80 with 1 Axes>"
      ]
     },
     "metadata": {},
     "output_type": "display_data"
    }
   ],
   "source": [
    "data, _ = next(iter(test_loader))\n",
    "#img = data[2].view(-1, 1, 28, 28)\n",
    "img = torch.randn((1, 784)).view(-1, 1, 28, 28)\n",
    "to_plot = img.view(-1, 1, 28, 28).clamp(0, 1).data.numpy()\n",
    "plot_mnist(to_plot, (1, 1))\n"
   ]
  },
  {
   "cell_type": "code",
   "execution_count": null,
   "metadata": {},
   "outputs": [],
   "source": []
  },
  {
   "cell_type": "code",
   "execution_count": 22,
   "metadata": {
    "scrolled": false
   },
   "outputs": [],
   "source": [
    "from torch.autograd import Variable\n",
    "\n",
    "def generate_image(img, cl):\n",
    "    \n",
    "    gen_img_par = Variable(img, requires_grad=True)    \n",
    "    target = torch.ones((1), dtype=torch.long) * cl\n",
    "    steps_since_lr_decreased = 0\n",
    "    #target[cl] = 1\n",
    "    #target = target.view(1, 10)\n",
    "    \n",
    "    loss_stats = []    \n",
    "    lr = 1e-1\n",
    "    \n",
    "    for i in range(1, 10000001):  \n",
    "             \n",
    "        out = model.forward(gen_img_par)        \n",
    "             \n",
    "        gen_optim = optim.RMSprop([gen_img_par], lr=lr, weight_decay=0.)\n",
    "        gen_optim.zero_grad()\n",
    "        loss = F.cross_entropy(out, target)    \n",
    "        loss.backward()          \n",
    "        gen_optim.step()\n",
    "        \n",
    "        if i % 5000 == 0:    \n",
    "            print (\"Iteration {}: loss={} prediction={} lr={}\".format(i,loss, out.argmax(), lr))\n",
    "            ls = loss.detach().numpy()            \n",
    "            loss_stats.append(ls)\n",
    "            \n",
    "            #1print(\"PRED=\", out.argmax())\n",
    "            #print(\"OUT=\", out)\n",
    "            #print(\"TR=\", target)\n",
    "                       \n",
    "            if len(loss_stats) > 10:    \n",
    "                down = False    \n",
    "                for k in range(2, 7):    \n",
    "                    if ls < loss_stats[-k]:\n",
    "                        down = True\n",
    "                        break\n",
    "                # Loss is rising for 5 last epochs - decrease LR\n",
    "                if not down and steps_since_lr_decreased > 10:\n",
    "                    lr = lr * 0.5\n",
    "                    steps_since_lr_decreased = 0\n",
    "                    print (\"Decreasing LR ..\")\n",
    "                \n",
    "                steps_since_lr_decreased += 1\n",
    "\n",
    "        if i % 50000 == 0:\n",
    "            to_plot = gen_img_par.view(-1, 1, 28, 28).clamp(0, 1).data.numpy()\n",
    "            plot_mnist(to_plot, (1, 1))\n",
    "       \n",
    "   \n",
    "                        \n",
    "    return gen_img_par, loss_stats    "
   ]
  },
  {
   "cell_type": "code",
   "execution_count": 23,
   "metadata": {
    "scrolled": false
   },
   "outputs": [
    {
     "name": "stdout",
     "output_type": "stream",
     "text": [
      "Iteration 5000: loss=9.110578957916005e-11 prediction=4 lr=0.1\n",
      "Iteration 10000: loss=3.565148176676303e-11 prediction=4 lr=0.1\n",
      "Iteration 15000: loss=2.8478552849264815e-11 prediction=4 lr=0.1\n",
      "Iteration 20000: loss=2.5405455517102382e-11 prediction=4 lr=0.1\n",
      "Iteration 25000: loss=2.3355539724434493e-11 prediction=4 lr=0.1\n",
      "Iteration 30000: loss=2.184208369726548e-11 prediction=4 lr=0.1\n",
      "Iteration 35000: loss=2.0673240896940115e-11 prediction=4 lr=0.1\n",
      "Iteration 40000: loss=1.9742429913094384e-11 prediction=4 lr=0.1\n",
      "Iteration 45000: loss=1.8971491044794675e-11 prediction=4 lr=0.1\n",
      "Iteration 50000: loss=1.829292273214378e-11 prediction=4 lr=0.1\n"
     ]
    },
    {
     "data": {
      "image/png": "[encoded data removed]",
      "text/plain": [
       "<Figure size 80x80 with 1 Axes>"
      ]
     },
     "metadata": {},
     "output_type": "display_data"
    },
    {
     "name": "stdout",
     "output_type": "stream",
     "text": [
      "Iteration 55000: loss=1.7678303265711293e-11 prediction=4 lr=0.1\n",
      "Iteration 60000: loss=1.709565822238801e-11 prediction=4 lr=0.1\n",
      "Iteration 65000: loss=1.652367132010113e-11 prediction=4 lr=0.1\n",
      "Iteration 70000: loss=1.596234255885065e-11 prediction=4 lr=0.1\n",
      "Iteration 75000: loss=1.538680294288497e-11 prediction=4 lr=0.1\n",
      "Iteration 80000: loss=1.4782841617488884e-11 prediction=4 lr=0.1\n",
      "Iteration 85000: loss=1.4157564010019996e-11 prediction=4 lr=0.1\n",
      "Iteration 90000: loss=1.3557155398302712e-11 prediction=4 lr=0.1\n",
      "Iteration 95000: loss=1.2992273923373432e-11 prediction=4 lr=0.1\n",
      "Iteration 100000: loss=1.247713043994736e-11 prediction=4 lr=0.1\n"
     ]
    },
    {
     "data": {
      "image/png": "[encoded data removed]",
      "text/plain": [
       "<Figure size 80x80 with 1 Axes>"
      ]
     },
     "metadata": {},
     "output_type": "display_data"
    },
    {
     "name": "stdout",
     "output_type": "stream",
     "text": [
      "Iteration 105000: loss=1.2025935802739696e-11 prediction=4 lr=0.1\n",
      "Iteration 110000: loss=1.1617373729677638e-11 prediction=4 lr=0.1\n",
      "Iteration 115000: loss=1.1233680652367184e-11 prediction=4 lr=0.1\n",
      "Iteration 120000: loss=1.0867751143450732e-11 prediction=4 lr=0.1\n",
      "Iteration 125000: loss=1.0533796057643485e-11 prediction=4 lr=0.1\n",
      "Iteration 130000: loss=1.0238920822303044e-11 prediction=4 lr=0.1\n",
      "Iteration 135000: loss=9.972467296393006e-12 prediction=4 lr=0.1\n",
      "Iteration 140000: loss=9.730882766234572e-12 prediction=4 lr=0.1\n",
      "Iteration 145000: loss=9.489298236076138e-12 prediction=4 lr=0.1\n",
      "Iteration 150000: loss=9.258371846954105e-12 prediction=4 lr=0.1\n"
     ]
    },
    {
     "data": {
      "image/png": "[encoded data removed]",
      "text/plain": [
       "<Figure size 80x80 with 1 Axes>"
      ]
     },
     "metadata": {},
     "output_type": "display_data"
    },
    {
     "name": "stdout",
     "output_type": "stream",
     "text": [
      "Iteration 155000: loss=9.023892744153272e-12 prediction=4 lr=0.1\n",
      "Iteration 160000: loss=8.814282637104043e-12 prediction=4 lr=0.1\n",
      "Iteration 165000: loss=8.608225243733614e-12 prediction=4 lr=0.1\n",
      "Iteration 170000: loss=8.398615136684384e-12 prediction=4 lr=0.1\n",
      "Iteration 175000: loss=8.199663170671556e-12 prediction=4 lr=0.1\n",
      "Iteration 180000: loss=8.007816632016329e-12 prediction=4 lr=0.1\n",
      "Iteration 185000: loss=7.830180948076304e-12 prediction=4 lr=0.1\n",
      "Iteration 190000: loss=7.65965069149388e-12 prediction=4 lr=0.1\n",
      "Iteration 195000: loss=7.492673148590256e-12 prediction=4 lr=0.1\n",
      "Iteration 200000: loss=7.325695605686633e-12 prediction=4 lr=0.1\n"
     ]
    },
    {
     "data": {
      "image/png": "[encoded data removed]",
      "text/plain": [
       "<Figure size 80x80 with 1 Axes>"
      ]
     },
     "metadata": {},
     "output_type": "display_data"
    },
    {
     "name": "stdout",
     "output_type": "stream",
     "text": [
      "Iteration 205000: loss=7.155165349104209e-12 prediction=4 lr=0.1\n",
      "Iteration 210000: loss=6.984635092521785e-12 prediction=4 lr=0.1\n",
      "Iteration 215000: loss=6.817657549618161e-12 prediction=4 lr=0.1\n",
      "Iteration 220000: loss=6.657785434072139e-12 prediction=4 lr=0.1\n",
      "Iteration 225000: loss=6.515676886920119e-12 prediction=4 lr=0.1\n",
      "Iteration 230000: loss=6.394884621840902e-12 prediction=4 lr=0.1\n",
      "Iteration 235000: loss=6.281197784119286e-12 prediction=4 lr=0.1\n",
      "Iteration 240000: loss=6.174616373755271e-12 prediction=4 lr=0.1\n",
      "Iteration 245000: loss=6.071587677070056e-12 prediction=4 lr=0.1\n",
      "Iteration 250000: loss=5.9685589803848416e-12 prediction=4 lr=0.1\n"
     ]
    },
    {
     "data": {
      "image/png": "[encoded data removed]",
      "text/plain": [
       "<Figure size 80x80 with 1 Axes>"
      ]
     },
     "metadata": {},
     "output_type": "display_data"
    },
    {
     "name": "stdout",
     "output_type": "stream",
     "text": [
      "Iteration 255000: loss=5.8690829973784275e-12 prediction=4 lr=0.1\n",
      "Iteration 260000: loss=5.7625015870144125e-12 prediction=4 lr=0.1\n",
      "Iteration 265000: loss=5.6488147492927965e-12 prediction=4 lr=0.1\n",
      "Iteration 270000: loss=5.517364343177178e-12 prediction=4 lr=0.1\n",
      "Iteration 275000: loss=5.339728659237153e-12 prediction=4 lr=0.1\n",
      "Iteration 280000: loss=5.112354983793921e-12 prediction=4 lr=0.1\n",
      "Iteration 285000: loss=4.913403017781093e-12 prediction=4 lr=0.1\n",
      "Iteration 290000: loss=4.718003765447065e-12 prediction=4 lr=0.1\n",
      "Iteration 295000: loss=4.54036808150704e-12 prediction=4 lr=0.1\n",
      "Iteration 300000: loss=4.391154106997419e-12 prediction=4 lr=0.1\n"
     ]
    },
    {
     "data": {
      "image/png": "[encoded data removed]",
      "text/plain": [
       "<Figure size 80x80 with 1 Axes>"
      ]
     },
     "metadata": {},
     "output_type": "display_data"
    },
    {
     "name": "stdout",
     "output_type": "stream",
     "text": [
      "Iteration 305000: loss=4.266809128239402e-12 prediction=4 lr=0.1\n",
      "Iteration 310000: loss=4.1531222905177856e-12 prediction=4 lr=0.1\n",
      "Iteration 315000: loss=4.0536463075113716e-12 prediction=4 lr=0.1\n",
      "Iteration 320000: loss=3.964828465541359e-12 prediction=4 lr=0.1\n",
      "Iteration 325000: loss=3.8760106235713465e-12 prediction=4 lr=0.1\n",
      "Iteration 330000: loss=3.787192781601334e-12 prediction=4 lr=0.1\n",
      "Iteration 335000: loss=3.7054803669889225e-12 prediction=4 lr=0.1\n",
      "Iteration 340000: loss=3.61666252501891e-12 prediction=4 lr=0.1\n",
      "Iteration 345000: loss=3.5207392556912964e-12 prediction=4 lr=0.1\n",
      "Iteration 350000: loss=3.4070524179696804e-12 prediction=4 lr=0.1\n"
     ]
    },
    {
     "data": {
      "image/png": "[encoded data removed]",
      "text/plain": [
       "<Figure size 80x80 with 1 Axes>"
      ]
     },
     "metadata": {},
     "output_type": "display_data"
    },
    {
     "name": "stdout",
     "output_type": "stream",
     "text": [
      "Iteration 355000: loss=3.2791547255328624e-12 prediction=4 lr=0.1\n",
      "Iteration 360000: loss=3.133493464702042e-12 prediction=4 lr=0.1\n",
      "Iteration 365000: loss=2.9629632081196178e-12 prediction=4 lr=0.1\n",
      "Iteration 370000: loss=2.7782220968219917e-12 prediction=4 lr=0.1\n",
      "Iteration 375000: loss=2.5863755581667647e-12 prediction=4 lr=0.1\n",
      "Iteration 380000: loss=2.433608869978343e-12 prediction=4 lr=0.1\n",
      "Iteration 385000: loss=2.305711177541525e-12 prediction=4 lr=0.1\n",
      "Iteration 390000: loss=2.19912976717751e-12 prediction=4 lr=0.1\n",
      "Iteration 395000: loss=2.1103119252074976e-12 prediction=4 lr=0.1\n",
      "Iteration 400000: loss=2.0321522242738865e-12 prediction=4 lr=0.1\n"
     ]
    },
    {
     "data": {
      "image/png": "[encoded data removed]",
      "text/plain": [
       "<Figure size 80x80 with 1 Axes>"
      ]
     },
     "metadata": {},
     "output_type": "display_data"
    },
    {
     "name": "stdout",
     "output_type": "stream",
     "text": [
      "Iteration 405000: loss=1.9610979506978765e-12 prediction=4 lr=0.1\n",
      "Iteration 410000: loss=1.893596390800667e-12 prediction=4 lr=0.1\n",
      "Iteration 415000: loss=1.8332002582610585e-12 prediction=4 lr=0.1\n",
      "Iteration 420000: loss=1.7834622667578515e-12 prediction=4 lr=0.1\n",
      "Iteration 425000: loss=1.7337242752546445e-12 prediction=4 lr=0.1\n",
      "Iteration 430000: loss=1.6910917111090384e-12 prediction=4 lr=0.1\n",
      "Iteration 435000: loss=1.6555645743210334e-12 prediction=4 lr=0.1\n",
      "Iteration 440000: loss=1.6200374375330284e-12 prediction=4 lr=0.1\n",
      "Iteration 445000: loss=1.588063014423824e-12 prediction=4 lr=0.1\n",
      "Iteration 450000: loss=1.55964130499342e-12 prediction=4 lr=0.1\n"
     ]
    },
    {
     "data": {
      "image/png": "[encoded data removed]",
      "text/plain": [
       "<Figure size 80x80 with 1 Axes>"
      ]
     },
     "metadata": {},
     "output_type": "display_data"
    },
    {
     "name": "stdout",
     "output_type": "stream",
     "text": [
      "Iteration 455000: loss=1.531219595563016e-12 prediction=4 lr=0.1\n",
      "Iteration 460000: loss=1.5063505998114124e-12 prediction=4 lr=0.1\n",
      "Iteration 465000: loss=1.4850343177386094e-12 prediction=4 lr=0.1\n",
      "Iteration 470000: loss=1.4637180356658064e-12 prediction=4 lr=0.1\n",
      "Iteration 475000: loss=1.4459544672718039e-12 prediction=4 lr=0.1\n",
      "Iteration 480000: loss=1.4281908988778014e-12 prediction=4 lr=0.1\n",
      "Iteration 485000: loss=1.4104273304837989e-12 prediction=4 lr=0.1\n",
      "Iteration 490000: loss=1.3962164757685969e-12 prediction=4 lr=0.1\n",
      "Iteration 495000: loss=1.3820056210533949e-12 prediction=4 lr=0.1\n",
      "Iteration 500000: loss=1.3677947663381929e-12 prediction=4 lr=0.1\n"
     ]
    },
    {
     "data": {
      "image/png": "[encoded data removed]",
      "text/plain": [
       "<Figure size 80x80 with 1 Axes>"
      ]
     },
     "metadata": {},
     "output_type": "display_data"
    },
    {
     "name": "stdout",
     "output_type": "stream",
     "text": [
      "Iteration 505000: loss=1.3535839116229909e-12 prediction=4 lr=0.1\n",
      "Iteration 510000: loss=1.3393730569077889e-12 prediction=4 lr=0.1\n",
      "Iteration 515000: loss=1.3287149158713873e-12 prediction=4 lr=0.1\n",
      "Iteration 520000: loss=1.3145040611561853e-12 prediction=4 lr=0.1\n",
      "Iteration 525000: loss=1.3038459201197838e-12 prediction=4 lr=0.1\n",
      "Iteration 530000: loss=1.2931877790833823e-12 prediction=4 lr=0.1\n",
      "Iteration 535000: loss=1.2825296380469808e-12 prediction=4 lr=0.1\n",
      "Iteration 540000: loss=1.2754242106893798e-12 prediction=4 lr=0.1\n",
      "Iteration 545000: loss=1.2647660696529783e-12 prediction=4 lr=0.1\n",
      "Iteration 550000: loss=1.2541079286165768e-12 prediction=4 lr=0.1\n"
     ]
    },
    {
     "data": {
      "image/png": "[encoded data removed]",
      "text/plain": [
       "<Figure size 80x80 with 1 Axes>"
      ]
     },
     "metadata": {},
     "output_type": "display_data"
    },
    {
     "name": "stdout",
     "output_type": "stream",
     "text": [
      "Iteration 555000: loss=1.2470025012589758e-12 prediction=4 lr=0.1\n",
      "Iteration 560000: loss=1.2398970739013748e-12 prediction=4 lr=0.1\n",
      "Iteration 565000: loss=1.2292389328649733e-12 prediction=4 lr=0.1\n",
      "Iteration 570000: loss=1.2221335055073723e-12 prediction=4 lr=0.1\n",
      "Iteration 575000: loss=1.2150280781497713e-12 prediction=4 lr=0.1\n",
      "Iteration 580000: loss=1.2079226507921703e-12 prediction=4 lr=0.1\n",
      "Iteration 585000: loss=1.2008172234345693e-12 prediction=4 lr=0.1\n",
      "Iteration 590000: loss=1.1937117960769683e-12 prediction=4 lr=0.1\n",
      "Iteration 595000: loss=1.1866063687193673e-12 prediction=4 lr=0.1\n",
      "Iteration 600000: loss=1.1795009413617663e-12 prediction=4 lr=0.1\n"
     ]
    },
    {
     "data": {
      "image/png": "[encoded data removed]",
      "text/plain": [
       "<Figure size 80x80 with 1 Axes>"
      ]
     },
     "metadata": {},
     "output_type": "display_data"
    },
    {
     "name": "stdout",
     "output_type": "stream",
     "text": [
      "Iteration 605000: loss=1.1723955140041653e-12 prediction=4 lr=0.1\n",
      "Iteration 610000: loss=1.1688428003253648e-12 prediction=4 lr=0.1\n",
      "Iteration 615000: loss=1.1617373729677638e-12 prediction=4 lr=0.1\n",
      "Iteration 620000: loss=1.1546319456101628e-12 prediction=4 lr=0.1\n",
      "Iteration 625000: loss=1.1510792319313623e-12 prediction=4 lr=0.1\n",
      "Iteration 630000: loss=1.1439738045737613e-12 prediction=4 lr=0.1\n",
      "Iteration 635000: loss=1.1404210908949608e-12 prediction=4 lr=0.1\n",
      "Iteration 640000: loss=1.1333156635373598e-12 prediction=4 lr=0.1\n",
      "Iteration 645000: loss=1.1297629498585593e-12 prediction=4 lr=0.1\n",
      "Iteration 650000: loss=1.1226575225009583e-12 prediction=4 lr=0.1\n"
     ]
    },
    {
     "data": {
      "image/png": "[encoded data removed]",
      "text/plain": [
       "<Figure size 80x80 with 1 Axes>"
      ]
     },
     "metadata": {},
     "output_type": "display_data"
    },
    {
     "name": "stdout",
     "output_type": "stream",
     "text": [
      "Iteration 655000: loss=1.1191048088221578e-12 prediction=4 lr=0.1\n",
      "Iteration 660000: loss=1.1155520951433573e-12 prediction=4 lr=0.1\n",
      "Iteration 665000: loss=1.1084466677857563e-12 prediction=4 lr=0.1\n",
      "Iteration 670000: loss=1.1048939541069558e-12 prediction=4 lr=0.1\n",
      "Iteration 675000: loss=1.1013412404281553e-12 prediction=4 lr=0.1\n",
      "Iteration 680000: loss=1.0942358130705543e-12 prediction=4 lr=0.1\n",
      "Iteration 685000: loss=1.0906830993917538e-12 prediction=4 lr=0.1\n",
      "Iteration 690000: loss=1.0871303857129533e-12 prediction=4 lr=0.1\n",
      "Iteration 695000: loss=1.0800249583553523e-12 prediction=4 lr=0.1\n",
      "Iteration 700000: loss=1.0764722446765518e-12 prediction=4 lr=0.1\n"
     ]
    },
    {
     "data": {
      "image/png": "[encoded data removed]",
      "text/plain": [
       "<Figure size 80x80 with 1 Axes>"
      ]
     },
     "metadata": {},
     "output_type": "display_data"
    },
    {
     "name": "stdout",
     "output_type": "stream",
     "text": [
      "Iteration 705000: loss=1.0729195309977513e-12 prediction=4 lr=0.1\n",
      "Iteration 710000: loss=1.0693668173189508e-12 prediction=4 lr=0.1\n",
      "Iteration 715000: loss=1.0622613899613498e-12 prediction=4 lr=0.1\n",
      "Iteration 720000: loss=1.0587086762825493e-12 prediction=4 lr=0.1\n",
      "Iteration 725000: loss=1.0551559626037488e-12 prediction=4 lr=0.1\n",
      "Iteration 730000: loss=1.0516032489249483e-12 prediction=4 lr=0.1\n",
      "Iteration 735000: loss=1.0480505352461478e-12 prediction=4 lr=0.1\n",
      "Iteration 740000: loss=1.0444978215673473e-12 prediction=4 lr=0.1\n",
      "Iteration 745000: loss=1.0373923942097463e-12 prediction=4 lr=0.1\n",
      "Iteration 750000: loss=1.0338396805309458e-12 prediction=4 lr=0.1\n"
     ]
    },
    {
     "data": {
      "image/png": "[encoded data removed]",
      "text/plain": [
       "<Figure size 80x80 with 1 Axes>"
      ]
     },
     "metadata": {},
     "output_type": "display_data"
    },
    {
     "name": "stdout",
     "output_type": "stream",
     "text": [
      "Iteration 755000: loss=1.0302869668521453e-12 prediction=4 lr=0.1\n",
      "Iteration 760000: loss=1.0267342531733448e-12 prediction=4 lr=0.1\n",
      "Iteration 765000: loss=1.0231815394945443e-12 prediction=4 lr=0.1\n",
      "Iteration 770000: loss=1.0196288258157438e-12 prediction=4 lr=0.1\n",
      "Iteration 775000: loss=1.0125233984581428e-12 prediction=4 lr=0.1\n",
      "Iteration 780000: loss=1.0089706847793423e-12 prediction=4 lr=0.1\n",
      "Iteration 785000: loss=1.0054179711005418e-12 prediction=4 lr=0.1\n",
      "Iteration 790000: loss=1.0018652574217413e-12 prediction=4 lr=0.1\n",
      "Iteration 795000: loss=9.983125437429408e-13 prediction=4 lr=0.1\n",
      "Iteration 800000: loss=9.947598300641403e-13 prediction=4 lr=0.1\n"
     ]
    },
    {
     "data": {
      "image/png": "[encoded data removed]",
      "text/plain": [
       "<Figure size 80x80 with 1 Axes>"
      ]
     },
     "metadata": {},
     "output_type": "display_data"
    },
    {
     "name": "stdout",
     "output_type": "stream",
     "text": [
      "Iteration 805000: loss=9.876544027065393e-13 prediction=4 lr=0.1\n",
      "Iteration 810000: loss=9.841016890277388e-13 prediction=4 lr=0.1\n",
      "Iteration 815000: loss=9.805489753489383e-13 prediction=4 lr=0.1\n",
      "Iteration 820000: loss=9.769962616701378e-13 prediction=4 lr=0.1\n",
      "Iteration 825000: loss=9.734435479913373e-13 prediction=4 lr=0.1\n",
      "Iteration 830000: loss=9.698908343125368e-13 prediction=4 lr=0.1\n",
      "Iteration 835000: loss=9.627854069549358e-13 prediction=4 lr=0.1\n",
      "Iteration 840000: loss=9.592326932761353e-13 prediction=4 lr=0.1\n",
      "Iteration 845000: loss=9.556799795973347e-13 prediction=4 lr=0.1\n",
      "Iteration 850000: loss=9.521272659185342e-13 prediction=4 lr=0.1\n"
     ]
    },
    {
     "data": {
      "image/png": "[encoded data removed]",
      "text/plain": [
       "<Figure size 80x80 with 1 Axes>"
      ]
     },
     "metadata": {},
     "output_type": "display_data"
    },
    {
     "name": "stdout",
     "output_type": "stream",
     "text": [
      "Iteration 855000: loss=9.485745522397337e-13 prediction=4 lr=0.1\n",
      "Iteration 860000: loss=9.414691248821327e-13 prediction=4 lr=0.1\n",
      "Iteration 865000: loss=9.379164112033322e-13 prediction=4 lr=0.1\n",
      "Iteration 870000: loss=9.343636975245317e-13 prediction=4 lr=0.1\n",
      "Iteration 875000: loss=9.308109838457312e-13 prediction=4 lr=0.1\n",
      "Iteration 880000: loss=9.272582701669307e-13 prediction=4 lr=0.1\n",
      "Iteration 885000: loss=9.201528428093297e-13 prediction=4 lr=0.1\n",
      "Iteration 890000: loss=9.166001291305292e-13 prediction=4 lr=0.1\n",
      "Iteration 895000: loss=9.130474154517287e-13 prediction=4 lr=0.1\n",
      "Iteration 900000: loss=9.059419880941277e-13 prediction=4 lr=0.1\n"
     ]
    },
    {
     "data": {
      "image/png": "[encoded data removed]",
      "text/plain": [
       "<Figure size 80x80 with 1 Axes>"
      ]
     },
     "metadata": {},
     "output_type": "display_data"
    },
    {
     "name": "stdout",
     "output_type": "stream",
     "text": [
      "Iteration 905000: loss=9.023892744153272e-13 prediction=4 lr=0.1\n",
      "Iteration 910000: loss=8.988365607365267e-13 prediction=4 lr=0.1\n",
      "Iteration 915000: loss=8.952838470577262e-13 prediction=4 lr=0.1\n",
      "Iteration 920000: loss=8.881784197001252e-13 prediction=4 lr=0.1\n",
      "Iteration 925000: loss=8.846257060213247e-13 prediction=4 lr=0.1\n",
      "Iteration 930000: loss=8.775202786637237e-13 prediction=4 lr=0.1\n",
      "Iteration 935000: loss=8.739675649849232e-13 prediction=4 lr=0.1\n",
      "Iteration 940000: loss=8.668621376273222e-13 prediction=4 lr=0.1\n",
      "Iteration 945000: loss=8.633094239485217e-13 prediction=4 lr=0.1\n",
      "Iteration 950000: loss=8.562039965909207e-13 prediction=4 lr=0.1\n"
     ]
    },
    {
     "data": {
      "image/png": "[encoded data removed]",
      "text/plain": [
       "<Figure size 80x80 with 1 Axes>"
      ]
     },
     "metadata": {},
     "output_type": "display_data"
    },
    {
     "name": "stdout",
     "output_type": "stream",
     "text": [
      "Iteration 955000: loss=8.526512829121202e-13 prediction=4 lr=0.1\n",
      "Iteration 960000: loss=8.455458555545192e-13 prediction=4 lr=0.1\n",
      "Iteration 965000: loss=8.384404281969182e-13 prediction=4 lr=0.1\n",
      "Iteration 970000: loss=8.348877145181177e-13 prediction=4 lr=0.1\n",
      "Iteration 975000: loss=8.277822871605167e-13 prediction=4 lr=0.1\n",
      "Iteration 980000: loss=8.206768598029157e-13 prediction=4 lr=0.1\n",
      "Iteration 985000: loss=8.135714324453147e-13 prediction=4 lr=0.1\n",
      "Iteration 990000: loss=8.064660050877137e-13 prediction=4 lr=0.1\n",
      "Iteration 995000: loss=7.993605777301127e-13 prediction=4 lr=0.1\n",
      "Iteration 1000000: loss=7.922551503725117e-13 prediction=4 lr=0.1\n"
     ]
    },
    {
     "data": {
      "image/png": "[encoded data removed]",
      "text/plain": [
       "<Figure size 80x80 with 1 Axes>"
      ]
     },
     "metadata": {},
     "output_type": "display_data"
    },
    {
     "name": "stdout",
     "output_type": "stream",
     "text": [
      "Iteration 1005000: loss=7.851497230149107e-13 prediction=4 lr=0.1\n",
      "Iteration 1010000: loss=7.780442956573097e-13 prediction=4 lr=0.1\n",
      "Iteration 1015000: loss=7.709388682997087e-13 prediction=4 lr=0.1\n",
      "Iteration 1020000: loss=7.638334409421077e-13 prediction=4 lr=0.1\n",
      "Iteration 1025000: loss=7.602807272633072e-13 prediction=4 lr=0.1\n",
      "Iteration 1030000: loss=7.531752999057062e-13 prediction=4 lr=0.1\n",
      "Iteration 1035000: loss=7.460698725481052e-13 prediction=4 lr=0.1\n",
      "Iteration 1040000: loss=7.425171588693047e-13 prediction=4 lr=0.1\n",
      "Iteration 1045000: loss=7.354117315117037e-13 prediction=4 lr=0.1\n",
      "Iteration 1050000: loss=7.318590178329032e-13 prediction=4 lr=0.1\n"
     ]
    },
    {
     "data": {
      "image/png": "[encoded data removed]",
      "text/plain": [
       "<Figure size 80x80 with 1 Axes>"
      ]
     },
     "metadata": {},
     "output_type": "display_data"
    },
    {
     "name": "stdout",
     "output_type": "stream",
     "text": [
      "Iteration 1055000: loss=7.283063041541027e-13 prediction=4 lr=0.1\n",
      "Iteration 1060000: loss=7.212008767965017e-13 prediction=4 lr=0.1\n",
      "Iteration 1065000: loss=7.176481631177012e-13 prediction=4 lr=0.1\n",
      "Iteration 1070000: loss=7.140954494389007e-13 prediction=4 lr=0.1\n",
      "Iteration 1075000: loss=7.105427357601002e-13 prediction=4 lr=0.1\n",
      "Iteration 1080000: loss=7.069900220812997e-13 prediction=4 lr=0.1\n",
      "Iteration 1085000: loss=7.034373084024992e-13 prediction=4 lr=0.1\n",
      "Iteration 1090000: loss=6.998845947236987e-13 prediction=4 lr=0.1\n",
      "Iteration 1095000: loss=6.963318810448982e-13 prediction=4 lr=0.1\n",
      "Iteration 1100000: loss=6.927791673660977e-13 prediction=4 lr=0.1\n"
     ]
    },
    {
     "data": {
      "image/png": "[encoded data removed]",
      "text/plain": [
       "<Figure size 80x80 with 1 Axes>"
      ]
     },
     "metadata": {},
     "output_type": "display_data"
    },
    {
     "name": "stdout",
     "output_type": "stream",
     "text": [
      "Iteration 1105000: loss=6.892264536872972e-13 prediction=4 lr=0.1\n",
      "Iteration 1110000: loss=6.856737400084967e-13 prediction=4 lr=0.1\n",
      "Iteration 1115000: loss=6.821210263296962e-13 prediction=4 lr=0.1\n",
      "Iteration 1120000: loss=6.785683126508957e-13 prediction=4 lr=0.1\n",
      "Iteration 1125000: loss=6.750155989720952e-13 prediction=4 lr=0.1\n",
      "Iteration 1130000: loss=6.714628852932947e-13 prediction=4 lr=0.1\n",
      "Iteration 1135000: loss=6.679101716144942e-13 prediction=4 lr=0.1\n",
      "Iteration 1140000: loss=6.679101716144942e-13 prediction=4 lr=0.1\n",
      "Iteration 1145000: loss=6.643574579356937e-13 prediction=4 lr=0.1\n",
      "Iteration 1150000: loss=6.608047442568932e-13 prediction=4 lr=0.1\n"
     ]
    },
    {
     "data": {
      "image/png": "[encoded data removed]",
      "text/plain": [
       "<Figure size 80x80 with 1 Axes>"
      ]
     },
     "metadata": {},
     "output_type": "display_data"
    },
    {
     "name": "stdout",
     "output_type": "stream",
     "text": [
      "Iteration 1155000: loss=6.572520305780927e-13 prediction=4 lr=0.1\n",
      "Iteration 1160000: loss=6.536993168992922e-13 prediction=4 lr=0.1\n",
      "Iteration 1165000: loss=6.536993168992922e-13 prediction=4 lr=0.1\n",
      "Iteration 1170000: loss=6.501466032204917e-13 prediction=4 lr=0.1\n",
      "Iteration 1175000: loss=6.465938895416912e-13 prediction=4 lr=0.1\n",
      "Iteration 1180000: loss=6.430411758628907e-13 prediction=4 lr=0.1\n",
      "Iteration 1185000: loss=6.430411758628907e-13 prediction=4 lr=0.1\n",
      "Iteration 1190000: loss=6.394884621840902e-13 prediction=4 lr=0.1\n",
      "Iteration 1195000: loss=6.359357485052897e-13 prediction=4 lr=0.1\n",
      "Iteration 1200000: loss=6.359357485052897e-13 prediction=4 lr=0.1\n"
     ]
    },
    {
     "data": {
      "image/png": "[encoded data removed]",
      "text/plain": [
       "<Figure size 80x80 with 1 Axes>"
      ]
     },
     "metadata": {},
     "output_type": "display_data"
    },
    {
     "name": "stdout",
     "output_type": "stream",
     "text": [
      "Iteration 1205000: loss=6.323830348264892e-13 prediction=4 lr=0.1\n",
      "Iteration 1210000: loss=6.288303211476887e-13 prediction=4 lr=0.1\n",
      "Iteration 1215000: loss=6.288303211476887e-13 prediction=4 lr=0.1\n",
      "Iteration 1220000: loss=6.252776074688882e-13 prediction=4 lr=0.1\n",
      "Iteration 1225000: loss=6.252776074688882e-13 prediction=4 lr=0.1\n",
      "Iteration 1230000: loss=6.217248937900877e-13 prediction=4 lr=0.1\n",
      "Iteration 1235000: loss=6.181721801112872e-13 prediction=4 lr=0.1\n",
      "Iteration 1240000: loss=6.181721801112872e-13 prediction=4 lr=0.1\n",
      "Iteration 1245000: loss=6.146194664324867e-13 prediction=4 lr=0.1\n",
      "Iteration 1250000: loss=6.146194664324867e-13 prediction=4 lr=0.1\n"
     ]
    },
    {
     "data": {
      "image/png": "[encoded data removed]",
      "text/plain": [
       "<Figure size 80x80 with 1 Axes>"
      ]
     },
     "metadata": {},
     "output_type": "display_data"
    },
    {
     "name": "stdout",
     "output_type": "stream",
     "text": [
      "Iteration 1255000: loss=6.110667527536862e-13 prediction=4 lr=0.1\n",
      "Iteration 1260000: loss=6.110667527536862e-13 prediction=4 lr=0.1\n",
      "Iteration 1265000: loss=6.075140390748857e-13 prediction=4 lr=0.1\n",
      "Iteration 1270000: loss=6.075140390748857e-13 prediction=4 lr=0.1\n",
      "Iteration 1275000: loss=6.039613253960852e-13 prediction=4 lr=0.1\n",
      "Iteration 1280000: loss=6.039613253960852e-13 prediction=4 lr=0.1\n",
      "Iteration 1285000: loss=6.004086117172847e-13 prediction=4 lr=0.1\n",
      "Iteration 1290000: loss=6.004086117172847e-13 prediction=4 lr=0.1\n",
      "Iteration 1295000: loss=5.968558980384842e-13 prediction=4 lr=0.1\n",
      "Iteration 1300000: loss=5.968558980384842e-13 prediction=4 lr=0.1\n"
     ]
    },
    {
     "data": {
      "image/png": "[encoded data removed]",
      "text/plain": [
       "<Figure size 80x80 with 1 Axes>"
      ]
     },
     "metadata": {},
     "output_type": "display_data"
    },
    {
     "name": "stdout",
     "output_type": "stream",
     "text": [
      "Iteration 1305000: loss=5.968558980384842e-13 prediction=4 lr=0.1\n",
      "Iteration 1310000: loss=5.933031843596837e-13 prediction=4 lr=0.1\n",
      "Iteration 1315000: loss=5.933031843596837e-13 prediction=4 lr=0.1\n",
      "Iteration 1320000: loss=5.897504706808832e-13 prediction=4 lr=0.1\n",
      "Iteration 1325000: loss=5.897504706808832e-13 prediction=4 lr=0.1\n",
      "Iteration 1330000: loss=5.861977570020827e-13 prediction=4 lr=0.1\n",
      "Iteration 1335000: loss=5.861977570020827e-13 prediction=4 lr=0.1\n",
      "Iteration 1340000: loss=5.861977570020827e-13 prediction=4 lr=0.1\n",
      "Iteration 1345000: loss=5.826450433232822e-13 prediction=4 lr=0.1\n",
      "Iteration 1350000: loss=5.826450433232822e-13 prediction=4 lr=0.1\n"
     ]
    },
    {
     "data": {
      "image/png": "[encoded data removed]",
      "text/plain": [
       "<Figure size 80x80 with 1 Axes>"
      ]
     },
     "metadata": {},
     "output_type": "display_data"
    },
    {
     "name": "stdout",
     "output_type": "stream",
     "text": [
      "Iteration 1355000: loss=5.826450433232822e-13 prediction=4 lr=0.1\n",
      "Iteration 1360000: loss=5.790923296444817e-13 prediction=4 lr=0.1\n",
      "Iteration 1365000: loss=5.790923296444817e-13 prediction=4 lr=0.1\n",
      "Iteration 1370000: loss=5.790923296444817e-13 prediction=4 lr=0.1\n",
      "Iteration 1375000: loss=5.755396159656812e-13 prediction=4 lr=0.1\n",
      "Iteration 1380000: loss=5.755396159656812e-13 prediction=4 lr=0.1\n",
      "Iteration 1385000: loss=5.755396159656812e-13 prediction=4 lr=0.1\n",
      "Iteration 1390000: loss=5.719869022868806e-13 prediction=4 lr=0.1\n",
      "Iteration 1395000: loss=5.719869022868806e-13 prediction=4 lr=0.1\n",
      "Iteration 1400000: loss=5.719869022868806e-13 prediction=4 lr=0.1\n"
     ]
    },
    {
     "data": {
      "image/png": "[encoded data removed]",
      "text/plain": [
       "<Figure size 80x80 with 1 Axes>"
      ]
     },
     "metadata": {},
     "output_type": "display_data"
    },
    {
     "name": "stdout",
     "output_type": "stream",
     "text": [
      "Iteration 1405000: loss=5.719869022868806e-13 prediction=4 lr=0.1\n",
      "Iteration 1410000: loss=5.719869022868806e-13 prediction=4 lr=0.1\n",
      "Iteration 1415000: loss=5.684341886080801e-13 prediction=4 lr=0.1\n",
      "Iteration 1420000: loss=5.684341886080801e-13 prediction=4 lr=0.1\n",
      "Iteration 1425000: loss=5.684341886080801e-13 prediction=4 lr=0.1\n",
      "Iteration 1430000: loss=5.684341886080801e-13 prediction=4 lr=0.1\n",
      "Iteration 1435000: loss=5.684341886080801e-13 prediction=4 lr=0.1\n",
      "Iteration 1440000: loss=5.648814749292796e-13 prediction=4 lr=0.1\n",
      "Iteration 1445000: loss=5.648814749292796e-13 prediction=4 lr=0.1\n",
      "Iteration 1450000: loss=5.648814749292796e-13 prediction=4 lr=0.1\n"
     ]
    },
    {
     "data": {
      "image/png": "[encoded data removed]",
      "text/plain": [
       "<Figure size 80x80 with 1 Axes>"
      ]
     },
     "metadata": {},
     "output_type": "display_data"
    },
    {
     "name": "stdout",
     "output_type": "stream",
     "text": [
      "Iteration 1455000: loss=5.648814749292796e-13 prediction=4 lr=0.1\n",
      "Iteration 1460000: loss=5.613287612504791e-13 prediction=4 lr=0.1\n",
      "Iteration 1465000: loss=5.613287612504791e-13 prediction=4 lr=0.1\n",
      "Iteration 1470000: loss=5.613287612504791e-13 prediction=4 lr=0.1\n",
      "Iteration 1475000: loss=5.613287612504791e-13 prediction=4 lr=0.1\n",
      "Iteration 1480000: loss=5.613287612504791e-13 prediction=4 lr=0.1\n",
      "Iteration 1485000: loss=5.613287612504791e-13 prediction=4 lr=0.1\n",
      "Decreasing LR ..\n",
      "Iteration 1490000: loss=5.577760475716786e-13 prediction=4 lr=0.05\n",
      "Iteration 1495000: loss=5.577760475716786e-13 prediction=4 lr=0.05\n",
      "Iteration 1500000: loss=5.577760475716786e-13 prediction=4 lr=0.05\n"
     ]
    },
    {
     "data": {
      "image/png": "[encoded data removed]",
      "text/plain": [
       "<Figure size 80x80 with 1 Axes>"
      ]
     },
     "metadata": {},
     "output_type": "display_data"
    },
    {
     "name": "stdout",
     "output_type": "stream",
     "text": [
      "Iteration 1505000: loss=5.577760475716786e-13 prediction=4 lr=0.05\n",
      "Iteration 1510000: loss=5.577760475716786e-13 prediction=4 lr=0.05\n",
      "Iteration 1515000: loss=5.577760475716786e-13 prediction=4 lr=0.05\n",
      "Iteration 1520000: loss=5.577760475716786e-13 prediction=4 lr=0.05\n",
      "Iteration 1525000: loss=5.577760475716786e-13 prediction=4 lr=0.05\n",
      "Iteration 1530000: loss=5.577760475716786e-13 prediction=4 lr=0.05\n",
      "Iteration 1535000: loss=5.577760475716786e-13 prediction=4 lr=0.05\n",
      "Iteration 1540000: loss=5.577760475716786e-13 prediction=4 lr=0.05\n",
      "Decreasing LR ..\n",
      "Iteration 1545000: loss=5.577760475716786e-13 prediction=4 lr=0.025\n",
      "Iteration 1550000: loss=5.577760475716786e-13 prediction=4 lr=0.025\n"
     ]
    },
    {
     "data": {
      "image/png": "[encoded data removed]",
      "text/plain": [
       "<Figure size 80x80 with 1 Axes>"
      ]
     },
     "metadata": {},
     "output_type": "display_data"
    },
    {
     "name": "stdout",
     "output_type": "stream",
     "text": [
      "Iteration 1555000: loss=5.577760475716786e-13 prediction=4 lr=0.025\n",
      "Iteration 1560000: loss=5.577760475716786e-13 prediction=4 lr=0.025\n",
      "Iteration 1565000: loss=5.577760475716786e-13 prediction=4 lr=0.025\n",
      "Iteration 1570000: loss=5.577760475716786e-13 prediction=4 lr=0.025\n",
      "Iteration 1575000: loss=5.577760475716786e-13 prediction=4 lr=0.025\n",
      "Iteration 1580000: loss=5.577760475716786e-13 prediction=4 lr=0.025\n",
      "Iteration 1585000: loss=5.542233338928781e-13 prediction=4 lr=0.025\n",
      "Iteration 1590000: loss=5.542233338928781e-13 prediction=4 lr=0.025\n",
      "Iteration 1595000: loss=5.542233338928781e-13 prediction=4 lr=0.025\n",
      "Iteration 1600000: loss=5.542233338928781e-13 prediction=4 lr=0.025\n"
     ]
    },
    {
     "data": {
      "image/png": "[encoded data removed]",
      "text/plain": [
       "<Figure size 80x80 with 1 Axes>"
      ]
     },
     "metadata": {},
     "output_type": "display_data"
    },
    {
     "name": "stdout",
     "output_type": "stream",
     "text": [
      "Iteration 1605000: loss=5.542233338928781e-13 prediction=4 lr=0.025\n",
      "Iteration 1610000: loss=5.542233338928781e-13 prediction=4 lr=0.025\n",
      "Decreasing LR ..\n",
      "Iteration 1615000: loss=5.542233338928781e-13 prediction=4 lr=0.0125\n",
      "Iteration 1620000: loss=5.542233338928781e-13 prediction=4 lr=0.0125\n",
      "Iteration 1625000: loss=5.542233338928781e-13 prediction=4 lr=0.0125\n",
      "Iteration 1630000: loss=5.542233338928781e-13 prediction=4 lr=0.0125\n",
      "Iteration 1635000: loss=5.542233338928781e-13 prediction=4 lr=0.0125\n",
      "Iteration 1640000: loss=5.542233338928781e-13 prediction=4 lr=0.0125\n",
      "Iteration 1645000: loss=5.542233338928781e-13 prediction=4 lr=0.0125\n",
      "Iteration 1650000: loss=5.542233338928781e-13 prediction=4 lr=0.0125\n"
     ]
    },
    {
     "data": {
      "image/png": "[encoded data removed]",
      "text/plain": [
       "<Figure size 80x80 with 1 Axes>"
      ]
     },
     "metadata": {},
     "output_type": "display_data"
    },
    {
     "name": "stdout",
     "output_type": "stream",
     "text": [
      "Iteration 1655000: loss=5.542233338928781e-13 prediction=4 lr=0.0125\n",
      "Iteration 1660000: loss=5.542233338928781e-13 prediction=4 lr=0.0125\n",
      "Iteration 1665000: loss=5.542233338928781e-13 prediction=4 lr=0.0125\n",
      "Decreasing LR ..\n",
      "Iteration 1670000: loss=5.542233338928781e-13 prediction=4 lr=0.00625\n",
      "Iteration 1675000: loss=5.542233338928781e-13 prediction=4 lr=0.00625\n",
      "Iteration 1680000: loss=5.542233338928781e-13 prediction=4 lr=0.00625\n",
      "Iteration 1685000: loss=5.542233338928781e-13 prediction=4 lr=0.00625\n",
      "Iteration 1690000: loss=5.542233338928781e-13 prediction=4 lr=0.00625\n",
      "Iteration 1695000: loss=5.542233338928781e-13 prediction=4 lr=0.00625\n",
      "Iteration 1700000: loss=5.542233338928781e-13 prediction=4 lr=0.00625\n"
     ]
    },
    {
     "data": {
      "image/png": "[encoded data removed]",
      "text/plain": [
       "<Figure size 80x80 with 1 Axes>"
      ]
     },
     "metadata": {},
     "output_type": "display_data"
    },
    {
     "name": "stdout",
     "output_type": "stream",
     "text": [
      "Iteration 1705000: loss=5.542233338928781e-13 prediction=4 lr=0.00625\n",
      "Iteration 1710000: loss=5.542233338928781e-13 prediction=4 lr=0.00625\n",
      "Iteration 1715000: loss=5.542233338928781e-13 prediction=4 lr=0.00625\n",
      "Iteration 1720000: loss=5.542233338928781e-13 prediction=4 lr=0.00625\n",
      "Decreasing LR ..\n",
      "Iteration 1725000: loss=5.542233338928781e-13 prediction=4 lr=0.003125\n",
      "Iteration 1730000: loss=5.542233338928781e-13 prediction=4 lr=0.003125\n",
      "Iteration 1735000: loss=5.542233338928781e-13 prediction=4 lr=0.003125\n",
      "Iteration 1740000: loss=5.542233338928781e-13 prediction=4 lr=0.003125\n",
      "Iteration 1745000: loss=5.542233338928781e-13 prediction=4 lr=0.003125\n",
      "Iteration 1750000: loss=5.542233338928781e-13 prediction=4 lr=0.003125\n"
     ]
    },
    {
     "data": {
      "image/png": "[encoded data removed]",
      "text/plain": [
       "<Figure size 80x80 with 1 Axes>"
      ]
     },
     "metadata": {},
     "output_type": "display_data"
    },
    {
     "name": "stdout",
     "output_type": "stream",
     "text": [
      "Iteration 1755000: loss=5.542233338928781e-13 prediction=4 lr=0.003125\n",
      "Iteration 1760000: loss=5.542233338928781e-13 prediction=4 lr=0.003125\n",
      "Iteration 1765000: loss=5.542233338928781e-13 prediction=4 lr=0.003125\n",
      "Iteration 1770000: loss=5.542233338928781e-13 prediction=4 lr=0.003125\n",
      "Iteration 1775000: loss=5.542233338928781e-13 prediction=4 lr=0.003125\n",
      "Decreasing LR ..\n",
      "Iteration 1780000: loss=5.542233338928781e-13 prediction=4 lr=0.0015625\n",
      "Iteration 1785000: loss=5.542233338928781e-13 prediction=4 lr=0.0015625\n",
      "Iteration 1790000: loss=5.542233338928781e-13 prediction=4 lr=0.0015625\n",
      "Iteration 1795000: loss=5.542233338928781e-13 prediction=4 lr=0.0015625\n",
      "Iteration 1800000: loss=5.542233338928781e-13 prediction=4 lr=0.0015625\n"
     ]
    },
    {
     "data": {
      "image/png": "[encoded data removed]",
      "text/plain": [
       "<Figure size 80x80 with 1 Axes>"
      ]
     },
     "metadata": {},
     "output_type": "display_data"
    },
    {
     "name": "stdout",
     "output_type": "stream",
     "text": [
      "Iteration 1805000: loss=5.542233338928781e-13 prediction=4 lr=0.0015625\n",
      "Iteration 1810000: loss=5.542233338928781e-13 prediction=4 lr=0.0015625\n",
      "Iteration 1815000: loss=5.542233338928781e-13 prediction=4 lr=0.0015625\n",
      "Iteration 1820000: loss=5.542233338928781e-13 prediction=4 lr=0.0015625\n",
      "Iteration 1825000: loss=5.542233338928781e-13 prediction=4 lr=0.0015625\n",
      "Iteration 1830000: loss=5.542233338928781e-13 prediction=4 lr=0.0015625\n",
      "Decreasing LR ..\n",
      "Iteration 1835000: loss=5.542233338928781e-13 prediction=4 lr=0.00078125\n"
     ]
    },
    {
     "ename": "KeyboardInterrupt",
     "evalue": "",
     "output_type": "error",
     "traceback": [
      "\u001b[0;31m---------------------------------------------------------------------------\u001b[0m",
      "\u001b[0;31mKeyboardInterrupt\u001b[0m                         Traceback (most recent call last)",
      "\u001b[0;32m<ipython-input-23-56b2ed576550>\u001b[0m in \u001b[0;36m<module>\u001b[0;34m()\u001b[0m\n\u001b[0;32m----> 1\u001b[0;31m \u001b[0mnew_image_randn\u001b[0m\u001b[0;34m,\u001b[0m \u001b[0mloss_stats\u001b[0m \u001b[0;34m=\u001b[0m \u001b[0mgenerate_image\u001b[0m\u001b[0;34m(\u001b[0m\u001b[0mimg\u001b[0m\u001b[0;34m,\u001b[0m \u001b[0;36m4\u001b[0m\u001b[0;34m)\u001b[0m\u001b[0;34m\u001b[0m\u001b[0m\n\u001b[0m",
      "\u001b[0;32m<ipython-input-22-36a7eda26415>\u001b[0m in \u001b[0;36mgenerate_image\u001b[0;34m(img, cl)\u001b[0m\n\u001b[1;32m     19\u001b[0m         \u001b[0mgen_optim\u001b[0m\u001b[0;34m.\u001b[0m\u001b[0mzero_grad\u001b[0m\u001b[0;34m(\u001b[0m\u001b[0;34m)\u001b[0m\u001b[0;34m\u001b[0m\u001b[0m\n\u001b[1;32m     20\u001b[0m         \u001b[0mloss\u001b[0m \u001b[0;34m=\u001b[0m \u001b[0mF\u001b[0m\u001b[0;34m.\u001b[0m\u001b[0mcross_entropy\u001b[0m\u001b[0;34m(\u001b[0m\u001b[0mout\u001b[0m\u001b[0;34m,\u001b[0m \u001b[0mtarget\u001b[0m\u001b[0;34m)\u001b[0m\u001b[0;34m\u001b[0m\u001b[0m\n\u001b[0;32m---> 21\u001b[0;31m         \u001b[0mloss\u001b[0m\u001b[0;34m.\u001b[0m\u001b[0mbackward\u001b[0m\u001b[0;34m(\u001b[0m\u001b[0;34m)\u001b[0m\u001b[0;34m\u001b[0m\u001b[0m\n\u001b[0m\u001b[1;32m     22\u001b[0m         \u001b[0mgen_optim\u001b[0m\u001b[0;34m.\u001b[0m\u001b[0mstep\u001b[0m\u001b[0;34m(\u001b[0m\u001b[0;34m)\u001b[0m\u001b[0;34m\u001b[0m\u001b[0m\n\u001b[1;32m     23\u001b[0m \u001b[0;34m\u001b[0m\u001b[0m\n",
      "\u001b[0;32m~/Programs/anaconda3/envs/otus-dl-engineer/lib/python3.6/site-packages/torch/tensor.py\u001b[0m in \u001b[0;36mbackward\u001b[0;34m(self, gradient, retain_graph, create_graph)\u001b[0m\n\u001b[1;32m     91\u001b[0m                 \u001b[0mproducts\u001b[0m\u001b[0;34m.\u001b[0m \u001b[0mDefaults\u001b[0m \u001b[0mto\u001b[0m\u001b[0;31m \u001b[0m\u001b[0;31m`\u001b[0m\u001b[0;31m`\u001b[0m\u001b[0;32mFalse\u001b[0m\u001b[0;31m`\u001b[0m\u001b[0;31m`\u001b[0m\u001b[0;34m.\u001b[0m\u001b[0;34m\u001b[0m\u001b[0m\n\u001b[1;32m     92\u001b[0m         \"\"\"\n\u001b[0;32m---> 93\u001b[0;31m         \u001b[0mtorch\u001b[0m\u001b[0;34m.\u001b[0m\u001b[0mautograd\u001b[0m\u001b[0;34m.\u001b[0m\u001b[0mbackward\u001b[0m\u001b[0;34m(\u001b[0m\u001b[0mself\u001b[0m\u001b[0;34m,\u001b[0m \u001b[0mgradient\u001b[0m\u001b[0;34m,\u001b[0m \u001b[0mretain_graph\u001b[0m\u001b[0;34m,\u001b[0m \u001b[0mcreate_graph\u001b[0m\u001b[0;34m)\u001b[0m\u001b[0;34m\u001b[0m\u001b[0m\n\u001b[0m\u001b[1;32m     94\u001b[0m \u001b[0;34m\u001b[0m\u001b[0m\n\u001b[1;32m     95\u001b[0m     \u001b[0;32mdef\u001b[0m \u001b[0mregister_hook\u001b[0m\u001b[0;34m(\u001b[0m\u001b[0mself\u001b[0m\u001b[0;34m,\u001b[0m \u001b[0mhook\u001b[0m\u001b[0;34m)\u001b[0m\u001b[0;34m:\u001b[0m\u001b[0;34m\u001b[0m\u001b[0m\n",
      "\u001b[0;32m~/Programs/anaconda3/envs/otus-dl-engineer/lib/python3.6/site-packages/torch/autograd/__init__.py\u001b[0m in \u001b[0;36mbackward\u001b[0;34m(tensors, grad_tensors, retain_graph, create_graph, grad_variables)\u001b[0m\n\u001b[1;32m     87\u001b[0m     Variable._execution_engine.run_backward(\n\u001b[1;32m     88\u001b[0m         \u001b[0mtensors\u001b[0m\u001b[0;34m,\u001b[0m \u001b[0mgrad_tensors\u001b[0m\u001b[0;34m,\u001b[0m \u001b[0mretain_graph\u001b[0m\u001b[0;34m,\u001b[0m \u001b[0mcreate_graph\u001b[0m\u001b[0;34m,\u001b[0m\u001b[0;34m\u001b[0m\u001b[0m\n\u001b[0;32m---> 89\u001b[0;31m         allow_unreachable=True)  # allow_unreachable flag\n\u001b[0m\u001b[1;32m     90\u001b[0m \u001b[0;34m\u001b[0m\u001b[0m\n\u001b[1;32m     91\u001b[0m \u001b[0;34m\u001b[0m\u001b[0m\n",
      "\u001b[0;31mKeyboardInterrupt\u001b[0m: "
     ]
    }
   ],
   "source": [
    "new_image_randn, loss_stats = generate_image(img, 4)"
   ]
  },
  {
   "cell_type": "markdown",
   "metadata": {},
   "source": [
    "Изображение цифры \"4\" достаточно легко распознать, несмотря на шум"
   ]
  },
  {
   "cell_type": "code",
   "execution_count": null,
   "metadata": {},
   "outputs": [],
   "source": []
  },
  {
   "cell_type": "code",
   "execution_count": null,
   "metadata": {},
   "outputs": [],
   "source": []
  },
  {
   "cell_type": "code",
   "execution_count": null,
   "metadata": {},
   "outputs": [],
   "source": []
  },
  {
   "cell_type": "code",
   "execution_count": null,
   "metadata": {},
   "outputs": [],
   "source": []
  },
  {
   "cell_type": "code",
   "execution_count": null,
   "metadata": {},
   "outputs": [],
   "source": []
  },
  {
   "cell_type": "code",
   "execution_count": null,
   "metadata": {},
   "outputs": [],
   "source": []
  },
  {
   "cell_type": "code",
   "execution_count": null,
   "metadata": {},
   "outputs": [],
   "source": []
  },
  {
   "cell_type": "code",
   "execution_count": null,
   "metadata": {},
   "outputs": [],
   "source": []
  }
 ],
 "metadata": {
  "kernelspec": {
   "display_name": "Python 3",
   "language": "python",
   "name": "python3"
  },
  "language_info": {
   "codemirror_mode": {
    "name": "ipython",
    "version": 3
   },
   "file_extension": ".py",
   "mimetype": "text/x-python",
   "name": "python",
   "nbconvert_exporter": "python",
   "pygments_lexer": "ipython3",
   "version": "3.6.6"
  }
 },
 "nbformat": 4,
 "nbformat_minor": 2
}
