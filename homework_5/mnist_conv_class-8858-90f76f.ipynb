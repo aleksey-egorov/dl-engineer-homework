{
 "cells": [
  {
   "cell_type": "code",
   "execution_count": 1,
   "metadata": {},
   "outputs": [],
   "source": [
    "import torch\n",
    "import torch.nn as nn\n",
    "import torch.nn.functional as F\n",
    "import torch.optim as optim\n",
    "from torchvision import datasets, transforms\n",
    "\n",
    "from utils import mnist, plot_graphs, plot_mnist\n",
    "import numpy as np\n",
    "\n",
    "%matplotlib inline"
   ]
  },
  {
   "cell_type": "code",
   "execution_count": 2,
   "metadata": {},
   "outputs": [],
   "source": [
    "import matplotlib\n",
    "import matplotlib.pyplot as plt\n",
    "import numpy as np\n",
    "%matplotlib inline"
   ]
  },
  {
   "cell_type": "code",
   "execution_count": 3,
   "metadata": {},
   "outputs": [],
   "source": [
    "train_loader, valid_loader, test_loader = mnist(valid=10000, transform=transforms.ToTensor())"
   ]
  },
  {
   "cell_type": "code",
   "execution_count": 4,
   "metadata": {},
   "outputs": [],
   "source": [
    "class ConvLayer(nn.Module):\n",
    "    def __init__(self, size, padding=1, pool_layer=nn.MaxPool2d(2, stride=2),\n",
    "                 bn=False, dropout=False, activation_fn=nn.ReLU(), stride=1):\n",
    "        super(ConvLayer, self).__init__()\n",
    "        layers = []\n",
    "        layers.append(nn.Conv2d(size[0], size[1], size[2], padding=padding, stride=stride))\n",
    "        if pool_layer is not None:\n",
    "            layers.append(pool_layer)\n",
    "        if bn:\n",
    "            layers.append(nn.BatchNorm2d(size[1]))\n",
    "        if dropout:\n",
    "            layers.append(nn.Dropout2d())\n",
    "        layers.append(activation_fn)\n",
    "        \n",
    "        self.model = nn.Sequential(*layers)\n",
    "    \n",
    "    def forward(self, x):\n",
    "        return self.model(x)"
   ]
  },
  {
   "cell_type": "code",
   "execution_count": 5,
   "metadata": {},
   "outputs": [],
   "source": [
    "class FullyConnected(nn.Module):\n",
    "    def __init__(self, sizes, dropout=False, activation_fn=nn.Tanh):\n",
    "        super(FullyConnected, self).__init__()\n",
    "        layers = []\n",
    "        \n",
    "        for i in range(len(sizes) - 2):\n",
    "            layers.append(nn.Linear(sizes[i], sizes[i+1]))\n",
    "            if dropout:\n",
    "                layers.append(nn.Dropout())\n",
    "            layers.append(activation_fn())\n",
    "        else: # нам не нужен дропаут и фнкция активации в последнем слое\n",
    "            layers.append(nn.Linear(sizes[-2], sizes[-1]))\n",
    "        \n",
    "        self.model = nn.Sequential(*layers)\n",
    "        \n",
    "    def forward(self, x):\n",
    "        return self.model(x)"
   ]
  },
  {
   "cell_type": "code",
   "execution_count": 6,
   "metadata": {},
   "outputs": [],
   "source": [
    "class Net(nn.Module):\n",
    "    def __init__(self, batchnorm=False, dropout=False, optim_type='SGD', **optim_params):\n",
    "        super(Net, self).__init__()\n",
    "        \n",
    "        self._conv1 = ConvLayer([1, 16, 4], padding=0, bn=batchnorm, stride=2, \n",
    "                                pool_layer=None, activation_fn=nn.Tanh())\n",
    "        self._conv2 = ConvLayer([16, 32, 4], padding=0, bn=batchnorm, stride=2, \n",
    "                                pool_layer=None, activation_fn=nn.Tanh())\n",
    "        self._conv3 = ConvLayer([32, 32, 3], padding=0, bn=batchnorm, stride=2, \n",
    "                                pool_layer=None, activation_fn=nn.Tanh())\n",
    "            \n",
    "        self.fc = FullyConnected([32*2*2, 10])\n",
    "        \n",
    "        self._loss = None\n",
    "        if optim_type == 'SGD':\n",
    "            self.optim = optim.SGD(self.parameters(), **optim_params)\n",
    "        elif optim_type == 'Adadelta':\n",
    "            self.optim = optim.Adadelta(self.parameters(), **optim_params)\n",
    "        elif optim_type == 'RMSProp':\n",
    "            self.optim = optim.RMSprop(self.parameters(), **optim_params)\n",
    "        elif optim_type == 'Adam':\n",
    "            self.optim = optim.Adam(self.parameters(), **optim_params)\n",
    "        \n",
    "    def conv(self, x):\n",
    "        l1 = self._conv1(x)\n",
    "        l2 = self._conv2(l1)\n",
    "        l3 = self._conv3(l2)\n",
    "        return l3, l2, l1\n",
    "        \n",
    "    def forward(self, x):\n",
    "        l3 = self.conv(x)[0]\n",
    "        flatten = l3.view(-1, 32*2*2)\n",
    "        self.h = self.fc(flatten)\n",
    "        return self.h\n",
    "    \n",
    "    def loss(self, output, target):\n",
    "        self._loss = F.cross_entropy(output, target)\n",
    "        return self._loss"
   ]
  },
  {
   "cell_type": "code",
   "execution_count": 7,
   "metadata": {},
   "outputs": [],
   "source": [
    "# models = {'SGD': Net(False, False, 'SGD', lr=1e-4),\n",
    "#           'momentum': Net(False, False, 'SGD', lr=1e-4, momentum=0.9),\n",
    "#           'RMSProp': Net(False, False, 'RMSProp', lr=1e-4),\n",
    "#           'RMSProp+bn': Net(True, False, 'RMSProp', lr=1e-4),\n",
    "#           'Adam': Net(False, False, 'Adam', lr=1e-4), \n",
    "#           'Adam+bn': Net(True, False, 'Adam', lr=1e-4), \n",
    "#          }\n",
    "\n",
    "models = {'Adam': Net(False, False, optim_type='Adam', lr=1e-4),}\n",
    "train_log = {k: [] for k in models}\n",
    "test_log = {k: [] for k in models}"
   ]
  },
  {
   "cell_type": "code",
   "execution_count": 8,
   "metadata": {},
   "outputs": [],
   "source": [
    "def train(epoch, models, log=None):\n",
    "    train_size = len(train_loader.sampler)\n",
    "    for batch_idx, (data, target) in enumerate(train_loader):\n",
    "        for model in models.values():\n",
    "            model.optim.zero_grad()\n",
    "            output = model(data)\n",
    "            loss = model.loss(output, target)\n",
    "            loss.backward()\n",
    "            model.optim.step()\n",
    "            \n",
    "        if batch_idx % 200 == 0:\n",
    "            line = 'Train Epoch: {} [{}/{} ({:.0f}%)]\\tLosses '.format(\n",
    "                epoch, batch_idx * len(data), train_size, 100. * batch_idx / len(train_loader))\n",
    "            losses = ' '.join(['{}: {:.4f}'.format(k, m._loss.item()) for k, m in models.items()])\n",
    "            print(line + losses)\n",
    "            \n",
    "    else:\n",
    "        batch_idx += 1\n",
    "        line = 'Train Epoch: {} [{}/{} ({:.0f}%)]\\tLosses '.format(\n",
    "            epoch, batch_idx * len(data), train_size, 100. * batch_idx / len(train_loader))\n",
    "        losses = ' '.join(['{}: {:.4f}'.format(k, m._loss.item()) for k, m in models.items()])\n",
    "        if log is not None:\n",
    "            for k in models:\n",
    "                log[k].append((models[k]._loss,))\n",
    "        print(line + losses)"
   ]
  },
  {
   "cell_type": "code",
   "execution_count": 9,
   "metadata": {},
   "outputs": [],
   "source": [
    "def test(models, loader, log=None):\n",
    "    test_size = len(loader)\n",
    "    test_loss = {k: 0. for k in models}\n",
    "    with torch.no_grad():\n",
    "        for data, target in loader:\n",
    "            output = {k: m(data) for k, m in models.items()}\n",
    "            for k, m in models.items():\n",
    "                test_loss[k] += m.loss(output[k], target).item() # sum up batch loss\n",
    "    \n",
    "    for k in models:\n",
    "        test_loss[k] /= test_size\n",
    "    report = 'Test losses: ' + ' '.join(['{}: {:.4f}'.format(k, test_loss[k]) for k in test_loss])\n",
    "    if log is not None:\n",
    "        for k in models:\n",
    "            log[k].append((test_loss[k],))\n",
    "    print(report)"
   ]
  },
  {
   "cell_type": "code",
   "execution_count": 10,
   "metadata": {},
   "outputs": [
    {
     "name": "stdout",
     "output_type": "stream",
     "text": [
      "Train Epoch: 1 [0/50000 (0%)]\tLosses Adam: 2.3082\n",
      "Train Epoch: 1 [10000/50000 (20%)]\tLosses Adam: 1.5227\n",
      "Train Epoch: 1 [20000/50000 (40%)]\tLosses Adam: 0.8559\n",
      "Train Epoch: 1 [30000/50000 (60%)]\tLosses Adam: 0.6931\n",
      "Train Epoch: 1 [40000/50000 (80%)]\tLosses Adam: 0.4653\n",
      "Train Epoch: 1 [50000/50000 (100%)]\tLosses Adam: 0.3906\n",
      "Test losses: Adam: 0.4881\n",
      "Train Epoch: 2 [0/50000 (0%)]\tLosses Adam: 0.6588\n",
      "Train Epoch: 2 [10000/50000 (20%)]\tLosses Adam: 0.3422\n",
      "Train Epoch: 2 [20000/50000 (40%)]\tLosses Adam: 0.3448\n",
      "Train Epoch: 2 [30000/50000 (60%)]\tLosses Adam: 0.4669\n",
      "Train Epoch: 2 [40000/50000 (80%)]\tLosses Adam: 0.3936\n",
      "Train Epoch: 2 [50000/50000 (100%)]\tLosses Adam: 0.5954\n",
      "Test losses: Adam: 0.3543\n",
      "Train Epoch: 3 [0/50000 (0%)]\tLosses Adam: 0.3284\n",
      "Train Epoch: 3 [10000/50000 (20%)]\tLosses Adam: 0.3382\n",
      "Train Epoch: 3 [20000/50000 (40%)]\tLosses Adam: 0.1454\n",
      "Train Epoch: 3 [30000/50000 (60%)]\tLosses Adam: 0.2694\n",
      "Train Epoch: 3 [40000/50000 (80%)]\tLosses Adam: 0.3189\n",
      "Train Epoch: 3 [50000/50000 (100%)]\tLosses Adam: 0.0899\n",
      "Test losses: Adam: 0.2909\n",
      "Train Epoch: 4 [0/50000 (0%)]\tLosses Adam: 0.3188\n",
      "Train Epoch: 4 [10000/50000 (20%)]\tLosses Adam: 0.2866\n",
      "Train Epoch: 4 [20000/50000 (40%)]\tLosses Adam: 0.2292\n",
      "Train Epoch: 4 [30000/50000 (60%)]\tLosses Adam: 0.2636\n",
      "Train Epoch: 4 [40000/50000 (80%)]\tLosses Adam: 0.2601\n",
      "Train Epoch: 4 [50000/50000 (100%)]\tLosses Adam: 0.2111\n",
      "Test losses: Adam: 0.2519\n",
      "Train Epoch: 5 [0/50000 (0%)]\tLosses Adam: 0.1889\n",
      "Train Epoch: 5 [10000/50000 (20%)]\tLosses Adam: 0.2446\n",
      "Train Epoch: 5 [20000/50000 (40%)]\tLosses Adam: 0.3552\n",
      "Train Epoch: 5 [30000/50000 (60%)]\tLosses Adam: 0.2837\n",
      "Train Epoch: 5 [40000/50000 (80%)]\tLosses Adam: 0.2686\n",
      "Train Epoch: 5 [50000/50000 (100%)]\tLosses Adam: 0.1248\n",
      "Test losses: Adam: 0.2193\n",
      "Train Epoch: 6 [0/50000 (0%)]\tLosses Adam: 0.3403\n",
      "Train Epoch: 6 [10000/50000 (20%)]\tLosses Adam: 0.3425\n",
      "Train Epoch: 6 [20000/50000 (40%)]\tLosses Adam: 0.2138\n",
      "Train Epoch: 6 [30000/50000 (60%)]\tLosses Adam: 0.1730\n",
      "Train Epoch: 6 [40000/50000 (80%)]\tLosses Adam: 0.1626\n",
      "Train Epoch: 6 [50000/50000 (100%)]\tLosses Adam: 0.1086\n",
      "Test losses: Adam: 0.1952\n",
      "Train Epoch: 7 [0/50000 (0%)]\tLosses Adam: 0.1252\n",
      "Train Epoch: 7 [10000/50000 (20%)]\tLosses Adam: 0.2375\n",
      "Train Epoch: 7 [20000/50000 (40%)]\tLosses Adam: 0.0867\n",
      "Train Epoch: 7 [30000/50000 (60%)]\tLosses Adam: 0.3381\n",
      "Train Epoch: 7 [40000/50000 (80%)]\tLosses Adam: 0.2345\n",
      "Train Epoch: 7 [50000/50000 (100%)]\tLosses Adam: 0.2597\n",
      "Test losses: Adam: 0.1763\n",
      "Train Epoch: 8 [0/50000 (0%)]\tLosses Adam: 0.1350\n",
      "Train Epoch: 8 [10000/50000 (20%)]\tLosses Adam: 0.1742\n",
      "Train Epoch: 8 [20000/50000 (40%)]\tLosses Adam: 0.0989\n",
      "Train Epoch: 8 [30000/50000 (60%)]\tLosses Adam: 0.2977\n",
      "Train Epoch: 8 [40000/50000 (80%)]\tLosses Adam: 0.1838\n",
      "Train Epoch: 8 [50000/50000 (100%)]\tLosses Adam: 0.2124\n",
      "Test losses: Adam: 0.1603\n",
      "Train Epoch: 9 [0/50000 (0%)]\tLosses Adam: 0.1514\n",
      "Train Epoch: 9 [10000/50000 (20%)]\tLosses Adam: 0.0831\n",
      "Train Epoch: 9 [20000/50000 (40%)]\tLosses Adam: 0.0513\n",
      "Train Epoch: 9 [30000/50000 (60%)]\tLosses Adam: 0.0813\n",
      "Train Epoch: 9 [40000/50000 (80%)]\tLosses Adam: 0.1133\n",
      "Train Epoch: 9 [50000/50000 (100%)]\tLosses Adam: 0.1080\n",
      "Test losses: Adam: 0.1462\n",
      "Train Epoch: 10 [0/50000 (0%)]\tLosses Adam: 0.0623\n",
      "Train Epoch: 10 [10000/50000 (20%)]\tLosses Adam: 0.3410\n",
      "Train Epoch: 10 [20000/50000 (40%)]\tLosses Adam: 0.1665\n",
      "Train Epoch: 10 [30000/50000 (60%)]\tLosses Adam: 0.0591\n",
      "Train Epoch: 10 [40000/50000 (80%)]\tLosses Adam: 0.0528\n",
      "Train Epoch: 10 [50000/50000 (100%)]\tLosses Adam: 0.1024\n",
      "Test losses: Adam: 0.1355\n",
      "Train Epoch: 11 [0/50000 (0%)]\tLosses Adam: 0.1223\n",
      "Train Epoch: 11 [10000/50000 (20%)]\tLosses Adam: 0.0583\n",
      "Train Epoch: 11 [20000/50000 (40%)]\tLosses Adam: 0.0831\n",
      "Train Epoch: 11 [30000/50000 (60%)]\tLosses Adam: 0.1045\n",
      "Train Epoch: 11 [40000/50000 (80%)]\tLosses Adam: 0.1618\n",
      "Train Epoch: 11 [50000/50000 (100%)]\tLosses Adam: 0.0939\n",
      "Test losses: Adam: 0.1256\n",
      "Train Epoch: 12 [0/50000 (0%)]\tLosses Adam: 0.0449\n",
      "Train Epoch: 12 [10000/50000 (20%)]\tLosses Adam: 0.1826\n",
      "Train Epoch: 12 [20000/50000 (40%)]\tLosses Adam: 0.0932\n",
      "Train Epoch: 12 [30000/50000 (60%)]\tLosses Adam: 0.0316\n",
      "Train Epoch: 12 [40000/50000 (80%)]\tLosses Adam: 0.0308\n",
      "Train Epoch: 12 [50000/50000 (100%)]\tLosses Adam: 0.0802\n",
      "Test losses: Adam: 0.1161\n",
      "Train Epoch: 13 [0/50000 (0%)]\tLosses Adam: 0.1142\n",
      "Train Epoch: 13 [10000/50000 (20%)]\tLosses Adam: 0.0521\n",
      "Train Epoch: 13 [20000/50000 (40%)]\tLosses Adam: 0.1384\n",
      "Train Epoch: 13 [30000/50000 (60%)]\tLosses Adam: 0.1696\n",
      "Train Epoch: 13 [40000/50000 (80%)]\tLosses Adam: 0.1807\n",
      "Train Epoch: 13 [50000/50000 (100%)]\tLosses Adam: 0.1310\n",
      "Test losses: Adam: 0.1100\n",
      "Train Epoch: 14 [0/50000 (0%)]\tLosses Adam: 0.0547\n",
      "Train Epoch: 14 [10000/50000 (20%)]\tLosses Adam: 0.2951\n",
      "Train Epoch: 14 [20000/50000 (40%)]\tLosses Adam: 0.1130\n",
      "Train Epoch: 14 [30000/50000 (60%)]\tLosses Adam: 0.0292\n",
      "Train Epoch: 14 [40000/50000 (80%)]\tLosses Adam: 0.0781\n",
      "Train Epoch: 14 [50000/50000 (100%)]\tLosses Adam: 0.0451\n",
      "Test losses: Adam: 0.1037\n",
      "Train Epoch: 15 [0/50000 (0%)]\tLosses Adam: 0.0461\n",
      "Train Epoch: 15 [10000/50000 (20%)]\tLosses Adam: 0.0877\n",
      "Train Epoch: 15 [20000/50000 (40%)]\tLosses Adam: 0.1268\n",
      "Train Epoch: 15 [30000/50000 (60%)]\tLosses Adam: 0.0597\n",
      "Train Epoch: 15 [40000/50000 (80%)]\tLosses Adam: 0.0200\n",
      "Train Epoch: 15 [50000/50000 (100%)]\tLosses Adam: 0.0942\n",
      "Test losses: Adam: 0.0987\n",
      "Train Epoch: 16 [0/50000 (0%)]\tLosses Adam: 0.1767\n",
      "Train Epoch: 16 [10000/50000 (20%)]\tLosses Adam: 0.0391\n",
      "Train Epoch: 16 [20000/50000 (40%)]\tLosses Adam: 0.0629\n",
      "Train Epoch: 16 [30000/50000 (60%)]\tLosses Adam: 0.0706\n",
      "Train Epoch: 16 [40000/50000 (80%)]\tLosses Adam: 0.0818\n",
      "Train Epoch: 16 [50000/50000 (100%)]\tLosses Adam: 0.0458\n",
      "Test losses: Adam: 0.0932\n",
      "Train Epoch: 17 [0/50000 (0%)]\tLosses Adam: 0.2927\n",
      "Train Epoch: 17 [10000/50000 (20%)]\tLosses Adam: 0.1055\n",
      "Train Epoch: 17 [20000/50000 (40%)]\tLosses Adam: 0.0362\n",
      "Train Epoch: 17 [30000/50000 (60%)]\tLosses Adam: 0.1772\n",
      "Train Epoch: 17 [40000/50000 (80%)]\tLosses Adam: 0.0307\n",
      "Train Epoch: 17 [50000/50000 (100%)]\tLosses Adam: 0.0249\n",
      "Test losses: Adam: 0.0895\n",
      "Train Epoch: 18 [0/50000 (0%)]\tLosses Adam: 0.0321\n",
      "Train Epoch: 18 [10000/50000 (20%)]\tLosses Adam: 0.0268\n",
      "Train Epoch: 18 [20000/50000 (40%)]\tLosses Adam: 0.0477\n",
      "Train Epoch: 18 [30000/50000 (60%)]\tLosses Adam: 0.0127\n",
      "Train Epoch: 18 [40000/50000 (80%)]\tLosses Adam: 0.0724\n",
      "Train Epoch: 18 [50000/50000 (100%)]\tLosses Adam: 0.1688\n",
      "Test losses: Adam: 0.0864\n",
      "Train Epoch: 19 [0/50000 (0%)]\tLosses Adam: 0.0302\n",
      "Train Epoch: 19 [10000/50000 (20%)]\tLosses Adam: 0.1216\n",
      "Train Epoch: 19 [20000/50000 (40%)]\tLosses Adam: 0.0977\n",
      "Train Epoch: 19 [30000/50000 (60%)]\tLosses Adam: 0.0993\n",
      "Train Epoch: 19 [40000/50000 (80%)]\tLosses Adam: 0.0976\n",
      "Train Epoch: 19 [50000/50000 (100%)]\tLosses Adam: 0.0249\n",
      "Test losses: Adam: 0.0825\n",
      "Train Epoch: 20 [0/50000 (0%)]\tLosses Adam: 0.1287\n",
      "Train Epoch: 20 [10000/50000 (20%)]\tLosses Adam: 0.0510\n",
      "Train Epoch: 20 [20000/50000 (40%)]\tLosses Adam: 0.0678\n",
      "Train Epoch: 20 [30000/50000 (60%)]\tLosses Adam: 0.1459\n",
      "Train Epoch: 20 [40000/50000 (80%)]\tLosses Adam: 0.0404\n",
      "Train Epoch: 20 [50000/50000 (100%)]\tLosses Adam: 0.0104\n",
      "Test losses: Adam: 0.0801\n",
      "Train Epoch: 21 [0/50000 (0%)]\tLosses Adam: 0.0621\n",
      "Train Epoch: 21 [10000/50000 (20%)]\tLosses Adam: 0.0633\n",
      "Train Epoch: 21 [20000/50000 (40%)]\tLosses Adam: 0.0258\n",
      "Train Epoch: 21 [30000/50000 (60%)]\tLosses Adam: 0.1237\n",
      "Train Epoch: 21 [40000/50000 (80%)]\tLosses Adam: 0.0700\n",
      "Train Epoch: 21 [50000/50000 (100%)]\tLosses Adam: 0.0638\n",
      "Test losses: Adam: 0.0771\n",
      "Train Epoch: 22 [0/50000 (0%)]\tLosses Adam: 0.0592\n",
      "Train Epoch: 22 [10000/50000 (20%)]\tLosses Adam: 0.0912\n"
     ]
    },
    {
     "ename": "KeyboardInterrupt",
     "evalue": "",
     "output_type": "error",
     "traceback": [
      "\u001b[0;31m---------------------------------------------------------------------------\u001b[0m",
      "\u001b[0;31mKeyboardInterrupt\u001b[0m                         Traceback (most recent call last)",
      "\u001b[0;32m<ipython-input-10-08d86cc8b607>\u001b[0m in \u001b[0;36m<module>\u001b[0;34m()\u001b[0m\n\u001b[1;32m      2\u001b[0m     \u001b[0;32mfor\u001b[0m \u001b[0mmodel\u001b[0m \u001b[0;32min\u001b[0m \u001b[0mmodels\u001b[0m\u001b[0;34m.\u001b[0m\u001b[0mvalues\u001b[0m\u001b[0;34m(\u001b[0m\u001b[0;34m)\u001b[0m\u001b[0;34m:\u001b[0m\u001b[0;34m\u001b[0m\u001b[0m\n\u001b[1;32m      3\u001b[0m         \u001b[0mmodel\u001b[0m\u001b[0;34m.\u001b[0m\u001b[0mtrain\u001b[0m\u001b[0;34m(\u001b[0m\u001b[0;34m)\u001b[0m\u001b[0;34m\u001b[0m\u001b[0m\n\u001b[0;32m----> 4\u001b[0;31m     \u001b[0mtrain\u001b[0m\u001b[0;34m(\u001b[0m\u001b[0mepoch\u001b[0m\u001b[0;34m,\u001b[0m \u001b[0mmodels\u001b[0m\u001b[0;34m,\u001b[0m \u001b[0mtrain_log\u001b[0m\u001b[0;34m)\u001b[0m\u001b[0;34m\u001b[0m\u001b[0m\n\u001b[0m\u001b[1;32m      5\u001b[0m     \u001b[0;32mfor\u001b[0m \u001b[0mmodel\u001b[0m \u001b[0;32min\u001b[0m \u001b[0mmodels\u001b[0m\u001b[0;34m.\u001b[0m\u001b[0mvalues\u001b[0m\u001b[0;34m(\u001b[0m\u001b[0;34m)\u001b[0m\u001b[0;34m:\u001b[0m\u001b[0;34m\u001b[0m\u001b[0m\n\u001b[1;32m      6\u001b[0m         \u001b[0mmodel\u001b[0m\u001b[0;34m.\u001b[0m\u001b[0meval\u001b[0m\u001b[0;34m(\u001b[0m\u001b[0;34m)\u001b[0m\u001b[0;34m\u001b[0m\u001b[0m\n",
      "\u001b[0;32m<ipython-input-8-37b13d07dec5>\u001b[0m in \u001b[0;36mtrain\u001b[0;34m(epoch, models, log)\u001b[0m\n\u001b[1;32m      4\u001b[0m         \u001b[0;32mfor\u001b[0m \u001b[0mmodel\u001b[0m \u001b[0;32min\u001b[0m \u001b[0mmodels\u001b[0m\u001b[0;34m.\u001b[0m\u001b[0mvalues\u001b[0m\u001b[0;34m(\u001b[0m\u001b[0;34m)\u001b[0m\u001b[0;34m:\u001b[0m\u001b[0;34m\u001b[0m\u001b[0m\n\u001b[1;32m      5\u001b[0m             \u001b[0mmodel\u001b[0m\u001b[0;34m.\u001b[0m\u001b[0moptim\u001b[0m\u001b[0;34m.\u001b[0m\u001b[0mzero_grad\u001b[0m\u001b[0;34m(\u001b[0m\u001b[0;34m)\u001b[0m\u001b[0;34m\u001b[0m\u001b[0m\n\u001b[0;32m----> 6\u001b[0;31m             \u001b[0moutput\u001b[0m \u001b[0;34m=\u001b[0m \u001b[0mmodel\u001b[0m\u001b[0;34m(\u001b[0m\u001b[0mdata\u001b[0m\u001b[0;34m)\u001b[0m\u001b[0;34m\u001b[0m\u001b[0m\n\u001b[0m\u001b[1;32m      7\u001b[0m             \u001b[0mloss\u001b[0m \u001b[0;34m=\u001b[0m \u001b[0mmodel\u001b[0m\u001b[0;34m.\u001b[0m\u001b[0mloss\u001b[0m\u001b[0;34m(\u001b[0m\u001b[0moutput\u001b[0m\u001b[0;34m,\u001b[0m \u001b[0mtarget\u001b[0m\u001b[0;34m)\u001b[0m\u001b[0;34m\u001b[0m\u001b[0m\n\u001b[1;32m      8\u001b[0m             \u001b[0mloss\u001b[0m\u001b[0;34m.\u001b[0m\u001b[0mbackward\u001b[0m\u001b[0;34m(\u001b[0m\u001b[0;34m)\u001b[0m\u001b[0;34m\u001b[0m\u001b[0m\n",
      "\u001b[0;32m/opt/conda/lib/python3.6/site-packages/torch/nn/modules/module.py\u001b[0m in \u001b[0;36m__call__\u001b[0;34m(self, *input, **kwargs)\u001b[0m\n\u001b[1;32m    489\u001b[0m             \u001b[0mresult\u001b[0m \u001b[0;34m=\u001b[0m \u001b[0mself\u001b[0m\u001b[0;34m.\u001b[0m\u001b[0m_slow_forward\u001b[0m\u001b[0;34m(\u001b[0m\u001b[0;34m*\u001b[0m\u001b[0minput\u001b[0m\u001b[0;34m,\u001b[0m \u001b[0;34m**\u001b[0m\u001b[0mkwargs\u001b[0m\u001b[0;34m)\u001b[0m\u001b[0;34m\u001b[0m\u001b[0m\n\u001b[1;32m    490\u001b[0m         \u001b[0;32melse\u001b[0m\u001b[0;34m:\u001b[0m\u001b[0;34m\u001b[0m\u001b[0m\n\u001b[0;32m--> 491\u001b[0;31m             \u001b[0mresult\u001b[0m \u001b[0;34m=\u001b[0m \u001b[0mself\u001b[0m\u001b[0;34m.\u001b[0m\u001b[0mforward\u001b[0m\u001b[0;34m(\u001b[0m\u001b[0;34m*\u001b[0m\u001b[0minput\u001b[0m\u001b[0;34m,\u001b[0m \u001b[0;34m**\u001b[0m\u001b[0mkwargs\u001b[0m\u001b[0;34m)\u001b[0m\u001b[0;34m\u001b[0m\u001b[0m\n\u001b[0m\u001b[1;32m    492\u001b[0m         \u001b[0;32mfor\u001b[0m \u001b[0mhook\u001b[0m \u001b[0;32min\u001b[0m \u001b[0mself\u001b[0m\u001b[0;34m.\u001b[0m\u001b[0m_forward_hooks\u001b[0m\u001b[0;34m.\u001b[0m\u001b[0mvalues\u001b[0m\u001b[0;34m(\u001b[0m\u001b[0;34m)\u001b[0m\u001b[0;34m:\u001b[0m\u001b[0;34m\u001b[0m\u001b[0m\n\u001b[1;32m    493\u001b[0m             \u001b[0mhook_result\u001b[0m \u001b[0;34m=\u001b[0m \u001b[0mhook\u001b[0m\u001b[0;34m(\u001b[0m\u001b[0mself\u001b[0m\u001b[0;34m,\u001b[0m \u001b[0minput\u001b[0m\u001b[0;34m,\u001b[0m \u001b[0mresult\u001b[0m\u001b[0;34m)\u001b[0m\u001b[0;34m\u001b[0m\u001b[0m\n",
      "\u001b[0;32m<ipython-input-6-66c9cddcf1d2>\u001b[0m in \u001b[0;36mforward\u001b[0;34m(self, x)\u001b[0m\n\u001b[1;32m     29\u001b[0m \u001b[0;34m\u001b[0m\u001b[0m\n\u001b[1;32m     30\u001b[0m     \u001b[0;32mdef\u001b[0m \u001b[0mforward\u001b[0m\u001b[0;34m(\u001b[0m\u001b[0mself\u001b[0m\u001b[0;34m,\u001b[0m \u001b[0mx\u001b[0m\u001b[0;34m)\u001b[0m\u001b[0;34m:\u001b[0m\u001b[0;34m\u001b[0m\u001b[0m\n\u001b[0;32m---> 31\u001b[0;31m         \u001b[0ml3\u001b[0m \u001b[0;34m=\u001b[0m \u001b[0mself\u001b[0m\u001b[0;34m.\u001b[0m\u001b[0mconv\u001b[0m\u001b[0;34m(\u001b[0m\u001b[0mx\u001b[0m\u001b[0;34m)\u001b[0m\u001b[0;34m[\u001b[0m\u001b[0;36m0\u001b[0m\u001b[0;34m]\u001b[0m\u001b[0;34m\u001b[0m\u001b[0m\n\u001b[0m\u001b[1;32m     32\u001b[0m         \u001b[0mflatten\u001b[0m \u001b[0;34m=\u001b[0m \u001b[0ml3\u001b[0m\u001b[0;34m.\u001b[0m\u001b[0mview\u001b[0m\u001b[0;34m(\u001b[0m\u001b[0;34m-\u001b[0m\u001b[0;36m1\u001b[0m\u001b[0;34m,\u001b[0m \u001b[0;36m32\u001b[0m\u001b[0;34m*\u001b[0m\u001b[0;36m2\u001b[0m\u001b[0;34m*\u001b[0m\u001b[0;36m2\u001b[0m\u001b[0;34m)\u001b[0m\u001b[0;34m\u001b[0m\u001b[0m\n\u001b[1;32m     33\u001b[0m         \u001b[0mself\u001b[0m\u001b[0;34m.\u001b[0m\u001b[0mh\u001b[0m \u001b[0;34m=\u001b[0m \u001b[0mself\u001b[0m\u001b[0;34m.\u001b[0m\u001b[0mfc\u001b[0m\u001b[0;34m(\u001b[0m\u001b[0mflatten\u001b[0m\u001b[0;34m)\u001b[0m\u001b[0;34m\u001b[0m\u001b[0m\n",
      "\u001b[0;32m<ipython-input-6-66c9cddcf1d2>\u001b[0m in \u001b[0;36mconv\u001b[0;34m(self, x)\u001b[0m\n\u001b[1;32m     25\u001b[0m         \u001b[0ml1\u001b[0m \u001b[0;34m=\u001b[0m \u001b[0mself\u001b[0m\u001b[0;34m.\u001b[0m\u001b[0m_conv1\u001b[0m\u001b[0;34m(\u001b[0m\u001b[0mx\u001b[0m\u001b[0;34m)\u001b[0m\u001b[0;34m\u001b[0m\u001b[0m\n\u001b[1;32m     26\u001b[0m         \u001b[0ml2\u001b[0m \u001b[0;34m=\u001b[0m \u001b[0mself\u001b[0m\u001b[0;34m.\u001b[0m\u001b[0m_conv2\u001b[0m\u001b[0;34m(\u001b[0m\u001b[0ml1\u001b[0m\u001b[0;34m)\u001b[0m\u001b[0;34m\u001b[0m\u001b[0m\n\u001b[0;32m---> 27\u001b[0;31m         \u001b[0ml3\u001b[0m \u001b[0;34m=\u001b[0m \u001b[0mself\u001b[0m\u001b[0;34m.\u001b[0m\u001b[0m_conv3\u001b[0m\u001b[0;34m(\u001b[0m\u001b[0ml2\u001b[0m\u001b[0;34m)\u001b[0m\u001b[0;34m\u001b[0m\u001b[0m\n\u001b[0m\u001b[1;32m     28\u001b[0m         \u001b[0;32mreturn\u001b[0m \u001b[0ml3\u001b[0m\u001b[0;34m,\u001b[0m \u001b[0ml2\u001b[0m\u001b[0;34m,\u001b[0m \u001b[0ml1\u001b[0m\u001b[0;34m\u001b[0m\u001b[0m\n\u001b[1;32m     29\u001b[0m \u001b[0;34m\u001b[0m\u001b[0m\n",
      "\u001b[0;32m/opt/conda/lib/python3.6/site-packages/torch/nn/modules/module.py\u001b[0m in \u001b[0;36m__call__\u001b[0;34m(self, *input, **kwargs)\u001b[0m\n\u001b[1;32m    489\u001b[0m             \u001b[0mresult\u001b[0m \u001b[0;34m=\u001b[0m \u001b[0mself\u001b[0m\u001b[0;34m.\u001b[0m\u001b[0m_slow_forward\u001b[0m\u001b[0;34m(\u001b[0m\u001b[0;34m*\u001b[0m\u001b[0minput\u001b[0m\u001b[0;34m,\u001b[0m \u001b[0;34m**\u001b[0m\u001b[0mkwargs\u001b[0m\u001b[0;34m)\u001b[0m\u001b[0;34m\u001b[0m\u001b[0m\n\u001b[1;32m    490\u001b[0m         \u001b[0;32melse\u001b[0m\u001b[0;34m:\u001b[0m\u001b[0;34m\u001b[0m\u001b[0m\n\u001b[0;32m--> 491\u001b[0;31m             \u001b[0mresult\u001b[0m \u001b[0;34m=\u001b[0m \u001b[0mself\u001b[0m\u001b[0;34m.\u001b[0m\u001b[0mforward\u001b[0m\u001b[0;34m(\u001b[0m\u001b[0;34m*\u001b[0m\u001b[0minput\u001b[0m\u001b[0;34m,\u001b[0m \u001b[0;34m**\u001b[0m\u001b[0mkwargs\u001b[0m\u001b[0;34m)\u001b[0m\u001b[0;34m\u001b[0m\u001b[0m\n\u001b[0m\u001b[1;32m    492\u001b[0m         \u001b[0;32mfor\u001b[0m \u001b[0mhook\u001b[0m \u001b[0;32min\u001b[0m \u001b[0mself\u001b[0m\u001b[0;34m.\u001b[0m\u001b[0m_forward_hooks\u001b[0m\u001b[0;34m.\u001b[0m\u001b[0mvalues\u001b[0m\u001b[0;34m(\u001b[0m\u001b[0;34m)\u001b[0m\u001b[0;34m:\u001b[0m\u001b[0;34m\u001b[0m\u001b[0m\n\u001b[1;32m    493\u001b[0m             \u001b[0mhook_result\u001b[0m \u001b[0;34m=\u001b[0m \u001b[0mhook\u001b[0m\u001b[0;34m(\u001b[0m\u001b[0mself\u001b[0m\u001b[0;34m,\u001b[0m \u001b[0minput\u001b[0m\u001b[0;34m,\u001b[0m \u001b[0mresult\u001b[0m\u001b[0;34m)\u001b[0m\u001b[0;34m\u001b[0m\u001b[0m\n",
      "\u001b[0;32m<ipython-input-4-f98529e74821>\u001b[0m in \u001b[0;36mforward\u001b[0;34m(self, x)\u001b[0m\n\u001b[1;32m     16\u001b[0m \u001b[0;34m\u001b[0m\u001b[0m\n\u001b[1;32m     17\u001b[0m     \u001b[0;32mdef\u001b[0m \u001b[0mforward\u001b[0m\u001b[0;34m(\u001b[0m\u001b[0mself\u001b[0m\u001b[0;34m,\u001b[0m \u001b[0mx\u001b[0m\u001b[0;34m)\u001b[0m\u001b[0;34m:\u001b[0m\u001b[0;34m\u001b[0m\u001b[0m\n\u001b[0;32m---> 18\u001b[0;31m         \u001b[0;32mreturn\u001b[0m \u001b[0mself\u001b[0m\u001b[0;34m.\u001b[0m\u001b[0mmodel\u001b[0m\u001b[0;34m(\u001b[0m\u001b[0mx\u001b[0m\u001b[0;34m)\u001b[0m\u001b[0;34m\u001b[0m\u001b[0m\n\u001b[0m",
      "\u001b[0;32m/opt/conda/lib/python3.6/site-packages/torch/nn/modules/module.py\u001b[0m in \u001b[0;36m__call__\u001b[0;34m(self, *input, **kwargs)\u001b[0m\n\u001b[1;32m    489\u001b[0m             \u001b[0mresult\u001b[0m \u001b[0;34m=\u001b[0m \u001b[0mself\u001b[0m\u001b[0;34m.\u001b[0m\u001b[0m_slow_forward\u001b[0m\u001b[0;34m(\u001b[0m\u001b[0;34m*\u001b[0m\u001b[0minput\u001b[0m\u001b[0;34m,\u001b[0m \u001b[0;34m**\u001b[0m\u001b[0mkwargs\u001b[0m\u001b[0;34m)\u001b[0m\u001b[0;34m\u001b[0m\u001b[0m\n\u001b[1;32m    490\u001b[0m         \u001b[0;32melse\u001b[0m\u001b[0;34m:\u001b[0m\u001b[0;34m\u001b[0m\u001b[0m\n\u001b[0;32m--> 491\u001b[0;31m             \u001b[0mresult\u001b[0m \u001b[0;34m=\u001b[0m \u001b[0mself\u001b[0m\u001b[0;34m.\u001b[0m\u001b[0mforward\u001b[0m\u001b[0;34m(\u001b[0m\u001b[0;34m*\u001b[0m\u001b[0minput\u001b[0m\u001b[0;34m,\u001b[0m \u001b[0;34m**\u001b[0m\u001b[0mkwargs\u001b[0m\u001b[0;34m)\u001b[0m\u001b[0;34m\u001b[0m\u001b[0m\n\u001b[0m\u001b[1;32m    492\u001b[0m         \u001b[0;32mfor\u001b[0m \u001b[0mhook\u001b[0m \u001b[0;32min\u001b[0m \u001b[0mself\u001b[0m\u001b[0;34m.\u001b[0m\u001b[0m_forward_hooks\u001b[0m\u001b[0;34m.\u001b[0m\u001b[0mvalues\u001b[0m\u001b[0;34m(\u001b[0m\u001b[0;34m)\u001b[0m\u001b[0;34m:\u001b[0m\u001b[0;34m\u001b[0m\u001b[0m\n\u001b[1;32m    493\u001b[0m             \u001b[0mhook_result\u001b[0m \u001b[0;34m=\u001b[0m \u001b[0mhook\u001b[0m\u001b[0;34m(\u001b[0m\u001b[0mself\u001b[0m\u001b[0;34m,\u001b[0m \u001b[0minput\u001b[0m\u001b[0;34m,\u001b[0m \u001b[0mresult\u001b[0m\u001b[0;34m)\u001b[0m\u001b[0;34m\u001b[0m\u001b[0m\n",
      "\u001b[0;32m/opt/conda/lib/python3.6/site-packages/torch/nn/modules/container.py\u001b[0m in \u001b[0;36mforward\u001b[0;34m(self, input)\u001b[0m\n\u001b[1;32m     89\u001b[0m     \u001b[0;32mdef\u001b[0m \u001b[0mforward\u001b[0m\u001b[0;34m(\u001b[0m\u001b[0mself\u001b[0m\u001b[0;34m,\u001b[0m \u001b[0minput\u001b[0m\u001b[0;34m)\u001b[0m\u001b[0;34m:\u001b[0m\u001b[0;34m\u001b[0m\u001b[0m\n\u001b[1;32m     90\u001b[0m         \u001b[0;32mfor\u001b[0m \u001b[0mmodule\u001b[0m \u001b[0;32min\u001b[0m \u001b[0mself\u001b[0m\u001b[0;34m.\u001b[0m\u001b[0m_modules\u001b[0m\u001b[0;34m.\u001b[0m\u001b[0mvalues\u001b[0m\u001b[0;34m(\u001b[0m\u001b[0;34m)\u001b[0m\u001b[0;34m:\u001b[0m\u001b[0;34m\u001b[0m\u001b[0m\n\u001b[0;32m---> 91\u001b[0;31m             \u001b[0minput\u001b[0m \u001b[0;34m=\u001b[0m \u001b[0mmodule\u001b[0m\u001b[0;34m(\u001b[0m\u001b[0minput\u001b[0m\u001b[0;34m)\u001b[0m\u001b[0;34m\u001b[0m\u001b[0m\n\u001b[0m\u001b[1;32m     92\u001b[0m         \u001b[0;32mreturn\u001b[0m \u001b[0minput\u001b[0m\u001b[0;34m\u001b[0m\u001b[0m\n\u001b[1;32m     93\u001b[0m \u001b[0;34m\u001b[0m\u001b[0m\n",
      "\u001b[0;32m/opt/conda/lib/python3.6/site-packages/torch/nn/modules/module.py\u001b[0m in \u001b[0;36m__call__\u001b[0;34m(self, *input, **kwargs)\u001b[0m\n\u001b[1;32m    489\u001b[0m             \u001b[0mresult\u001b[0m \u001b[0;34m=\u001b[0m \u001b[0mself\u001b[0m\u001b[0;34m.\u001b[0m\u001b[0m_slow_forward\u001b[0m\u001b[0;34m(\u001b[0m\u001b[0;34m*\u001b[0m\u001b[0minput\u001b[0m\u001b[0;34m,\u001b[0m \u001b[0;34m**\u001b[0m\u001b[0mkwargs\u001b[0m\u001b[0;34m)\u001b[0m\u001b[0;34m\u001b[0m\u001b[0m\n\u001b[1;32m    490\u001b[0m         \u001b[0;32melse\u001b[0m\u001b[0;34m:\u001b[0m\u001b[0;34m\u001b[0m\u001b[0m\n\u001b[0;32m--> 491\u001b[0;31m             \u001b[0mresult\u001b[0m \u001b[0;34m=\u001b[0m \u001b[0mself\u001b[0m\u001b[0;34m.\u001b[0m\u001b[0mforward\u001b[0m\u001b[0;34m(\u001b[0m\u001b[0;34m*\u001b[0m\u001b[0minput\u001b[0m\u001b[0;34m,\u001b[0m \u001b[0;34m**\u001b[0m\u001b[0mkwargs\u001b[0m\u001b[0;34m)\u001b[0m\u001b[0;34m\u001b[0m\u001b[0m\n\u001b[0m\u001b[1;32m    492\u001b[0m         \u001b[0;32mfor\u001b[0m \u001b[0mhook\u001b[0m \u001b[0;32min\u001b[0m \u001b[0mself\u001b[0m\u001b[0;34m.\u001b[0m\u001b[0m_forward_hooks\u001b[0m\u001b[0;34m.\u001b[0m\u001b[0mvalues\u001b[0m\u001b[0;34m(\u001b[0m\u001b[0;34m)\u001b[0m\u001b[0;34m:\u001b[0m\u001b[0;34m\u001b[0m\u001b[0m\n\u001b[1;32m    493\u001b[0m             \u001b[0mhook_result\u001b[0m \u001b[0;34m=\u001b[0m \u001b[0mhook\u001b[0m\u001b[0;34m(\u001b[0m\u001b[0mself\u001b[0m\u001b[0;34m,\u001b[0m \u001b[0minput\u001b[0m\u001b[0;34m,\u001b[0m \u001b[0mresult\u001b[0m\u001b[0;34m)\u001b[0m\u001b[0;34m\u001b[0m\u001b[0m\n",
      "\u001b[0;32m/opt/conda/lib/python3.6/site-packages/torch/nn/modules/conv.py\u001b[0m in \u001b[0;36mforward\u001b[0;34m(self, input)\u001b[0m\n\u001b[1;32m    299\u001b[0m     \u001b[0;32mdef\u001b[0m \u001b[0mforward\u001b[0m\u001b[0;34m(\u001b[0m\u001b[0mself\u001b[0m\u001b[0;34m,\u001b[0m \u001b[0minput\u001b[0m\u001b[0;34m)\u001b[0m\u001b[0;34m:\u001b[0m\u001b[0;34m\u001b[0m\u001b[0m\n\u001b[1;32m    300\u001b[0m         return F.conv2d(input, self.weight, self.bias, self.stride,\n\u001b[0;32m--> 301\u001b[0;31m                         self.padding, self.dilation, self.groups)\n\u001b[0m\u001b[1;32m    302\u001b[0m \u001b[0;34m\u001b[0m\u001b[0m\n\u001b[1;32m    303\u001b[0m \u001b[0;34m\u001b[0m\u001b[0m\n",
      "\u001b[0;31mKeyboardInterrupt\u001b[0m: "
     ]
    }
   ],
   "source": [
    "for epoch in range(1, 31):\n",
    "    for model in models.values():\n",
    "        model.train()\n",
    "    train(epoch, models, train_log)\n",
    "    for model in models.values():\n",
    "        model.eval()\n",
    "    test(models, valid_loader, test_log)"
   ]
  },
  {
   "cell_type": "code",
   "execution_count": null,
   "metadata": {},
   "outputs": [],
   "source": []
  },
  {
   "cell_type": "code",
   "execution_count": 57,
   "metadata": {},
   "outputs": [],
   "source": [
    "img_w = nn.Parameter(torch.Tensor(size=[10, 1, 28, 28]))\n",
    "img_optim = optim.Adam(params=[img_w], lr=1e-2)"
   ]
  },
  {
   "cell_type": "code",
   "execution_count": 58,
   "metadata": {},
   "outputs": [],
   "source": [
    "target = torch.Tensor([0, 1, 2, 3, 4, 5, 6, 7, 8, 9]).to(torch.long)"
   ]
  },
  {
   "cell_type": "code",
   "execution_count": 59,
   "metadata": {},
   "outputs": [
    {
     "name": "stdout",
     "output_type": "stream",
     "text": [
      "7.123481750488281\n",
      "1.7395658493041992\n",
      "1.588777780532837\n",
      "1.5413315296173096\n",
      "1.5194791555404663\n",
      "1.512569785118103\n",
      "1.5096595287322998\n",
      "1.5079667568206787\n",
      "1.5069161653518677\n",
      "1.506453275680542\n"
     ]
    }
   ],
   "source": [
    "for i in range(10000):\n",
    "    img_optim.zero_grad()\n",
    "    img = F.sigmoid(img_w)\n",
    "    latent = models['Adam'](img)\n",
    "    loss = F.cross_entropy(latent, target)\n",
    "    loss.backward()\n",
    "    img_optim.step()\n",
    "    if i%1000 == 0:\n",
    "        print(loss.item())"
   ]
  },
  {
   "cell_type": "code",
   "execution_count": 62,
   "metadata": {},
   "outputs": [
    {
     "data": {
      "image/png": "[encoded data removed]",
      "text/plain": [
       "<Figure size 800x80 with 10 Axes>"
      ]
     },
     "metadata": {},
     "output_type": "display_data"
    }
   ],
   "source": [
    "img = F.sigmoid(img_w)\n",
    "plot_mnist(img.detach().numpy(), (1, 10)) "
   ]
  },
  {
   "cell_type": "code",
   "execution_count": 63,
   "metadata": {},
   "outputs": [],
   "source": [
    "img_w = nn.Parameter(torch.Tensor(size=[32, 1, 18, 18]))\n",
    "img_optim = optim.Adam(params=[img_w], lr=1e-2)\n",
    "target = torch.eye(32)"
   ]
  },
  {
   "cell_type": "code",
   "execution_count": 65,
   "metadata": {},
   "outputs": [
    {
     "name": "stdout",
     "output_type": "stream",
     "text": [
      "0.631602942943573\n",
      "0.11538110673427582\n",
      "0.09108186513185501\n",
      "0.08357284963130951\n",
      "0.07798062264919281\n",
      "0.07621040940284729\n",
      "0.07524432241916656\n",
      "0.07395229488611221\n",
      "0.07334844768047333\n",
      "0.07289817184209824\n"
     ]
    }
   ],
   "source": [
    "for i in range(10000):\n",
    "    img_optim.zero_grad()\n",
    "    img = F.sigmoid(img_w)\n",
    "    latent, _, _ = models['Adam'].conv(img)\n",
    "    loss = F.mse_loss(latent.view(32, 32), target)\n",
    "    loss.backward()\n",
    "    img_optim.step()\n",
    "    if i%1000 == 0:\n",
    "        print(loss.item())"
   ]
  },
  {
   "cell_type": "code",
   "execution_count": 66,
   "metadata": {},
   "outputs": [
    {
     "data": {
      "image/png": "[encoded data removed]",
      "text/plain": [
       "<Figure size 640x320 with 32 Axes>"
      ]
     },
     "metadata": {},
     "output_type": "display_data"
    }
   ],
   "source": [
    "img = F.sigmoid(img_w)\n",
    "plot_mnist(img.detach().numpy(), (4, 8)) "
   ]
  },
  {
   "cell_type": "code",
   "execution_count": 69,
   "metadata": {},
   "outputs": [],
   "source": [
    "img_w = nn.Parameter(torch.Tensor(size=[16, 1, 4, 4]))\n",
    "img_optim = optim.Adam(params=[img_w], lr=1e-2)\n",
    "target = torch.eye(16)"
   ]
  },
  {
   "cell_type": "code",
   "execution_count": 70,
   "metadata": {},
   "outputs": [
    {
     "name": "stdout",
     "output_type": "stream",
     "text": [
      "0.447405606508255\n",
      "0.07336782664060593\n",
      "0.06873548775911331\n"
     ]
    }
   ],
   "source": [
    "for i in range(3000):\n",
    "    img_optim.zero_grad()\n",
    "    img = F.sigmoid(img_w)\n",
    "    latent = models['Adam']._conv1(img)\n",
    "    loss = F.mse_loss(latent.view(16, 16), target)\n",
    "    loss.backward()\n",
    "    img_optim.step()\n",
    "    if i%1000 == 0:\n",
    "        print(loss.item())"
   ]
  },
  {
   "cell_type": "code",
   "execution_count": 71,
   "metadata": {},
   "outputs": [
    {
     "data": {
      "image/png": "[encoded data removed]",
      "text/plain": [
       "<Figure size 320x320 with 16 Axes>"
      ]
     },
     "metadata": {},
     "output_type": "display_data"
    }
   ],
   "source": [
    "img = F.sigmoid(img_w)\n",
    "plot_mnist(img.detach().numpy(), (4, 4)) "
   ]
  },
  {
   "cell_type": "code",
   "execution_count": null,
   "metadata": {},
   "outputs": [],
   "source": []
  },
  {
   "cell_type": "code",
   "execution_count": null,
   "metadata": {},
   "outputs": [],
   "source": []
  }
 ],
 "metadata": {
  "kernelspec": {
   "display_name": "Python 3",
   "language": "python",
   "name": "python3"
  },
  "language_info": {
   "codemirror_mode": {
    "name": "ipython",
    "version": 3
   },
   "file_extension": ".py",
   "mimetype": "text/x-python",
   "name": "python",
   "nbconvert_exporter": "python",
   "pygments_lexer": "ipython3",
   "version": "3.6.6"
  }
 },
 "nbformat": 4,
 "nbformat_minor": 2
}
