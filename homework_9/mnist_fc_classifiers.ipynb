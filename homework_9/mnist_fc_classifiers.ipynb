{
 "cells": [
  {
   "cell_type": "code",
   "execution_count": 1,
   "metadata": {},
   "outputs": [],
   "source": [
    "import torch\n",
    "import torch.nn as nn\n",
    "import torch.nn.functional as F\n",
    "import torch.optim as optim\n",
    "from torchvision import datasets, transforms\n",
    "\n",
    "from utils import mnist, plot_graphs, plot_mnist, to_onehot, CustomDataset\n",
    "import numpy as np\n",
    "import os \n",
    "\n",
    "%matplotlib inline"
   ]
  },
  {
   "cell_type": "code",
   "execution_count": 2,
   "metadata": {},
   "outputs": [],
   "source": [
    "import matplotlib\n",
    "import matplotlib.pyplot as plt\n",
    "import numpy as np\n",
    "%matplotlib inline"
   ]
  },
  {
   "cell_type": "code",
   "execution_count": 3,
   "metadata": {},
   "outputs": [],
   "source": [
    "mnist_tanh = transforms.Compose([\n",
    "                transforms.ToTensor(),\n",
    "                transforms.Normalize((0.5,), (0.5,)),\n",
    "                lambda x: x.to(device)\n",
    "           ])"
   ]
  },
  {
   "cell_type": "code",
   "execution_count": 4,
   "metadata": {},
   "outputs": [
    {
     "name": "stdout",
     "output_type": "stream",
     "text": [
      "cuda:0\n"
     ]
    }
   ],
   "source": [
    "device = torch.device(\"cuda:0\" if torch.cuda.is_available() else \"cpu\")\n",
    "print(device)\n",
    "\n",
    "lr = 0.0001\n",
    "output_size = 10\n",
    "train_epoch = 200\n",
    "batch_size = 250\n",
    "\n",
    "train_loader, valid_loader, test_loader = mnist(batch_size=batch_size, valid=10000, transform=mnist_tanh)"
   ]
  },
  {
   "cell_type": "code",
   "execution_count": null,
   "metadata": {},
   "outputs": [],
   "source": []
  },
  {
   "cell_type": "code",
   "execution_count": null,
   "metadata": {},
   "outputs": [],
   "source": []
  },
  {
   "cell_type": "code",
   "execution_count": 5,
   "metadata": {},
   "outputs": [],
   "source": [
    "class FullyConnected(nn.Module):\n",
    "    def __init__(self, sizes, dropout=False, activation_fn=nn.Tanh(), flatten=False, \n",
    "                 last_fn=None, first_fn=None, device='cpu'):\n",
    "        super(FullyConnected, self).__init__()\n",
    "        layers = []\n",
    "        self.flatten = flatten\n",
    "        if first_fn is not None:\n",
    "            layers.append(first_fn)\n",
    "        for i in range(len(sizes) - 2):\n",
    "            layers.append(nn.Linear(sizes[i], sizes[i+1]))\n",
    "            if dropout:\n",
    "                layers.append(nn.Dropout(dropout))\n",
    "            layers.append(activation_fn) # нам не нужен дропаут и фнкция активации в последнем слое\n",
    "        else: \n",
    "            layers.append(nn.Linear(sizes[-2], sizes[-1]))\n",
    "        if last_fn is not None:\n",
    "            layers.append(last_fn)\n",
    "        self.model = nn.Sequential(*layers)\n",
    "        self.to(device)\n",
    "        \n",
    "    def forward(self, x):\n",
    "        if self.flatten:\n",
    "            x = x.view(x.shape[0], -1)\n",
    "        out = self.model(x)\n",
    "        return out"
   ]
  },
  {
   "cell_type": "code",
   "execution_count": 6,
   "metadata": {},
   "outputs": [],
   "source": [
    "class Classifier():\n",
    "    def __init__(self, input_size, train_loader, valid_loader, test_loader):\n",
    "        self.net = FullyConnected([input_size, 512, 512, output_size], activation_fn=nn.ReLU(), flatten=True, device=device)\n",
    "        self.optimizer = optim.Adam(self.net.parameters(), lr=lr)\n",
    "        self.criterion = nn.CrossEntropyLoss()\n",
    "        self.train_loader = train_loader\n",
    "        self.valid_loader = valid_loader\n",
    "        self.test_loader = test_loader\n",
    "        self.loss = 0.0\n",
    "        self.loss_log = []\n",
    "        self.acc_log = []\n",
    "        \n",
    "    def show_data_sample(self, size):\n",
    "        with torch.no_grad():\n",
    "            data, label = next(iter(self.train_loader))            \n",
    "            plot_data = data.cpu().data[:20].numpy().reshape(-1, 1, size[0], size[1])           \n",
    "            plot_mnist(plot_data, (2, 10))\n",
    "            print (\"Checking labels: {} \\n\\n\".format(label[:20]))\n",
    "        \n",
    "    def train(self, epoch):\n",
    "        train_size = len(self.train_loader.sampler)          \n",
    "        for batch_idx, (data, label) in enumerate(self.train_loader):\n",
    "            label = label.to(device)\n",
    "            \n",
    "            # train\n",
    "            self.optimizer.zero_grad()              \n",
    "            output = self.net(data)       \n",
    "            self.loss = self.criterion(output, label)\n",
    "\n",
    "            self.loss.backward()\n",
    "            self.optimizer.step()\n",
    "\n",
    "            if batch_idx % 100 == 0:\n",
    "                line = 'Train Epoch: {} [{}/{} ({:.0f}%)]\\tLosses '.format(\n",
    "                    epoch, batch_idx * len(data), train_size, 100. * batch_idx / len(self.train_loader))\n",
    "                losses = '{:.4f}'.format(self.loss.item())\n",
    "                print(line + losses)\n",
    "\n",
    "        else:\n",
    "            batch_idx += 1\n",
    "            line = 'Train Epoch: {} [{}/{} ({:.0f}%)]\\tLosses '.format(\n",
    "                epoch, batch_idx * len(data), train_size, 100. * batch_idx / len(self.train_loader))\n",
    "            losses = '{:.4f}'.format(self.loss.item())\n",
    "            print(line + losses)            \n",
    "        \n",
    "    def validation(self, epoch):\n",
    "        val_size = len(self.valid_loader)\n",
    "        loss = 0.\n",
    "        total = 0\n",
    "        correct = 0        \n",
    "        with torch.no_grad():\n",
    "            for data, label in self.valid_loader:\n",
    "                label = label.to(device)\n",
    "                output = self.net(data)\n",
    "                loss += self.criterion(output, label)\n",
    "\n",
    "                _, predicted = torch.max(output.data, 1)\n",
    "                total += label.size(0)\n",
    "                correct += (predicted == label).sum().item()\n",
    "\n",
    "            loss /= val_size       \n",
    "            \n",
    "        accuracy = 100 * correct / total\n",
    "\n",
    "        report = 'Valid loss: {:.4f} Accuracy: {:.2f} \\n'.format(loss, accuracy)\n",
    "        print(report)    \n",
    "        \n",
    "        self.loss_log.append(loss.item())\n",
    "        self.acc_log.append(accuracy)\n",
    "\n",
    "    def start_training(self, train_epoch):\n",
    "        for epoch in range(1, train_epoch + 1):\n",
    "            self.net.train()\n",
    "            self.train(epoch)\n",
    "            self.net.eval()   \n",
    "            self.validation(epoch)\n",
    "            \n",
    "    def test(self):\n",
    "        test_size = len(self.test_loader)\n",
    "        loss = 0.\n",
    "        total = 0\n",
    "        correct = 0        \n",
    "        with torch.no_grad():\n",
    "            for data, label in self.test_loader:\n",
    "                label = label.to(device)\n",
    "                output = self.net(data)\n",
    "                loss += self.criterion(output, label)\n",
    "\n",
    "                _, predicted = torch.max(output.data, 1)\n",
    "                total += label.size(0)\n",
    "                correct += (predicted == label).sum().item()\n",
    "\n",
    "            loss /= test_size       \n",
    "            \n",
    "        accuracy = 100 * correct / total\n",
    "\n",
    "        report = 'Test loss: {:.4f} Accuracy: {:.2f} \\n'.format(loss, accuracy)\n",
    "        print(report)    \n",
    "     \n"
   ]
  },
  {
   "cell_type": "markdown",
   "metadata": {},
   "source": [
    "### Классификатор на исходных данных"
   ]
  },
  {
   "cell_type": "code",
   "execution_count": 7,
   "metadata": {
    "scrolled": false
   },
   "outputs": [
    {
     "data": {
      "image/png": "[encoded data removed]",
      "text/plain": [
       "<Figure size 800x160 with 20 Axes>"
      ]
     },
     "metadata": {},
     "output_type": "display_data"
    },
    {
     "name": "stdout",
     "output_type": "stream",
     "text": [
      "Checking labels: tensor([5, 5, 7, 7, 5, 5, 1, 6, 3, 2, 0, 3, 5, 6, 7, 4, 2, 1, 4, 5]) \n",
      "\n",
      "\n",
      "Train Epoch: 1 [0/50000 (0%)]\tLosses 2.3046\n",
      "Train Epoch: 1 [25000/50000 (50%)]\tLosses 0.6258\n",
      "Train Epoch: 1 [50000/50000 (100%)]\tLosses 0.3895\n",
      "Valid loss: 0.4181 Accuracy: 87.78 \n",
      "\n",
      "Train Epoch: 2 [0/50000 (0%)]\tLosses 0.3888\n",
      "Train Epoch: 2 [25000/50000 (50%)]\tLosses 0.3507\n",
      "Train Epoch: 2 [50000/50000 (100%)]\tLosses 0.3005\n",
      "Valid loss: 0.3246 Accuracy: 90.70 \n",
      "\n",
      "Train Epoch: 3 [0/50000 (0%)]\tLosses 0.3461\n",
      "Train Epoch: 3 [25000/50000 (50%)]\tLosses 0.3128\n",
      "Train Epoch: 3 [50000/50000 (100%)]\tLosses 0.2326\n",
      "Valid loss: 0.2844 Accuracy: 91.89 \n",
      "\n",
      "Train Epoch: 4 [0/50000 (0%)]\tLosses 0.2133\n",
      "Train Epoch: 4 [25000/50000 (50%)]\tLosses 0.3160\n",
      "Train Epoch: 4 [50000/50000 (100%)]\tLosses 0.2568\n",
      "Valid loss: 0.2406 Accuracy: 93.09 \n",
      "\n",
      "Train Epoch: 5 [0/50000 (0%)]\tLosses 0.2178\n",
      "Train Epoch: 5 [25000/50000 (50%)]\tLosses 0.1859\n",
      "Train Epoch: 5 [50000/50000 (100%)]\tLosses 0.1474\n",
      "Valid loss: 0.2131 Accuracy: 93.76 \n",
      "\n",
      "Train Epoch: 6 [0/50000 (0%)]\tLosses 0.1570\n",
      "Train Epoch: 6 [25000/50000 (50%)]\tLosses 0.1808\n",
      "Train Epoch: 6 [50000/50000 (100%)]\tLosses 0.1607\n",
      "Valid loss: 0.1905 Accuracy: 94.51 \n",
      "\n",
      "Train Epoch: 7 [0/50000 (0%)]\tLosses 0.1654\n",
      "Train Epoch: 7 [25000/50000 (50%)]\tLosses 0.1091\n",
      "Train Epoch: 7 [50000/50000 (100%)]\tLosses 0.1299\n",
      "Valid loss: 0.1750 Accuracy: 94.95 \n",
      "\n",
      "Train Epoch: 8 [0/50000 (0%)]\tLosses 0.1280\n",
      "Train Epoch: 8 [25000/50000 (50%)]\tLosses 0.1695\n",
      "Train Epoch: 8 [50000/50000 (100%)]\tLosses 0.0907\n",
      "Valid loss: 0.1568 Accuracy: 95.46 \n",
      "\n",
      "Train Epoch: 9 [0/50000 (0%)]\tLosses 0.1733\n",
      "Train Epoch: 9 [25000/50000 (50%)]\tLosses 0.1832\n",
      "Train Epoch: 9 [50000/50000 (100%)]\tLosses 0.1358\n",
      "Valid loss: 0.1439 Accuracy: 95.91 \n",
      "\n",
      "Train Epoch: 10 [0/50000 (0%)]\tLosses 0.0946\n",
      "Train Epoch: 10 [25000/50000 (50%)]\tLosses 0.1050\n",
      "Train Epoch: 10 [50000/50000 (100%)]\tLosses 0.1011\n",
      "Valid loss: 0.1342 Accuracy: 96.23 \n",
      "\n",
      "Train Epoch: 11 [0/50000 (0%)]\tLosses 0.0875\n",
      "Train Epoch: 11 [25000/50000 (50%)]\tLosses 0.0747\n",
      "Train Epoch: 11 [50000/50000 (100%)]\tLosses 0.0953\n",
      "Valid loss: 0.1293 Accuracy: 96.36 \n",
      "\n",
      "Train Epoch: 12 [0/50000 (0%)]\tLosses 0.0886\n",
      "Train Epoch: 12 [25000/50000 (50%)]\tLosses 0.0911\n",
      "Train Epoch: 12 [50000/50000 (100%)]\tLosses 0.1470\n",
      "Valid loss: 0.1215 Accuracy: 96.45 \n",
      "\n",
      "Train Epoch: 13 [0/50000 (0%)]\tLosses 0.0780\n",
      "Train Epoch: 13 [25000/50000 (50%)]\tLosses 0.0984\n",
      "Train Epoch: 13 [50000/50000 (100%)]\tLosses 0.0827\n",
      "Valid loss: 0.1124 Accuracy: 96.70 \n",
      "\n",
      "Train Epoch: 14 [0/50000 (0%)]\tLosses 0.0755\n",
      "Train Epoch: 14 [25000/50000 (50%)]\tLosses 0.0506\n",
      "Train Epoch: 14 [50000/50000 (100%)]\tLosses 0.0796\n",
      "Valid loss: 0.1069 Accuracy: 96.89 \n",
      "\n",
      "Train Epoch: 15 [0/50000 (0%)]\tLosses 0.0582\n",
      "Train Epoch: 15 [25000/50000 (50%)]\tLosses 0.1087\n",
      "Train Epoch: 15 [50000/50000 (100%)]\tLosses 0.1064\n",
      "Valid loss: 0.1040 Accuracy: 97.16 \n",
      "\n",
      "Train Epoch: 16 [0/50000 (0%)]\tLosses 0.0640\n",
      "Train Epoch: 16 [25000/50000 (50%)]\tLosses 0.0727\n",
      "Train Epoch: 16 [50000/50000 (100%)]\tLosses 0.0624\n",
      "Valid loss: 0.1017 Accuracy: 97.10 \n",
      "\n",
      "Train Epoch: 17 [0/50000 (0%)]\tLosses 0.0573\n",
      "Train Epoch: 17 [25000/50000 (50%)]\tLosses 0.0925\n",
      "Train Epoch: 17 [50000/50000 (100%)]\tLosses 0.0655\n",
      "Valid loss: 0.0953 Accuracy: 97.30 \n",
      "\n",
      "Train Epoch: 18 [0/50000 (0%)]\tLosses 0.0674\n",
      "Train Epoch: 18 [25000/50000 (50%)]\tLosses 0.0486\n",
      "Train Epoch: 18 [50000/50000 (100%)]\tLosses 0.0466\n",
      "Valid loss: 0.0957 Accuracy: 97.15 \n",
      "\n",
      "Train Epoch: 19 [0/50000 (0%)]\tLosses 0.0188\n",
      "Train Epoch: 19 [25000/50000 (50%)]\tLosses 0.0437\n",
      "Train Epoch: 19 [50000/50000 (100%)]\tLosses 0.0793\n",
      "Valid loss: 0.0901 Accuracy: 97.31 \n",
      "\n",
      "Train Epoch: 20 [0/50000 (0%)]\tLosses 0.0313\n",
      "Train Epoch: 20 [25000/50000 (50%)]\tLosses 0.0474\n",
      "Train Epoch: 20 [50000/50000 (100%)]\tLosses 0.0307\n",
      "Valid loss: 0.0860 Accuracy: 97.38 \n",
      "\n"
     ]
    }
   ],
   "source": [
    "cls_raw = Classifier(28*28, train_loader, valid_loader, test_loader)\n",
    "cls_raw.show_data_sample((28,28))\n",
    "cls_raw.start_training(20)"
   ]
  },
  {
   "cell_type": "code",
   "execution_count": 8,
   "metadata": {},
   "outputs": [
    {
     "name": "stdout",
     "output_type": "stream",
     "text": [
      "Test loss: 0.0802 Accuracy: 97.39 \n",
      "\n"
     ]
    }
   ],
   "source": [
    "cls_raw.test()"
   ]
  },
  {
   "cell_type": "markdown",
   "metadata": {},
   "source": [
    "### Классификатор на данных AAE_C"
   ]
  },
  {
   "cell_type": "code",
   "execution_count": 9,
   "metadata": {},
   "outputs": [],
   "source": [
    "aae_c_train = CustomDataset('./aae_c_train_data')\n",
    "aae_c_valid = CustomDataset('./aae_c_valid_data')\n",
    "aae_c_test = CustomDataset('./aae_c_test_data')"
   ]
  },
  {
   "cell_type": "code",
   "execution_count": 10,
   "metadata": {},
   "outputs": [],
   "source": [
    "from torch.utils.data import DataLoader\n",
    "from torch.utils.data.sampler import SubsetRandomSampler\n",
    "\n",
    "aae_c_train_indices = list(range(aae_c_train.data.shape[0]))\n",
    "aae_c_valid_indices = list(range(aae_c_valid.data.shape[0]))\n",
    "aae_c_test_indices = list(range(aae_c_test.data.shape[0]))\n",
    "\n",
    "aae_c_train_loader = DataLoader(aae_c_train, batch_size=batch_size, sampler=SubsetRandomSampler(aae_c_train_indices))\n",
    "aae_c_valid_loader = DataLoader(aae_c_valid, batch_size=batch_size, sampler=SubsetRandomSampler(aae_c_valid_indices))\n",
    "aae_c_test_loader = DataLoader(aae_c_test, batch_size=batch_size, sampler=SubsetRandomSampler(aae_c_test_indices))"
   ]
  },
  {
   "cell_type": "code",
   "execution_count": 11,
   "metadata": {
    "scrolled": false
   },
   "outputs": [
    {
     "data": {
      "image/png": "[encoded data removed]",
      "text/plain": [
       "<Figure size 800x160 with 20 Axes>"
      ]
     },
     "metadata": {},
     "output_type": "display_data"
    },
    {
     "name": "stdout",
     "output_type": "stream",
     "text": [
      "Checking labels: tensor([9, 2, 4, 6, 6, 5, 9, 5, 6, 3, 0, 3, 8, 7, 2, 2, 9, 5, 6, 4], device='cuda:0') \n",
      "\n",
      "\n",
      "Train Epoch: 1 [0/50000 (0%)]\tLosses 2.3119\n",
      "Train Epoch: 1 [25000/50000 (50%)]\tLosses 1.8044\n",
      "Train Epoch: 1 [50000/50000 (100%)]\tLosses 1.4956\n",
      "Valid loss: 1.5907 Accuracy: 45.03 \n",
      "\n",
      "Train Epoch: 2 [0/50000 (0%)]\tLosses 1.5505\n",
      "Train Epoch: 2 [25000/50000 (50%)]\tLosses 1.4723\n",
      "Train Epoch: 2 [50000/50000 (100%)]\tLosses 1.4728\n",
      "Valid loss: 1.4514 Accuracy: 49.85 \n",
      "\n",
      "Train Epoch: 3 [0/50000 (0%)]\tLosses 1.4839\n",
      "Train Epoch: 3 [25000/50000 (50%)]\tLosses 1.4017\n",
      "Train Epoch: 3 [50000/50000 (100%)]\tLosses 1.2700\n",
      "Valid loss: 1.3647 Accuracy: 53.09 \n",
      "\n",
      "Train Epoch: 4 [0/50000 (0%)]\tLosses 1.4705\n",
      "Train Epoch: 4 [25000/50000 (50%)]\tLosses 1.3697\n",
      "Train Epoch: 4 [50000/50000 (100%)]\tLosses 1.3776\n",
      "Valid loss: 1.3189 Accuracy: 54.64 \n",
      "\n",
      "Train Epoch: 5 [0/50000 (0%)]\tLosses 1.2520\n",
      "Train Epoch: 5 [25000/50000 (50%)]\tLosses 1.3681\n",
      "Train Epoch: 5 [50000/50000 (100%)]\tLosses 1.2784\n",
      "Valid loss: 1.2895 Accuracy: 55.58 \n",
      "\n",
      "Train Epoch: 6 [0/50000 (0%)]\tLosses 1.3132\n",
      "Train Epoch: 6 [25000/50000 (50%)]\tLosses 1.2879\n",
      "Train Epoch: 6 [50000/50000 (100%)]\tLosses 1.3540\n",
      "Valid loss: 1.2689 Accuracy: 56.03 \n",
      "\n",
      "Train Epoch: 7 [0/50000 (0%)]\tLosses 1.2721\n",
      "Train Epoch: 7 [25000/50000 (50%)]\tLosses 1.2585\n",
      "Train Epoch: 7 [50000/50000 (100%)]\tLosses 1.2899\n",
      "Valid loss: 1.2569 Accuracy: 56.60 \n",
      "\n",
      "Train Epoch: 8 [0/50000 (0%)]\tLosses 1.3067\n",
      "Train Epoch: 8 [25000/50000 (50%)]\tLosses 1.1554\n",
      "Train Epoch: 8 [50000/50000 (100%)]\tLosses 1.1848\n",
      "Valid loss: 1.2431 Accuracy: 56.95 \n",
      "\n",
      "Train Epoch: 9 [0/50000 (0%)]\tLosses 1.2973\n",
      "Train Epoch: 9 [25000/50000 (50%)]\tLosses 1.1444\n",
      "Train Epoch: 9 [50000/50000 (100%)]\tLosses 1.2557\n",
      "Valid loss: 1.2303 Accuracy: 57.35 \n",
      "\n",
      "Train Epoch: 10 [0/50000 (0%)]\tLosses 1.1416\n",
      "Train Epoch: 10 [25000/50000 (50%)]\tLosses 1.2490\n",
      "Train Epoch: 10 [50000/50000 (100%)]\tLosses 1.1661\n",
      "Valid loss: 1.2263 Accuracy: 57.42 \n",
      "\n",
      "Train Epoch: 11 [0/50000 (0%)]\tLosses 1.2503\n",
      "Train Epoch: 11 [25000/50000 (50%)]\tLosses 1.1476\n",
      "Train Epoch: 11 [50000/50000 (100%)]\tLosses 1.2249\n",
      "Valid loss: 1.2108 Accuracy: 58.17 \n",
      "\n",
      "Train Epoch: 12 [0/50000 (0%)]\tLosses 1.1534\n",
      "Train Epoch: 12 [25000/50000 (50%)]\tLosses 1.2309\n",
      "Train Epoch: 12 [50000/50000 (100%)]\tLosses 1.2555\n",
      "Valid loss: 1.2011 Accuracy: 58.73 \n",
      "\n",
      "Train Epoch: 13 [0/50000 (0%)]\tLosses 1.2621\n",
      "Train Epoch: 13 [25000/50000 (50%)]\tLosses 1.1479\n",
      "Train Epoch: 13 [50000/50000 (100%)]\tLosses 1.1605\n",
      "Valid loss: 1.1944 Accuracy: 58.91 \n",
      "\n",
      "Train Epoch: 14 [0/50000 (0%)]\tLosses 1.2168\n",
      "Train Epoch: 14 [25000/50000 (50%)]\tLosses 1.1933\n",
      "Train Epoch: 14 [50000/50000 (100%)]\tLosses 1.1821\n",
      "Valid loss: 1.1872 Accuracy: 59.01 \n",
      "\n",
      "Train Epoch: 15 [0/50000 (0%)]\tLosses 1.1331\n",
      "Train Epoch: 15 [25000/50000 (50%)]\tLosses 1.1682\n",
      "Train Epoch: 15 [50000/50000 (100%)]\tLosses 1.1049\n",
      "Valid loss: 1.1790 Accuracy: 59.25 \n",
      "\n",
      "Train Epoch: 16 [0/50000 (0%)]\tLosses 1.0714\n",
      "Train Epoch: 16 [25000/50000 (50%)]\tLosses 1.0978\n",
      "Train Epoch: 16 [50000/50000 (100%)]\tLosses 1.1324\n",
      "Valid loss: 1.1726 Accuracy: 59.47 \n",
      "\n",
      "Train Epoch: 17 [0/50000 (0%)]\tLosses 1.3145\n",
      "Train Epoch: 17 [25000/50000 (50%)]\tLosses 1.1315\n",
      "Train Epoch: 17 [50000/50000 (100%)]\tLosses 1.1422\n",
      "Valid loss: 1.1656 Accuracy: 59.99 \n",
      "\n",
      "Train Epoch: 18 [0/50000 (0%)]\tLosses 1.1459\n",
      "Train Epoch: 18 [25000/50000 (50%)]\tLosses 1.2994\n",
      "Train Epoch: 18 [50000/50000 (100%)]\tLosses 1.2655\n",
      "Valid loss: 1.1588 Accuracy: 60.02 \n",
      "\n",
      "Train Epoch: 19 [0/50000 (0%)]\tLosses 1.1528\n",
      "Train Epoch: 19 [25000/50000 (50%)]\tLosses 1.1155\n",
      "Train Epoch: 19 [50000/50000 (100%)]\tLosses 1.1730\n",
      "Valid loss: 1.1557 Accuracy: 60.09 \n",
      "\n",
      "Train Epoch: 20 [0/50000 (0%)]\tLosses 1.0617\n",
      "Train Epoch: 20 [25000/50000 (50%)]\tLosses 1.2271\n",
      "Train Epoch: 20 [50000/50000 (100%)]\tLosses 1.1692\n",
      "Valid loss: 1.1486 Accuracy: 60.30 \n",
      "\n"
     ]
    }
   ],
   "source": [
    "cls_aae_c = Classifier(10, aae_c_train_loader, aae_c_valid_loader, aae_c_test_loader)\n",
    "cls_aae_c.show_data_sample((2,5))\n",
    "cls_aae_c.start_training(20)"
   ]
  },
  {
   "cell_type": "code",
   "execution_count": 12,
   "metadata": {},
   "outputs": [
    {
     "name": "stdout",
     "output_type": "stream",
     "text": [
      "Test loss: 1.0728 Accuracy: 61.79 \n",
      "\n"
     ]
    }
   ],
   "source": [
    "cls_aae_c.test()"
   ]
  },
  {
   "cell_type": "markdown",
   "metadata": {},
   "source": [
    "### Классификатор на данных CAAE"
   ]
  },
  {
   "cell_type": "code",
   "execution_count": 13,
   "metadata": {},
   "outputs": [],
   "source": [
    "caae_train = CustomDataset('./caae_train_data')\n",
    "caae_valid = CustomDataset('./caae_valid_data')\n",
    "caae_test = CustomDataset('./caae_test_data')"
   ]
  },
  {
   "cell_type": "code",
   "execution_count": 14,
   "metadata": {},
   "outputs": [],
   "source": [
    "from torch.utils.data import DataLoader\n",
    "from torch.utils.data.sampler import SubsetRandomSampler\n",
    "\n",
    "caae_train_indices = list(range(caae_train.data.shape[0]))\n",
    "caae_valid_indices = list(range(caae_valid.data.shape[0]))\n",
    "caae_test_indices = list(range(caae_test.data.shape[0]))\n",
    "\n",
    "caae_train_loader = DataLoader(caae_train, batch_size=batch_size, sampler=SubsetRandomSampler(caae_train_indices))\n",
    "caae_valid_loader = DataLoader(caae_valid, batch_size=batch_size, sampler=SubsetRandomSampler(caae_valid_indices))\n",
    "caae_test_loader = DataLoader(caae_test, batch_size=batch_size, sampler=SubsetRandomSampler(caae_test_indices))"
   ]
  },
  {
   "cell_type": "code",
   "execution_count": 15,
   "metadata": {
    "scrolled": false
   },
   "outputs": [
    {
     "data": {
      "image/png": "[encoded data removed]",
      "text/plain": [
       "<Figure size 800x160 with 20 Axes>"
      ]
     },
     "metadata": {},
     "output_type": "display_data"
    },
    {
     "name": "stdout",
     "output_type": "stream",
     "text": [
      "Checking labels: tensor([1, 2, 7, 2, 4, 7, 8, 5, 4, 4, 7, 5, 7, 2, 5, 3, 7, 4, 3, 0], device='cuda:0') \n",
      "\n",
      "\n",
      "Train Epoch: 1 [0/50000 (0%)]\tLosses 2.3137\n",
      "Train Epoch: 1 [25000/50000 (50%)]\tLosses 2.2794\n",
      "Train Epoch: 1 [50000/50000 (100%)]\tLosses 2.2769\n",
      "Valid loss: 2.2819 Accuracy: 13.87 \n",
      "\n",
      "Train Epoch: 2 [0/50000 (0%)]\tLosses 2.2720\n",
      "Train Epoch: 2 [25000/50000 (50%)]\tLosses 2.2632\n",
      "Train Epoch: 2 [50000/50000 (100%)]\tLosses 2.2662\n",
      "Valid loss: 2.2765 Accuracy: 14.18 \n",
      "\n",
      "Train Epoch: 3 [0/50000 (0%)]\tLosses 2.2757\n",
      "Train Epoch: 3 [25000/50000 (50%)]\tLosses 2.2577\n",
      "Train Epoch: 3 [50000/50000 (100%)]\tLosses 2.2697\n",
      "Valid loss: 2.2715 Accuracy: 14.47 \n",
      "\n",
      "Train Epoch: 4 [0/50000 (0%)]\tLosses 2.2778\n",
      "Train Epoch: 4 [25000/50000 (50%)]\tLosses 2.2503\n",
      "Train Epoch: 4 [50000/50000 (100%)]\tLosses 2.2457\n",
      "Valid loss: 2.2670 Accuracy: 14.82 \n",
      "\n",
      "Train Epoch: 5 [0/50000 (0%)]\tLosses 2.2475\n",
      "Train Epoch: 5 [25000/50000 (50%)]\tLosses 2.2315\n",
      "Train Epoch: 5 [50000/50000 (100%)]\tLosses 2.2738\n",
      "Valid loss: 2.2653 Accuracy: 14.64 \n",
      "\n",
      "Train Epoch: 6 [0/50000 (0%)]\tLosses 2.2543\n",
      "Train Epoch: 6 [25000/50000 (50%)]\tLosses 2.2392\n",
      "Train Epoch: 6 [50000/50000 (100%)]\tLosses 2.2684\n",
      "Valid loss: 2.2640 Accuracy: 14.89 \n",
      "\n",
      "Train Epoch: 7 [0/50000 (0%)]\tLosses 2.2556\n",
      "Train Epoch: 7 [25000/50000 (50%)]\tLosses 2.2366\n",
      "Train Epoch: 7 [50000/50000 (100%)]\tLosses 2.2734\n",
      "Valid loss: 2.2631 Accuracy: 15.10 \n",
      "\n",
      "Train Epoch: 8 [0/50000 (0%)]\tLosses 2.2559\n",
      "Train Epoch: 8 [25000/50000 (50%)]\tLosses 2.2170\n",
      "Train Epoch: 8 [50000/50000 (100%)]\tLosses 2.2245\n",
      "Valid loss: 2.2628 Accuracy: 14.96 \n",
      "\n",
      "Train Epoch: 9 [0/50000 (0%)]\tLosses 2.2189\n",
      "Train Epoch: 9 [25000/50000 (50%)]\tLosses 2.2512\n",
      "Train Epoch: 9 [50000/50000 (100%)]\tLosses 2.1926\n",
      "Valid loss: 2.2612 Accuracy: 15.29 \n",
      "\n",
      "Train Epoch: 10 [0/50000 (0%)]\tLosses 2.2220\n",
      "Train Epoch: 10 [25000/50000 (50%)]\tLosses 2.2651\n",
      "Train Epoch: 10 [50000/50000 (100%)]\tLosses 2.2468\n",
      "Valid loss: 2.2599 Accuracy: 15.15 \n",
      "\n",
      "Train Epoch: 11 [0/50000 (0%)]\tLosses 2.2091\n",
      "Train Epoch: 11 [25000/50000 (50%)]\tLosses 2.2343\n",
      "Train Epoch: 11 [50000/50000 (100%)]\tLosses 2.2749\n",
      "Valid loss: 2.2598 Accuracy: 15.60 \n",
      "\n",
      "Train Epoch: 12 [0/50000 (0%)]\tLosses 2.2381\n",
      "Train Epoch: 12 [25000/50000 (50%)]\tLosses 2.2196\n",
      "Train Epoch: 12 [50000/50000 (100%)]\tLosses 2.2400\n",
      "Valid loss: 2.2598 Accuracy: 15.23 \n",
      "\n",
      "Train Epoch: 13 [0/50000 (0%)]\tLosses 2.2335\n",
      "Train Epoch: 13 [25000/50000 (50%)]\tLosses 2.2296\n",
      "Train Epoch: 13 [50000/50000 (100%)]\tLosses 2.2124\n",
      "Valid loss: 2.2578 Accuracy: 15.40 \n",
      "\n",
      "Train Epoch: 14 [0/50000 (0%)]\tLosses 2.1985\n",
      "Train Epoch: 14 [25000/50000 (50%)]\tLosses 2.2278\n",
      "Train Epoch: 14 [50000/50000 (100%)]\tLosses 2.2332\n",
      "Valid loss: 2.2577 Accuracy: 15.58 \n",
      "\n",
      "Train Epoch: 15 [0/50000 (0%)]\tLosses 2.2412\n",
      "Train Epoch: 15 [25000/50000 (50%)]\tLosses 2.2445\n",
      "Train Epoch: 15 [50000/50000 (100%)]\tLosses 2.2285\n",
      "Valid loss: 2.2581 Accuracy: 15.70 \n",
      "\n",
      "Train Epoch: 16 [0/50000 (0%)]\tLosses 2.2365\n",
      "Train Epoch: 16 [25000/50000 (50%)]\tLosses 2.2257\n",
      "Train Epoch: 16 [50000/50000 (100%)]\tLosses 2.2283\n",
      "Valid loss: 2.2567 Accuracy: 15.57 \n",
      "\n",
      "Train Epoch: 17 [0/50000 (0%)]\tLosses 2.1946\n",
      "Train Epoch: 17 [25000/50000 (50%)]\tLosses 2.1630\n",
      "Train Epoch: 17 [50000/50000 (100%)]\tLosses 2.2268\n",
      "Valid loss: 2.2570 Accuracy: 15.26 \n",
      "\n",
      "Train Epoch: 18 [0/50000 (0%)]\tLosses 2.2432\n",
      "Train Epoch: 18 [25000/50000 (50%)]\tLosses 2.1742\n",
      "Train Epoch: 18 [50000/50000 (100%)]\tLosses 2.2068\n",
      "Valid loss: 2.2571 Accuracy: 15.80 \n",
      "\n",
      "Train Epoch: 19 [0/50000 (0%)]\tLosses 2.1930\n",
      "Train Epoch: 19 [25000/50000 (50%)]\tLosses 2.2343\n",
      "Train Epoch: 19 [50000/50000 (100%)]\tLosses 2.2539\n",
      "Valid loss: 2.2553 Accuracy: 15.99 \n",
      "\n",
      "Train Epoch: 20 [0/50000 (0%)]\tLosses 2.2278\n",
      "Train Epoch: 20 [25000/50000 (50%)]\tLosses 2.2184\n",
      "Train Epoch: 20 [50000/50000 (100%)]\tLosses 2.1976\n",
      "Valid loss: 2.2566 Accuracy: 15.72 \n",
      "\n"
     ]
    }
   ],
   "source": [
    "cls_caae = Classifier(10, caae_train_loader, caae_valid_loader, caae_test_loader)\n",
    "cls_caae.show_data_sample((2,5))\n",
    "cls_caae.start_training(20)"
   ]
  },
  {
   "cell_type": "code",
   "execution_count": 16,
   "metadata": {},
   "outputs": [
    {
     "name": "stdout",
     "output_type": "stream",
     "text": [
      "Test loss: 2.2358 Accuracy: 17.35 \n",
      "\n"
     ]
    }
   ],
   "source": [
    "cls_caae.test()"
   ]
  },
  {
   "cell_type": "markdown",
   "metadata": {},
   "source": [
    "### Сравнение классификаторов"
   ]
  },
  {
   "cell_type": "code",
   "execution_count": 17,
   "metadata": {},
   "outputs": [
    {
     "data": {
      "text/plain": [
       "<matplotlib.legend.Legend at 0x7f9a33734dd8>"
      ]
     },
     "execution_count": 17,
     "metadata": {},
     "output_type": "execute_result"
    },
    {
     "data": {
      "image/png": "[encoded data removed]",
      "text/plain": [
       "<Figure size 720x360 with 1 Axes>"
      ]
     },
     "metadata": {},
     "output_type": "display_data"
    }
   ],
   "source": [
    "fig = plt.figure(figsize=(10, 5))\n",
    "ax = fig.add_subplot(111)\n",
    "ax.set_title(\"Loss\")\n",
    "plt.plot(cls_raw.loss_log, color='green', label='Raw data')\n",
    "plt.plot(cls_caae.loss_log, color='red', label='CAAE')\n",
    "plt.plot(cls_aae_c.loss_log, color='blue', label='AAE_C')\n",
    "ax.set_ylabel(\"Loss\")\n",
    "ax.set_xlabel(\"Epochs\")\n",
    "ax.legend()"
   ]
  },
  {
   "cell_type": "code",
   "execution_count": 19,
   "metadata": {},
   "outputs": [
    {
     "data": {
      "text/plain": [
       "<matplotlib.legend.Legend at 0x7f9a337b6668>"
      ]
     },
     "execution_count": 19,
     "metadata": {},
     "output_type": "execute_result"
    },
    {
     "data": {
      "image/png": "[encoded data removed]",
      "text/plain": [
       "<Figure size 720x360 with 1 Axes>"
      ]
     },
     "metadata": {},
     "output_type": "display_data"
    }
   ],
   "source": [
    "fig = plt.figure(figsize=(10, 5))\n",
    "ax = fig.add_subplot(111)\n",
    "ax.set_title(\"Accuracy\")\n",
    "plt.plot(cls_raw.acc_log, color='green', label='Raw data')\n",
    "plt.plot(cls_caae.acc_log, color='red', label='CAAE')\n",
    "plt.plot(cls_aae_c.acc_log, color='blue', label='AAE_C')\n",
    "ax.set_ylabel(\"Accuracy\")\n",
    "ax.set_xlabel(\"Epochs\")\n",
    "ax.legend()"
   ]
  },
  {
   "cell_type": "code",
   "execution_count": null,
   "metadata": {},
   "outputs": [],
   "source": []
  },
  {
   "cell_type": "code",
   "execution_count": null,
   "metadata": {},
   "outputs": [],
   "source": []
  },
  {
   "cell_type": "code",
   "execution_count": null,
   "metadata": {},
   "outputs": [],
   "source": []
  },
  {
   "cell_type": "code",
   "execution_count": null,
   "metadata": {},
   "outputs": [],
   "source": []
  },
  {
   "cell_type": "code",
   "execution_count": null,
   "metadata": {},
   "outputs": [],
   "source": []
  },
  {
   "cell_type": "code",
   "execution_count": null,
   "metadata": {},
   "outputs": [],
   "source": []
  },
  {
   "cell_type": "code",
   "execution_count": null,
   "metadata": {},
   "outputs": [],
   "source": []
  },
  {
   "cell_type": "code",
   "execution_count": null,
   "metadata": {},
   "outputs": [],
   "source": []
  },
  {
   "cell_type": "code",
   "execution_count": null,
   "metadata": {},
   "outputs": [],
   "source": []
  },
  {
   "cell_type": "code",
   "execution_count": null,
   "metadata": {},
   "outputs": [],
   "source": []
  },
  {
   "cell_type": "code",
   "execution_count": null,
   "metadata": {},
   "outputs": [],
   "source": []
  },
  {
   "cell_type": "code",
   "execution_count": null,
   "metadata": {},
   "outputs": [],
   "source": []
  },
  {
   "cell_type": "code",
   "execution_count": null,
   "metadata": {
    "scrolled": false
   },
   "outputs": [],
   "source": []
  },
  {
   "cell_type": "code",
   "execution_count": null,
   "metadata": {
    "scrolled": false
   },
   "outputs": [],
   "source": []
  },
  {
   "cell_type": "code",
   "execution_count": null,
   "metadata": {},
   "outputs": [],
   "source": []
  },
  {
   "cell_type": "code",
   "execution_count": null,
   "metadata": {},
   "outputs": [],
   "source": []
  },
  {
   "cell_type": "code",
   "execution_count": null,
   "metadata": {},
   "outputs": [],
   "source": []
  },
  {
   "cell_type": "code",
   "execution_count": null,
   "metadata": {},
   "outputs": [],
   "source": []
  }
 ],
 "metadata": {
  "kernelspec": {
   "display_name": "Python 3",
   "language": "python",
   "name": "python3"
  },
  "language_info": {
   "codemirror_mode": {
    "name": "ipython",
    "version": 3
   },
   "file_extension": ".py",
   "mimetype": "text/x-python",
   "name": "python",
   "nbconvert_exporter": "python",
   "pygments_lexer": "ipython3",
   "version": "3.6.6"
  }
 },
 "nbformat": 4,
 "nbformat_minor": 2
}
