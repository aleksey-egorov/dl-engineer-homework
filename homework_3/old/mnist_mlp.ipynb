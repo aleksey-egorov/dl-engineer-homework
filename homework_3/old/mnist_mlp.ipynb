{
 "cells": [
  {
   "cell_type": "code",
   "execution_count": 1,
   "metadata": {},
   "outputs": [],
   "source": [
    "import torch\n",
    "import torch.nn as nn\n",
    "import torch.nn.functional as F\n",
    "import torch.optim as optim\n",
    "from torchvision import datasets, transforms\n",
    "from torch.autograd import Variable\n",
    "\n",
    "from utils import mnist"
   ]
  },
  {
   "cell_type": "code",
   "execution_count": 2,
   "metadata": {},
   "outputs": [],
   "source": [
    "train_loader, test_loader = mnist()"
   ]
  },
  {
   "cell_type": "code",
   "execution_count": 3,
   "metadata": {},
   "outputs": [],
   "source": [
    "class Net(nn.Module):\n",
    "    def __init__(self, log_softmax=False):\n",
    "        super(Net, self).__init__()\n",
    "        self.fc1 = nn.Linear(28*28, 128)\n",
    "        self.fc2 = nn.Linear(128, 128)\n",
    "        self.fc3 = nn.Linear(128, 10)\n",
    "        self.log_softmax = log_softmax\n",
    "        self.optim = optim.Adam(self.parameters(), lr=0.01)\n",
    "        \n",
    "    def forward(self, x):\n",
    "        x = x.view(-1, 28*28)\n",
    "        x = F.sigmoid(self.fc1(x))\n",
    "        x = F.sigmoid(self.fc2(x))\n",
    "        x = self.fc3(x)\n",
    "        if self.log_softmax:\n",
    "            x = F.log_softmax(x, dim=1)\n",
    "        else:\n",
    "            x = torch.log(F.softmax(x, dim=1))\n",
    "        return x\n",
    "    \n",
    "    def loss(self, output, target, **kwargs):\n",
    "        self._loss = F.nll_loss(output, target, **kwargs)\n",
    "        return self._loss"
   ]
  },
  {
   "cell_type": "code",
   "execution_count": 4,
   "metadata": {},
   "outputs": [],
   "source": [
    "def train(epoch, models):\n",
    "    for batch_idx, (data, target) in enumerate(train_loader):\n",
    "        data, target = Variable(data), Variable(target)\n",
    "        for model in models:\n",
    "            model.optim.zero_grad()\n",
    "            output = model(data)\n",
    "            loss = model.loss(output, target)\n",
    "            loss.backward()\n",
    "            model.optim.step()\n",
    "            \n",
    "        if batch_idx % 200 == 0:\n",
    "            line = 'Train Epoch: {} [{}/{} ({:.0f}%)]\\tLosses '.format(\n",
    "                epoch, batch_idx * len(data), len(train_loader.dataset),\n",
    "                100. * batch_idx / len(train_loader))\n",
    "            losses = ' '.join(['{}: {:.6f}'.format(i, m._loss.item()) for i, m in enumerate(models)])\n",
    "            print(line + losses)\n",
    "            \n",
    "    else:\n",
    "        batch_idx += 1\n",
    "        line = 'Train Epoch: {} [{}/{} ({:.0f}%)]\\tLosses '.format(\n",
    "            epoch, batch_idx * len(data), len(train_loader.dataset),\n",
    "            100. * batch_idx / len(train_loader))\n",
    "        losses = ' '.join(['{}: {:.6f}'.format(i, m._loss.item()) for i, m in enumerate(models)])\n",
    "        print(line + losses)"
   ]
  },
  {
   "cell_type": "code",
   "execution_count": 5,
   "metadata": {},
   "outputs": [],
   "source": [
    "models = [Net(), Net(True)]"
   ]
  },
  {
   "cell_type": "code",
   "execution_count": 6,
   "metadata": {},
   "outputs": [],
   "source": [
    "avg_lambda = lambda l: 'Loss: {:.4f}'.format(l)\n",
    "acc_lambda = lambda c, p: 'Accuracy: {}/{} ({:.0f}%)'.format(c, len(test_loader.dataset), p)\n",
    "line = lambda i, l, c, p: '{}: '.format(i) + avg_lambda(l) + '\\t' + acc_lambda(c, p)\n",
    "\n",
    "def test(models):\n",
    "    test_loss = [0]*len(models)\n",
    "    correct = [0]*len(models)\n",
    "    with torch.no_grad():\n",
    "        for data, target in test_loader:\n",
    "            output = [m(data) for m in models]\n",
    "            for i, m in enumerate(models):\n",
    "                test_loss[i] += m.loss(output[i], target, size_average=False).item() # sum up batch loss\n",
    "                pred = output[i].data.max(1, keepdim=True)[1] # get the index of the max log-probability\n",
    "                correct[i] += pred.eq(target.data.view_as(pred)).cpu().sum()\n",
    "    \n",
    "    for i in range(len(models)):\n",
    "        test_loss[i] /= len(test_loader.dataset)\n",
    "    correct_pct = [100. * c / len(test_loader.dataset) for c in correct]\n",
    "    lines = '\\n'.join([line(i, test_loss[i], correct[i], correct_pct[i]) for i in range(len(models))]) + '\\n'\n",
    "    report = 'Test set:\\n' + lines\n",
    "    \n",
    "    print(report)"
   ]
  },
  {
   "cell_type": "code",
   "execution_count": null,
   "metadata": {},
   "outputs": [
    {
     "name": "stdout",
     "output_type": "stream",
     "text": [
      "Train Epoch: 1 [0/60000 (0%)]\tLosses 0: 2.367984 1: 2.425842\n",
      "Train Epoch: 1 [10000/60000 (17%)]\tLosses 0: 0.360064 1: 0.335829\n",
      "Train Epoch: 1 [20000/60000 (33%)]\tLosses 0: 0.221088 1: 0.198803\n",
      "Train Epoch: 1 [30000/60000 (50%)]\tLosses 0: 0.252373 1: 0.141760\n",
      "Train Epoch: 1 [40000/60000 (67%)]\tLosses 0: 0.250449 1: 0.211217\n",
      "Train Epoch: 1 [50000/60000 (83%)]\tLosses 0: 0.174435 1: 0.195074\n",
      "Train Epoch: 1 [60000/60000 (100%)]\tLosses 0: 0.288953 1: 0.243437\n",
      "Test set:\n",
      "0: Loss: 0.2322\tAccuracy: 9259/10000 (92%)\n",
      "1: Loss: 0.2572\tAccuracy: 9226/10000 (92%)\n",
      "\n",
      "Train Epoch: 2 [0/60000 (0%)]\tLosses 0: 0.216667 1: 0.239059\n",
      "Train Epoch: 2 [10000/60000 (17%)]\tLosses 0: 0.392161 1: 0.232275\n",
      "Train Epoch: 2 [20000/60000 (33%)]\tLosses 0: 0.125894 1: 0.227617\n",
      "Train Epoch: 2 [30000/60000 (50%)]\tLosses 0: 0.183178 1: 0.117700\n",
      "Train Epoch: 2 [40000/60000 (67%)]\tLosses 0: 0.268882 1: 0.187404\n",
      "Train Epoch: 2 [50000/60000 (83%)]\tLosses 0: 0.219357 1: 0.213081\n",
      "Train Epoch: 2 [60000/60000 (100%)]\tLosses 0: 0.283080 1: 0.407065\n",
      "Test set:\n",
      "0: Loss: 0.2291\tAccuracy: 9267/10000 (92%)\n",
      "1: Loss: 0.1982\tAccuracy: 9379/10000 (93%)\n",
      "\n",
      "Train Epoch: 3 [0/60000 (0%)]\tLosses 0: 0.054608 1: 0.090035\n",
      "Train Epoch: 3 [10000/60000 (17%)]\tLosses 0: 0.064887 1: 0.046281\n"
     ]
    }
   ],
   "source": [
    "for epoch in range(1, 21):\n",
    "    train(epoch, models)\n",
    "    test(models)"
   ]
  },
  {
   "cell_type": "code",
   "execution_count": null,
   "metadata": {},
   "outputs": [],
   "source": []
  },
  {
   "cell_type": "code",
   "execution_count": null,
   "metadata": {},
   "outputs": [],
   "source": []
  },
  {
   "cell_type": "code",
   "execution_count": null,
   "metadata": {},
   "outputs": [],
   "source": []
  },
  {
   "cell_type": "code",
   "execution_count": null,
   "metadata": {},
   "outputs": [],
   "source": []
  }
 ],
 "metadata": {
  "kernelspec": {
   "display_name": "Python 3",
   "language": "python",
   "name": "python3"
  },
  "language_info": {
   "codemirror_mode": {
    "name": "ipython",
    "version": 3
   },
   "file_extension": ".py",
   "mimetype": "text/x-python",
   "name": "python",
   "nbconvert_exporter": "python",
   "pygments_lexer": "ipython3",
   "version": "3.6.6"
  }
 },
 "nbformat": 4,
 "nbformat_minor": 2
}
