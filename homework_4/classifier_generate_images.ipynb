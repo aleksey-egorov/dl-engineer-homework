{
 "cells": [
  {
   "cell_type": "code",
   "execution_count": 1,
   "metadata": {},
   "outputs": [],
   "source": [
    "import torch\n",
    "import torch.nn as nn\n",
    "import torch.nn.functional as F\n",
    "import torch.optim as optim\n",
    "from torchvision import datasets, transforms\n",
    "\n",
    "from utils import *\n",
    "import numpy as np\n",
    "%matplotlib inline"
   ]
  },
  {
   "cell_type": "markdown",
   "metadata": {},
   "source": [
    "## Подготовка и визуализация данных"
   ]
  },
  {
   "cell_type": "code",
   "execution_count": 2,
   "metadata": {},
   "outputs": [],
   "source": [
    "train_loader, valid_loader, test_loader = mnist(valid=10000, batch_size=50)"
   ]
  },
  {
   "cell_type": "code",
   "execution_count": 3,
   "metadata": {},
   "outputs": [
    {
     "data": {
      "image/png": "[encoded data removed]",
      "text/plain": [
       "<Figure size 800x400 with 50 Axes>"
      ]
     },
     "metadata": {},
     "output_type": "display_data"
    }
   ],
   "source": [
    "images = mnist_plotdata()\n",
    "plot_mnist(images, (5, 10))"
   ]
  },
  {
   "cell_type": "markdown",
   "metadata": {},
   "source": [
    "## Обучение классификатора"
   ]
  },
  {
   "cell_type": "code",
   "execution_count": 4,
   "metadata": {},
   "outputs": [],
   "source": [
    "class Net(nn.Module):\n",
    "    def __init__(self, batchnorm=False, dropout=False, lr=1e-4, l2=0.):\n",
    "        super(Net, self).__init__()\n",
    "        self.fc1 = nn.Linear(28*28, 256)\n",
    "        self.fc2 = nn.Linear(256, 256)\n",
    "        self.fc3 = nn.Linear(256, 10)\n",
    "        if batchnorm:\n",
    "            self.bn = nn.BatchNorm1d(256)\n",
    "        self.batchnorm = batchnorm\n",
    "        \n",
    "        self.dropout = dropout\n",
    "        self.optim = optim.Adam(self.parameters(), lr=lr, weight_decay=l2)\n",
    "        \n",
    "    def forward(self, x):\n",
    "        x = x.view(-1, 28*28)\n",
    "        x = F.relu(self.fc1(x))\n",
    "        if self.batchnorm:\n",
    "            x = self.bn(x)\n",
    "        x = F.relu(self.fc2(x))\n",
    "        if self.dropout:\n",
    "            x = F.dropout(x, 0.5)\n",
    "        x = self.fc3(x)    \n",
    "        x = F.log_softmax(x, dim=1)\n",
    "        return x\n",
    "    \n",
    "    def loss(self, output, target, **kwargs):\n",
    "        self._loss = F.nll_loss(output, target, **kwargs)\n",
    "        return self._loss"
   ]
  },
  {
   "cell_type": "code",
   "execution_count": 5,
   "metadata": {},
   "outputs": [],
   "source": [
    "def train(epoch, models):\n",
    "    loss_stats = np.empty((0,4))\n",
    "    \n",
    "    train_size = len(train_loader.sampler)\n",
    "    for batch_idx, (data, target) in enumerate(train_loader):\n",
    "       \n",
    "        for model in models:\n",
    "            model.optim.zero_grad()\n",
    "            output = model(data)\n",
    "            loss = model.loss(output, target)\n",
    "            loss.backward()\n",
    "            model.optim.step()                \n",
    "            \n",
    "            \n",
    "        if batch_idx % 200 == 0:\n",
    "            print_stats(models, train_loader, epoch, batch_idx, data, train_size)            \n",
    "            stats_line = np.array([m._loss.item() for m in models])\n",
    "            loss_stats = np.vstack([loss_stats, stats_line])          \n",
    "            \n",
    "    else:\n",
    "        batch_idx += 1\n",
    "        print_stats(models, train_loader, epoch, batch_idx, data, train_size)\n",
    "        stats_line = np.array([m._loss.item() for m in models])\n",
    "        loss_stats = np.vstack([loss_stats, stats_line])\n",
    "       \n",
    "    epoch_loss = np.mean(loss_stats, axis=0)      \n",
    "    return epoch_loss\n",
    "       \n",
    "        \n",
    "def print_stats(models, train_loader, epoch, batch_idx, data, train_size):\n",
    "    line = 'Train Epoch: {} [{}/{} ({:.0f}%)]\\tLosses '.format(\n",
    "            epoch, batch_idx * len(data), train_size, 100. * batch_idx / len(train_loader))\n",
    "    losses = ' '.join(['{}: {:.6f}'.format(i, m._loss.item()) for i, m in enumerate(models)])\n",
    "    print(line + losses)\n",
    "        "
   ]
  },
  {
   "cell_type": "code",
   "execution_count": 6,
   "metadata": {},
   "outputs": [],
   "source": [
    "models = [Net(False, False), Net(True, False), Net(False, True), Net(True, True)]"
   ]
  },
  {
   "cell_type": "code",
   "execution_count": 7,
   "metadata": {},
   "outputs": [],
   "source": [
    "def test(models, loader):\n",
    "    test_size = len(loader.sampler)\n",
    "    avg_lambda = lambda l: 'Loss: {:.4f}'.format(l)\n",
    "    acc_lambda = lambda c, p: 'Accuracy: {}/{} ({:.0f}%)'.format(c, test_size, p)\n",
    "    line = lambda i, l, c, p: '{}: '.format(i) + avg_lambda(l) + '\\t' + acc_lambda(c, p)\n",
    "\n",
    "    test_loss = [0]*len(models)\n",
    "    correct = [0]*len(models)\n",
    "    with torch.no_grad():\n",
    "        for data, target in loader:\n",
    "            output = [m(data) for m in models]\n",
    "            for i, m in enumerate(models):\n",
    "                test_loss[i] += m.loss(output[i], target, size_average=False).item() # sum up batch loss\n",
    "                pred = output[i].data.max(1, keepdim=True)[1] # get the index of the max log-probability\n",
    "                correct[i] += pred.eq(target.data.view_as(pred)).cpu().sum()\n",
    "    \n",
    "    for i in range(len(models)):\n",
    "        test_loss[i] /= test_size\n",
    "    correct_pct = [100. * c / test_size for c in correct]\n",
    "    lines = '\\n'.join([line(i, test_loss[i], correct[i], correct_pct[i]) for i in range(len(models))]) + '\\n'\n",
    "    report = 'Test set:\\n' + lines\n",
    "    \n",
    "    print(report)\n",
    "    \n",
    "    return test_loss, correct_pct"
   ]
  },
  {
   "cell_type": "code",
   "execution_count": 19,
   "metadata": {},
   "outputs": [],
   "source": [
    "epoch_train_loss = []\n",
    "epoch_test_loss = []\n",
    "epoch_test_acc = []"
   ]
  },
  {
   "cell_type": "code",
   "execution_count": 20,
   "metadata": {
    "scrolled": true
   },
   "outputs": [
    {
     "name": "stderr",
     "output_type": "stream",
     "text": [
      "/Users/aleksey/anaconda3/envs/otus-dl-engineer/lib/python3.6/site-packages/ipykernel_launcher.py:23: UserWarning: Implicit dimension choice for log_softmax has been deprecated. Change the call to include dim=X as an argument.\n"
     ]
    },
    {
     "name": "stdout",
     "output_type": "stream",
     "text": [
      "Train Epoch: 1 [0/50000 (0%)]\tLosses 0: 2.327425 1: 2.340549 2: 2.296613 3: 2.290284\n",
      "Train Epoch: 1 [10000/50000 (20%)]\tLosses 0: 0.528703 1: 0.646311 2: 0.522253 3: 0.682473\n",
      "Train Epoch: 1 [20000/50000 (40%)]\tLosses 0: 0.300755 1: 0.297055 2: 0.292518 3: 0.301515\n",
      "Train Epoch: 1 [30000/50000 (60%)]\tLosses 0: 0.491225 1: 0.382450 2: 0.479021 3: 0.388505\n",
      "Train Epoch: 1 [40000/50000 (80%)]\tLosses 0: 0.388524 1: 0.344619 2: 0.382316 3: 0.344652\n",
      "Train Epoch: 1 [50000/50000 (100%)]\tLosses 0: 0.210931 1: 0.185536 2: 0.231152 3: 0.204111\n",
      "Test set:\n",
      "0: Loss: 0.2578\tAccuracy: 9232/10000 (92%)\n",
      "1: Loss: 0.1998\tAccuracy: 9418/10000 (94%)\n",
      "2: Loss: 0.2527\tAccuracy: 9243/10000 (92%)\n",
      "3: Loss: 0.2102\tAccuracy: 9383/10000 (93%)\n",
      "\n",
      "Train Epoch: 2 [0/50000 (0%)]\tLosses 0: 0.446509 1: 0.342857 2: 0.428970 3: 0.378852\n",
      "Train Epoch: 2 [10000/50000 (20%)]\tLosses 0: 0.185910 1: 0.140166 2: 0.172756 3: 0.162060\n",
      "Train Epoch: 2 [20000/50000 (40%)]\tLosses 0: 0.229983 1: 0.189725 2: 0.207024 3: 0.226461\n",
      "Train Epoch: 2 [30000/50000 (60%)]\tLosses 0: 0.170781 1: 0.136742 2: 0.155941 3: 0.150818\n",
      "Train Epoch: 2 [40000/50000 (80%)]\tLosses 0: 0.085996 1: 0.020298 2: 0.086385 3: 0.059091\n",
      "Train Epoch: 2 [50000/50000 (100%)]\tLosses 0: 0.342798 1: 0.379246 2: 0.340642 3: 0.318900\n",
      "Test set:\n",
      "0: Loss: 0.1906\tAccuracy: 9426/10000 (94%)\n",
      "1: Loss: 0.1359\tAccuracy: 9581/10000 (95%)\n",
      "2: Loss: 0.1863\tAccuracy: 9445/10000 (94%)\n",
      "3: Loss: 0.1406\tAccuracy: 9570/10000 (95%)\n",
      "\n",
      "Train Epoch: 3 [0/50000 (0%)]\tLosses 0: 0.125637 1: 0.072359 2: 0.119057 3: 0.061944\n",
      "Train Epoch: 3 [10000/50000 (20%)]\tLosses 0: 0.121252 1: 0.085647 2: 0.122462 3: 0.111667\n",
      "Train Epoch: 3 [20000/50000 (40%)]\tLosses 0: 0.159104 1: 0.152021 2: 0.170068 3: 0.123344\n",
      "Train Epoch: 3 [30000/50000 (60%)]\tLosses 0: 0.272400 1: 0.212267 2: 0.266954 3: 0.193130\n",
      "Train Epoch: 3 [40000/50000 (80%)]\tLosses 0: 0.165603 1: 0.220264 2: 0.185519 3: 0.221240\n",
      "Train Epoch: 3 [50000/50000 (100%)]\tLosses 0: 0.060563 1: 0.064560 2: 0.071457 3: 0.070770\n",
      "Test set:\n",
      "0: Loss: 0.1548\tAccuracy: 9534/10000 (95%)\n",
      "1: Loss: 0.1044\tAccuracy: 9683/10000 (96%)\n",
      "2: Loss: 0.1504\tAccuracy: 9557/10000 (95%)\n",
      "3: Loss: 0.1093\tAccuracy: 9671/10000 (96%)\n",
      "\n",
      "Train Epoch: 4 [0/50000 (0%)]\tLosses 0: 0.045208 1: 0.022939 2: 0.042605 3: 0.028033\n",
      "Train Epoch: 4 [10000/50000 (20%)]\tLosses 0: 0.047472 1: 0.066028 2: 0.057596 3: 0.059091\n",
      "Train Epoch: 4 [20000/50000 (40%)]\tLosses 0: 0.222917 1: 0.156621 2: 0.212095 3: 0.157138\n",
      "Train Epoch: 4 [30000/50000 (60%)]\tLosses 0: 0.117733 1: 0.086138 2: 0.129075 3: 0.093446\n",
      "Train Epoch: 4 [40000/50000 (80%)]\tLosses 0: 0.028812 1: 0.028909 2: 0.036865 3: 0.034194\n",
      "Train Epoch: 4 [50000/50000 (100%)]\tLosses 0: 0.105439 1: 0.117947 2: 0.125626 3: 0.115682\n",
      "Test set:\n",
      "0: Loss: 0.1381\tAccuracy: 9598/10000 (95%)\n",
      "1: Loss: 0.0970\tAccuracy: 9714/10000 (97%)\n",
      "2: Loss: 0.1335\tAccuracy: 9591/10000 (95%)\n",
      "3: Loss: 0.0939\tAccuracy: 9716/10000 (97%)\n",
      "\n",
      "Train Epoch: 5 [0/50000 (0%)]\tLosses 0: 0.203534 1: 0.199148 2: 0.236412 3: 0.099112\n",
      "Train Epoch: 5 [10000/50000 (20%)]\tLosses 0: 0.140540 1: 0.124607 2: 0.139284 3: 0.127896\n",
      "Train Epoch: 5 [20000/50000 (40%)]\tLosses 0: 0.133349 1: 0.036300 2: 0.101939 3: 0.048786\n",
      "Train Epoch: 5 [30000/50000 (60%)]\tLosses 0: 0.117613 1: 0.044664 2: 0.091942 3: 0.066207\n",
      "Train Epoch: 5 [40000/50000 (80%)]\tLosses 0: 0.113944 1: 0.063288 2: 0.089279 3: 0.109003\n",
      "Train Epoch: 5 [50000/50000 (100%)]\tLosses 0: 0.046312 1: 0.019247 2: 0.054797 3: 0.027348\n",
      "Test set:\n",
      "0: Loss: 0.1193\tAccuracy: 9632/10000 (96%)\n",
      "1: Loss: 0.0846\tAccuracy: 9739/10000 (97%)\n",
      "2: Loss: 0.1135\tAccuracy: 9660/10000 (96%)\n",
      "3: Loss: 0.0884\tAccuracy: 9737/10000 (97%)\n",
      "\n",
      "Train Epoch: 6 [0/50000 (0%)]\tLosses 0: 0.220009 1: 0.102139 2: 0.167088 3: 0.113322\n",
      "Train Epoch: 6 [10000/50000 (20%)]\tLosses 0: 0.079055 1: 0.072527 2: 0.071563 3: 0.071713\n",
      "Train Epoch: 6 [20000/50000 (40%)]\tLosses 0: 0.158966 1: 0.115069 2: 0.158068 3: 0.119739\n",
      "Train Epoch: 6 [30000/50000 (60%)]\tLosses 0: 0.025299 1: 0.011850 2: 0.017970 3: 0.031101\n",
      "Train Epoch: 6 [40000/50000 (80%)]\tLosses 0: 0.036547 1: 0.015135 2: 0.027758 3: 0.013068\n",
      "Train Epoch: 6 [50000/50000 (100%)]\tLosses 0: 0.063660 1: 0.039177 2: 0.070109 3: 0.046901\n",
      "Test set:\n",
      "0: Loss: 0.1119\tAccuracy: 9658/10000 (96%)\n",
      "1: Loss: 0.0829\tAccuracy: 9756/10000 (97%)\n",
      "2: Loss: 0.1061\tAccuracy: 9667/10000 (96%)\n",
      "3: Loss: 0.0893\tAccuracy: 9746/10000 (97%)\n",
      "\n",
      "Train Epoch: 7 [0/50000 (0%)]\tLosses 0: 0.121099 1: 0.031080 2: 0.118053 3: 0.083092\n",
      "Train Epoch: 7 [10000/50000 (20%)]\tLosses 0: 0.078451 1: 0.020718 2: 0.075910 3: 0.043729\n",
      "Train Epoch: 7 [20000/50000 (40%)]\tLosses 0: 0.094843 1: 0.048472 2: 0.082968 3: 0.058485\n",
      "Train Epoch: 7 [30000/50000 (60%)]\tLosses 0: 0.090880 1: 0.018784 2: 0.086512 3: 0.037344\n",
      "Train Epoch: 7 [40000/50000 (80%)]\tLosses 0: 0.043011 1: 0.015368 2: 0.036425 3: 0.028099\n",
      "Train Epoch: 7 [50000/50000 (100%)]\tLosses 0: 0.040610 1: 0.010634 2: 0.027997 3: 0.068275\n",
      "Test set:\n",
      "0: Loss: 0.1015\tAccuracy: 9691/10000 (96%)\n",
      "1: Loss: 0.0840\tAccuracy: 9754/10000 (97%)\n",
      "2: Loss: 0.0955\tAccuracy: 9723/10000 (97%)\n",
      "3: Loss: 0.0791\tAccuracy: 9757/10000 (97%)\n",
      "\n",
      "Train Epoch: 8 [0/50000 (0%)]\tLosses 0: 0.023800 1: 0.017835 2: 0.019856 3: 0.009152\n",
      "Train Epoch: 8 [10000/50000 (20%)]\tLosses 0: 0.048285 1: 0.018672 2: 0.045737 3: 0.018681\n",
      "Train Epoch: 8 [20000/50000 (40%)]\tLosses 0: 0.049760 1: 0.024701 2: 0.079011 3: 0.032590\n",
      "Train Epoch: 8 [30000/50000 (60%)]\tLosses 0: 0.056062 1: 0.024976 2: 0.055479 3: 0.025871\n",
      "Train Epoch: 8 [40000/50000 (80%)]\tLosses 0: 0.051911 1: 0.035209 2: 0.076319 3: 0.015438\n",
      "Train Epoch: 8 [50000/50000 (100%)]\tLosses 0: 0.080002 1: 0.019802 2: 0.063313 3: 0.023554\n",
      "Test set:\n",
      "0: Loss: 0.1009\tAccuracy: 9698/10000 (96%)\n",
      "1: Loss: 0.0850\tAccuracy: 9759/10000 (97%)\n",
      "2: Loss: 0.0938\tAccuracy: 9720/10000 (97%)\n",
      "3: Loss: 0.0816\tAccuracy: 9771/10000 (97%)\n",
      "\n",
      "Train Epoch: 9 [0/50000 (0%)]\tLosses 0: 0.037249 1: 0.017406 2: 0.031342 3: 0.012770\n",
      "Train Epoch: 9 [10000/50000 (20%)]\tLosses 0: 0.059263 1: 0.043432 2: 0.057682 3: 0.042816\n",
      "Train Epoch: 9 [20000/50000 (40%)]\tLosses 0: 0.018767 1: 0.016636 2: 0.021508 3: 0.027646\n",
      "Train Epoch: 9 [30000/50000 (60%)]\tLosses 0: 0.019544 1: 0.023925 2: 0.015220 3: 0.004368\n",
      "Train Epoch: 9 [40000/50000 (80%)]\tLosses 0: 0.149211 1: 0.111301 2: 0.169855 3: 0.086809\n",
      "Train Epoch: 9 [50000/50000 (100%)]\tLosses 0: 0.022716 1: 0.094024 2: 0.027757 3: 0.003662\n",
      "Test set:\n",
      "0: Loss: 0.0960\tAccuracy: 9697/10000 (96%)\n",
      "1: Loss: 0.0769\tAccuracy: 9777/10000 (97%)\n",
      "2: Loss: 0.0871\tAccuracy: 9733/10000 (97%)\n",
      "3: Loss: 0.0800\tAccuracy: 9771/10000 (97%)\n",
      "\n",
      "Train Epoch: 10 [0/50000 (0%)]\tLosses 0: 0.033734 1: 0.009021 2: 0.051661 3: 0.018053\n",
      "Train Epoch: 10 [10000/50000 (20%)]\tLosses 0: 0.014514 1: 0.002786 2: 0.016798 3: 0.011496\n",
      "Train Epoch: 10 [20000/50000 (40%)]\tLosses 0: 0.015640 1: 0.002834 2: 0.014923 3: 0.005393\n",
      "Train Epoch: 10 [30000/50000 (60%)]\tLosses 0: 0.013402 1: 0.005157 2: 0.011929 3: 0.006250\n",
      "Train Epoch: 10 [40000/50000 (80%)]\tLosses 0: 0.007784 1: 0.002766 2: 0.006311 3: 0.004718\n",
      "Train Epoch: 10 [50000/50000 (100%)]\tLosses 0: 0.116491 1: 0.079072 2: 0.139094 3: 0.074066\n",
      "Test set:\n",
      "0: Loss: 0.0915\tAccuracy: 9725/10000 (97%)\n",
      "1: Loss: 0.0815\tAccuracy: 9788/10000 (97%)\n",
      "2: Loss: 0.0867\tAccuracy: 9735/10000 (97%)\n",
      "3: Loss: 0.0766\tAccuracy: 9772/10000 (97%)\n",
      "\n",
      "Train Epoch: 11 [0/50000 (0%)]\tLosses 0: 0.018294 1: 0.002158 2: 0.010177 3: 0.003228\n",
      "Train Epoch: 11 [10000/50000 (20%)]\tLosses 0: 0.035069 1: 0.019305 2: 0.037048 3: 0.011477\n",
      "Train Epoch: 11 [20000/50000 (40%)]\tLosses 0: 0.022683 1: 0.042475 2: 0.037537 3: 0.027966\n",
      "Train Epoch: 11 [30000/50000 (60%)]\tLosses 0: 0.043419 1: 0.006892 2: 0.040787 3: 0.029199\n",
      "Train Epoch: 11 [40000/50000 (80%)]\tLosses 0: 0.010242 1: 0.003989 2: 0.011049 3: 0.021505\n",
      "Train Epoch: 11 [50000/50000 (100%)]\tLosses 0: 0.026746 1: 0.021218 2: 0.034026 3: 0.008697\n",
      "Test set:\n",
      "0: Loss: 0.0848\tAccuracy: 9756/10000 (97%)\n",
      "1: Loss: 0.0783\tAccuracy: 9797/10000 (97%)\n",
      "2: Loss: 0.0807\tAccuracy: 9770/10000 (97%)\n",
      "3: Loss: 0.0803\tAccuracy: 9768/10000 (97%)\n",
      "\n",
      "Train Epoch: 12 [0/50000 (0%)]\tLosses 0: 0.039630 1: 0.024531 2: 0.037781 3: 0.028516\n",
      "Train Epoch: 12 [10000/50000 (20%)]\tLosses 0: 0.012761 1: 0.006204 2: 0.010760 3: 0.012657\n",
      "Train Epoch: 12 [20000/50000 (40%)]\tLosses 0: 0.016144 1: 0.005196 2: 0.016143 3: 0.023529\n",
      "Train Epoch: 12 [30000/50000 (60%)]\tLosses 0: 0.013108 1: 0.011960 2: 0.021364 3: 0.008197\n"
     ]
    },
    {
     "name": "stdout",
     "output_type": "stream",
     "text": [
      "Train Epoch: 12 [40000/50000 (80%)]\tLosses 0: 0.075219 1: 0.045865 2: 0.056565 3: 0.055696\n",
      "Train Epoch: 12 [50000/50000 (100%)]\tLosses 0: 0.082602 1: 0.057633 2: 0.064620 3: 0.040889\n",
      "Test set:\n",
      "0: Loss: 0.0919\tAccuracy: 9732/10000 (97%)\n",
      "1: Loss: 0.0803\tAccuracy: 9795/10000 (97%)\n",
      "2: Loss: 0.0849\tAccuracy: 9761/10000 (97%)\n",
      "3: Loss: 0.0788\tAccuracy: 9784/10000 (97%)\n",
      "\n",
      "Train Epoch: 13 [0/50000 (0%)]\tLosses 0: 0.049020 1: 0.014964 2: 0.047294 3: 0.018037\n",
      "Train Epoch: 13 [10000/50000 (20%)]\tLosses 0: 0.042093 1: 0.008380 2: 0.030662 3: 0.009727\n",
      "Train Epoch: 13 [20000/50000 (40%)]\tLosses 0: 0.012305 1: 0.002360 2: 0.006216 3: 0.011906\n",
      "Train Epoch: 13 [30000/50000 (60%)]\tLosses 0: 0.069471 1: 0.018460 2: 0.056218 3: 0.009554\n",
      "Train Epoch: 13 [40000/50000 (80%)]\tLosses 0: 0.011594 1: 0.068560 2: 0.008868 3: 0.022940\n",
      "Train Epoch: 13 [50000/50000 (100%)]\tLosses 0: 0.006807 1: 0.000464 2: 0.002929 3: 0.001421\n",
      "Test set:\n",
      "0: Loss: 0.0870\tAccuracy: 9753/10000 (97%)\n",
      "1: Loss: 0.0856\tAccuracy: 9779/10000 (97%)\n",
      "2: Loss: 0.0806\tAccuracy: 9774/10000 (97%)\n",
      "3: Loss: 0.0779\tAccuracy: 9772/10000 (97%)\n",
      "\n",
      "Train Epoch: 14 [0/50000 (0%)]\tLosses 0: 0.003282 1: 0.014131 2: 0.003247 3: 0.003748\n",
      "Train Epoch: 14 [10000/50000 (20%)]\tLosses 0: 0.034288 1: 0.005749 2: 0.019243 3: 0.007584\n",
      "Train Epoch: 14 [20000/50000 (40%)]\tLosses 0: 0.015731 1: 0.015196 2: 0.009058 3: 0.006677\n",
      "Train Epoch: 14 [30000/50000 (60%)]\tLosses 0: 0.016916 1: 0.006969 2: 0.013815 3: 0.020210\n",
      "Train Epoch: 14 [40000/50000 (80%)]\tLosses 0: 0.018998 1: 0.005836 2: 0.015363 3: 0.007987\n",
      "Train Epoch: 14 [50000/50000 (100%)]\tLosses 0: 0.001872 1: 0.002417 2: 0.001597 3: 0.000571\n",
      "Test set:\n",
      "0: Loss: 0.0871\tAccuracy: 9746/10000 (97%)\n",
      "1: Loss: 0.0814\tAccuracy: 9797/10000 (97%)\n",
      "2: Loss: 0.0827\tAccuracy: 9763/10000 (97%)\n",
      "3: Loss: 0.0890\tAccuracy: 9769/10000 (97%)\n",
      "\n",
      "Train Epoch: 15 [0/50000 (0%)]\tLosses 0: 0.014515 1: 0.001940 2: 0.012730 3: 0.001140\n",
      "Train Epoch: 15 [10000/50000 (20%)]\tLosses 0: 0.044447 1: 0.003845 2: 0.055243 3: 0.026463\n",
      "Train Epoch: 15 [20000/50000 (40%)]\tLosses 0: 0.007425 1: 0.001313 2: 0.006806 3: 0.005779\n",
      "Train Epoch: 15 [30000/50000 (60%)]\tLosses 0: 0.016678 1: 0.007709 2: 0.007907 3: 0.008810\n",
      "Train Epoch: 15 [40000/50000 (80%)]\tLosses 0: 0.055026 1: 0.011339 2: 0.038590 3: 0.011998\n",
      "Train Epoch: 15 [50000/50000 (100%)]\tLosses 0: 0.020512 1: 0.008848 2: 0.013569 3: 0.006420\n",
      "Test set:\n",
      "0: Loss: 0.0947\tAccuracy: 9742/10000 (97%)\n",
      "1: Loss: 0.0898\tAccuracy: 9781/10000 (97%)\n",
      "2: Loss: 0.0881\tAccuracy: 9765/10000 (97%)\n",
      "3: Loss: 0.0832\tAccuracy: 9790/10000 (97%)\n",
      "\n",
      "Train Epoch: 16 [0/50000 (0%)]\tLosses 0: 0.075087 1: 0.013163 2: 0.080616 3: 0.041873\n",
      "Train Epoch: 16 [10000/50000 (20%)]\tLosses 0: 0.001735 1: 0.002214 2: 0.001482 3: 0.001697\n",
      "Train Epoch: 16 [20000/50000 (40%)]\tLosses 0: 0.015814 1: 0.023848 2: 0.008658 3: 0.003372\n",
      "Train Epoch: 16 [30000/50000 (60%)]\tLosses 0: 0.009588 1: 0.003794 2: 0.043965 3: 0.006029\n",
      "Train Epoch: 16 [40000/50000 (80%)]\tLosses 0: 0.026908 1: 0.003584 2: 0.018037 3: 0.019598\n",
      "Train Epoch: 16 [50000/50000 (100%)]\tLosses 0: 0.024139 1: 0.012037 2: 0.033020 3: 0.014859\n",
      "Test set:\n",
      "0: Loss: 0.0879\tAccuracy: 9764/10000 (97%)\n",
      "1: Loss: 0.0851\tAccuracy: 9800/10000 (98%)\n",
      "2: Loss: 0.0836\tAccuracy: 9772/10000 (97%)\n",
      "3: Loss: 0.0813\tAccuracy: 9784/10000 (97%)\n",
      "\n",
      "Train Epoch: 17 [0/50000 (0%)]\tLosses 0: 0.019203 1: 0.038999 2: 0.008960 3: 0.011943\n",
      "Train Epoch: 17 [10000/50000 (20%)]\tLosses 0: 0.004502 1: 0.010130 2: 0.005283 3: 0.002891\n",
      "Train Epoch: 17 [20000/50000 (40%)]\tLosses 0: 0.002135 1: 0.003616 2: 0.002115 3: 0.001470\n",
      "Train Epoch: 17 [30000/50000 (60%)]\tLosses 0: 0.073538 1: 0.023680 2: 0.054996 3: 0.020328\n",
      "Train Epoch: 17 [40000/50000 (80%)]\tLosses 0: 0.006732 1: 0.004616 2: 0.007576 3: 0.004101\n",
      "Train Epoch: 17 [50000/50000 (100%)]\tLosses 0: 0.015794 1: 0.008553 2: 0.033069 3: 0.005357\n",
      "Test set:\n",
      "0: Loss: 0.0973\tAccuracy: 9736/10000 (97%)\n",
      "1: Loss: 0.0861\tAccuracy: 9802/10000 (98%)\n",
      "2: Loss: 0.0974\tAccuracy: 9739/10000 (97%)\n",
      "3: Loss: 0.0819\tAccuracy: 9793/10000 (97%)\n",
      "\n",
      "Train Epoch: 18 [0/50000 (0%)]\tLosses 0: 0.007000 1: 0.020315 2: 0.006954 3: 0.001491\n",
      "Train Epoch: 18 [10000/50000 (20%)]\tLosses 0: 0.006032 1: 0.006943 2: 0.008661 3: 0.009011\n",
      "Train Epoch: 18 [20000/50000 (40%)]\tLosses 0: 0.002619 1: 0.001083 2: 0.002529 3: 0.011959\n",
      "Train Epoch: 18 [30000/50000 (60%)]\tLosses 0: 0.029981 1: 0.004542 2: 0.008617 3: 0.003592\n",
      "Train Epoch: 18 [40000/50000 (80%)]\tLosses 0: 0.003963 1: 0.014584 2: 0.005063 3: 0.002634\n",
      "Train Epoch: 18 [50000/50000 (100%)]\tLosses 0: 0.007712 1: 0.000763 2: 0.008667 3: 0.040830\n",
      "Test set:\n",
      "0: Loss: 0.0981\tAccuracy: 9743/10000 (97%)\n",
      "1: Loss: 0.0923\tAccuracy: 9794/10000 (97%)\n",
      "2: Loss: 0.0896\tAccuracy: 9769/10000 (97%)\n",
      "3: Loss: 0.0868\tAccuracy: 9779/10000 (97%)\n",
      "\n",
      "Train Epoch: 19 [0/50000 (0%)]\tLosses 0: 0.007062 1: 0.016098 2: 0.003886 3: 0.003804\n",
      "Train Epoch: 19 [10000/50000 (20%)]\tLosses 0: 0.002421 1: 0.004151 2: 0.002943 3: 0.003885\n",
      "Train Epoch: 19 [20000/50000 (40%)]\tLosses 0: 0.024629 1: 0.004736 2: 0.043007 3: 0.030256\n",
      "Train Epoch: 19 [30000/50000 (60%)]\tLosses 0: 0.021850 1: 0.002322 2: 0.013158 3: 0.008069\n",
      "Train Epoch: 19 [40000/50000 (80%)]\tLosses 0: 0.032268 1: 0.049309 2: 0.008273 3: 0.021003\n",
      "Train Epoch: 19 [50000/50000 (100%)]\tLosses 0: 0.186935 1: 0.151397 2: 0.167388 3: 0.100222\n",
      "Test set:\n",
      "0: Loss: 0.0988\tAccuracy: 9738/10000 (97%)\n",
      "1: Loss: 0.0912\tAccuracy: 9791/10000 (97%)\n",
      "2: Loss: 0.0938\tAccuracy: 9759/10000 (97%)\n",
      "3: Loss: 0.0850\tAccuracy: 9783/10000 (97%)\n",
      "\n",
      "Train Epoch: 20 [0/50000 (0%)]\tLosses 0: 0.007619 1: 0.000789 2: 0.003421 3: 0.000361\n",
      "Train Epoch: 20 [10000/50000 (20%)]\tLosses 0: 0.003765 1: 0.007139 2: 0.007072 3: 0.008650\n",
      "Train Epoch: 20 [20000/50000 (40%)]\tLosses 0: 0.005585 1: 0.001016 2: 0.001929 3: 0.005158\n",
      "Train Epoch: 20 [30000/50000 (60%)]\tLosses 0: 0.010706 1: 0.004214 2: 0.016817 3: 0.023409\n",
      "Train Epoch: 20 [40000/50000 (80%)]\tLosses 0: 0.005713 1: 0.002513 2: 0.023187 3: 0.010155\n",
      "Train Epoch: 20 [50000/50000 (100%)]\tLosses 0: 0.003355 1: 0.002445 2: 0.001645 3: 0.012747\n",
      "Test set:\n",
      "0: Loss: 0.0941\tAccuracy: 9755/10000 (97%)\n",
      "1: Loss: 0.0913\tAccuracy: 9787/10000 (97%)\n",
      "2: Loss: 0.0920\tAccuracy: 9757/10000 (97%)\n",
      "3: Loss: 0.0955\tAccuracy: 9769/10000 (97%)\n",
      "\n"
     ]
    }
   ],
   "source": [
    "for epoch in range(1, 21):\n",
    "    for model in models:\n",
    "        model.train()\n",
    "    train_loss_val = train(epoch, models)\n",
    "    epoch_train_loss.append(train_loss_val)\n",
    "    \n",
    "    for model in models:\n",
    "        model.eval()\n",
    "    test_loss_val, test_acc_val = test(models, valid_loader)\n",
    "    epoch_test_loss.append(test_loss_val)\n",
    "    epoch_test_acc.append(test_acc_val)\n",
    "    "
   ]
  },
  {
   "cell_type": "code",
   "execution_count": 21,
   "metadata": {},
   "outputs": [],
   "source": [
    "final_train_loss = np.array(epoch_train_loss)\n",
    "final_test_loss = np.array(epoch_test_loss)\n",
    "final_test_acc = np.array(epoch_test_acc)"
   ]
  },
  {
   "cell_type": "code",
   "execution_count": 22,
   "metadata": {},
   "outputs": [
    {
     "name": "stderr",
     "output_type": "stream",
     "text": [
      "/Users/aleksey/anaconda3/envs/otus-dl-engineer/lib/python3.6/site-packages/torch/serialization.py:193: UserWarning: Couldn't retrieve source code for container of type Net. It won't be checked for correctness upon loading.\n",
      "  \"type \" + obj.__name__ + \". It won't be checked \"\n"
     ]
    }
   ],
   "source": [
    "torch.save(models[3], './model_classifier')"
   ]
  },
  {
   "cell_type": "markdown",
   "metadata": {},
   "source": [
    "## Вывод результатов"
   ]
  },
  {
   "cell_type": "code",
   "execution_count": 8,
   "metadata": {},
   "outputs": [],
   "source": [
    "model = torch.load('./model_classifier')"
   ]
  },
  {
   "cell_type": "code",
   "execution_count": 9,
   "metadata": {
    "scrolled": false
   },
   "outputs": [
    {
     "data": {
      "image/png": "[encoded data removed]",
      "text/plain": [
       "<Figure size 800x400 with 50 Axes>"
      ]
     },
     "metadata": {},
     "output_type": "display_data"
    },
    {
     "name": "stdout",
     "output_type": "stream",
     "text": [
      "[tensor(7), tensor(2), tensor(1), tensor(0), tensor(4), tensor(1), tensor(4), tensor(9), tensor(5), tensor(9), tensor(0), tensor(6), tensor(9), tensor(0), tensor(1), tensor(5), tensor(9), tensor(7), tensor(3), tensor(4), tensor(9), tensor(6), tensor(6), tensor(5), tensor(4), tensor(0), tensor(7), tensor(4), tensor(0), tensor(1), tensor(3), tensor(1), tensor(3), tensor(4), tensor(7), tensor(2), tensor(7), tensor(1), tensor(2), tensor(1), tensor(1), tensor(7), tensor(4), tensor(2), tensor(3), tensor(5), tensor(1), tensor(2), tensor(4), tensor(4)]\n"
     ]
    }
   ],
   "source": [
    "data, _ = next(iter(test_loader))\n",
    "output = model.forward(data)\n",
    "predictions = [output[i].argmax() for i in range(50)]\n",
    "plot_mnist(data.data.numpy(), (5, 10))\n",
    "\n",
    "print (predictions)"
   ]
  },
  {
   "cell_type": "code",
   "execution_count": 16,
   "metadata": {},
   "outputs": [
    {
     "data": {
      "image/png": "[encoded data removed]",
      "text/plain": [
       "<Figure size 80x80 with 1 Axes>"
      ]
     },
     "metadata": {},
     "output_type": "display_data"
    }
   ],
   "source": [
    "data, _ = next(iter(test_loader))\n",
    "img = torch.randn((1, 784)).view(-1, 1, 28, 28)\n",
    "to_plot = img.view(-1, 1, 28, 28).clamp(0, 1).data.numpy()\n",
    "plot_mnist(to_plot, (1, 1))\n"
   ]
  },
  {
   "cell_type": "code",
   "execution_count": 17,
   "metadata": {
    "scrolled": false
   },
   "outputs": [],
   "source": [
    "from torch.autograd import Variable\n",
    "\n",
    "def generate_image(img, cl):\n",
    "    \n",
    "    gen_img_par = Variable(img, requires_grad=True)       \n",
    "    target = torch.ones((1), dtype=torch.long) * cl\n",
    "    steps_since_lr_decreased = 0\n",
    "    \n",
    "    loss_stats = []    \n",
    "    lr=1e-2\n",
    "\n",
    "    for i in range(1, 1000001):  \n",
    "                \n",
    "        out = model.forward(gen_img_par)      \n",
    "                 \n",
    "        gen_optim = optim.RMSprop([gen_img_par], lr=lr, weight_decay=0.)    \n",
    "        gen_optim.zero_grad()\n",
    "        loss = F.cross_entropy(out, target) \n",
    "        loss.backward()                   \n",
    "        gen_optim.step()\n",
    "        \n",
    "        if i % 5000 == 0:    \n",
    "            print (\"Iteration {}: loss={} prediction={} lr={}\".format(i,loss, out.argmax(), lr))\n",
    "            ls = loss.detach().numpy()            \n",
    "            loss_stats.append(ls)\n",
    "            \n",
    "            #print(\"PRED=\", out.argmax())\n",
    "            #print(\"OUT=\", out)\n",
    "            #print(\"TR=\", target)\n",
    "                        \n",
    "            if len(loss_stats) > 10:    \n",
    "                down = False    \n",
    "                for k in range(2, 7):    \n",
    "                    if ls < loss_stats[-k]:\n",
    "                        down = True\n",
    "                        break\n",
    "                # Loss is rising for 5 last epochs - decrease LR\n",
    "                if not down and steps_since_lr_decreased > 10:\n",
    "                    lr = lr * 0.5\n",
    "                    steps_since_lr_decreased = 0\n",
    "                    print (\"Decreasing LR ..\")\n",
    "                   # if lr < 1e-7:\n",
    "                   #     print (\"Stop ..\")\n",
    "                   #     break\n",
    "                \n",
    "                steps_since_lr_decreased += 1\n",
    "\n",
    "\n",
    "        if i % 50000 == 0:\n",
    "            to_plot = gen_img_par.view(-1, 1, 28, 28).clamp(0, 1).data.numpy()\n",
    "            plot_mnist(to_plot, (1, 1))\n",
    "                        \n",
    "    return gen_img_par, loss_stats      \n"
   ]
  },
  {
   "cell_type": "code",
   "execution_count": null,
   "metadata": {
    "scrolled": false
   },
   "outputs": [
    {
     "name": "stdout",
     "output_type": "stream",
     "text": [
      "Iteration 5000: loss=2.431832513138943e-11 prediction=6 lr=0.01\n",
      "Iteration 10000: loss=1.20525811553307e-11 prediction=6 lr=0.01\n",
      "Iteration 15000: loss=8.049561017742235e-12 prediction=6 lr=0.01\n",
      "Iteration 20000: loss=6.057154777749929e-12 prediction=6 lr=0.01\n",
      "Iteration 25000: loss=4.859224134179385e-12 prediction=6 lr=0.01\n",
      "Iteration 30000: loss=4.057421065795097e-12 prediction=6 lr=0.01\n",
      "Iteration 35000: loss=3.4845459850885163e-12 prediction=6 lr=0.01\n",
      "Iteration 40000: loss=3.0540014961388806e-12 prediction=6 lr=0.01\n",
      "Iteration 45000: loss=2.7178259642823832e-12 prediction=6 lr=0.01\n",
      "Iteration 50000: loss=2.4482638139033952e-12 prediction=6 lr=0.01\n"
     ]
    },
    {
     "data": {
      "image/png": "[encoded data removed]",
      "text/plain": [
       "<Figure size 80x80 with 1 Axes>"
      ]
     },
     "metadata": {},
     "output_type": "display_data"
    },
    {
     "name": "stdout",
     "output_type": "stream",
     "text": [
      "Iteration 55000: loss=2.227773521212839e-12 prediction=6 lr=0.01\n",
      "Iteration 60000: loss=2.043476499125063e-12 prediction=6 lr=0.01\n",
      "Iteration 65000: loss=1.887601186467691e-12 prediction=6 lr=0.01\n",
      "Iteration 70000: loss=1.7539303343028223e-12 prediction=6 lr=0.01\n",
      "Iteration 75000: loss=1.638245095136881e-12 prediction=6 lr=0.01\n",
      "Iteration 80000: loss=1.5372147998959917e-12 prediction=6 lr=0.01\n",
      "Iteration 85000: loss=1.4477308241112041e-12 prediction=6 lr=0.01\n",
      "Iteration 90000: loss=1.368904989362818e-12 prediction=6 lr=0.01\n",
      "Iteration 95000: loss=1.297850715786808e-12 prediction=6 lr=0.01\n",
      "Iteration 100000: loss=1.234345958778249e-12 prediction=6 lr=0.01\n"
     ]
    },
    {
     "data": {
      "image/png": "[encoded data removed]",
      "text/plain": [
       "<Figure size 80x80 with 1 Axes>"
      ]
     },
     "metadata": {},
     "output_type": "display_data"
    },
    {
     "name": "stdout",
     "output_type": "stream",
     "text": [
      "Iteration 105000: loss=1.176614361497741e-12 prediction=6 lr=0.01\n",
      "Iteration 110000: loss=1.1239897901305085e-12 prediction=6 lr=0.01\n",
      "Iteration 115000: loss=1.0758061108617767e-12 prediction=6 lr=0.01\n",
      "Iteration 120000: loss=1.0311751452718454e-12 prediction=6 lr=0.01\n",
      "Iteration 125000: loss=9.905409825705647e-13 prediction=6 lr=0.01\n",
      "Iteration 130000: loss=9.527933997333093e-13 prediction=6 lr=0.01\n",
      "Iteration 135000: loss=9.179323967600794e-13 prediction=6 lr=0.01\n",
      "Iteration 140000: loss=8.850697952311748e-13 prediction=6 lr=0.01\n",
      "Iteration 145000: loss=8.548717289613705e-13 prediction=6 lr=0.01\n",
      "Iteration 150000: loss=8.266720641358916e-13 prediction=6 lr=0.01\n"
     ]
    },
    {
     "data": {
      "image/png": "[encoded data removed]",
      "text/plain": [
       "<Figure size 80x80 with 1 Axes>"
      ]
     },
     "metadata": {},
     "output_type": "display_data"
    },
    {
     "name": "stdout",
     "output_type": "stream",
     "text": [
      "Iteration 155000: loss=8.002487561498128e-13 prediction=6 lr=0.01\n",
      "Iteration 160000: loss=7.756018050031344e-13 prediction=6 lr=0.01\n",
      "Iteration 165000: loss=7.522871214860061e-13 prediction=6 lr=0.01\n",
      "Iteration 170000: loss=7.30526750203353e-13 prediction=6 lr=0.01\n",
      "Iteration 175000: loss=7.096545573404001e-13 prediction=6 lr=0.01\n",
      "Iteration 180000: loss=6.898925875020723e-13 prediction=6 lr=0.01\n",
      "Iteration 185000: loss=6.714628852932947e-13 prediction=6 lr=0.01\n",
      "Iteration 190000: loss=6.536993168992922e-13 prediction=6 lr=0.01\n",
      "Iteration 195000: loss=6.372680161348399e-13 prediction=6 lr=0.01\n",
      "Iteration 200000: loss=6.217248937900877e-13 prediction=6 lr=0.01\n"
     ]
    },
    {
     "data": {
      "image/png": "[encoded data removed]",
      "text/plain": [
       "<Figure size 80x80 with 1 Axes>"
      ]
     },
     "metadata": {},
     "output_type": "display_data"
    },
    {
     "name": "stdout",
     "output_type": "stream",
     "text": [
      "Iteration 205000: loss=6.068479052601106e-13 prediction=6 lr=0.01\n",
      "Iteration 210000: loss=5.928590951498336e-13 prediction=6 lr=0.01\n",
      "Iteration 215000: loss=5.795364188543317e-13 prediction=6 lr=0.01\n",
      "Iteration 220000: loss=5.668798763736049e-13 prediction=6 lr=0.01\n",
      "Iteration 225000: loss=5.551115123125783e-13 prediction=6 lr=0.01\n",
      "Iteration 230000: loss=5.435651928564766e-13 prediction=6 lr=0.01\n",
      "Iteration 235000: loss=5.329070518200751e-13 prediction=6 lr=0.01\n",
      "Iteration 240000: loss=5.222489107836736e-13 prediction=6 lr=0.01\n",
      "Iteration 245000: loss=5.122569035620472e-13 prediction=6 lr=0.01\n",
      "Iteration 250000: loss=5.027089855502709e-13 prediction=6 lr=0.01\n"
     ]
    },
    {
     "data": {
      "image/png": "[encoded data removed]",
      "text/plain": [
       "<Figure size 80x80 with 1 Axes>"
      ]
     },
     "metadata": {},
     "output_type": "display_data"
    },
    {
     "name": "stdout",
     "output_type": "stream",
     "text": [
      "Iteration 255000: loss=4.933831121434196e-13 prediction=6 lr=0.01\n",
      "Iteration 260000: loss=4.845013279464183e-13 prediction=6 lr=0.01\n",
      "Iteration 265000: loss=4.760636329592671e-13 prediction=6 lr=0.01\n",
      "Iteration 270000: loss=4.67847982577041e-13 prediction=6 lr=0.01\n",
      "Iteration 275000: loss=4.600764214046649e-13 prediction=6 lr=0.01\n",
      "Iteration 280000: loss=4.525269048372138e-13 prediction=6 lr=0.01\n",
      "Iteration 285000: loss=4.454214774796128e-13 prediction=6 lr=0.01\n",
      "Iteration 290000: loss=4.383160501220118e-13 prediction=6 lr=0.01\n",
      "Iteration 295000: loss=4.3165471197426086e-13 prediction=6 lr=0.01\n",
      "Iteration 300000: loss=4.2521541843143495e-13 prediction=6 lr=0.01\n"
     ]
    },
    {
     "data": {
      "image/png": "[encoded data removed]",
      "text/plain": [
       "<Figure size 80x80 with 1 Axes>"
      ]
     },
     "metadata": {},
     "output_type": "display_data"
    },
    {
     "name": "stdout",
     "output_type": "stream",
     "text": [
      "Iteration 305000: loss=4.1877612488860905e-13 prediction=6 lr=0.01\n",
      "Iteration 310000: loss=4.1255887595070817e-13 prediction=6 lr=0.01\n",
      "Iteration 315000: loss=4.0678571622265736e-13 prediction=6 lr=0.01\n",
      "Iteration 320000: loss=4.0101255649460654e-13 prediction=6 lr=0.01\n",
      "Iteration 325000: loss=3.9546144137148076e-13 prediction=6 lr=0.01\n",
      "Iteration 330000: loss=3.89910326248355e-13 prediction=6 lr=0.01\n",
      "Iteration 335000: loss=3.8480330033507926e-13 prediction=6 lr=0.01\n",
      "Iteration 340000: loss=3.7969627442180354e-13 prediction=6 lr=0.01\n",
      "Iteration 345000: loss=3.745892485085278e-13 prediction=6 lr=0.01\n",
      "Iteration 350000: loss=3.6992631180510216e-13 prediction=6 lr=0.01\n"
     ]
    },
    {
     "data": {
      "image/png": "[encoded data removed]",
      "text/plain": [
       "<Figure size 80x80 with 1 Axes>"
      ]
     },
     "metadata": {},
     "output_type": "display_data"
    },
    {
     "name": "stdout",
     "output_type": "stream",
     "text": [
      "Iteration 355000: loss=3.6548541970660153e-13 prediction=6 lr=0.01\n",
      "Iteration 360000: loss=3.608224830031759e-13 prediction=6 lr=0.01\n",
      "Iteration 365000: loss=3.5638159090467525e-13 prediction=6 lr=0.01\n",
      "Iteration 370000: loss=3.5216274341109965e-13 prediction=6 lr=0.01\n",
      "Iteration 375000: loss=3.481659405224491e-13 prediction=6 lr=0.01\n",
      "Iteration 380000: loss=3.4416913763379853e-13 prediction=6 lr=0.01\n",
      "Iteration 385000: loss=3.4017233474514796e-13 prediction=6 lr=0.01\n",
      "Iteration 390000: loss=3.361755318564974e-13 prediction=6 lr=0.01\n",
      "Iteration 395000: loss=3.3240077357277187e-13 prediction=6 lr=0.01\n",
      "Iteration 400000: loss=3.2884805989397137e-13 prediction=6 lr=0.01\n"
     ]
    },
    {
     "data": {
      "image/png": "[encoded data removed]",
      "text/plain": [
       "<Figure size 80x80 with 1 Axes>"
      ]
     },
     "metadata": {},
     "output_type": "display_data"
    },
    {
     "name": "stdout",
     "output_type": "stream",
     "text": [
      "Iteration 405000: loss=3.2529534621517087e-13 prediction=6 lr=0.01\n",
      "Iteration 410000: loss=3.2174263253637037e-13 prediction=6 lr=0.01\n",
      "Iteration 415000: loss=3.1818991885756986e-13 prediction=6 lr=0.01\n",
      "Iteration 420000: loss=3.1508129438861943e-13 prediction=6 lr=0.01\n",
      "Iteration 425000: loss=3.11972669919669e-13 prediction=6 lr=0.01\n",
      "Iteration 430000: loss=3.0886404545071855e-13 prediction=6 lr=0.01\n",
      "Iteration 435000: loss=3.057554209817681e-13 prediction=6 lr=0.01\n",
      "Iteration 440000: loss=3.028688411177427e-13 prediction=6 lr=0.01\n",
      "Iteration 445000: loss=2.999822612537173e-13 prediction=6 lr=0.01\n",
      "Iteration 450000: loss=2.970956813896919e-13 prediction=6 lr=0.01\n"
     ]
    },
    {
     "data": {
      "image/png": "[encoded data removed]",
      "text/plain": [
       "<Figure size 80x80 with 1 Axes>"
      ]
     },
     "metadata": {},
     "output_type": "display_data"
    },
    {
     "name": "stdout",
     "output_type": "stream",
     "text": [
      "Iteration 455000: loss=2.942091015256665e-13 prediction=6 lr=0.01\n",
      "Iteration 460000: loss=2.915445662665661e-13 prediction=6 lr=0.01\n",
      "Iteration 465000: loss=2.8910207561239076e-13 prediction=6 lr=0.01\n",
      "Iteration 470000: loss=2.864375403532904e-13 prediction=6 lr=0.01\n",
      "Iteration 475000: loss=2.8399504969911504e-13 prediction=6 lr=0.01\n",
      "Iteration 480000: loss=2.815525590449397e-13 prediction=6 lr=0.01\n",
      "Iteration 485000: loss=2.788880237858393e-13 prediction=6 lr=0.01\n",
      "Iteration 490000: loss=2.76667577736589e-13 prediction=6 lr=0.01\n",
      "Iteration 495000: loss=2.7422508708241367e-13 prediction=6 lr=0.01\n",
      "Iteration 500000: loss=2.7200464103316335e-13 prediction=6 lr=0.01\n"
     ]
    },
    {
     "data": {
      "image/png": "[encoded data removed]",
      "text/plain": [
       "<Figure size 80x80 with 1 Axes>"
      ]
     },
     "metadata": {},
     "output_type": "display_data"
    },
    {
     "name": "stdout",
     "output_type": "stream",
     "text": [
      "Iteration 505000: loss=2.6978419498391304e-13 prediction=6 lr=0.01\n",
      "Iteration 510000: loss=2.6756374893466273e-13 prediction=6 lr=0.01\n",
      "Iteration 515000: loss=2.6556534749033744e-13 prediction=6 lr=0.01\n",
      "Iteration 520000: loss=2.6356694604601216e-13 prediction=6 lr=0.01\n",
      "Iteration 525000: loss=2.6134649999676185e-13 prediction=6 lr=0.01\n",
      "Iteration 530000: loss=2.5934809855243657e-13 prediction=6 lr=0.01\n",
      "Iteration 535000: loss=2.573496971081113e-13 prediction=6 lr=0.01\n",
      "Iteration 540000: loss=2.5557334026871104e-13 prediction=6 lr=0.01\n",
      "Iteration 545000: loss=2.5357493882438575e-13 prediction=6 lr=0.01\n",
      "Iteration 550000: loss=2.5157653738006047e-13 prediction=6 lr=0.01\n"
     ]
    },
    {
     "data": {
      "image/png": "[encoded data removed]",
      "text/plain": [
       "<Figure size 80x80 with 1 Axes>"
      ]
     },
     "metadata": {},
     "output_type": "display_data"
    },
    {
     "name": "stdout",
     "output_type": "stream",
     "text": [
      "Iteration 555000: loss=2.498001805406602e-13 prediction=6 lr=0.01\n",
      "Iteration 560000: loss=2.4802382370125997e-13 prediction=6 lr=0.01\n",
      "Iteration 565000: loss=2.462474668618597e-13 prediction=6 lr=0.01\n",
      "Iteration 570000: loss=2.4447111002245947e-13 prediction=6 lr=0.01\n",
      "Iteration 575000: loss=2.426947531830592e-13 prediction=6 lr=0.01\n",
      "Iteration 580000: loss=2.41140440948584e-13 prediction=6 lr=0.01\n"
     ]
    }
   ],
   "source": [
    "new_image_randn = generate_image(img, 6)"
   ]
  },
  {
   "cell_type": "code",
   "execution_count": null,
   "metadata": {},
   "outputs": [],
   "source": []
  },
  {
   "cell_type": "code",
   "execution_count": null,
   "metadata": {},
   "outputs": [],
   "source": []
  },
  {
   "cell_type": "code",
   "execution_count": null,
   "metadata": {},
   "outputs": [],
   "source": []
  },
  {
   "cell_type": "code",
   "execution_count": null,
   "metadata": {},
   "outputs": [],
   "source": []
  },
  {
   "cell_type": "code",
   "execution_count": null,
   "metadata": {},
   "outputs": [],
   "source": []
  },
  {
   "cell_type": "code",
   "execution_count": null,
   "metadata": {},
   "outputs": [],
   "source": []
  },
  {
   "cell_type": "code",
   "execution_count": null,
   "metadata": {},
   "outputs": [],
   "source": []
  },
  {
   "cell_type": "code",
   "execution_count": null,
   "metadata": {},
   "outputs": [],
   "source": []
  }
 ],
 "metadata": {
  "kernelspec": {
   "display_name": "Python 3",
   "language": "python",
   "name": "python3"
  },
  "language_info": {
   "codemirror_mode": {
    "name": "ipython",
    "version": 3
   },
   "file_extension": ".py",
   "mimetype": "text/x-python",
   "name": "python",
   "nbconvert_exporter": "python",
   "pygments_lexer": "ipython3",
   "version": "3.6.6"
  }
 },
 "nbformat": 4,
 "nbformat_minor": 2
}
