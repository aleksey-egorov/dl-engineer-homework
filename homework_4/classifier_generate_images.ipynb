{
 "cells": [
  {
   "cell_type": "code",
   "execution_count": 1,
   "metadata": {},
   "outputs": [],
   "source": [
    "import torch\n",
    "import torch.nn as nn\n",
    "import torch.nn.functional as F\n",
    "import torch.optim as optim\n",
    "from torchvision import datasets, transforms\n",
    "\n",
    "from utils import *\n",
    "import numpy as np\n",
    "%matplotlib inline"
   ]
  },
  {
   "cell_type": "markdown",
   "metadata": {},
   "source": [
    "## Подготовка и визуализация данных"
   ]
  },
  {
   "cell_type": "code",
   "execution_count": 2,
   "metadata": {},
   "outputs": [],
   "source": [
    "train_loader, valid_loader, test_loader = mnist(valid=10000, batch_size=50)"
   ]
  },
  {
   "cell_type": "code",
   "execution_count": 3,
   "metadata": {},
   "outputs": [
    {
     "data": {
      "image/png": "[encoded data removed]",
      "text/plain": [
       "<Figure size 800x400 with 50 Axes>"
      ]
     },
     "metadata": {},
     "output_type": "display_data"
    }
   ],
   "source": [
    "images = mnist_plotdata()\n",
    "plot_mnist(images, (5, 10))"
   ]
  },
  {
   "cell_type": "markdown",
   "metadata": {},
   "source": [
    "## Обучение классификатора"
   ]
  },
  {
   "cell_type": "code",
   "execution_count": 4,
   "metadata": {},
   "outputs": [],
   "source": [
    "class Net(nn.Module):\n",
    "    def __init__(self, batchnorm=False, dropout=False, lr=1e-4, l2=0.):\n",
    "        super(Net, self).__init__()\n",
    "        self.fc1 = nn.Linear(28*28, 256)\n",
    "        self.fc2 = nn.Linear(256, 256)\n",
    "        self.fc3 = nn.Linear(256, 10)\n",
    "        if batchnorm:\n",
    "            self.bn = nn.BatchNorm1d(256)\n",
    "        self.batchnorm = batchnorm\n",
    "        \n",
    "        self.dropout = dropout\n",
    "        self.optim = optim.Adam(self.parameters(), lr=lr, weight_decay=l2)\n",
    "        \n",
    "    def forward(self, x):\n",
    "        x = x.view(-1, 28*28)\n",
    "        x = F.relu(self.fc1(x))\n",
    "        if self.batchnorm:\n",
    "            x = self.bn(x)\n",
    "        x = F.relu(self.fc2(x))\n",
    "        if self.dropout:\n",
    "            x = F.dropout(x, 0.5)\n",
    "        x = self.fc3(x)    \n",
    "        x = F.log_softmax(x, dim=1)\n",
    "        return x\n",
    "    \n",
    "    def loss(self, output, target, **kwargs):\n",
    "        self._loss = F.nll_loss(output, target, **kwargs)\n",
    "        return self._loss"
   ]
  },
  {
   "cell_type": "code",
   "execution_count": 5,
   "metadata": {},
   "outputs": [],
   "source": [
    "def train(epoch, models):\n",
    "    loss_stats = np.empty((0,4))\n",
    "    \n",
    "    train_size = len(train_loader.sampler)\n",
    "    for batch_idx, (data, target) in enumerate(train_loader):\n",
    "       \n",
    "        for model in models:\n",
    "            model.optim.zero_grad()\n",
    "            output = model(data)\n",
    "            loss = model.loss(output, target)\n",
    "            loss.backward()\n",
    "            model.optim.step()                \n",
    "            \n",
    "            \n",
    "        if batch_idx % 200 == 0:\n",
    "            print_stats(models, train_loader, epoch, batch_idx, data, train_size)            \n",
    "            stats_line = np.array([m._loss.item() for m in models])\n",
    "            loss_stats = np.vstack([loss_stats, stats_line])          \n",
    "            \n",
    "    else:\n",
    "        batch_idx += 1\n",
    "        print_stats(models, train_loader, epoch, batch_idx, data, train_size)\n",
    "        stats_line = np.array([m._loss.item() for m in models])\n",
    "        loss_stats = np.vstack([loss_stats, stats_line])\n",
    "       \n",
    "    epoch_loss = np.mean(loss_stats, axis=0)      \n",
    "    return epoch_loss\n",
    "       \n",
    "        \n",
    "def print_stats(models, train_loader, epoch, batch_idx, data, train_size):\n",
    "    line = 'Train Epoch: {} [{}/{} ({:.0f}%)]\\tLosses '.format(\n",
    "            epoch, batch_idx * len(data), train_size, 100. * batch_idx / len(train_loader))\n",
    "    losses = ' '.join(['{}: {:.6f}'.format(i, m._loss.item()) for i, m in enumerate(models)])\n",
    "    print(line + losses)\n",
    "        "
   ]
  },
  {
   "cell_type": "code",
   "execution_count": 6,
   "metadata": {},
   "outputs": [],
   "source": [
    "models = [Net(False, False), Net(True, False), Net(False, True), Net(True, True)]"
   ]
  },
  {
   "cell_type": "code",
   "execution_count": 7,
   "metadata": {},
   "outputs": [],
   "source": [
    "def test(models, loader):\n",
    "    test_size = len(loader.sampler)\n",
    "    avg_lambda = lambda l: 'Loss: {:.4f}'.format(l)\n",
    "    acc_lambda = lambda c, p: 'Accuracy: {}/{} ({:.0f}%)'.format(c, test_size, p)\n",
    "    line = lambda i, l, c, p: '{}: '.format(i) + avg_lambda(l) + '\\t' + acc_lambda(c, p)\n",
    "\n",
    "    test_loss = [0]*len(models)\n",
    "    correct = [0]*len(models)\n",
    "    with torch.no_grad():\n",
    "        for data, target in loader:\n",
    "            output = [m(data) for m in models]\n",
    "            for i, m in enumerate(models):\n",
    "                test_loss[i] += m.loss(output[i], target, size_average=False).item() # sum up batch loss\n",
    "                pred = output[i].data.max(1, keepdim=True)[1] # get the index of the max log-probability\n",
    "                correct[i] += pred.eq(target.data.view_as(pred)).cpu().sum()\n",
    "    \n",
    "    for i in range(len(models)):\n",
    "        test_loss[i] /= test_size\n",
    "    correct_pct = [100. * c / test_size for c in correct]\n",
    "    lines = '\\n'.join([line(i, test_loss[i], correct[i], correct_pct[i]) for i in range(len(models))]) + '\\n'\n",
    "    report = 'Test set:\\n' + lines\n",
    "    \n",
    "    print(report)\n",
    "    \n",
    "    return test_loss, correct_pct"
   ]
  },
  {
   "cell_type": "code",
   "execution_count": 8,
   "metadata": {},
   "outputs": [],
   "source": [
    "epoch_train_loss = []\n",
    "epoch_test_loss = []\n",
    "epoch_test_acc = []"
   ]
  },
  {
   "cell_type": "code",
   "execution_count": 20,
   "metadata": {
    "scrolled": true
   },
   "outputs": [
    {
     "name": "stderr",
     "output_type": "stream",
     "text": [
      "/Users/aleksey/anaconda3/envs/otus-dl-engineer/lib/python3.6/site-packages/ipykernel_launcher.py:23: UserWarning: Implicit dimension choice for log_softmax has been deprecated. Change the call to include dim=X as an argument.\n"
     ]
    },
    {
     "name": "stdout",
     "output_type": "stream",
     "text": [
      "Train Epoch: 1 [0/50000 (0%)]\tLosses 0: 2.327425 1: 2.340549 2: 2.296613 3: 2.290284\n",
      "Train Epoch: 1 [10000/50000 (20%)]\tLosses 0: 0.528703 1: 0.646311 2: 0.522253 3: 0.682473\n",
      "Train Epoch: 1 [20000/50000 (40%)]\tLosses 0: 0.300755 1: 0.297055 2: 0.292518 3: 0.301515\n",
      "Train Epoch: 1 [30000/50000 (60%)]\tLosses 0: 0.491225 1: 0.382450 2: 0.479021 3: 0.388505\n",
      "Train Epoch: 1 [40000/50000 (80%)]\tLosses 0: 0.388524 1: 0.344619 2: 0.382316 3: 0.344652\n",
      "Train Epoch: 1 [50000/50000 (100%)]\tLosses 0: 0.210931 1: 0.185536 2: 0.231152 3: 0.204111\n",
      "Test set:\n",
      "0: Loss: 0.2578\tAccuracy: 9232/10000 (92%)\n",
      "1: Loss: 0.1998\tAccuracy: 9418/10000 (94%)\n",
      "2: Loss: 0.2527\tAccuracy: 9243/10000 (92%)\n",
      "3: Loss: 0.2102\tAccuracy: 9383/10000 (93%)\n",
      "\n",
      "Train Epoch: 2 [0/50000 (0%)]\tLosses 0: 0.446509 1: 0.342857 2: 0.428970 3: 0.378852\n",
      "Train Epoch: 2 [10000/50000 (20%)]\tLosses 0: 0.185910 1: 0.140166 2: 0.172756 3: 0.162060\n",
      "Train Epoch: 2 [20000/50000 (40%)]\tLosses 0: 0.229983 1: 0.189725 2: 0.207024 3: 0.226461\n",
      "Train Epoch: 2 [30000/50000 (60%)]\tLosses 0: 0.170781 1: 0.136742 2: 0.155941 3: 0.150818\n",
      "Train Epoch: 2 [40000/50000 (80%)]\tLosses 0: 0.085996 1: 0.020298 2: 0.086385 3: 0.059091\n",
      "Train Epoch: 2 [50000/50000 (100%)]\tLosses 0: 0.342798 1: 0.379246 2: 0.340642 3: 0.318900\n",
      "Test set:\n",
      "0: Loss: 0.1906\tAccuracy: 9426/10000 (94%)\n",
      "1: Loss: 0.1359\tAccuracy: 9581/10000 (95%)\n",
      "2: Loss: 0.1863\tAccuracy: 9445/10000 (94%)\n",
      "3: Loss: 0.1406\tAccuracy: 9570/10000 (95%)\n",
      "\n",
      "Train Epoch: 3 [0/50000 (0%)]\tLosses 0: 0.125637 1: 0.072359 2: 0.119057 3: 0.061944\n",
      "Train Epoch: 3 [10000/50000 (20%)]\tLosses 0: 0.121252 1: 0.085647 2: 0.122462 3: 0.111667\n",
      "Train Epoch: 3 [20000/50000 (40%)]\tLosses 0: 0.159104 1: 0.152021 2: 0.170068 3: 0.123344\n",
      "Train Epoch: 3 [30000/50000 (60%)]\tLosses 0: 0.272400 1: 0.212267 2: 0.266954 3: 0.193130\n",
      "Train Epoch: 3 [40000/50000 (80%)]\tLosses 0: 0.165603 1: 0.220264 2: 0.185519 3: 0.221240\n",
      "Train Epoch: 3 [50000/50000 (100%)]\tLosses 0: 0.060563 1: 0.064560 2: 0.071457 3: 0.070770\n",
      "Test set:\n",
      "0: Loss: 0.1548\tAccuracy: 9534/10000 (95%)\n",
      "1: Loss: 0.1044\tAccuracy: 9683/10000 (96%)\n",
      "2: Loss: 0.1504\tAccuracy: 9557/10000 (95%)\n",
      "3: Loss: 0.1093\tAccuracy: 9671/10000 (96%)\n",
      "\n",
      "Train Epoch: 4 [0/50000 (0%)]\tLosses 0: 0.045208 1: 0.022939 2: 0.042605 3: 0.028033\n",
      "Train Epoch: 4 [10000/50000 (20%)]\tLosses 0: 0.047472 1: 0.066028 2: 0.057596 3: 0.059091\n",
      "Train Epoch: 4 [20000/50000 (40%)]\tLosses 0: 0.222917 1: 0.156621 2: 0.212095 3: 0.157138\n",
      "Train Epoch: 4 [30000/50000 (60%)]\tLosses 0: 0.117733 1: 0.086138 2: 0.129075 3: 0.093446\n",
      "Train Epoch: 4 [40000/50000 (80%)]\tLosses 0: 0.028812 1: 0.028909 2: 0.036865 3: 0.034194\n",
      "Train Epoch: 4 [50000/50000 (100%)]\tLosses 0: 0.105439 1: 0.117947 2: 0.125626 3: 0.115682\n",
      "Test set:\n",
      "0: Loss: 0.1381\tAccuracy: 9598/10000 (95%)\n",
      "1: Loss: 0.0970\tAccuracy: 9714/10000 (97%)\n",
      "2: Loss: 0.1335\tAccuracy: 9591/10000 (95%)\n",
      "3: Loss: 0.0939\tAccuracy: 9716/10000 (97%)\n",
      "\n",
      "Train Epoch: 5 [0/50000 (0%)]\tLosses 0: 0.203534 1: 0.199148 2: 0.236412 3: 0.099112\n",
      "Train Epoch: 5 [10000/50000 (20%)]\tLosses 0: 0.140540 1: 0.124607 2: 0.139284 3: 0.127896\n",
      "Train Epoch: 5 [20000/50000 (40%)]\tLosses 0: 0.133349 1: 0.036300 2: 0.101939 3: 0.048786\n",
      "Train Epoch: 5 [30000/50000 (60%)]\tLosses 0: 0.117613 1: 0.044664 2: 0.091942 3: 0.066207\n",
      "Train Epoch: 5 [40000/50000 (80%)]\tLosses 0: 0.113944 1: 0.063288 2: 0.089279 3: 0.109003\n",
      "Train Epoch: 5 [50000/50000 (100%)]\tLosses 0: 0.046312 1: 0.019247 2: 0.054797 3: 0.027348\n",
      "Test set:\n",
      "0: Loss: 0.1193\tAccuracy: 9632/10000 (96%)\n",
      "1: Loss: 0.0846\tAccuracy: 9739/10000 (97%)\n",
      "2: Loss: 0.1135\tAccuracy: 9660/10000 (96%)\n",
      "3: Loss: 0.0884\tAccuracy: 9737/10000 (97%)\n",
      "\n",
      "Train Epoch: 6 [0/50000 (0%)]\tLosses 0: 0.220009 1: 0.102139 2: 0.167088 3: 0.113322\n",
      "Train Epoch: 6 [10000/50000 (20%)]\tLosses 0: 0.079055 1: 0.072527 2: 0.071563 3: 0.071713\n",
      "Train Epoch: 6 [20000/50000 (40%)]\tLosses 0: 0.158966 1: 0.115069 2: 0.158068 3: 0.119739\n",
      "Train Epoch: 6 [30000/50000 (60%)]\tLosses 0: 0.025299 1: 0.011850 2: 0.017970 3: 0.031101\n",
      "Train Epoch: 6 [40000/50000 (80%)]\tLosses 0: 0.036547 1: 0.015135 2: 0.027758 3: 0.013068\n",
      "Train Epoch: 6 [50000/50000 (100%)]\tLosses 0: 0.063660 1: 0.039177 2: 0.070109 3: 0.046901\n",
      "Test set:\n",
      "0: Loss: 0.1119\tAccuracy: 9658/10000 (96%)\n",
      "1: Loss: 0.0829\tAccuracy: 9756/10000 (97%)\n",
      "2: Loss: 0.1061\tAccuracy: 9667/10000 (96%)\n",
      "3: Loss: 0.0893\tAccuracy: 9746/10000 (97%)\n",
      "\n",
      "Train Epoch: 7 [0/50000 (0%)]\tLosses 0: 0.121099 1: 0.031080 2: 0.118053 3: 0.083092\n",
      "Train Epoch: 7 [10000/50000 (20%)]\tLosses 0: 0.078451 1: 0.020718 2: 0.075910 3: 0.043729\n",
      "Train Epoch: 7 [20000/50000 (40%)]\tLosses 0: 0.094843 1: 0.048472 2: 0.082968 3: 0.058485\n",
      "Train Epoch: 7 [30000/50000 (60%)]\tLosses 0: 0.090880 1: 0.018784 2: 0.086512 3: 0.037344\n",
      "Train Epoch: 7 [40000/50000 (80%)]\tLosses 0: 0.043011 1: 0.015368 2: 0.036425 3: 0.028099\n",
      "Train Epoch: 7 [50000/50000 (100%)]\tLosses 0: 0.040610 1: 0.010634 2: 0.027997 3: 0.068275\n",
      "Test set:\n",
      "0: Loss: 0.1015\tAccuracy: 9691/10000 (96%)\n",
      "1: Loss: 0.0840\tAccuracy: 9754/10000 (97%)\n",
      "2: Loss: 0.0955\tAccuracy: 9723/10000 (97%)\n",
      "3: Loss: 0.0791\tAccuracy: 9757/10000 (97%)\n",
      "\n",
      "Train Epoch: 8 [0/50000 (0%)]\tLosses 0: 0.023800 1: 0.017835 2: 0.019856 3: 0.009152\n",
      "Train Epoch: 8 [10000/50000 (20%)]\tLosses 0: 0.048285 1: 0.018672 2: 0.045737 3: 0.018681\n",
      "Train Epoch: 8 [20000/50000 (40%)]\tLosses 0: 0.049760 1: 0.024701 2: 0.079011 3: 0.032590\n",
      "Train Epoch: 8 [30000/50000 (60%)]\tLosses 0: 0.056062 1: 0.024976 2: 0.055479 3: 0.025871\n",
      "Train Epoch: 8 [40000/50000 (80%)]\tLosses 0: 0.051911 1: 0.035209 2: 0.076319 3: 0.015438\n",
      "Train Epoch: 8 [50000/50000 (100%)]\tLosses 0: 0.080002 1: 0.019802 2: 0.063313 3: 0.023554\n",
      "Test set:\n",
      "0: Loss: 0.1009\tAccuracy: 9698/10000 (96%)\n",
      "1: Loss: 0.0850\tAccuracy: 9759/10000 (97%)\n",
      "2: Loss: 0.0938\tAccuracy: 9720/10000 (97%)\n",
      "3: Loss: 0.0816\tAccuracy: 9771/10000 (97%)\n",
      "\n",
      "Train Epoch: 9 [0/50000 (0%)]\tLosses 0: 0.037249 1: 0.017406 2: 0.031342 3: 0.012770\n",
      "Train Epoch: 9 [10000/50000 (20%)]\tLosses 0: 0.059263 1: 0.043432 2: 0.057682 3: 0.042816\n",
      "Train Epoch: 9 [20000/50000 (40%)]\tLosses 0: 0.018767 1: 0.016636 2: 0.021508 3: 0.027646\n",
      "Train Epoch: 9 [30000/50000 (60%)]\tLosses 0: 0.019544 1: 0.023925 2: 0.015220 3: 0.004368\n",
      "Train Epoch: 9 [40000/50000 (80%)]\tLosses 0: 0.149211 1: 0.111301 2: 0.169855 3: 0.086809\n",
      "Train Epoch: 9 [50000/50000 (100%)]\tLosses 0: 0.022716 1: 0.094024 2: 0.027757 3: 0.003662\n",
      "Test set:\n",
      "0: Loss: 0.0960\tAccuracy: 9697/10000 (96%)\n",
      "1: Loss: 0.0769\tAccuracy: 9777/10000 (97%)\n",
      "2: Loss: 0.0871\tAccuracy: 9733/10000 (97%)\n",
      "3: Loss: 0.0800\tAccuracy: 9771/10000 (97%)\n",
      "\n",
      "Train Epoch: 10 [0/50000 (0%)]\tLosses 0: 0.033734 1: 0.009021 2: 0.051661 3: 0.018053\n",
      "Train Epoch: 10 [10000/50000 (20%)]\tLosses 0: 0.014514 1: 0.002786 2: 0.016798 3: 0.011496\n",
      "Train Epoch: 10 [20000/50000 (40%)]\tLosses 0: 0.015640 1: 0.002834 2: 0.014923 3: 0.005393\n",
      "Train Epoch: 10 [30000/50000 (60%)]\tLosses 0: 0.013402 1: 0.005157 2: 0.011929 3: 0.006250\n",
      "Train Epoch: 10 [40000/50000 (80%)]\tLosses 0: 0.007784 1: 0.002766 2: 0.006311 3: 0.004718\n",
      "Train Epoch: 10 [50000/50000 (100%)]\tLosses 0: 0.116491 1: 0.079072 2: 0.139094 3: 0.074066\n",
      "Test set:\n",
      "0: Loss: 0.0915\tAccuracy: 9725/10000 (97%)\n",
      "1: Loss: 0.0815\tAccuracy: 9788/10000 (97%)\n",
      "2: Loss: 0.0867\tAccuracy: 9735/10000 (97%)\n",
      "3: Loss: 0.0766\tAccuracy: 9772/10000 (97%)\n",
      "\n",
      "Train Epoch: 11 [0/50000 (0%)]\tLosses 0: 0.018294 1: 0.002158 2: 0.010177 3: 0.003228\n",
      "Train Epoch: 11 [10000/50000 (20%)]\tLosses 0: 0.035069 1: 0.019305 2: 0.037048 3: 0.011477\n",
      "Train Epoch: 11 [20000/50000 (40%)]\tLosses 0: 0.022683 1: 0.042475 2: 0.037537 3: 0.027966\n",
      "Train Epoch: 11 [30000/50000 (60%)]\tLosses 0: 0.043419 1: 0.006892 2: 0.040787 3: 0.029199\n",
      "Train Epoch: 11 [40000/50000 (80%)]\tLosses 0: 0.010242 1: 0.003989 2: 0.011049 3: 0.021505\n",
      "Train Epoch: 11 [50000/50000 (100%)]\tLosses 0: 0.026746 1: 0.021218 2: 0.034026 3: 0.008697\n",
      "Test set:\n",
      "0: Loss: 0.0848\tAccuracy: 9756/10000 (97%)\n",
      "1: Loss: 0.0783\tAccuracy: 9797/10000 (97%)\n",
      "2: Loss: 0.0807\tAccuracy: 9770/10000 (97%)\n",
      "3: Loss: 0.0803\tAccuracy: 9768/10000 (97%)\n",
      "\n",
      "Train Epoch: 12 [0/50000 (0%)]\tLosses 0: 0.039630 1: 0.024531 2: 0.037781 3: 0.028516\n",
      "Train Epoch: 12 [10000/50000 (20%)]\tLosses 0: 0.012761 1: 0.006204 2: 0.010760 3: 0.012657\n",
      "Train Epoch: 12 [20000/50000 (40%)]\tLosses 0: 0.016144 1: 0.005196 2: 0.016143 3: 0.023529\n",
      "Train Epoch: 12 [30000/50000 (60%)]\tLosses 0: 0.013108 1: 0.011960 2: 0.021364 3: 0.008197\n"
     ]
    },
    {
     "name": "stdout",
     "output_type": "stream",
     "text": [
      "Train Epoch: 12 [40000/50000 (80%)]\tLosses 0: 0.075219 1: 0.045865 2: 0.056565 3: 0.055696\n",
      "Train Epoch: 12 [50000/50000 (100%)]\tLosses 0: 0.082602 1: 0.057633 2: 0.064620 3: 0.040889\n",
      "Test set:\n",
      "0: Loss: 0.0919\tAccuracy: 9732/10000 (97%)\n",
      "1: Loss: 0.0803\tAccuracy: 9795/10000 (97%)\n",
      "2: Loss: 0.0849\tAccuracy: 9761/10000 (97%)\n",
      "3: Loss: 0.0788\tAccuracy: 9784/10000 (97%)\n",
      "\n",
      "Train Epoch: 13 [0/50000 (0%)]\tLosses 0: 0.049020 1: 0.014964 2: 0.047294 3: 0.018037\n",
      "Train Epoch: 13 [10000/50000 (20%)]\tLosses 0: 0.042093 1: 0.008380 2: 0.030662 3: 0.009727\n",
      "Train Epoch: 13 [20000/50000 (40%)]\tLosses 0: 0.012305 1: 0.002360 2: 0.006216 3: 0.011906\n",
      "Train Epoch: 13 [30000/50000 (60%)]\tLosses 0: 0.069471 1: 0.018460 2: 0.056218 3: 0.009554\n",
      "Train Epoch: 13 [40000/50000 (80%)]\tLosses 0: 0.011594 1: 0.068560 2: 0.008868 3: 0.022940\n",
      "Train Epoch: 13 [50000/50000 (100%)]\tLosses 0: 0.006807 1: 0.000464 2: 0.002929 3: 0.001421\n",
      "Test set:\n",
      "0: Loss: 0.0870\tAccuracy: 9753/10000 (97%)\n",
      "1: Loss: 0.0856\tAccuracy: 9779/10000 (97%)\n",
      "2: Loss: 0.0806\tAccuracy: 9774/10000 (97%)\n",
      "3: Loss: 0.0779\tAccuracy: 9772/10000 (97%)\n",
      "\n",
      "Train Epoch: 14 [0/50000 (0%)]\tLosses 0: 0.003282 1: 0.014131 2: 0.003247 3: 0.003748\n",
      "Train Epoch: 14 [10000/50000 (20%)]\tLosses 0: 0.034288 1: 0.005749 2: 0.019243 3: 0.007584\n",
      "Train Epoch: 14 [20000/50000 (40%)]\tLosses 0: 0.015731 1: 0.015196 2: 0.009058 3: 0.006677\n",
      "Train Epoch: 14 [30000/50000 (60%)]\tLosses 0: 0.016916 1: 0.006969 2: 0.013815 3: 0.020210\n",
      "Train Epoch: 14 [40000/50000 (80%)]\tLosses 0: 0.018998 1: 0.005836 2: 0.015363 3: 0.007987\n",
      "Train Epoch: 14 [50000/50000 (100%)]\tLosses 0: 0.001872 1: 0.002417 2: 0.001597 3: 0.000571\n",
      "Test set:\n",
      "0: Loss: 0.0871\tAccuracy: 9746/10000 (97%)\n",
      "1: Loss: 0.0814\tAccuracy: 9797/10000 (97%)\n",
      "2: Loss: 0.0827\tAccuracy: 9763/10000 (97%)\n",
      "3: Loss: 0.0890\tAccuracy: 9769/10000 (97%)\n",
      "\n",
      "Train Epoch: 15 [0/50000 (0%)]\tLosses 0: 0.014515 1: 0.001940 2: 0.012730 3: 0.001140\n",
      "Train Epoch: 15 [10000/50000 (20%)]\tLosses 0: 0.044447 1: 0.003845 2: 0.055243 3: 0.026463\n",
      "Train Epoch: 15 [20000/50000 (40%)]\tLosses 0: 0.007425 1: 0.001313 2: 0.006806 3: 0.005779\n",
      "Train Epoch: 15 [30000/50000 (60%)]\tLosses 0: 0.016678 1: 0.007709 2: 0.007907 3: 0.008810\n",
      "Train Epoch: 15 [40000/50000 (80%)]\tLosses 0: 0.055026 1: 0.011339 2: 0.038590 3: 0.011998\n",
      "Train Epoch: 15 [50000/50000 (100%)]\tLosses 0: 0.020512 1: 0.008848 2: 0.013569 3: 0.006420\n",
      "Test set:\n",
      "0: Loss: 0.0947\tAccuracy: 9742/10000 (97%)\n",
      "1: Loss: 0.0898\tAccuracy: 9781/10000 (97%)\n",
      "2: Loss: 0.0881\tAccuracy: 9765/10000 (97%)\n",
      "3: Loss: 0.0832\tAccuracy: 9790/10000 (97%)\n",
      "\n",
      "Train Epoch: 16 [0/50000 (0%)]\tLosses 0: 0.075087 1: 0.013163 2: 0.080616 3: 0.041873\n",
      "Train Epoch: 16 [10000/50000 (20%)]\tLosses 0: 0.001735 1: 0.002214 2: 0.001482 3: 0.001697\n",
      "Train Epoch: 16 [20000/50000 (40%)]\tLosses 0: 0.015814 1: 0.023848 2: 0.008658 3: 0.003372\n",
      "Train Epoch: 16 [30000/50000 (60%)]\tLosses 0: 0.009588 1: 0.003794 2: 0.043965 3: 0.006029\n",
      "Train Epoch: 16 [40000/50000 (80%)]\tLosses 0: 0.026908 1: 0.003584 2: 0.018037 3: 0.019598\n",
      "Train Epoch: 16 [50000/50000 (100%)]\tLosses 0: 0.024139 1: 0.012037 2: 0.033020 3: 0.014859\n",
      "Test set:\n",
      "0: Loss: 0.0879\tAccuracy: 9764/10000 (97%)\n",
      "1: Loss: 0.0851\tAccuracy: 9800/10000 (98%)\n",
      "2: Loss: 0.0836\tAccuracy: 9772/10000 (97%)\n",
      "3: Loss: 0.0813\tAccuracy: 9784/10000 (97%)\n",
      "\n",
      "Train Epoch: 17 [0/50000 (0%)]\tLosses 0: 0.019203 1: 0.038999 2: 0.008960 3: 0.011943\n",
      "Train Epoch: 17 [10000/50000 (20%)]\tLosses 0: 0.004502 1: 0.010130 2: 0.005283 3: 0.002891\n",
      "Train Epoch: 17 [20000/50000 (40%)]\tLosses 0: 0.002135 1: 0.003616 2: 0.002115 3: 0.001470\n",
      "Train Epoch: 17 [30000/50000 (60%)]\tLosses 0: 0.073538 1: 0.023680 2: 0.054996 3: 0.020328\n",
      "Train Epoch: 17 [40000/50000 (80%)]\tLosses 0: 0.006732 1: 0.004616 2: 0.007576 3: 0.004101\n",
      "Train Epoch: 17 [50000/50000 (100%)]\tLosses 0: 0.015794 1: 0.008553 2: 0.033069 3: 0.005357\n",
      "Test set:\n",
      "0: Loss: 0.0973\tAccuracy: 9736/10000 (97%)\n",
      "1: Loss: 0.0861\tAccuracy: 9802/10000 (98%)\n",
      "2: Loss: 0.0974\tAccuracy: 9739/10000 (97%)\n",
      "3: Loss: 0.0819\tAccuracy: 9793/10000 (97%)\n",
      "\n",
      "Train Epoch: 18 [0/50000 (0%)]\tLosses 0: 0.007000 1: 0.020315 2: 0.006954 3: 0.001491\n",
      "Train Epoch: 18 [10000/50000 (20%)]\tLosses 0: 0.006032 1: 0.006943 2: 0.008661 3: 0.009011\n",
      "Train Epoch: 18 [20000/50000 (40%)]\tLosses 0: 0.002619 1: 0.001083 2: 0.002529 3: 0.011959\n",
      "Train Epoch: 18 [30000/50000 (60%)]\tLosses 0: 0.029981 1: 0.004542 2: 0.008617 3: 0.003592\n",
      "Train Epoch: 18 [40000/50000 (80%)]\tLosses 0: 0.003963 1: 0.014584 2: 0.005063 3: 0.002634\n",
      "Train Epoch: 18 [50000/50000 (100%)]\tLosses 0: 0.007712 1: 0.000763 2: 0.008667 3: 0.040830\n",
      "Test set:\n",
      "0: Loss: 0.0981\tAccuracy: 9743/10000 (97%)\n",
      "1: Loss: 0.0923\tAccuracy: 9794/10000 (97%)\n",
      "2: Loss: 0.0896\tAccuracy: 9769/10000 (97%)\n",
      "3: Loss: 0.0868\tAccuracy: 9779/10000 (97%)\n",
      "\n",
      "Train Epoch: 19 [0/50000 (0%)]\tLosses 0: 0.007062 1: 0.016098 2: 0.003886 3: 0.003804\n",
      "Train Epoch: 19 [10000/50000 (20%)]\tLosses 0: 0.002421 1: 0.004151 2: 0.002943 3: 0.003885\n",
      "Train Epoch: 19 [20000/50000 (40%)]\tLosses 0: 0.024629 1: 0.004736 2: 0.043007 3: 0.030256\n",
      "Train Epoch: 19 [30000/50000 (60%)]\tLosses 0: 0.021850 1: 0.002322 2: 0.013158 3: 0.008069\n",
      "Train Epoch: 19 [40000/50000 (80%)]\tLosses 0: 0.032268 1: 0.049309 2: 0.008273 3: 0.021003\n",
      "Train Epoch: 19 [50000/50000 (100%)]\tLosses 0: 0.186935 1: 0.151397 2: 0.167388 3: 0.100222\n",
      "Test set:\n",
      "0: Loss: 0.0988\tAccuracy: 9738/10000 (97%)\n",
      "1: Loss: 0.0912\tAccuracy: 9791/10000 (97%)\n",
      "2: Loss: 0.0938\tAccuracy: 9759/10000 (97%)\n",
      "3: Loss: 0.0850\tAccuracy: 9783/10000 (97%)\n",
      "\n",
      "Train Epoch: 20 [0/50000 (0%)]\tLosses 0: 0.007619 1: 0.000789 2: 0.003421 3: 0.000361\n",
      "Train Epoch: 20 [10000/50000 (20%)]\tLosses 0: 0.003765 1: 0.007139 2: 0.007072 3: 0.008650\n",
      "Train Epoch: 20 [20000/50000 (40%)]\tLosses 0: 0.005585 1: 0.001016 2: 0.001929 3: 0.005158\n",
      "Train Epoch: 20 [30000/50000 (60%)]\tLosses 0: 0.010706 1: 0.004214 2: 0.016817 3: 0.023409\n",
      "Train Epoch: 20 [40000/50000 (80%)]\tLosses 0: 0.005713 1: 0.002513 2: 0.023187 3: 0.010155\n",
      "Train Epoch: 20 [50000/50000 (100%)]\tLosses 0: 0.003355 1: 0.002445 2: 0.001645 3: 0.012747\n",
      "Test set:\n",
      "0: Loss: 0.0941\tAccuracy: 9755/10000 (97%)\n",
      "1: Loss: 0.0913\tAccuracy: 9787/10000 (97%)\n",
      "2: Loss: 0.0920\tAccuracy: 9757/10000 (97%)\n",
      "3: Loss: 0.0955\tAccuracy: 9769/10000 (97%)\n",
      "\n"
     ]
    }
   ],
   "source": [
    "for epoch in range(1, 21):\n",
    "    for model in models:\n",
    "        model.train()\n",
    "    train_loss_val = train(epoch, models)\n",
    "    epoch_train_loss.append(train_loss_val)\n",
    "    \n",
    "    for model in models:\n",
    "        model.eval()\n",
    "    test_loss_val, test_acc_val = test(models, valid_loader)\n",
    "    epoch_test_loss.append(test_loss_val)\n",
    "    epoch_test_acc.append(test_acc_val)\n",
    "    "
   ]
  },
  {
   "cell_type": "code",
   "execution_count": 21,
   "metadata": {},
   "outputs": [],
   "source": [
    "final_train_loss = np.array(epoch_train_loss)\n",
    "final_test_loss = np.array(epoch_test_loss)\n",
    "final_test_acc = np.array(epoch_test_acc)"
   ]
  },
  {
   "cell_type": "code",
   "execution_count": 22,
   "metadata": {},
   "outputs": [
    {
     "name": "stderr",
     "output_type": "stream",
     "text": [
      "/Users/aleksey/anaconda3/envs/otus-dl-engineer/lib/python3.6/site-packages/torch/serialization.py:193: UserWarning: Couldn't retrieve source code for container of type Net. It won't be checked for correctness upon loading.\n",
      "  \"type \" + obj.__name__ + \". It won't be checked \"\n"
     ]
    }
   ],
   "source": [
    "torch.save(models[3], './model_classifier')"
   ]
  },
  {
   "cell_type": "markdown",
   "metadata": {},
   "source": [
    "## Вывод результатов"
   ]
  },
  {
   "cell_type": "code",
   "execution_count": 8,
   "metadata": {},
   "outputs": [],
   "source": [
    "model = torch.load('./model_classifier')"
   ]
  },
  {
   "cell_type": "code",
   "execution_count": 9,
   "metadata": {
    "scrolled": false
   },
   "outputs": [
    {
     "data": {
      "image/png": "[encoded data removed]",
      "text/plain": [
       "<Figure size 800x400 with 50 Axes>"
      ]
     },
     "metadata": {},
     "output_type": "display_data"
    },
    {
     "name": "stdout",
     "output_type": "stream",
     "text": [
      "[tensor(7), tensor(2), tensor(1), tensor(0), tensor(4), tensor(1), tensor(4), tensor(9), tensor(5), tensor(9), tensor(0), tensor(6), tensor(9), tensor(0), tensor(1), tensor(5), tensor(9), tensor(7), tensor(3), tensor(4), tensor(9), tensor(6), tensor(6), tensor(5), tensor(4), tensor(0), tensor(7), tensor(4), tensor(0), tensor(1), tensor(3), tensor(1), tensor(3), tensor(4), tensor(7), tensor(2), tensor(7), tensor(1), tensor(2), tensor(1), tensor(1), tensor(7), tensor(4), tensor(2), tensor(3), tensor(5), tensor(1), tensor(2), tensor(4), tensor(4)]\n"
     ]
    }
   ],
   "source": [
    "data, _ = next(iter(test_loader))\n",
    "output = model.forward(data)\n",
    "predictions = [output[i].argmax() for i in range(50)]\n",
    "plot_mnist(data.data.numpy(), (5, 10))\n",
    "\n",
    "print (predictions)"
   ]
  },
  {
   "cell_type": "code",
   "execution_count": 13,
   "metadata": {},
   "outputs": [
    {
     "data": {
      "image/png": "[encoded data removed]",
      "text/plain": [
       "<Figure size 80x80 with 1 Axes>"
      ]
     },
     "metadata": {},
     "output_type": "display_data"
    }
   ],
   "source": [
    "data, _ = next(iter(test_loader))\n",
    "img = torch.randn((1, 784)).view(-1, 1, 28, 28)\n",
    "to_plot = img.view(-1, 1, 28, 28).clamp(0, 1).data.numpy()\n",
    "plot_mnist(to_plot, (1, 1))\n"
   ]
  },
  {
   "cell_type": "code",
   "execution_count": 14,
   "metadata": {
    "scrolled": false
   },
   "outputs": [],
   "source": [
    "from torch.autograd import Variable\n",
    "\n",
    "def generate_image(img, cl):\n",
    "    \n",
    "    gen_img_par = Variable(img, requires_grad=True)       \n",
    "    target = torch.ones((1), dtype=torch.long) * cl\n",
    "    steps_since_lr_decreased = 0\n",
    "    \n",
    "    loss_stats = []    \n",
    "    lr=1e-2\n",
    "\n",
    "    for i in range(1, 10000001):  \n",
    "                \n",
    "        out = model.forward(gen_img_par)      \n",
    "                 \n",
    "        gen_optim = optim.RMSprop([gen_img_par], lr=lr, weight_decay=0.)    \n",
    "        gen_optim.zero_grad()\n",
    "        loss = F.cross_entropy(out, target) \n",
    "        loss.backward()                   \n",
    "        gen_optim.step()\n",
    "        \n",
    "        if i % 5000 == 0:    \n",
    "            print (\"Iteration {}: loss={} prediction={} lr={}\".format(i,loss, out.argmax(), lr))\n",
    "            ls = loss.detach().numpy()            \n",
    "            loss_stats.append(ls)\n",
    "            \n",
    "            #print(\"PRED=\", out.argmax())\n",
    "            #print(\"OUT=\", out)\n",
    "            #print(\"TR=\", target)\n",
    "                        \n",
    "            if len(loss_stats) > 10:    \n",
    "                down = False    \n",
    "                for k in range(2, 7):    \n",
    "                    if ls < loss_stats[-k]:\n",
    "                        down = True\n",
    "                        break\n",
    "                # Loss is rising for 5 last epochs - decrease LR\n",
    "                if not down and steps_since_lr_decreased > 10:\n",
    "                    lr = lr * 0.5\n",
    "                    steps_since_lr_decreased = 0\n",
    "                    print (\"Decreasing LR ..\")\n",
    "                    if lr < 1e-6:\n",
    "                        print (\"Stop ..\")\n",
    "                        break\n",
    "                \n",
    "                steps_since_lr_decreased += 1\n",
    "\n",
    "\n",
    "        if i % 50000 == 0:\n",
    "            to_plot = gen_img_par.view(-1, 1, 28, 28).clamp(0, 1).data.numpy()\n",
    "            plot_mnist(to_plot, (1, 1))\n",
    "                        \n",
    "    return gen_img_par, loss_stats      \n"
   ]
  },
  {
   "cell_type": "code",
   "execution_count": 15,
   "metadata": {
    "scrolled": false
   },
   "outputs": [
    {
     "name": "stdout",
     "output_type": "stream",
     "text": [
      "Iteration 5000: loss=7.706502103133062e-12 prediction=3 lr=0.01\n",
      "Iteration 10000: loss=3.93796106834543e-12 prediction=3 lr=0.01\n",
      "Iteration 15000: loss=2.6560975641132245e-12 prediction=3 lr=0.01\n",
      "Iteration 20000: loss=2.007505273127208e-12 prediction=3 lr=0.01\n",
      "Iteration 25000: loss=1.6147083670148277e-12 prediction=3 lr=0.01\n",
      "Iteration 30000: loss=1.3533618670180658e-12 prediction=3 lr=0.01\n",
      "Iteration 35000: loss=1.1659562204613394e-12 prediction=3 lr=0.01\n",
      "Iteration 40000: loss=1.0238476733093194e-12 prediction=3 lr=0.01\n",
      "Iteration 45000: loss=9.126033262418787e-13 prediction=3 lr=0.01\n",
      "Iteration 50000: loss=8.22897305852166e-13 prediction=3 lr=0.01\n"
     ]
    },
    {
     "data": {
      "image/png": "[encoded data removed]",
      "text/plain": [
       "<Figure size 80x80 with 1 Axes>"
      ]
     },
     "metadata": {},
     "output_type": "display_data"
    },
    {
     "name": "stdout",
     "output_type": "stream",
     "text": [
      "Iteration 55000: loss=7.500666754367558e-13 prediction=3 lr=0.01\n",
      "Iteration 60000: loss=6.883382752675971e-13 prediction=3 lr=0.01\n",
      "Iteration 65000: loss=6.363798377151397e-13 prediction=3 lr=0.01\n",
      "Iteration 70000: loss=5.919709167301335e-13 prediction=3 lr=0.01\n",
      "Iteration 75000: loss=5.53113110868253e-13 prediction=3 lr=0.01\n",
      "Iteration 80000: loss=5.182521078950231e-13 prediction=3 lr=0.01\n",
      "Iteration 85000: loss=4.880540416252188e-13 prediction=3 lr=0.01\n",
      "Iteration 90000: loss=4.618527782440651e-13 prediction=3 lr=0.01\n",
      "Iteration 95000: loss=4.3787196091216174e-13 prediction=3 lr=0.01\n",
      "Iteration 100000: loss=4.1677772344428377e-13 prediction=3 lr=0.01\n"
     ]
    },
    {
     "data": {
      "image/png": "[encoded data removed]",
      "text/plain": [
       "<Figure size 80x80 with 1 Axes>"
      ]
     },
     "metadata": {},
     "output_type": "display_data"
    },
    {
     "name": "stdout",
     "output_type": "stream",
     "text": [
      "Iteration 105000: loss=3.9768188742073107e-13 prediction=3 lr=0.01\n",
      "Iteration 110000: loss=3.7991831902672857e-13 prediction=3 lr=0.01\n",
      "Iteration 115000: loss=3.6415315207705135e-13 prediction=3 lr=0.01\n",
      "Iteration 120000: loss=3.494982081519993e-13 prediction=3 lr=0.01\n",
      "Iteration 125000: loss=3.361755318564974e-13 prediction=3 lr=0.01\n",
      "Iteration 130000: loss=3.2374103398069565e-13 prediction=3 lr=0.01\n",
      "Iteration 135000: loss=3.1241675912951905e-13 prediction=3 lr=0.01\n",
      "Iteration 140000: loss=3.015365734881925e-13 prediction=3 lr=0.01\n",
      "Iteration 145000: loss=2.9176661087149114e-13 prediction=3 lr=0.01\n",
      "Iteration 150000: loss=2.824407374646398e-13 prediction=3 lr=0.01\n"
     ]
    },
    {
     "data": {
      "image/png": "[encoded data removed]",
      "text/plain": [
       "<Figure size 80x80 with 1 Axes>"
      ]
     },
     "metadata": {},
     "output_type": "display_data"
    },
    {
     "name": "stdout",
     "output_type": "stream",
     "text": [
      "Iteration 155000: loss=2.737809978725636e-13 prediction=3 lr=0.01\n",
      "Iteration 160000: loss=2.6623148130511254e-13 prediction=3 lr=0.01\n",
      "Iteration 165000: loss=2.589040093425865e-13 prediction=3 lr=0.01\n",
      "Iteration 170000: loss=2.5224267119483557e-13 prediction=3 lr=0.01\n",
      "Iteration 175000: loss=2.4558133304708463e-13 prediction=3 lr=0.01\n",
      "Iteration 180000: loss=2.395861287141088e-13 prediction=3 lr=0.01\n",
      "Iteration 185000: loss=2.3359092438113294e-13 prediction=3 lr=0.01\n",
      "Iteration 190000: loss=2.2803980925800715e-13 prediction=3 lr=0.01\n",
      "Iteration 195000: loss=2.2248869413488137e-13 prediction=3 lr=0.01\n",
      "Iteration 200000: loss=2.1782575743145571e-13 prediction=3 lr=0.01\n"
     ]
    },
    {
     "data": {
      "image/png": "[encoded data removed]",
      "text/plain": [
       "<Figure size 80x80 with 1 Axes>"
      ]
     },
     "metadata": {},
     "output_type": "display_data"
    },
    {
     "name": "stdout",
     "output_type": "stream",
     "text": [
      "Iteration 205000: loss=2.1316282072803006e-13 prediction=3 lr=0.01\n",
      "Iteration 210000: loss=2.0827783941967937e-13 prediction=3 lr=0.01\n",
      "Iteration 215000: loss=2.0405899192610377e-13 prediction=3 lr=0.01\n",
      "Iteration 220000: loss=2.000621890374532e-13 prediction=3 lr=0.01\n",
      "Iteration 225000: loss=1.9562129693895258e-13 prediction=3 lr=0.01\n",
      "Iteration 230000: loss=1.9206858326015208e-13 prediction=3 lr=0.01\n",
      "Iteration 235000: loss=1.8829382497642655e-13 prediction=3 lr=0.01\n",
      "Iteration 240000: loss=1.8496315590255108e-13 prediction=3 lr=0.01\n",
      "Iteration 245000: loss=1.8141044222375058e-13 prediction=3 lr=0.01\n",
      "Iteration 250000: loss=1.7830181775480014e-13 prediction=3 lr=0.01\n"
     ]
    },
    {
     "data": {
      "image/png": "[encoded data removed]",
      "text/plain": [
       "<Figure size 80x80 with 1 Axes>"
      ]
     },
     "metadata": {},
     "output_type": "display_data"
    },
    {
     "name": "stdout",
     "output_type": "stream",
     "text": [
      "Iteration 255000: loss=1.751931932858497e-13 prediction=3 lr=0.01\n",
      "Iteration 260000: loss=1.7252865802674933e-13 prediction=3 lr=0.01\n",
      "Iteration 265000: loss=1.6964207816272392e-13 prediction=3 lr=0.01\n",
      "Iteration 270000: loss=1.667554982986985e-13 prediction=3 lr=0.01\n",
      "Iteration 275000: loss=1.6409096303959814e-13 prediction=3 lr=0.01\n",
      "Iteration 280000: loss=1.616484723854228e-13 prediction=3 lr=0.01\n",
      "Iteration 285000: loss=1.5942802633617248e-13 prediction=3 lr=0.01\n",
      "Iteration 290000: loss=1.5698553568199713e-13 prediction=3 lr=0.01\n",
      "Iteration 295000: loss=1.5432100042289676e-13 prediction=3 lr=0.01\n",
      "Iteration 300000: loss=1.525446435834965e-13 prediction=3 lr=0.01\n"
     ]
    },
    {
     "data": {
      "image/png": "[encoded data removed]",
      "text/plain": [
       "<Figure size 80x80 with 1 Axes>"
      ]
     },
     "metadata": {},
     "output_type": "display_data"
    },
    {
     "name": "stdout",
     "output_type": "stream",
     "text": [
      "Iteration 305000: loss=1.503241975342462e-13 prediction=3 lr=0.01\n",
      "Iteration 310000: loss=1.4810375148499588e-13 prediction=3 lr=0.01\n",
      "Iteration 315000: loss=1.4632739464559563e-13 prediction=3 lr=0.01\n",
      "Iteration 320000: loss=1.4432899320127035e-13 prediction=3 lr=0.01\n",
      "Iteration 325000: loss=1.4277468096679513e-13 prediction=3 lr=0.01\n",
      "Iteration 330000: loss=1.4055423491754482e-13 prediction=3 lr=0.01\n",
      "Iteration 335000: loss=1.3855583347321954e-13 prediction=3 lr=0.01\n",
      "Iteration 340000: loss=1.3700152123874432e-13 prediction=3 lr=0.01\n",
      "Iteration 345000: loss=1.3522516439934407e-13 prediction=3 lr=0.01\n",
      "Iteration 350000: loss=1.3367085216486885e-13 prediction=3 lr=0.01\n"
     ]
    },
    {
     "data": {
      "image/png": "[encoded data removed]",
      "text/plain": [
       "<Figure size 80x80 with 1 Axes>"
      ]
     },
     "metadata": {},
     "output_type": "display_data"
    },
    {
     "name": "stdout",
     "output_type": "stream",
     "text": [
      "Iteration 355000: loss=1.3211653993039363e-13 prediction=3 lr=0.01\n",
      "Iteration 360000: loss=1.3078427230084344e-13 prediction=3 lr=0.01\n",
      "Iteration 365000: loss=1.2945200467129325e-13 prediction=3 lr=0.01\n",
      "Iteration 370000: loss=1.2811973704174306e-13 prediction=3 lr=0.01\n",
      "Iteration 375000: loss=1.2678746941219288e-13 prediction=3 lr=0.01\n",
      "Iteration 380000: loss=1.2523315717771766e-13 prediction=3 lr=0.01\n",
      "Iteration 385000: loss=1.241229341530925e-13 prediction=3 lr=0.01\n",
      "Iteration 390000: loss=1.2301271112846734e-13 prediction=3 lr=0.01\n",
      "Iteration 395000: loss=1.2168044349891716e-13 prediction=3 lr=0.01\n",
      "Iteration 400000: loss=1.2079226507921703e-13 prediction=3 lr=0.01\n"
     ]
    },
    {
     "data": {
      "image/png": "[encoded data removed]",
      "text/plain": [
       "<Figure size 80x80 with 1 Axes>"
      ]
     },
     "metadata": {},
     "output_type": "display_data"
    },
    {
     "name": "stdout",
     "output_type": "stream",
     "text": [
      "Iteration 405000: loss=1.1968204205459188e-13 prediction=3 lr=0.01\n",
      "Iteration 410000: loss=1.1857181902996672e-13 prediction=3 lr=0.01\n",
      "Iteration 415000: loss=1.1746159600534156e-13 prediction=3 lr=0.01\n",
      "Iteration 420000: loss=1.1657341758564144e-13 prediction=3 lr=0.01\n",
      "Iteration 425000: loss=1.1524114995609125e-13 prediction=3 lr=0.01\n",
      "Iteration 430000: loss=1.1457501614131615e-13 prediction=3 lr=0.01\n",
      "Iteration 435000: loss=1.1368683772161603e-13 prediction=3 lr=0.01\n",
      "Iteration 440000: loss=1.1257661469699087e-13 prediction=3 lr=0.01\n",
      "Iteration 445000: loss=1.1146639167236572e-13 prediction=3 lr=0.01\n",
      "Iteration 450000: loss=1.1057821325266559e-13 prediction=3 lr=0.01\n"
     ]
    },
    {
     "data": {
      "image/png": "[encoded data removed]",
      "text/plain": [
       "<Figure size 80x80 with 1 Axes>"
      ]
     },
     "metadata": {},
     "output_type": "display_data"
    },
    {
     "name": "stdout",
     "output_type": "stream",
     "text": [
      "Iteration 455000: loss=1.099120794378905e-13 prediction=3 lr=0.01\n",
      "Iteration 460000: loss=1.0902390101819037e-13 prediction=3 lr=0.01\n",
      "Iteration 465000: loss=1.0813572259849025e-13 prediction=3 lr=0.01\n",
      "Iteration 470000: loss=1.0724754417879012e-13 prediction=3 lr=0.01\n",
      "Iteration 475000: loss=1.0635936575909e-13 prediction=3 lr=0.01\n",
      "Iteration 480000: loss=1.0547118733938987e-13 prediction=3 lr=0.01\n",
      "Iteration 485000: loss=1.0502709812953981e-13 prediction=3 lr=0.01\n",
      "Iteration 490000: loss=1.0436096431476471e-13 prediction=3 lr=0.01\n",
      "Iteration 495000: loss=1.0325074129013956e-13 prediction=3 lr=0.01\n",
      "Iteration 500000: loss=1.028066520802895e-13 prediction=3 lr=0.01\n"
     ]
    },
    {
     "data": {
      "image/png": "[encoded data removed]",
      "text/plain": [
       "<Figure size 80x80 with 1 Axes>"
      ]
     },
     "metadata": {},
     "output_type": "display_data"
    },
    {
     "name": "stdout",
     "output_type": "stream",
     "text": [
      "Iteration 505000: loss=1.021405182655144e-13 prediction=3 lr=0.01\n",
      "Iteration 510000: loss=1.0147438445073931e-13 prediction=3 lr=0.01\n",
      "Iteration 515000: loss=1.0080825063596421e-13 prediction=3 lr=0.01\n",
      "Iteration 520000: loss=1.0014211682118912e-13 prediction=3 lr=0.01\n",
      "Iteration 525000: loss=9.947598300641403e-14 prediction=3 lr=0.01\n",
      "Iteration 530000: loss=9.880984919163893e-14 prediction=3 lr=0.01\n",
      "Iteration 535000: loss=9.836575998178887e-14 prediction=3 lr=0.01\n",
      "Iteration 540000: loss=9.769962616701378e-14 prediction=3 lr=0.01\n",
      "Iteration 545000: loss=9.703349235223868e-14 prediction=3 lr=0.01\n",
      "Iteration 550000: loss=9.614531393253856e-14 prediction=3 lr=0.01\n"
     ]
    },
    {
     "data": {
      "image/png": "[encoded data removed]",
      "text/plain": [
       "<Figure size 80x80 with 1 Axes>"
      ]
     },
     "metadata": {},
     "output_type": "display_data"
    },
    {
     "name": "stdout",
     "output_type": "stream",
     "text": [
      "Iteration 555000: loss=9.57012247226885e-14 prediction=3 lr=0.01\n",
      "Iteration 560000: loss=9.525713551283843e-14 prediction=3 lr=0.01\n",
      "Iteration 565000: loss=9.50350909079134e-14 prediction=3 lr=0.01\n",
      "Iteration 570000: loss=9.414691248821327e-14 prediction=3 lr=0.01\n",
      "Iteration 575000: loss=9.370282327836321e-14 prediction=3 lr=0.01\n",
      "Iteration 580000: loss=9.325873406851315e-14 prediction=3 lr=0.01\n",
      "Iteration 585000: loss=9.281464485866309e-14 prediction=3 lr=0.01\n",
      "Iteration 590000: loss=9.259260025373806e-14 prediction=3 lr=0.01\n",
      "Iteration 595000: loss=9.192646643896296e-14 prediction=3 lr=0.01\n",
      "Iteration 600000: loss=9.126033262418787e-14 prediction=3 lr=0.01\n"
     ]
    },
    {
     "data": {
      "image/png": "[encoded data removed]",
      "text/plain": [
       "<Figure size 80x80 with 1 Axes>"
      ]
     },
     "metadata": {},
     "output_type": "display_data"
    },
    {
     "name": "stdout",
     "output_type": "stream",
     "text": [
      "Iteration 605000: loss=9.08162434143378e-14 prediction=3 lr=0.01\n",
      "Iteration 610000: loss=9.059419880941277e-14 prediction=3 lr=0.01\n",
      "Iteration 615000: loss=9.015010959956271e-14 prediction=3 lr=0.01\n",
      "Iteration 620000: loss=8.970602038971265e-14 prediction=3 lr=0.01\n",
      "Iteration 625000: loss=8.926193117986259e-14 prediction=3 lr=0.01\n",
      "Iteration 630000: loss=8.881784197001252e-14 prediction=3 lr=0.01\n",
      "Iteration 635000: loss=8.837375276016246e-14 prediction=3 lr=0.01\n",
      "Iteration 640000: loss=8.79296635503124e-14 prediction=3 lr=0.01\n",
      "Iteration 645000: loss=8.770761894538737e-14 prediction=3 lr=0.01\n",
      "Iteration 650000: loss=8.704148513061227e-14 prediction=3 lr=0.01\n"
     ]
    },
    {
     "data": {
      "image/png": "[encoded data removed]",
      "text/plain": [
       "<Figure size 80x80 with 1 Axes>"
      ]
     },
     "metadata": {},
     "output_type": "display_data"
    },
    {
     "name": "stdout",
     "output_type": "stream",
     "text": [
      "Iteration 655000: loss=8.681944052568724e-14 prediction=3 lr=0.01\n",
      "Iteration 660000: loss=8.659739592076221e-14 prediction=3 lr=0.01\n",
      "Iteration 665000: loss=8.615330671091215e-14 prediction=3 lr=0.01\n",
      "Iteration 670000: loss=8.593126210598712e-14 prediction=3 lr=0.01\n",
      "Iteration 675000: loss=8.526512829121202e-14 prediction=3 lr=0.01\n",
      "Iteration 680000: loss=8.482103908136196e-14 prediction=3 lr=0.01\n",
      "Iteration 685000: loss=8.459899447643693e-14 prediction=3 lr=0.01\n",
      "Iteration 690000: loss=8.415490526658687e-14 prediction=3 lr=0.01\n",
      "Iteration 695000: loss=8.393286066166183e-14 prediction=3 lr=0.01\n",
      "Iteration 700000: loss=8.348877145181177e-14 prediction=3 lr=0.01\n"
     ]
    },
    {
     "data": {
      "image/png": "[encoded data removed]",
      "text/plain": [
       "<Figure size 80x80 with 1 Axes>"
      ]
     },
     "metadata": {},
     "output_type": "display_data"
    },
    {
     "name": "stdout",
     "output_type": "stream",
     "text": [
      "Iteration 705000: loss=8.326672684688674e-14 prediction=3 lr=0.01\n",
      "Iteration 710000: loss=8.282263763703668e-14 prediction=3 lr=0.01\n",
      "Iteration 715000: loss=8.215650382226158e-14 prediction=3 lr=0.01\n",
      "Iteration 720000: loss=8.193445921733655e-14 prediction=3 lr=0.01\n",
      "Iteration 725000: loss=8.171241461241152e-14 prediction=3 lr=0.01\n",
      "Iteration 730000: loss=8.126832540256146e-14 prediction=3 lr=0.01\n",
      "Iteration 735000: loss=8.08242361927114e-14 prediction=3 lr=0.01\n",
      "Iteration 740000: loss=8.060219158778636e-14 prediction=3 lr=0.01\n",
      "Iteration 745000: loss=8.01581023779363e-14 prediction=3 lr=0.01\n",
      "Iteration 750000: loss=7.993605777301127e-14 prediction=3 lr=0.01\n"
     ]
    },
    {
     "data": {
      "image/png": "[encoded data removed]",
      "text/plain": [
       "<Figure size 80x80 with 1 Axes>"
      ]
     },
     "metadata": {},
     "output_type": "display_data"
    },
    {
     "name": "stdout",
     "output_type": "stream",
     "text": [
      "Iteration 755000: loss=7.949196856316121e-14 prediction=3 lr=0.01\n",
      "Iteration 760000: loss=7.904787935331115e-14 prediction=3 lr=0.01\n",
      "Iteration 765000: loss=7.882583474838611e-14 prediction=3 lr=0.01\n",
      "Iteration 770000: loss=7.860379014346108e-14 prediction=3 lr=0.01\n",
      "Iteration 775000: loss=7.838174553853605e-14 prediction=3 lr=0.01\n",
      "Iteration 780000: loss=7.793765632868599e-14 prediction=3 lr=0.01\n",
      "Iteration 785000: loss=7.749356711883593e-14 prediction=3 lr=0.01\n",
      "Iteration 790000: loss=7.72715225139109e-14 prediction=3 lr=0.01\n",
      "Iteration 795000: loss=7.704947790898586e-14 prediction=3 lr=0.01\n",
      "Iteration 800000: loss=7.682743330406083e-14 prediction=3 lr=0.01\n"
     ]
    },
    {
     "data": {
      "image/png": "[encoded data removed]",
      "text/plain": [
       "<Figure size 80x80 with 1 Axes>"
      ]
     },
     "metadata": {},
     "output_type": "display_data"
    },
    {
     "name": "stdout",
     "output_type": "stream",
     "text": [
      "Iteration 805000: loss=7.66053886991358e-14 prediction=3 lr=0.01\n",
      "Iteration 810000: loss=7.616129948928574e-14 prediction=3 lr=0.01\n",
      "Iteration 815000: loss=7.593925488436071e-14 prediction=3 lr=0.01\n",
      "Iteration 820000: loss=7.571721027943568e-14 prediction=3 lr=0.01\n",
      "Iteration 825000: loss=7.527312106958561e-14 prediction=3 lr=0.01\n",
      "Iteration 830000: loss=7.505107646466058e-14 prediction=3 lr=0.01\n",
      "Iteration 835000: loss=7.482903185973555e-14 prediction=3 lr=0.01\n",
      "Iteration 840000: loss=7.460698725481052e-14 prediction=3 lr=0.01\n",
      "Iteration 845000: loss=7.438494264988549e-14 prediction=3 lr=0.01\n",
      "Iteration 850000: loss=7.416289804496046e-14 prediction=3 lr=0.01\n"
     ]
    },
    {
     "data": {
      "image/png": "[encoded data removed]",
      "text/plain": [
       "<Figure size 80x80 with 1 Axes>"
      ]
     },
     "metadata": {},
     "output_type": "display_data"
    },
    {
     "name": "stdout",
     "output_type": "stream",
     "text": [
      "Iteration 855000: loss=7.394085344003543e-14 prediction=3 lr=0.01\n",
      "Iteration 860000: loss=7.37188088351104e-14 prediction=3 lr=0.01\n",
      "Iteration 865000: loss=7.30526750203353e-14 prediction=3 lr=0.01\n",
      "Iteration 870000: loss=7.283063041541027e-14 prediction=3 lr=0.01\n",
      "Iteration 875000: loss=7.260858581048524e-14 prediction=3 lr=0.01\n",
      "Iteration 880000: loss=7.238654120556021e-14 prediction=3 lr=0.01\n",
      "Iteration 885000: loss=7.216449660063518e-14 prediction=3 lr=0.01\n",
      "Iteration 890000: loss=7.194245199571014e-14 prediction=3 lr=0.01\n",
      "Iteration 895000: loss=7.172040739078511e-14 prediction=3 lr=0.01\n",
      "Iteration 900000: loss=7.149836278586008e-14 prediction=3 lr=0.01\n"
     ]
    },
    {
     "data": {
      "image/png": "[encoded data removed]",
      "text/plain": [
       "<Figure size 80x80 with 1 Axes>"
      ]
     },
     "metadata": {},
     "output_type": "display_data"
    },
    {
     "name": "stdout",
     "output_type": "stream",
     "text": [
      "Iteration 905000: loss=7.127631818093505e-14 prediction=3 lr=0.01\n",
      "Iteration 910000: loss=7.105427357601002e-14 prediction=3 lr=0.01\n",
      "Iteration 915000: loss=7.061018436615996e-14 prediction=3 lr=0.01\n",
      "Iteration 920000: loss=7.038813976123492e-14 prediction=3 lr=0.01\n",
      "Iteration 925000: loss=6.994405055138486e-14 prediction=3 lr=0.01\n",
      "Iteration 930000: loss=6.972200594645983e-14 prediction=3 lr=0.01\n",
      "Iteration 935000: loss=6.972200594645983e-14 prediction=3 lr=0.01\n",
      "Iteration 940000: loss=6.94999613415348e-14 prediction=3 lr=0.01\n",
      "Iteration 945000: loss=6.927791673660977e-14 prediction=3 lr=0.01\n",
      "Iteration 950000: loss=6.905587213168474e-14 prediction=3 lr=0.01\n"
     ]
    },
    {
     "data": {
      "image/png": "[encoded data removed]",
      "text/plain": [
       "<Figure size 80x80 with 1 Axes>"
      ]
     },
     "metadata": {},
     "output_type": "display_data"
    },
    {
     "name": "stdout",
     "output_type": "stream",
     "text": [
      "Iteration 955000: loss=6.88338275267597e-14 prediction=3 lr=0.01\n",
      "Iteration 960000: loss=6.861178292183467e-14 prediction=3 lr=0.01\n",
      "Iteration 965000: loss=6.816769371198461e-14 prediction=3 lr=0.01\n",
      "Iteration 970000: loss=6.816769371198461e-14 prediction=3 lr=0.01\n",
      "Iteration 975000: loss=6.794564910705958e-14 prediction=3 lr=0.01\n",
      "Iteration 980000: loss=6.772360450213455e-14 prediction=3 lr=0.01\n",
      "Iteration 985000: loss=6.750155989720952e-14 prediction=3 lr=0.01\n",
      "Iteration 990000: loss=6.705747068735946e-14 prediction=3 lr=0.01\n",
      "Iteration 995000: loss=6.705747068735946e-14 prediction=3 lr=0.01\n",
      "Iteration 1000000: loss=6.683542608243442e-14 prediction=3 lr=0.01\n"
     ]
    },
    {
     "data": {
      "image/png": "[encoded data removed]",
      "text/plain": [
       "<Figure size 80x80 with 1 Axes>"
      ]
     },
     "metadata": {},
     "output_type": "display_data"
    },
    {
     "name": "stdout",
     "output_type": "stream",
     "text": [
      "Iteration 1005000: loss=6.661338147750939e-14 prediction=3 lr=0.01\n",
      "Iteration 1010000: loss=6.639133687258436e-14 prediction=3 lr=0.01\n",
      "Iteration 1015000: loss=6.616929226765933e-14 prediction=3 lr=0.01\n",
      "Iteration 1020000: loss=6.59472476627343e-14 prediction=3 lr=0.01\n",
      "Iteration 1025000: loss=6.550315845288424e-14 prediction=3 lr=0.01\n",
      "Iteration 1030000: loss=6.52811138479592e-14 prediction=3 lr=0.01\n",
      "Iteration 1035000: loss=6.505906924303417e-14 prediction=3 lr=0.01\n",
      "Iteration 1040000: loss=6.505906924303417e-14 prediction=3 lr=0.01\n",
      "Iteration 1045000: loss=6.483702463810914e-14 prediction=3 lr=0.01\n",
      "Iteration 1050000: loss=6.461498003318411e-14 prediction=3 lr=0.01\n"
     ]
    },
    {
     "data": {
      "image/png": "[encoded data removed]",
      "text/plain": [
       "<Figure size 80x80 with 1 Axes>"
      ]
     },
     "metadata": {},
     "output_type": "display_data"
    },
    {
     "name": "stdout",
     "output_type": "stream",
     "text": [
      "Iteration 1055000: loss=6.461498003318411e-14 prediction=3 lr=0.01\n",
      "Iteration 1060000: loss=6.439293542825908e-14 prediction=3 lr=0.01\n",
      "Iteration 1065000: loss=6.394884621840902e-14 prediction=3 lr=0.01\n",
      "Iteration 1070000: loss=6.372680161348399e-14 prediction=3 lr=0.01\n",
      "Iteration 1075000: loss=6.372680161348399e-14 prediction=3 lr=0.01\n",
      "Iteration 1080000: loss=6.328271240363392e-14 prediction=3 lr=0.01\n",
      "Iteration 1085000: loss=6.306066779870889e-14 prediction=3 lr=0.01\n",
      "Iteration 1090000: loss=6.306066779870889e-14 prediction=3 lr=0.01\n",
      "Iteration 1095000: loss=6.283862319378386e-14 prediction=3 lr=0.01\n",
      "Iteration 1100000: loss=6.261657858885883e-14 prediction=3 lr=0.01\n"
     ]
    },
    {
     "data": {
      "image/png": "[encoded data removed]",
      "text/plain": [
       "<Figure size 80x80 with 1 Axes>"
      ]
     },
     "metadata": {},
     "output_type": "display_data"
    },
    {
     "name": "stdout",
     "output_type": "stream",
     "text": [
      "Iteration 1105000: loss=6.261657858885883e-14 prediction=3 lr=0.01\n",
      "Iteration 1110000: loss=6.23945339839338e-14 prediction=3 lr=0.01\n",
      "Iteration 1115000: loss=6.217248937900877e-14 prediction=3 lr=0.01\n",
      "Iteration 1120000: loss=6.217248937900877e-14 prediction=3 lr=0.01\n",
      "Iteration 1125000: loss=6.195044477408373e-14 prediction=3 lr=0.01\n",
      "Iteration 1130000: loss=6.17284001691587e-14 prediction=3 lr=0.01\n",
      "Iteration 1135000: loss=6.17284001691587e-14 prediction=3 lr=0.01\n",
      "Iteration 1140000: loss=6.150635556423367e-14 prediction=3 lr=0.01\n",
      "Iteration 1145000: loss=6.106226635438361e-14 prediction=3 lr=0.01\n",
      "Iteration 1150000: loss=6.084022174945858e-14 prediction=3 lr=0.01\n"
     ]
    },
    {
     "data": {
      "image/png": "[encoded data removed]",
      "text/plain": [
       "<Figure size 80x80 with 1 Axes>"
      ]
     },
     "metadata": {},
     "output_type": "display_data"
    },
    {
     "name": "stdout",
     "output_type": "stream",
     "text": [
      "Iteration 1155000: loss=6.061817714453355e-14 prediction=3 lr=0.01\n",
      "Iteration 1160000: loss=6.061817714453355e-14 prediction=3 lr=0.01\n",
      "Iteration 1165000: loss=6.039613253960852e-14 prediction=3 lr=0.01\n",
      "Iteration 1170000: loss=6.017408793468348e-14 prediction=3 lr=0.01\n",
      "Iteration 1175000: loss=6.017408793468348e-14 prediction=3 lr=0.01\n",
      "Iteration 1180000: loss=5.995204332975845e-14 prediction=3 lr=0.01\n",
      "Iteration 1185000: loss=5.995204332975845e-14 prediction=3 lr=0.01\n",
      "Iteration 1190000: loss=5.972999872483342e-14 prediction=3 lr=0.01\n",
      "Iteration 1195000: loss=5.950795411990839e-14 prediction=3 lr=0.01\n",
      "Iteration 1200000: loss=5.950795411990839e-14 prediction=3 lr=0.01\n"
     ]
    },
    {
     "data": {
      "image/png": "[encoded data removed]",
      "text/plain": [
       "<Figure size 80x80 with 1 Axes>"
      ]
     },
     "metadata": {},
     "output_type": "display_data"
    },
    {
     "name": "stdout",
     "output_type": "stream",
     "text": [
      "Iteration 1205000: loss=5.928590951498336e-14 prediction=3 lr=0.01\n",
      "Iteration 1210000: loss=5.928590951498336e-14 prediction=3 lr=0.01\n",
      "Iteration 1215000: loss=5.88418203051333e-14 prediction=3 lr=0.01\n",
      "Iteration 1220000: loss=5.88418203051333e-14 prediction=3 lr=0.01\n",
      "Iteration 1225000: loss=5.861977570020827e-14 prediction=3 lr=0.01\n",
      "Iteration 1230000: loss=5.861977570020827e-14 prediction=3 lr=0.01\n",
      "Iteration 1235000: loss=5.839773109528323e-14 prediction=3 lr=0.01\n",
      "Iteration 1240000: loss=5.839773109528323e-14 prediction=3 lr=0.01\n",
      "Iteration 1245000: loss=5.795364188543317e-14 prediction=3 lr=0.01\n",
      "Iteration 1250000: loss=5.773159728050814e-14 prediction=3 lr=0.01\n"
     ]
    },
    {
     "data": {
      "image/png": "[encoded data removed]",
      "text/plain": [
       "<Figure size 80x80 with 1 Axes>"
      ]
     },
     "metadata": {},
     "output_type": "display_data"
    },
    {
     "name": "stdout",
     "output_type": "stream",
     "text": [
      "Iteration 1255000: loss=5.773159728050814e-14 prediction=3 lr=0.01\n",
      "Iteration 1260000: loss=5.750955267558311e-14 prediction=3 lr=0.01\n",
      "Iteration 1265000: loss=5.750955267558311e-14 prediction=3 lr=0.01\n",
      "Iteration 1270000: loss=5.728750807065808e-14 prediction=3 lr=0.01\n",
      "Iteration 1275000: loss=5.728750807065808e-14 prediction=3 lr=0.01\n",
      "Iteration 1280000: loss=5.706546346573305e-14 prediction=3 lr=0.01\n",
      "Iteration 1285000: loss=5.706546346573305e-14 prediction=3 lr=0.01\n",
      "Iteration 1290000: loss=5.684341886080802e-14 prediction=3 lr=0.01\n",
      "Iteration 1295000: loss=5.684341886080802e-14 prediction=3 lr=0.01\n",
      "Iteration 1300000: loss=5.639932965095795e-14 prediction=3 lr=0.01\n"
     ]
    },
    {
     "data": {
      "image/png": "[encoded data removed]",
      "text/plain": [
       "<Figure size 80x80 with 1 Axes>"
      ]
     },
     "metadata": {},
     "output_type": "display_data"
    },
    {
     "name": "stdout",
     "output_type": "stream",
     "text": [
      "Iteration 1305000: loss=5.639932965095795e-14 prediction=3 lr=0.01\n",
      "Iteration 1310000: loss=5.639932965095795e-14 prediction=3 lr=0.01\n",
      "Iteration 1315000: loss=5.617728504603292e-14 prediction=3 lr=0.01\n",
      "Iteration 1320000: loss=5.617728504603292e-14 prediction=3 lr=0.01\n",
      "Iteration 1325000: loss=5.595524044110789e-14 prediction=3 lr=0.01\n",
      "Iteration 1330000: loss=5.595524044110789e-14 prediction=3 lr=0.01\n",
      "Iteration 1335000: loss=5.573319583618286e-14 prediction=3 lr=0.01\n",
      "Iteration 1340000: loss=5.573319583618286e-14 prediction=3 lr=0.01\n",
      "Iteration 1345000: loss=5.551115123125783e-14 prediction=3 lr=0.01\n",
      "Iteration 1350000: loss=5.551115123125783e-14 prediction=3 lr=0.01\n"
     ]
    },
    {
     "data": {
      "image/png": "[encoded data removed]",
      "text/plain": [
       "<Figure size 80x80 with 1 Axes>"
      ]
     },
     "metadata": {},
     "output_type": "display_data"
    },
    {
     "name": "stdout",
     "output_type": "stream",
     "text": [
      "Iteration 1355000: loss=5.551115123125783e-14 prediction=3 lr=0.01\n",
      "Iteration 1360000: loss=5.5067062021407764e-14 prediction=3 lr=0.01\n",
      "Iteration 1365000: loss=5.5067062021407764e-14 prediction=3 lr=0.01\n",
      "Iteration 1370000: loss=5.484501741648273e-14 prediction=3 lr=0.01\n",
      "Iteration 1375000: loss=5.484501741648273e-14 prediction=3 lr=0.01\n",
      "Iteration 1380000: loss=5.46229728115577e-14 prediction=3 lr=0.01\n",
      "Iteration 1385000: loss=5.46229728115577e-14 prediction=3 lr=0.01\n",
      "Iteration 1390000: loss=5.46229728115577e-14 prediction=3 lr=0.01\n",
      "Iteration 1395000: loss=5.417888360170764e-14 prediction=3 lr=0.01\n",
      "Iteration 1400000: loss=5.417888360170764e-14 prediction=3 lr=0.01\n"
     ]
    },
    {
     "data": {
      "image/png": "[encoded data removed]",
      "text/plain": [
       "<Figure size 80x80 with 1 Axes>"
      ]
     },
     "metadata": {},
     "output_type": "display_data"
    },
    {
     "name": "stdout",
     "output_type": "stream",
     "text": [
      "Iteration 1405000: loss=5.395683899678261e-14 prediction=3 lr=0.01\n",
      "Iteration 1410000: loss=5.395683899678261e-14 prediction=3 lr=0.01\n",
      "Iteration 1415000: loss=5.3734794391857577e-14 prediction=3 lr=0.01\n",
      "Iteration 1420000: loss=5.3734794391857577e-14 prediction=3 lr=0.01\n",
      "Iteration 1425000: loss=5.3734794391857577e-14 prediction=3 lr=0.01\n",
      "Iteration 1430000: loss=5.3512749786932545e-14 prediction=3 lr=0.01\n",
      "Iteration 1435000: loss=5.3512749786932545e-14 prediction=3 lr=0.01\n",
      "Iteration 1440000: loss=5.3290705182007514e-14 prediction=3 lr=0.01\n",
      "Iteration 1445000: loss=5.3290705182007514e-14 prediction=3 lr=0.01\n",
      "Iteration 1450000: loss=5.3290705182007514e-14 prediction=3 lr=0.01\n"
     ]
    },
    {
     "data": {
      "image/png": "[encoded data removed]",
      "text/plain": [
       "<Figure size 80x80 with 1 Axes>"
      ]
     },
     "metadata": {},
     "output_type": "display_data"
    },
    {
     "name": "stdout",
     "output_type": "stream",
     "text": [
      "Iteration 1455000: loss=5.306866057708248e-14 prediction=3 lr=0.01\n",
      "Iteration 1460000: loss=5.306866057708248e-14 prediction=3 lr=0.01\n",
      "Iteration 1465000: loss=5.284661597215745e-14 prediction=3 lr=0.01\n",
      "Iteration 1470000: loss=5.284661597215745e-14 prediction=3 lr=0.01\n",
      "Iteration 1475000: loss=5.284661597215745e-14 prediction=3 lr=0.01\n",
      "Iteration 1480000: loss=5.262457136723242e-14 prediction=3 lr=0.01\n",
      "Iteration 1485000: loss=5.262457136723242e-14 prediction=3 lr=0.01\n",
      "Iteration 1490000: loss=5.218048215738236e-14 prediction=3 lr=0.01\n",
      "Iteration 1495000: loss=5.218048215738236e-14 prediction=3 lr=0.01\n",
      "Iteration 1500000: loss=5.1958437552457326e-14 prediction=3 lr=0.01\n"
     ]
    },
    {
     "data": {
      "image/png": "[encoded data removed]",
      "text/plain": [
       "<Figure size 80x80 with 1 Axes>"
      ]
     },
     "metadata": {},
     "output_type": "display_data"
    },
    {
     "name": "stdout",
     "output_type": "stream",
     "text": [
      "Iteration 1505000: loss=5.1736392947532295e-14 prediction=3 lr=0.01\n",
      "Iteration 1510000: loss=5.1736392947532295e-14 prediction=3 lr=0.01\n",
      "Iteration 1515000: loss=5.1736392947532295e-14 prediction=3 lr=0.01\n",
      "Iteration 1520000: loss=5.1514348342607263e-14 prediction=3 lr=0.01\n",
      "Iteration 1525000: loss=5.1514348342607263e-14 prediction=3 lr=0.01\n",
      "Iteration 1530000: loss=5.129230373768223e-14 prediction=3 lr=0.01\n",
      "Iteration 1535000: loss=5.129230373768223e-14 prediction=3 lr=0.01\n",
      "Iteration 1540000: loss=5.129230373768223e-14 prediction=3 lr=0.01\n",
      "Iteration 1545000: loss=5.10702591327572e-14 prediction=3 lr=0.01\n",
      "Iteration 1550000: loss=5.10702591327572e-14 prediction=3 lr=0.01\n"
     ]
    },
    {
     "data": {
      "image/png": "[encoded data removed]",
      "text/plain": [
       "<Figure size 80x80 with 1 Axes>"
      ]
     },
     "metadata": {},
     "output_type": "display_data"
    },
    {
     "name": "stdout",
     "output_type": "stream",
     "text": [
      "Iteration 1555000: loss=5.10702591327572e-14 prediction=3 lr=0.01\n",
      "Iteration 1560000: loss=5.084821452783217e-14 prediction=3 lr=0.01\n",
      "Iteration 1565000: loss=5.084821452783217e-14 prediction=3 lr=0.01\n",
      "Iteration 1570000: loss=5.084821452783217e-14 prediction=3 lr=0.01\n",
      "Iteration 1575000: loss=5.062616992290714e-14 prediction=3 lr=0.01\n",
      "Iteration 1580000: loss=5.062616992290714e-14 prediction=3 lr=0.01\n",
      "Iteration 1585000: loss=5.062616992290714e-14 prediction=3 lr=0.01\n",
      "Iteration 1590000: loss=5.040412531798211e-14 prediction=3 lr=0.01\n",
      "Iteration 1595000: loss=5.040412531798211e-14 prediction=3 lr=0.01\n",
      "Iteration 1600000: loss=5.040412531798211e-14 prediction=3 lr=0.01\n"
     ]
    },
    {
     "data": {
      "image/png": "[encoded data removed]",
      "text/plain": [
       "<Figure size 80x80 with 1 Axes>"
      ]
     },
     "metadata": {},
     "output_type": "display_data"
    },
    {
     "name": "stdout",
     "output_type": "stream",
     "text": [
      "Iteration 1605000: loss=5.0182080713057076e-14 prediction=3 lr=0.01\n",
      "Iteration 1610000: loss=5.0182080713057076e-14 prediction=3 lr=0.01\n",
      "Iteration 1615000: loss=4.9960036108132044e-14 prediction=3 lr=0.01\n",
      "Iteration 1620000: loss=4.973799150320701e-14 prediction=3 lr=0.01\n",
      "Iteration 1625000: loss=4.973799150320701e-14 prediction=3 lr=0.01\n",
      "Iteration 1630000: loss=4.973799150320701e-14 prediction=3 lr=0.01\n",
      "Iteration 1635000: loss=4.951594689828198e-14 prediction=3 lr=0.01\n",
      "Iteration 1640000: loss=4.951594689828198e-14 prediction=3 lr=0.01\n",
      "Iteration 1645000: loss=4.929390229335695e-14 prediction=3 lr=0.01\n",
      "Iteration 1650000: loss=4.884981308350689e-14 prediction=3 lr=0.01\n"
     ]
    },
    {
     "data": {
      "image/png": "[encoded data removed]",
      "text/plain": [
       "<Figure size 80x80 with 1 Axes>"
      ]
     },
     "metadata": {},
     "output_type": "display_data"
    },
    {
     "name": "stdout",
     "output_type": "stream",
     "text": [
      "Iteration 1655000: loss=4.884981308350689e-14 prediction=3 lr=0.01\n",
      "Iteration 1660000: loss=4.884981308350689e-14 prediction=3 lr=0.01\n",
      "Iteration 1665000: loss=4.8627768478581856e-14 prediction=3 lr=0.01\n",
      "Iteration 1670000: loss=4.8627768478581856e-14 prediction=3 lr=0.01\n",
      "Iteration 1675000: loss=4.8627768478581856e-14 prediction=3 lr=0.01\n",
      "Iteration 1680000: loss=4.8405723873656825e-14 prediction=3 lr=0.01\n",
      "Iteration 1685000: loss=4.8405723873656825e-14 prediction=3 lr=0.01\n",
      "Iteration 1690000: loss=4.8405723873656825e-14 prediction=3 lr=0.01\n",
      "Iteration 1695000: loss=4.8183679268731794e-14 prediction=3 lr=0.01\n",
      "Iteration 1700000: loss=4.8183679268731794e-14 prediction=3 lr=0.01\n"
     ]
    },
    {
     "data": {
      "image/png": "[encoded data removed]",
      "text/plain": [
       "<Figure size 80x80 with 1 Axes>"
      ]
     },
     "metadata": {},
     "output_type": "display_data"
    },
    {
     "name": "stdout",
     "output_type": "stream",
     "text": [
      "Iteration 1705000: loss=4.8183679268731794e-14 prediction=3 lr=0.01\n",
      "Iteration 1710000: loss=4.796163466380676e-14 prediction=3 lr=0.01\n",
      "Iteration 1715000: loss=4.796163466380676e-14 prediction=3 lr=0.01\n",
      "Iteration 1720000: loss=4.796163466380676e-14 prediction=3 lr=0.01\n",
      "Iteration 1725000: loss=4.796163466380676e-14 prediction=3 lr=0.01\n",
      "Iteration 1730000: loss=4.773959005888173e-14 prediction=3 lr=0.01\n",
      "Iteration 1735000: loss=4.773959005888173e-14 prediction=3 lr=0.01\n",
      "Iteration 1740000: loss=4.75175454539567e-14 prediction=3 lr=0.01\n",
      "Iteration 1745000: loss=4.729550084903167e-14 prediction=3 lr=0.01\n",
      "Iteration 1750000: loss=4.729550084903167e-14 prediction=3 lr=0.01\n"
     ]
    },
    {
     "data": {
      "image/png": "[encoded data removed]",
      "text/plain": [
       "<Figure size 80x80 with 1 Axes>"
      ]
     },
     "metadata": {},
     "output_type": "display_data"
    },
    {
     "name": "stdout",
     "output_type": "stream",
     "text": [
      "Iteration 1755000: loss=4.729550084903167e-14 prediction=3 lr=0.01\n",
      "Iteration 1760000: loss=4.729550084903167e-14 prediction=3 lr=0.01\n",
      "Iteration 1765000: loss=4.707345624410664e-14 prediction=3 lr=0.01\n",
      "Iteration 1770000: loss=4.707345624410664e-14 prediction=3 lr=0.01\n",
      "Iteration 1775000: loss=4.707345624410664e-14 prediction=3 lr=0.01\n",
      "Iteration 1780000: loss=4.6851411639181606e-14 prediction=3 lr=0.01\n",
      "Iteration 1785000: loss=4.6851411639181606e-14 prediction=3 lr=0.01\n",
      "Iteration 1790000: loss=4.6851411639181606e-14 prediction=3 lr=0.01\n",
      "Iteration 1795000: loss=4.6851411639181606e-14 prediction=3 lr=0.01\n",
      "Iteration 1800000: loss=4.6629367034256575e-14 prediction=3 lr=0.01\n"
     ]
    },
    {
     "data": {
      "image/png": "[encoded data removed]",
      "text/plain": [
       "<Figure size 80x80 with 1 Axes>"
      ]
     },
     "metadata": {},
     "output_type": "display_data"
    },
    {
     "name": "stdout",
     "output_type": "stream",
     "text": [
      "Iteration 1805000: loss=4.6629367034256575e-14 prediction=3 lr=0.01\n",
      "Iteration 1810000: loss=4.6629367034256575e-14 prediction=3 lr=0.01\n",
      "Iteration 1815000: loss=4.618527782440651e-14 prediction=3 lr=0.01\n",
      "Iteration 1820000: loss=4.618527782440651e-14 prediction=3 lr=0.01\n",
      "Iteration 1825000: loss=4.618527782440651e-14 prediction=3 lr=0.01\n",
      "Iteration 1830000: loss=4.618527782440651e-14 prediction=3 lr=0.01\n",
      "Iteration 1835000: loss=4.596323321948148e-14 prediction=3 lr=0.01\n",
      "Iteration 1840000: loss=4.596323321948148e-14 prediction=3 lr=0.01\n",
      "Iteration 1845000: loss=4.596323321948148e-14 prediction=3 lr=0.01\n",
      "Iteration 1850000: loss=4.596323321948148e-14 prediction=3 lr=0.01\n"
     ]
    },
    {
     "data": {
      "image/png": "[encoded data removed]",
      "text/plain": [
       "<Figure size 80x80 with 1 Axes>"
      ]
     },
     "metadata": {},
     "output_type": "display_data"
    },
    {
     "name": "stdout",
     "output_type": "stream",
     "text": [
      "Iteration 1855000: loss=4.574118861455645e-14 prediction=3 lr=0.01\n",
      "Iteration 1860000: loss=4.574118861455645e-14 prediction=3 lr=0.01\n",
      "Iteration 1865000: loss=4.574118861455645e-14 prediction=3 lr=0.01\n",
      "Iteration 1870000: loss=4.574118861455645e-14 prediction=3 lr=0.01\n",
      "Iteration 1875000: loss=4.551914400963142e-14 prediction=3 lr=0.01\n",
      "Iteration 1880000: loss=4.551914400963142e-14 prediction=3 lr=0.01\n",
      "Iteration 1885000: loss=4.529709940470639e-14 prediction=3 lr=0.01\n",
      "Iteration 1890000: loss=4.5075054799781356e-14 prediction=3 lr=0.01\n",
      "Iteration 1895000: loss=4.5075054799781356e-14 prediction=3 lr=0.01\n",
      "Iteration 1900000: loss=4.5075054799781356e-14 prediction=3 lr=0.01\n"
     ]
    },
    {
     "data": {
      "image/png": "[encoded data removed]",
      "text/plain": [
       "<Figure size 80x80 with 1 Axes>"
      ]
     },
     "metadata": {},
     "output_type": "display_data"
    },
    {
     "name": "stdout",
     "output_type": "stream",
     "text": [
      "Iteration 1905000: loss=4.5075054799781356e-14 prediction=3 lr=0.01\n",
      "Iteration 1910000: loss=4.4853010194856324e-14 prediction=3 lr=0.01\n",
      "Iteration 1915000: loss=4.4853010194856324e-14 prediction=3 lr=0.01\n",
      "Iteration 1920000: loss=4.4853010194856324e-14 prediction=3 lr=0.01\n",
      "Iteration 1925000: loss=4.4853010194856324e-14 prediction=3 lr=0.01\n",
      "Iteration 1930000: loss=4.463096558993129e-14 prediction=3 lr=0.01\n",
      "Iteration 1935000: loss=4.463096558993129e-14 prediction=3 lr=0.01\n",
      "Iteration 1940000: loss=4.463096558993129e-14 prediction=3 lr=0.01\n",
      "Iteration 1945000: loss=4.463096558993129e-14 prediction=3 lr=0.01\n",
      "Iteration 1950000: loss=4.440892098500626e-14 prediction=3 lr=0.01\n"
     ]
    },
    {
     "data": {
      "image/png": "[encoded data removed]",
      "text/plain": [
       "<Figure size 80x80 with 1 Axes>"
      ]
     },
     "metadata": {},
     "output_type": "display_data"
    },
    {
     "name": "stdout",
     "output_type": "stream",
     "text": [
      "Iteration 1955000: loss=4.440892098500626e-14 prediction=3 lr=0.01\n",
      "Iteration 1960000: loss=4.440892098500626e-14 prediction=3 lr=0.01\n",
      "Iteration 1965000: loss=4.440892098500626e-14 prediction=3 lr=0.01\n",
      "Iteration 1970000: loss=4.440892098500626e-14 prediction=3 lr=0.01\n",
      "Iteration 1975000: loss=4.418687638008123e-14 prediction=3 lr=0.01\n",
      "Iteration 1980000: loss=4.418687638008123e-14 prediction=3 lr=0.01\n",
      "Iteration 1985000: loss=4.418687638008123e-14 prediction=3 lr=0.01\n",
      "Iteration 1990000: loss=4.418687638008123e-14 prediction=3 lr=0.01\n",
      "Iteration 1995000: loss=4.39648317751562e-14 prediction=3 lr=0.01\n",
      "Iteration 2000000: loss=4.39648317751562e-14 prediction=3 lr=0.01\n"
     ]
    },
    {
     "data": {
      "image/png": "[encoded data removed]",
      "text/plain": [
       "<Figure size 80x80 with 1 Axes>"
      ]
     },
     "metadata": {},
     "output_type": "display_data"
    },
    {
     "name": "stdout",
     "output_type": "stream",
     "text": [
      "Iteration 2005000: loss=4.39648317751562e-14 prediction=3 lr=0.01\n",
      "Iteration 2010000: loss=4.39648317751562e-14 prediction=3 lr=0.01\n",
      "Iteration 2015000: loss=4.39648317751562e-14 prediction=3 lr=0.01\n",
      "Iteration 2020000: loss=4.374278717023117e-14 prediction=3 lr=0.01\n",
      "Iteration 2025000: loss=4.374278717023117e-14 prediction=3 lr=0.01\n",
      "Iteration 2030000: loss=4.3520742565306136e-14 prediction=3 lr=0.01\n",
      "Iteration 2035000: loss=4.3520742565306136e-14 prediction=3 lr=0.01\n",
      "Iteration 2040000: loss=4.3298697960381105e-14 prediction=3 lr=0.01\n",
      "Iteration 2045000: loss=4.3298697960381105e-14 prediction=3 lr=0.01\n",
      "Iteration 2050000: loss=4.3076653355456074e-14 prediction=3 lr=0.01\n"
     ]
    },
    {
     "data": {
      "image/png": "[encoded data removed]",
      "text/plain": [
       "<Figure size 80x80 with 1 Axes>"
      ]
     },
     "metadata": {},
     "output_type": "display_data"
    },
    {
     "name": "stdout",
     "output_type": "stream",
     "text": [
      "Iteration 2055000: loss=4.3076653355456074e-14 prediction=3 lr=0.01\n",
      "Iteration 2060000: loss=4.3076653355456074e-14 prediction=3 lr=0.01\n",
      "Iteration 2065000: loss=4.285460875053104e-14 prediction=3 lr=0.01\n",
      "Iteration 2070000: loss=4.285460875053104e-14 prediction=3 lr=0.01\n",
      "Iteration 2075000: loss=4.285460875053104e-14 prediction=3 lr=0.01\n",
      "Iteration 2080000: loss=4.285460875053104e-14 prediction=3 lr=0.01\n",
      "Iteration 2085000: loss=4.285460875053104e-14 prediction=3 lr=0.01\n",
      "Iteration 2090000: loss=4.263256414560601e-14 prediction=3 lr=0.01\n",
      "Iteration 2095000: loss=4.263256414560601e-14 prediction=3 lr=0.01\n",
      "Iteration 2100000: loss=4.263256414560601e-14 prediction=3 lr=0.01\n"
     ]
    },
    {
     "data": {
      "image/png": "[encoded data removed]",
      "text/plain": [
       "<Figure size 80x80 with 1 Axes>"
      ]
     },
     "metadata": {},
     "output_type": "display_data"
    },
    {
     "name": "stdout",
     "output_type": "stream",
     "text": [
      "Iteration 2105000: loss=4.263256414560601e-14 prediction=3 lr=0.01\n",
      "Iteration 2110000: loss=4.241051954068098e-14 prediction=3 lr=0.01\n",
      "Iteration 2115000: loss=4.241051954068098e-14 prediction=3 lr=0.01\n",
      "Iteration 2120000: loss=4.241051954068098e-14 prediction=3 lr=0.01\n",
      "Iteration 2125000: loss=4.241051954068098e-14 prediction=3 lr=0.01\n",
      "Iteration 2130000: loss=4.241051954068098e-14 prediction=3 lr=0.01\n",
      "Iteration 2135000: loss=4.218847493575595e-14 prediction=3 lr=0.01\n",
      "Iteration 2140000: loss=4.218847493575595e-14 prediction=3 lr=0.01\n",
      "Iteration 2145000: loss=4.218847493575595e-14 prediction=3 lr=0.01\n",
      "Iteration 2150000: loss=4.218847493575595e-14 prediction=3 lr=0.01\n"
     ]
    },
    {
     "data": {
      "image/png": "[encoded data removed]",
      "text/plain": [
       "<Figure size 80x80 with 1 Axes>"
      ]
     },
     "metadata": {},
     "output_type": "display_data"
    },
    {
     "name": "stdout",
     "output_type": "stream",
     "text": [
      "Iteration 2155000: loss=4.218847493575595e-14 prediction=3 lr=0.01\n",
      "Iteration 2160000: loss=4.196643033083092e-14 prediction=3 lr=0.01\n",
      "Iteration 2165000: loss=4.196643033083092e-14 prediction=3 lr=0.01\n",
      "Iteration 2170000: loss=4.196643033083092e-14 prediction=3 lr=0.01\n",
      "Iteration 2175000: loss=4.196643033083092e-14 prediction=3 lr=0.01\n",
      "Iteration 2180000: loss=4.196643033083092e-14 prediction=3 lr=0.01\n",
      "Iteration 2185000: loss=4.1744385725905886e-14 prediction=3 lr=0.01\n",
      "Iteration 2190000: loss=4.1744385725905886e-14 prediction=3 lr=0.01\n",
      "Iteration 2195000: loss=4.1744385725905886e-14 prediction=3 lr=0.01\n",
      "Iteration 2200000: loss=4.1744385725905886e-14 prediction=3 lr=0.01\n"
     ]
    },
    {
     "data": {
      "image/png": "[encoded data removed]",
      "text/plain": [
       "<Figure size 80x80 with 1 Axes>"
      ]
     },
     "metadata": {},
     "output_type": "display_data"
    },
    {
     "name": "stdout",
     "output_type": "stream",
     "text": [
      "Iteration 2205000: loss=4.1744385725905886e-14 prediction=3 lr=0.01\n",
      "Iteration 2210000: loss=4.1744385725905886e-14 prediction=3 lr=0.01\n",
      "Decreasing LR ..\n",
      "Iteration 2215000: loss=4.1522341120980855e-14 prediction=3 lr=0.005\n",
      "Iteration 2220000: loss=4.1522341120980855e-14 prediction=3 lr=0.005\n",
      "Iteration 2225000: loss=4.1522341120980855e-14 prediction=3 lr=0.005\n",
      "Iteration 2230000: loss=4.1522341120980855e-14 prediction=3 lr=0.005\n",
      "Iteration 2235000: loss=4.1522341120980855e-14 prediction=3 lr=0.005\n",
      "Iteration 2240000: loss=4.1522341120980855e-14 prediction=3 lr=0.005\n",
      "Iteration 2245000: loss=4.1522341120980855e-14 prediction=3 lr=0.005\n",
      "Iteration 2250000: loss=4.1522341120980855e-14 prediction=3 lr=0.005\n"
     ]
    },
    {
     "data": {
      "image/png": "[encoded data removed]",
      "text/plain": [
       "<Figure size 80x80 with 1 Axes>"
      ]
     },
     "metadata": {},
     "output_type": "display_data"
    },
    {
     "name": "stdout",
     "output_type": "stream",
     "text": [
      "Iteration 2255000: loss=4.1522341120980855e-14 prediction=3 lr=0.005\n",
      "Iteration 2260000: loss=4.1522341120980855e-14 prediction=3 lr=0.005\n",
      "Iteration 2265000: loss=4.1522341120980855e-14 prediction=3 lr=0.005\n",
      "Decreasing LR ..\n",
      "Iteration 2270000: loss=4.1522341120980855e-14 prediction=3 lr=0.0025\n",
      "Iteration 2275000: loss=4.1522341120980855e-14 prediction=3 lr=0.0025\n",
      "Iteration 2280000: loss=4.1522341120980855e-14 prediction=3 lr=0.0025\n",
      "Iteration 2285000: loss=4.1522341120980855e-14 prediction=3 lr=0.0025\n",
      "Iteration 2290000: loss=4.1522341120980855e-14 prediction=3 lr=0.0025\n",
      "Iteration 2295000: loss=4.1522341120980855e-14 prediction=3 lr=0.0025\n",
      "Iteration 2300000: loss=4.1522341120980855e-14 prediction=3 lr=0.0025\n"
     ]
    },
    {
     "data": {
      "image/png": "[encoded data removed]",
      "text/plain": [
       "<Figure size 80x80 with 1 Axes>"
      ]
     },
     "metadata": {},
     "output_type": "display_data"
    },
    {
     "name": "stdout",
     "output_type": "stream",
     "text": [
      "Iteration 2305000: loss=4.1522341120980855e-14 prediction=3 lr=0.0025\n",
      "Iteration 2310000: loss=4.1522341120980855e-14 prediction=3 lr=0.0025\n",
      "Iteration 2315000: loss=4.1522341120980855e-14 prediction=3 lr=0.0025\n",
      "Iteration 2320000: loss=4.1522341120980855e-14 prediction=3 lr=0.0025\n",
      "Decreasing LR ..\n",
      "Iteration 2325000: loss=4.1522341120980855e-14 prediction=3 lr=0.00125\n",
      "Iteration 2330000: loss=4.1522341120980855e-14 prediction=3 lr=0.00125\n",
      "Iteration 2335000: loss=4.1522341120980855e-14 prediction=3 lr=0.00125\n",
      "Iteration 2340000: loss=4.1522341120980855e-14 prediction=3 lr=0.00125\n",
      "Iteration 2345000: loss=4.1522341120980855e-14 prediction=3 lr=0.00125\n",
      "Iteration 2350000: loss=4.1522341120980855e-14 prediction=3 lr=0.00125\n"
     ]
    },
    {
     "data": {
      "image/png": "[encoded data removed]",
      "text/plain": [
       "<Figure size 80x80 with 1 Axes>"
      ]
     },
     "metadata": {},
     "output_type": "display_data"
    },
    {
     "name": "stdout",
     "output_type": "stream",
     "text": [
      "Iteration 2355000: loss=4.1522341120980855e-14 prediction=3 lr=0.00125\n",
      "Iteration 2360000: loss=4.1522341120980855e-14 prediction=3 lr=0.00125\n",
      "Iteration 2365000: loss=4.1522341120980855e-14 prediction=3 lr=0.00125\n",
      "Iteration 2370000: loss=4.1522341120980855e-14 prediction=3 lr=0.00125\n",
      "Iteration 2375000: loss=4.1522341120980855e-14 prediction=3 lr=0.00125\n",
      "Decreasing LR ..\n",
      "Iteration 2380000: loss=4.1522341120980855e-14 prediction=3 lr=0.000625\n",
      "Iteration 2385000: loss=4.1522341120980855e-14 prediction=3 lr=0.000625\n",
      "Iteration 2390000: loss=4.1522341120980855e-14 prediction=3 lr=0.000625\n",
      "Iteration 2395000: loss=4.1522341120980855e-14 prediction=3 lr=0.000625\n",
      "Iteration 2400000: loss=4.1522341120980855e-14 prediction=3 lr=0.000625\n"
     ]
    },
    {
     "data": {
      "image/png": "[encoded data removed]",
      "text/plain": [
       "<Figure size 80x80 with 1 Axes>"
      ]
     },
     "metadata": {},
     "output_type": "display_data"
    },
    {
     "name": "stdout",
     "output_type": "stream",
     "text": [
      "Iteration 2405000: loss=4.1522341120980855e-14 prediction=3 lr=0.000625\n",
      "Iteration 2410000: loss=4.1522341120980855e-14 prediction=3 lr=0.000625\n",
      "Iteration 2415000: loss=4.1522341120980855e-14 prediction=3 lr=0.000625\n",
      "Iteration 2420000: loss=4.1522341120980855e-14 prediction=3 lr=0.000625\n",
      "Iteration 2425000: loss=4.1522341120980855e-14 prediction=3 lr=0.000625\n",
      "Iteration 2430000: loss=4.1522341120980855e-14 prediction=3 lr=0.000625\n",
      "Decreasing LR ..\n",
      "Iteration 2435000: loss=4.1522341120980855e-14 prediction=3 lr=0.0003125\n",
      "Iteration 2440000: loss=4.1522341120980855e-14 prediction=3 lr=0.0003125\n",
      "Iteration 2445000: loss=4.1522341120980855e-14 prediction=3 lr=0.0003125\n",
      "Iteration 2450000: loss=4.1522341120980855e-14 prediction=3 lr=0.0003125\n"
     ]
    },
    {
     "data": {
      "image/png": "[encoded data removed]",
      "text/plain": [
       "<Figure size 80x80 with 1 Axes>"
      ]
     },
     "metadata": {},
     "output_type": "display_data"
    },
    {
     "name": "stdout",
     "output_type": "stream",
     "text": [
      "Iteration 2455000: loss=4.1522341120980855e-14 prediction=3 lr=0.0003125\n",
      "Iteration 2460000: loss=4.1522341120980855e-14 prediction=3 lr=0.0003125\n",
      "Iteration 2465000: loss=4.1522341120980855e-14 prediction=3 lr=0.0003125\n",
      "Iteration 2470000: loss=4.1522341120980855e-14 prediction=3 lr=0.0003125\n",
      "Iteration 2475000: loss=4.1522341120980855e-14 prediction=3 lr=0.0003125\n",
      "Iteration 2480000: loss=4.1522341120980855e-14 prediction=3 lr=0.0003125\n",
      "Iteration 2485000: loss=4.1522341120980855e-14 prediction=3 lr=0.0003125\n",
      "Decreasing LR ..\n",
      "Iteration 2490000: loss=4.1522341120980855e-14 prediction=3 lr=0.00015625\n",
      "Iteration 2495000: loss=4.1522341120980855e-14 prediction=3 lr=0.00015625\n",
      "Iteration 2500000: loss=4.1522341120980855e-14 prediction=3 lr=0.00015625\n"
     ]
    },
    {
     "data": {
      "image/png": "[encoded data removed]",
      "text/plain": [
       "<Figure size 80x80 with 1 Axes>"
      ]
     },
     "metadata": {},
     "output_type": "display_data"
    },
    {
     "name": "stdout",
     "output_type": "stream",
     "text": [
      "Iteration 2505000: loss=4.1522341120980855e-14 prediction=3 lr=0.00015625\n",
      "Iteration 2510000: loss=4.1522341120980855e-14 prediction=3 lr=0.00015625\n",
      "Iteration 2515000: loss=4.1522341120980855e-14 prediction=3 lr=0.00015625\n",
      "Iteration 2520000: loss=4.1522341120980855e-14 prediction=3 lr=0.00015625\n",
      "Iteration 2525000: loss=4.1522341120980855e-14 prediction=3 lr=0.00015625\n",
      "Iteration 2530000: loss=4.1522341120980855e-14 prediction=3 lr=0.00015625\n",
      "Iteration 2535000: loss=4.1522341120980855e-14 prediction=3 lr=0.00015625\n",
      "Iteration 2540000: loss=4.1522341120980855e-14 prediction=3 lr=0.00015625\n",
      "Decreasing LR ..\n",
      "Iteration 2545000: loss=4.1522341120980855e-14 prediction=3 lr=7.8125e-05\n",
      "Iteration 2550000: loss=4.1522341120980855e-14 prediction=3 lr=7.8125e-05\n"
     ]
    },
    {
     "data": {
      "image/png": "[encoded data removed]",
      "text/plain": [
       "<Figure size 80x80 with 1 Axes>"
      ]
     },
     "metadata": {},
     "output_type": "display_data"
    },
    {
     "name": "stdout",
     "output_type": "stream",
     "text": [
      "Iteration 2555000: loss=4.1522341120980855e-14 prediction=3 lr=7.8125e-05\n",
      "Iteration 2560000: loss=4.1522341120980855e-14 prediction=3 lr=7.8125e-05\n",
      "Iteration 2565000: loss=4.1522341120980855e-14 prediction=3 lr=7.8125e-05\n",
      "Iteration 2570000: loss=4.1522341120980855e-14 prediction=3 lr=7.8125e-05\n",
      "Iteration 2575000: loss=4.1522341120980855e-14 prediction=3 lr=7.8125e-05\n",
      "Iteration 2580000: loss=4.1522341120980855e-14 prediction=3 lr=7.8125e-05\n",
      "Iteration 2585000: loss=4.1522341120980855e-14 prediction=3 lr=7.8125e-05\n",
      "Iteration 2590000: loss=4.1522341120980855e-14 prediction=3 lr=7.8125e-05\n",
      "Iteration 2595000: loss=4.1522341120980855e-14 prediction=3 lr=7.8125e-05\n",
      "Decreasing LR ..\n",
      "Iteration 2600000: loss=4.1522341120980855e-14 prediction=3 lr=3.90625e-05\n"
     ]
    },
    {
     "data": {
      "image/png": "[encoded data removed]",
      "text/plain": [
       "<Figure size 80x80 with 1 Axes>"
      ]
     },
     "metadata": {},
     "output_type": "display_data"
    },
    {
     "name": "stdout",
     "output_type": "stream",
     "text": [
      "Iteration 2605000: loss=4.1522341120980855e-14 prediction=3 lr=3.90625e-05\n",
      "Iteration 2610000: loss=4.1522341120980855e-14 prediction=3 lr=3.90625e-05\n",
      "Iteration 2615000: loss=4.1522341120980855e-14 prediction=3 lr=3.90625e-05\n",
      "Iteration 2620000: loss=4.1522341120980855e-14 prediction=3 lr=3.90625e-05\n",
      "Iteration 2625000: loss=4.1522341120980855e-14 prediction=3 lr=3.90625e-05\n",
      "Iteration 2630000: loss=4.1522341120980855e-14 prediction=3 lr=3.90625e-05\n",
      "Iteration 2635000: loss=4.1522341120980855e-14 prediction=3 lr=3.90625e-05\n",
      "Iteration 2640000: loss=4.1522341120980855e-14 prediction=3 lr=3.90625e-05\n",
      "Iteration 2645000: loss=4.1522341120980855e-14 prediction=3 lr=3.90625e-05\n",
      "Iteration 2650000: loss=4.1522341120980855e-14 prediction=3 lr=3.90625e-05\n",
      "Decreasing LR ..\n"
     ]
    },
    {
     "data": {
      "image/png": "[encoded data removed]",
      "text/plain": [
       "<Figure size 80x80 with 1 Axes>"
      ]
     },
     "metadata": {},
     "output_type": "display_data"
    },
    {
     "name": "stdout",
     "output_type": "stream",
     "text": [
      "Iteration 2655000: loss=4.1522341120980855e-14 prediction=3 lr=1.953125e-05\n",
      "Iteration 2660000: loss=4.1522341120980855e-14 prediction=3 lr=1.953125e-05\n",
      "Iteration 2665000: loss=4.1522341120980855e-14 prediction=3 lr=1.953125e-05\n",
      "Iteration 2670000: loss=4.1522341120980855e-14 prediction=3 lr=1.953125e-05\n",
      "Iteration 2675000: loss=4.1522341120980855e-14 prediction=3 lr=1.953125e-05\n",
      "Iteration 2680000: loss=4.1522341120980855e-14 prediction=3 lr=1.953125e-05\n",
      "Iteration 2685000: loss=4.1522341120980855e-14 prediction=3 lr=1.953125e-05\n",
      "Iteration 2690000: loss=4.1522341120980855e-14 prediction=3 lr=1.953125e-05\n",
      "Iteration 2695000: loss=4.1522341120980855e-14 prediction=3 lr=1.953125e-05\n",
      "Iteration 2700000: loss=4.1522341120980855e-14 prediction=3 lr=1.953125e-05\n"
     ]
    },
    {
     "data": {
      "image/png": "[encoded data removed]",
      "text/plain": [
       "<Figure size 80x80 with 1 Axes>"
      ]
     },
     "metadata": {},
     "output_type": "display_data"
    },
    {
     "name": "stdout",
     "output_type": "stream",
     "text": [
      "Iteration 2705000: loss=4.1522341120980855e-14 prediction=3 lr=1.953125e-05\n",
      "Decreasing LR ..\n",
      "Iteration 2710000: loss=4.1522341120980855e-14 prediction=3 lr=9.765625e-06\n",
      "Iteration 2715000: loss=4.1522341120980855e-14 prediction=3 lr=9.765625e-06\n",
      "Iteration 2720000: loss=4.1522341120980855e-14 prediction=3 lr=9.765625e-06\n",
      "Iteration 2725000: loss=4.1522341120980855e-14 prediction=3 lr=9.765625e-06\n",
      "Iteration 2730000: loss=4.1522341120980855e-14 prediction=3 lr=9.765625e-06\n",
      "Iteration 2735000: loss=4.1522341120980855e-14 prediction=3 lr=9.765625e-06\n",
      "Iteration 2740000: loss=4.1522341120980855e-14 prediction=3 lr=9.765625e-06\n",
      "Iteration 2745000: loss=4.1522341120980855e-14 prediction=3 lr=9.765625e-06\n",
      "Iteration 2750000: loss=4.1522341120980855e-14 prediction=3 lr=9.765625e-06\n"
     ]
    },
    {
     "data": {
      "image/png": "[encoded data removed]",
      "text/plain": [
       "<Figure size 80x80 with 1 Axes>"
      ]
     },
     "metadata": {},
     "output_type": "display_data"
    },
    {
     "name": "stdout",
     "output_type": "stream",
     "text": [
      "Iteration 2755000: loss=4.1522341120980855e-14 prediction=3 lr=9.765625e-06\n",
      "Iteration 2760000: loss=4.1522341120980855e-14 prediction=3 lr=9.765625e-06\n",
      "Decreasing LR ..\n",
      "Iteration 2765000: loss=4.1522341120980855e-14 prediction=3 lr=4.8828125e-06\n",
      "Iteration 2770000: loss=4.1522341120980855e-14 prediction=3 lr=4.8828125e-06\n",
      "Iteration 2775000: loss=4.1522341120980855e-14 prediction=3 lr=4.8828125e-06\n",
      "Iteration 2780000: loss=4.1522341120980855e-14 prediction=3 lr=4.8828125e-06\n",
      "Iteration 2785000: loss=4.1522341120980855e-14 prediction=3 lr=4.8828125e-06\n",
      "Iteration 2790000: loss=4.1522341120980855e-14 prediction=3 lr=4.8828125e-06\n",
      "Iteration 2795000: loss=4.1522341120980855e-14 prediction=3 lr=4.8828125e-06\n",
      "Iteration 2800000: loss=4.1522341120980855e-14 prediction=3 lr=4.8828125e-06\n"
     ]
    },
    {
     "data": {
      "image/png": "[encoded data removed]",
      "text/plain": [
       "<Figure size 80x80 with 1 Axes>"
      ]
     },
     "metadata": {},
     "output_type": "display_data"
    },
    {
     "name": "stdout",
     "output_type": "stream",
     "text": [
      "Iteration 2805000: loss=4.1522341120980855e-14 prediction=3 lr=4.8828125e-06\n",
      "Iteration 2810000: loss=4.1522341120980855e-14 prediction=3 lr=4.8828125e-06\n",
      "Iteration 2815000: loss=4.1522341120980855e-14 prediction=3 lr=4.8828125e-06\n",
      "Decreasing LR ..\n",
      "Iteration 2820000: loss=4.1522341120980855e-14 prediction=3 lr=2.44140625e-06\n",
      "Iteration 2825000: loss=4.1522341120980855e-14 prediction=3 lr=2.44140625e-06\n",
      "Iteration 2830000: loss=4.1522341120980855e-14 prediction=3 lr=2.44140625e-06\n",
      "Iteration 2835000: loss=4.1522341120980855e-14 prediction=3 lr=2.44140625e-06\n",
      "Iteration 2840000: loss=4.1522341120980855e-14 prediction=3 lr=2.44140625e-06\n",
      "Iteration 2845000: loss=4.1522341120980855e-14 prediction=3 lr=2.44140625e-06\n",
      "Iteration 2850000: loss=4.1522341120980855e-14 prediction=3 lr=2.44140625e-06\n"
     ]
    },
    {
     "data": {
      "image/png": "[encoded data removed]",
      "text/plain": [
       "<Figure size 80x80 with 1 Axes>"
      ]
     },
     "metadata": {},
     "output_type": "display_data"
    },
    {
     "name": "stdout",
     "output_type": "stream",
     "text": [
      "Iteration 2855000: loss=4.1522341120980855e-14 prediction=3 lr=2.44140625e-06\n",
      "Iteration 2860000: loss=4.1522341120980855e-14 prediction=3 lr=2.44140625e-06\n",
      "Iteration 2865000: loss=4.1522341120980855e-14 prediction=3 lr=2.44140625e-06\n",
      "Iteration 2870000: loss=4.1522341120980855e-14 prediction=3 lr=2.44140625e-06\n",
      "Decreasing LR ..\n",
      "Iteration 2875000: loss=4.1522341120980855e-14 prediction=3 lr=1.220703125e-06\n",
      "Iteration 2880000: loss=4.1522341120980855e-14 prediction=3 lr=1.220703125e-06\n",
      "Iteration 2885000: loss=4.1522341120980855e-14 prediction=3 lr=1.220703125e-06\n",
      "Iteration 2890000: loss=4.1522341120980855e-14 prediction=3 lr=1.220703125e-06\n",
      "Iteration 2895000: loss=4.1522341120980855e-14 prediction=3 lr=1.220703125e-06\n",
      "Iteration 2900000: loss=4.1522341120980855e-14 prediction=3 lr=1.220703125e-06\n"
     ]
    },
    {
     "data": {
      "image/png": "[encoded data removed]",
      "text/plain": [
       "<Figure size 80x80 with 1 Axes>"
      ]
     },
     "metadata": {},
     "output_type": "display_data"
    },
    {
     "name": "stdout",
     "output_type": "stream",
     "text": [
      "Iteration 2905000: loss=4.1522341120980855e-14 prediction=3 lr=1.220703125e-06\n",
      "Iteration 2910000: loss=4.1522341120980855e-14 prediction=3 lr=1.220703125e-06\n",
      "Iteration 2915000: loss=4.1522341120980855e-14 prediction=3 lr=1.220703125e-06\n",
      "Iteration 2920000: loss=4.1522341120980855e-14 prediction=3 lr=1.220703125e-06\n",
      "Iteration 2925000: loss=4.1522341120980855e-14 prediction=3 lr=1.220703125e-06\n",
      "Decreasing LR ..\n",
      "Stop ..\n"
     ]
    }
   ],
   "source": [
    "new_image_randn = generate_image(img, 3)"
   ]
  },
  {
   "cell_type": "code",
   "execution_count": 17,
   "metadata": {},
   "outputs": [
    {
     "data": {
      "image/png": "[encoded data removed]",
      "text/plain": [
       "<Figure size 80x80 with 1 Axes>"
      ]
     },
     "metadata": {},
     "output_type": "display_data"
    }
   ],
   "source": [
    "to_plot = new_image_randn[0].view(-1, 1, 28, 28).clamp(0, 1).data.numpy()\n",
    "plot_mnist(to_plot, (1, 1))"
   ]
  },
  {
   "cell_type": "markdown",
   "metadata": {},
   "source": [
    "Изображение цифры \"3\" выглядит очень зашумленным"
   ]
  },
  {
   "cell_type": "code",
   "execution_count": null,
   "metadata": {},
   "outputs": [],
   "source": []
  },
  {
   "cell_type": "code",
   "execution_count": null,
   "metadata": {},
   "outputs": [],
   "source": []
  },
  {
   "cell_type": "code",
   "execution_count": null,
   "metadata": {},
   "outputs": [],
   "source": []
  },
  {
   "cell_type": "code",
   "execution_count": null,
   "metadata": {},
   "outputs": [],
   "source": []
  },
  {
   "cell_type": "code",
   "execution_count": null,
   "metadata": {},
   "outputs": [],
   "source": []
  },
  {
   "cell_type": "code",
   "execution_count": null,
   "metadata": {},
   "outputs": [],
   "source": []
  }
 ],
 "metadata": {
  "kernelspec": {
   "display_name": "Python 3",
   "language": "python",
   "name": "python3"
  },
  "language_info": {
   "codemirror_mode": {
    "name": "ipython",
    "version": 3
   },
   "file_extension": ".py",
   "mimetype": "text/x-python",
   "name": "python",
   "nbconvert_exporter": "python",
   "pygments_lexer": "ipython3",
   "version": "3.6.6"
  }
 },
 "nbformat": 4,
 "nbformat_minor": 2
}
