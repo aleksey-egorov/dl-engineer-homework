{
 "cells": [
  {
   "cell_type": "code",
   "execution_count": 1,
   "metadata": {},
   "outputs": [],
   "source": [
    "import torch\n",
    "import torch.nn as nn\n",
    "import torch.nn.functional as F\n",
    "import torch.optim as optim\n",
    "from torchvision import datasets, transforms\n",
    "\n",
    "from utils import *\n",
    "import numpy as np\n",
    "%matplotlib inline"
   ]
  },
  {
   "cell_type": "markdown",
   "metadata": {},
   "source": [
    "## Подготовка и визуализация данных"
   ]
  },
  {
   "cell_type": "code",
   "execution_count": 2,
   "metadata": {},
   "outputs": [],
   "source": [
    "train_loader, valid_loader, test_loader = mnist(valid=10000, batch_size=50)"
   ]
  },
  {
   "cell_type": "code",
   "execution_count": 3,
   "metadata": {},
   "outputs": [
    {
     "data": {
      "image/png": "[encoded data removed]",
      "text/plain": [
       "<Figure size 800x400 with 50 Axes>"
      ]
     },
     "metadata": {},
     "output_type": "display_data"
    }
   ],
   "source": [
    "images = mnist_plotdata()\n",
    "plot_mnist(images, (5, 10))"
   ]
  },
  {
   "cell_type": "markdown",
   "metadata": {},
   "source": [
    "## Обучение классификатора"
   ]
  },
  {
   "cell_type": "code",
   "execution_count": 38,
   "metadata": {},
   "outputs": [],
   "source": [
    "class Net(nn.Module):\n",
    "    def __init__(self, batchnorm=False, dropout=False, lr=1e-4, l2=0.):\n",
    "        super(Net, self).__init__()\n",
    "        self.fc1 = nn.Linear(28*28, 256)\n",
    "        self.fc2 = nn.Linear(256, 256)\n",
    "        self.fc3 = nn.Linear(256, 10)\n",
    "        if batchnorm:\n",
    "            self.bn = nn.BatchNorm1d(256)\n",
    "        self.batchnorm = batchnorm\n",
    "        \n",
    "        self.dropout = dropout\n",
    "        self.optim = optim.Adam(self.parameters(), lr=lr, weight_decay=l2)\n",
    "        \n",
    "    def forward(self, x):\n",
    "        x = x.view(-1, 28*28)\n",
    "        x = F.relu(self.fc1(x))\n",
    "        if self.batchnorm:\n",
    "            x = self.bn(x)\n",
    "        x = F.relu(self.fc2(x))\n",
    "        if self.dropout:\n",
    "            x = F.dropout(x, 0.5)\n",
    "        x = self.fc3(x)    \n",
    "        x = F.log_softmax(x, dim=1)\n",
    "        return x\n",
    "    \n",
    "    def loss(self, output, target, **kwargs):\n",
    "        self._loss = F.nll_loss(output, target, **kwargs)\n",
    "        return self._loss"
   ]
  },
  {
   "cell_type": "code",
   "execution_count": 16,
   "metadata": {},
   "outputs": [],
   "source": [
    "def train(epoch, models):\n",
    "    loss_stats = np.empty((0,4))\n",
    "    \n",
    "    train_size = len(train_loader.sampler)\n",
    "    for batch_idx, (data, target) in enumerate(train_loader):\n",
    "       \n",
    "        for model in models:\n",
    "            model.optim.zero_grad()\n",
    "            output = model(data)\n",
    "            loss = model.loss(output, target)\n",
    "            loss.backward()\n",
    "            model.optim.step()                \n",
    "            \n",
    "            \n",
    "        if batch_idx % 200 == 0:\n",
    "            print_stats(models, train_loader, epoch, batch_idx, data, train_size)            \n",
    "            stats_line = np.array([m._loss.item() for m in models])\n",
    "            loss_stats = np.vstack([loss_stats, stats_line])          \n",
    "            \n",
    "    else:\n",
    "        batch_idx += 1\n",
    "        print_stats(models, train_loader, epoch, batch_idx, data, train_size)\n",
    "        stats_line = np.array([m._loss.item() for m in models])\n",
    "        loss_stats = np.vstack([loss_stats, stats_line])\n",
    "       \n",
    "    epoch_loss = np.mean(loss_stats, axis=0)      \n",
    "    return epoch_loss\n",
    "       \n",
    "        \n",
    "def print_stats(models, train_loader, epoch, batch_idx, data, train_size):\n",
    "    line = 'Train Epoch: {} [{}/{} ({:.0f}%)]\\tLosses '.format(\n",
    "            epoch, batch_idx * len(data), train_size, 100. * batch_idx / len(train_loader))\n",
    "    losses = ' '.join(['{}: {:.6f}'.format(i, m._loss.item()) for i, m in enumerate(models)])\n",
    "    print(line + losses)\n",
    "        "
   ]
  },
  {
   "cell_type": "code",
   "execution_count": 17,
   "metadata": {},
   "outputs": [],
   "source": [
    "models = [Net(False, False), Net(True, False), Net(False, True), Net(True, True)]"
   ]
  },
  {
   "cell_type": "code",
   "execution_count": 18,
   "metadata": {},
   "outputs": [],
   "source": [
    "def test(models, loader):\n",
    "    test_size = len(loader.sampler)\n",
    "    avg_lambda = lambda l: 'Loss: {:.4f}'.format(l)\n",
    "    acc_lambda = lambda c, p: 'Accuracy: {}/{} ({:.0f}%)'.format(c, test_size, p)\n",
    "    line = lambda i, l, c, p: '{}: '.format(i) + avg_lambda(l) + '\\t' + acc_lambda(c, p)\n",
    "\n",
    "    test_loss = [0]*len(models)\n",
    "    correct = [0]*len(models)\n",
    "    with torch.no_grad():\n",
    "        for data, target in loader:\n",
    "            output = [m(data) for m in models]\n",
    "            for i, m in enumerate(models):\n",
    "                test_loss[i] += m.loss(output[i], target, size_average=False).item() # sum up batch loss\n",
    "                pred = output[i].data.max(1, keepdim=True)[1] # get the index of the max log-probability\n",
    "                correct[i] += pred.eq(target.data.view_as(pred)).cpu().sum()\n",
    "    \n",
    "    for i in range(len(models)):\n",
    "        test_loss[i] /= test_size\n",
    "    correct_pct = [100. * c / test_size for c in correct]\n",
    "    lines = '\\n'.join([line(i, test_loss[i], correct[i], correct_pct[i]) for i in range(len(models))]) + '\\n'\n",
    "    report = 'Test set:\\n' + lines\n",
    "    \n",
    "    print(report)\n",
    "    \n",
    "    return test_loss, correct_pct"
   ]
  },
  {
   "cell_type": "code",
   "execution_count": 19,
   "metadata": {},
   "outputs": [],
   "source": [
    "epoch_train_loss = []\n",
    "epoch_test_loss = []\n",
    "epoch_test_acc = []"
   ]
  },
  {
   "cell_type": "code",
   "execution_count": 20,
   "metadata": {
    "scrolled": false
   },
   "outputs": [
    {
     "name": "stderr",
     "output_type": "stream",
     "text": [
      "/Users/aleksey/anaconda3/envs/otus-dl-engineer/lib/python3.6/site-packages/ipykernel_launcher.py:23: UserWarning: Implicit dimension choice for log_softmax has been deprecated. Change the call to include dim=X as an argument.\n"
     ]
    },
    {
     "name": "stdout",
     "output_type": "stream",
     "text": [
      "Train Epoch: 1 [0/50000 (0%)]\tLosses 0: 2.327425 1: 2.340549 2: 2.296613 3: 2.290284\n",
      "Train Epoch: 1 [10000/50000 (20%)]\tLosses 0: 0.528703 1: 0.646311 2: 0.522253 3: 0.682473\n",
      "Train Epoch: 1 [20000/50000 (40%)]\tLosses 0: 0.300755 1: 0.297055 2: 0.292518 3: 0.301515\n",
      "Train Epoch: 1 [30000/50000 (60%)]\tLosses 0: 0.491225 1: 0.382450 2: 0.479021 3: 0.388505\n",
      "Train Epoch: 1 [40000/50000 (80%)]\tLosses 0: 0.388524 1: 0.344619 2: 0.382316 3: 0.344652\n",
      "Train Epoch: 1 [50000/50000 (100%)]\tLosses 0: 0.210931 1: 0.185536 2: 0.231152 3: 0.204111\n",
      "Test set:\n",
      "0: Loss: 0.2578\tAccuracy: 9232/10000 (92%)\n",
      "1: Loss: 0.1998\tAccuracy: 9418/10000 (94%)\n",
      "2: Loss: 0.2527\tAccuracy: 9243/10000 (92%)\n",
      "3: Loss: 0.2102\tAccuracy: 9383/10000 (93%)\n",
      "\n",
      "Train Epoch: 2 [0/50000 (0%)]\tLosses 0: 0.446509 1: 0.342857 2: 0.428970 3: 0.378852\n",
      "Train Epoch: 2 [10000/50000 (20%)]\tLosses 0: 0.185910 1: 0.140166 2: 0.172756 3: 0.162060\n",
      "Train Epoch: 2 [20000/50000 (40%)]\tLosses 0: 0.229983 1: 0.189725 2: 0.207024 3: 0.226461\n",
      "Train Epoch: 2 [30000/50000 (60%)]\tLosses 0: 0.170781 1: 0.136742 2: 0.155941 3: 0.150818\n",
      "Train Epoch: 2 [40000/50000 (80%)]\tLosses 0: 0.085996 1: 0.020298 2: 0.086385 3: 0.059091\n",
      "Train Epoch: 2 [50000/50000 (100%)]\tLosses 0: 0.342798 1: 0.379246 2: 0.340642 3: 0.318900\n",
      "Test set:\n",
      "0: Loss: 0.1906\tAccuracy: 9426/10000 (94%)\n",
      "1: Loss: 0.1359\tAccuracy: 9581/10000 (95%)\n",
      "2: Loss: 0.1863\tAccuracy: 9445/10000 (94%)\n",
      "3: Loss: 0.1406\tAccuracy: 9570/10000 (95%)\n",
      "\n",
      "Train Epoch: 3 [0/50000 (0%)]\tLosses 0: 0.125637 1: 0.072359 2: 0.119057 3: 0.061944\n",
      "Train Epoch: 3 [10000/50000 (20%)]\tLosses 0: 0.121252 1: 0.085647 2: 0.122462 3: 0.111667\n",
      "Train Epoch: 3 [20000/50000 (40%)]\tLosses 0: 0.159104 1: 0.152021 2: 0.170068 3: 0.123344\n",
      "Train Epoch: 3 [30000/50000 (60%)]\tLosses 0: 0.272400 1: 0.212267 2: 0.266954 3: 0.193130\n",
      "Train Epoch: 3 [40000/50000 (80%)]\tLosses 0: 0.165603 1: 0.220264 2: 0.185519 3: 0.221240\n",
      "Train Epoch: 3 [50000/50000 (100%)]\tLosses 0: 0.060563 1: 0.064560 2: 0.071457 3: 0.070770\n",
      "Test set:\n",
      "0: Loss: 0.1548\tAccuracy: 9534/10000 (95%)\n",
      "1: Loss: 0.1044\tAccuracy: 9683/10000 (96%)\n",
      "2: Loss: 0.1504\tAccuracy: 9557/10000 (95%)\n",
      "3: Loss: 0.1093\tAccuracy: 9671/10000 (96%)\n",
      "\n",
      "Train Epoch: 4 [0/50000 (0%)]\tLosses 0: 0.045208 1: 0.022939 2: 0.042605 3: 0.028033\n",
      "Train Epoch: 4 [10000/50000 (20%)]\tLosses 0: 0.047472 1: 0.066028 2: 0.057596 3: 0.059091\n",
      "Train Epoch: 4 [20000/50000 (40%)]\tLosses 0: 0.222917 1: 0.156621 2: 0.212095 3: 0.157138\n",
      "Train Epoch: 4 [30000/50000 (60%)]\tLosses 0: 0.117733 1: 0.086138 2: 0.129075 3: 0.093446\n",
      "Train Epoch: 4 [40000/50000 (80%)]\tLosses 0: 0.028812 1: 0.028909 2: 0.036865 3: 0.034194\n",
      "Train Epoch: 4 [50000/50000 (100%)]\tLosses 0: 0.105439 1: 0.117947 2: 0.125626 3: 0.115682\n",
      "Test set:\n",
      "0: Loss: 0.1381\tAccuracy: 9598/10000 (95%)\n",
      "1: Loss: 0.0970\tAccuracy: 9714/10000 (97%)\n",
      "2: Loss: 0.1335\tAccuracy: 9591/10000 (95%)\n",
      "3: Loss: 0.0939\tAccuracy: 9716/10000 (97%)\n",
      "\n",
      "Train Epoch: 5 [0/50000 (0%)]\tLosses 0: 0.203534 1: 0.199148 2: 0.236412 3: 0.099112\n",
      "Train Epoch: 5 [10000/50000 (20%)]\tLosses 0: 0.140540 1: 0.124607 2: 0.139284 3: 0.127896\n",
      "Train Epoch: 5 [20000/50000 (40%)]\tLosses 0: 0.133349 1: 0.036300 2: 0.101939 3: 0.048786\n",
      "Train Epoch: 5 [30000/50000 (60%)]\tLosses 0: 0.117613 1: 0.044664 2: 0.091942 3: 0.066207\n",
      "Train Epoch: 5 [40000/50000 (80%)]\tLosses 0: 0.113944 1: 0.063288 2: 0.089279 3: 0.109003\n",
      "Train Epoch: 5 [50000/50000 (100%)]\tLosses 0: 0.046312 1: 0.019247 2: 0.054797 3: 0.027348\n",
      "Test set:\n",
      "0: Loss: 0.1193\tAccuracy: 9632/10000 (96%)\n",
      "1: Loss: 0.0846\tAccuracy: 9739/10000 (97%)\n",
      "2: Loss: 0.1135\tAccuracy: 9660/10000 (96%)\n",
      "3: Loss: 0.0884\tAccuracy: 9737/10000 (97%)\n",
      "\n",
      "Train Epoch: 6 [0/50000 (0%)]\tLosses 0: 0.220009 1: 0.102139 2: 0.167088 3: 0.113322\n",
      "Train Epoch: 6 [10000/50000 (20%)]\tLosses 0: 0.079055 1: 0.072527 2: 0.071563 3: 0.071713\n",
      "Train Epoch: 6 [20000/50000 (40%)]\tLosses 0: 0.158966 1: 0.115069 2: 0.158068 3: 0.119739\n",
      "Train Epoch: 6 [30000/50000 (60%)]\tLosses 0: 0.025299 1: 0.011850 2: 0.017970 3: 0.031101\n",
      "Train Epoch: 6 [40000/50000 (80%)]\tLosses 0: 0.036547 1: 0.015135 2: 0.027758 3: 0.013068\n",
      "Train Epoch: 6 [50000/50000 (100%)]\tLosses 0: 0.063660 1: 0.039177 2: 0.070109 3: 0.046901\n",
      "Test set:\n",
      "0: Loss: 0.1119\tAccuracy: 9658/10000 (96%)\n",
      "1: Loss: 0.0829\tAccuracy: 9756/10000 (97%)\n",
      "2: Loss: 0.1061\tAccuracy: 9667/10000 (96%)\n",
      "3: Loss: 0.0893\tAccuracy: 9746/10000 (97%)\n",
      "\n",
      "Train Epoch: 7 [0/50000 (0%)]\tLosses 0: 0.121099 1: 0.031080 2: 0.118053 3: 0.083092\n",
      "Train Epoch: 7 [10000/50000 (20%)]\tLosses 0: 0.078451 1: 0.020718 2: 0.075910 3: 0.043729\n",
      "Train Epoch: 7 [20000/50000 (40%)]\tLosses 0: 0.094843 1: 0.048472 2: 0.082968 3: 0.058485\n",
      "Train Epoch: 7 [30000/50000 (60%)]\tLosses 0: 0.090880 1: 0.018784 2: 0.086512 3: 0.037344\n",
      "Train Epoch: 7 [40000/50000 (80%)]\tLosses 0: 0.043011 1: 0.015368 2: 0.036425 3: 0.028099\n",
      "Train Epoch: 7 [50000/50000 (100%)]\tLosses 0: 0.040610 1: 0.010634 2: 0.027997 3: 0.068275\n",
      "Test set:\n",
      "0: Loss: 0.1015\tAccuracy: 9691/10000 (96%)\n",
      "1: Loss: 0.0840\tAccuracy: 9754/10000 (97%)\n",
      "2: Loss: 0.0955\tAccuracy: 9723/10000 (97%)\n",
      "3: Loss: 0.0791\tAccuracy: 9757/10000 (97%)\n",
      "\n",
      "Train Epoch: 8 [0/50000 (0%)]\tLosses 0: 0.023800 1: 0.017835 2: 0.019856 3: 0.009152\n",
      "Train Epoch: 8 [10000/50000 (20%)]\tLosses 0: 0.048285 1: 0.018672 2: 0.045737 3: 0.018681\n",
      "Train Epoch: 8 [20000/50000 (40%)]\tLosses 0: 0.049760 1: 0.024701 2: 0.079011 3: 0.032590\n",
      "Train Epoch: 8 [30000/50000 (60%)]\tLosses 0: 0.056062 1: 0.024976 2: 0.055479 3: 0.025871\n",
      "Train Epoch: 8 [40000/50000 (80%)]\tLosses 0: 0.051911 1: 0.035209 2: 0.076319 3: 0.015438\n",
      "Train Epoch: 8 [50000/50000 (100%)]\tLosses 0: 0.080002 1: 0.019802 2: 0.063313 3: 0.023554\n",
      "Test set:\n",
      "0: Loss: 0.1009\tAccuracy: 9698/10000 (96%)\n",
      "1: Loss: 0.0850\tAccuracy: 9759/10000 (97%)\n",
      "2: Loss: 0.0938\tAccuracy: 9720/10000 (97%)\n",
      "3: Loss: 0.0816\tAccuracy: 9771/10000 (97%)\n",
      "\n",
      "Train Epoch: 9 [0/50000 (0%)]\tLosses 0: 0.037249 1: 0.017406 2: 0.031342 3: 0.012770\n",
      "Train Epoch: 9 [10000/50000 (20%)]\tLosses 0: 0.059263 1: 0.043432 2: 0.057682 3: 0.042816\n",
      "Train Epoch: 9 [20000/50000 (40%)]\tLosses 0: 0.018767 1: 0.016636 2: 0.021508 3: 0.027646\n",
      "Train Epoch: 9 [30000/50000 (60%)]\tLosses 0: 0.019544 1: 0.023925 2: 0.015220 3: 0.004368\n",
      "Train Epoch: 9 [40000/50000 (80%)]\tLosses 0: 0.149211 1: 0.111301 2: 0.169855 3: 0.086809\n",
      "Train Epoch: 9 [50000/50000 (100%)]\tLosses 0: 0.022716 1: 0.094024 2: 0.027757 3: 0.003662\n",
      "Test set:\n",
      "0: Loss: 0.0960\tAccuracy: 9697/10000 (96%)\n",
      "1: Loss: 0.0769\tAccuracy: 9777/10000 (97%)\n",
      "2: Loss: 0.0871\tAccuracy: 9733/10000 (97%)\n",
      "3: Loss: 0.0800\tAccuracy: 9771/10000 (97%)\n",
      "\n",
      "Train Epoch: 10 [0/50000 (0%)]\tLosses 0: 0.033734 1: 0.009021 2: 0.051661 3: 0.018053\n",
      "Train Epoch: 10 [10000/50000 (20%)]\tLosses 0: 0.014514 1: 0.002786 2: 0.016798 3: 0.011496\n",
      "Train Epoch: 10 [20000/50000 (40%)]\tLosses 0: 0.015640 1: 0.002834 2: 0.014923 3: 0.005393\n",
      "Train Epoch: 10 [30000/50000 (60%)]\tLosses 0: 0.013402 1: 0.005157 2: 0.011929 3: 0.006250\n",
      "Train Epoch: 10 [40000/50000 (80%)]\tLosses 0: 0.007784 1: 0.002766 2: 0.006311 3: 0.004718\n",
      "Train Epoch: 10 [50000/50000 (100%)]\tLosses 0: 0.116491 1: 0.079072 2: 0.139094 3: 0.074066\n",
      "Test set:\n",
      "0: Loss: 0.0915\tAccuracy: 9725/10000 (97%)\n",
      "1: Loss: 0.0815\tAccuracy: 9788/10000 (97%)\n",
      "2: Loss: 0.0867\tAccuracy: 9735/10000 (97%)\n",
      "3: Loss: 0.0766\tAccuracy: 9772/10000 (97%)\n",
      "\n",
      "Train Epoch: 11 [0/50000 (0%)]\tLosses 0: 0.018294 1: 0.002158 2: 0.010177 3: 0.003228\n",
      "Train Epoch: 11 [10000/50000 (20%)]\tLosses 0: 0.035069 1: 0.019305 2: 0.037048 3: 0.011477\n",
      "Train Epoch: 11 [20000/50000 (40%)]\tLosses 0: 0.022683 1: 0.042475 2: 0.037537 3: 0.027966\n",
      "Train Epoch: 11 [30000/50000 (60%)]\tLosses 0: 0.043419 1: 0.006892 2: 0.040787 3: 0.029199\n",
      "Train Epoch: 11 [40000/50000 (80%)]\tLosses 0: 0.010242 1: 0.003989 2: 0.011049 3: 0.021505\n",
      "Train Epoch: 11 [50000/50000 (100%)]\tLosses 0: 0.026746 1: 0.021218 2: 0.034026 3: 0.008697\n",
      "Test set:\n",
      "0: Loss: 0.0848\tAccuracy: 9756/10000 (97%)\n",
      "1: Loss: 0.0783\tAccuracy: 9797/10000 (97%)\n",
      "2: Loss: 0.0807\tAccuracy: 9770/10000 (97%)\n",
      "3: Loss: 0.0803\tAccuracy: 9768/10000 (97%)\n",
      "\n",
      "Train Epoch: 12 [0/50000 (0%)]\tLosses 0: 0.039630 1: 0.024531 2: 0.037781 3: 0.028516\n",
      "Train Epoch: 12 [10000/50000 (20%)]\tLosses 0: 0.012761 1: 0.006204 2: 0.010760 3: 0.012657\n",
      "Train Epoch: 12 [20000/50000 (40%)]\tLosses 0: 0.016144 1: 0.005196 2: 0.016143 3: 0.023529\n",
      "Train Epoch: 12 [30000/50000 (60%)]\tLosses 0: 0.013108 1: 0.011960 2: 0.021364 3: 0.008197\n"
     ]
    },
    {
     "name": "stdout",
     "output_type": "stream",
     "text": [
      "Train Epoch: 12 [40000/50000 (80%)]\tLosses 0: 0.075219 1: 0.045865 2: 0.056565 3: 0.055696\n",
      "Train Epoch: 12 [50000/50000 (100%)]\tLosses 0: 0.082602 1: 0.057633 2: 0.064620 3: 0.040889\n",
      "Test set:\n",
      "0: Loss: 0.0919\tAccuracy: 9732/10000 (97%)\n",
      "1: Loss: 0.0803\tAccuracy: 9795/10000 (97%)\n",
      "2: Loss: 0.0849\tAccuracy: 9761/10000 (97%)\n",
      "3: Loss: 0.0788\tAccuracy: 9784/10000 (97%)\n",
      "\n",
      "Train Epoch: 13 [0/50000 (0%)]\tLosses 0: 0.049020 1: 0.014964 2: 0.047294 3: 0.018037\n",
      "Train Epoch: 13 [10000/50000 (20%)]\tLosses 0: 0.042093 1: 0.008380 2: 0.030662 3: 0.009727\n",
      "Train Epoch: 13 [20000/50000 (40%)]\tLosses 0: 0.012305 1: 0.002360 2: 0.006216 3: 0.011906\n",
      "Train Epoch: 13 [30000/50000 (60%)]\tLosses 0: 0.069471 1: 0.018460 2: 0.056218 3: 0.009554\n",
      "Train Epoch: 13 [40000/50000 (80%)]\tLosses 0: 0.011594 1: 0.068560 2: 0.008868 3: 0.022940\n",
      "Train Epoch: 13 [50000/50000 (100%)]\tLosses 0: 0.006807 1: 0.000464 2: 0.002929 3: 0.001421\n",
      "Test set:\n",
      "0: Loss: 0.0870\tAccuracy: 9753/10000 (97%)\n",
      "1: Loss: 0.0856\tAccuracy: 9779/10000 (97%)\n",
      "2: Loss: 0.0806\tAccuracy: 9774/10000 (97%)\n",
      "3: Loss: 0.0779\tAccuracy: 9772/10000 (97%)\n",
      "\n",
      "Train Epoch: 14 [0/50000 (0%)]\tLosses 0: 0.003282 1: 0.014131 2: 0.003247 3: 0.003748\n",
      "Train Epoch: 14 [10000/50000 (20%)]\tLosses 0: 0.034288 1: 0.005749 2: 0.019243 3: 0.007584\n",
      "Train Epoch: 14 [20000/50000 (40%)]\tLosses 0: 0.015731 1: 0.015196 2: 0.009058 3: 0.006677\n",
      "Train Epoch: 14 [30000/50000 (60%)]\tLosses 0: 0.016916 1: 0.006969 2: 0.013815 3: 0.020210\n",
      "Train Epoch: 14 [40000/50000 (80%)]\tLosses 0: 0.018998 1: 0.005836 2: 0.015363 3: 0.007987\n",
      "Train Epoch: 14 [50000/50000 (100%)]\tLosses 0: 0.001872 1: 0.002417 2: 0.001597 3: 0.000571\n",
      "Test set:\n",
      "0: Loss: 0.0871\tAccuracy: 9746/10000 (97%)\n",
      "1: Loss: 0.0814\tAccuracy: 9797/10000 (97%)\n",
      "2: Loss: 0.0827\tAccuracy: 9763/10000 (97%)\n",
      "3: Loss: 0.0890\tAccuracy: 9769/10000 (97%)\n",
      "\n",
      "Train Epoch: 15 [0/50000 (0%)]\tLosses 0: 0.014515 1: 0.001940 2: 0.012730 3: 0.001140\n",
      "Train Epoch: 15 [10000/50000 (20%)]\tLosses 0: 0.044447 1: 0.003845 2: 0.055243 3: 0.026463\n",
      "Train Epoch: 15 [20000/50000 (40%)]\tLosses 0: 0.007425 1: 0.001313 2: 0.006806 3: 0.005779\n",
      "Train Epoch: 15 [30000/50000 (60%)]\tLosses 0: 0.016678 1: 0.007709 2: 0.007907 3: 0.008810\n",
      "Train Epoch: 15 [40000/50000 (80%)]\tLosses 0: 0.055026 1: 0.011339 2: 0.038590 3: 0.011998\n",
      "Train Epoch: 15 [50000/50000 (100%)]\tLosses 0: 0.020512 1: 0.008848 2: 0.013569 3: 0.006420\n",
      "Test set:\n",
      "0: Loss: 0.0947\tAccuracy: 9742/10000 (97%)\n",
      "1: Loss: 0.0898\tAccuracy: 9781/10000 (97%)\n",
      "2: Loss: 0.0881\tAccuracy: 9765/10000 (97%)\n",
      "3: Loss: 0.0832\tAccuracy: 9790/10000 (97%)\n",
      "\n",
      "Train Epoch: 16 [0/50000 (0%)]\tLosses 0: 0.075087 1: 0.013163 2: 0.080616 3: 0.041873\n",
      "Train Epoch: 16 [10000/50000 (20%)]\tLosses 0: 0.001735 1: 0.002214 2: 0.001482 3: 0.001697\n",
      "Train Epoch: 16 [20000/50000 (40%)]\tLosses 0: 0.015814 1: 0.023848 2: 0.008658 3: 0.003372\n",
      "Train Epoch: 16 [30000/50000 (60%)]\tLosses 0: 0.009588 1: 0.003794 2: 0.043965 3: 0.006029\n",
      "Train Epoch: 16 [40000/50000 (80%)]\tLosses 0: 0.026908 1: 0.003584 2: 0.018037 3: 0.019598\n",
      "Train Epoch: 16 [50000/50000 (100%)]\tLosses 0: 0.024139 1: 0.012037 2: 0.033020 3: 0.014859\n",
      "Test set:\n",
      "0: Loss: 0.0879\tAccuracy: 9764/10000 (97%)\n",
      "1: Loss: 0.0851\tAccuracy: 9800/10000 (98%)\n",
      "2: Loss: 0.0836\tAccuracy: 9772/10000 (97%)\n",
      "3: Loss: 0.0813\tAccuracy: 9784/10000 (97%)\n",
      "\n",
      "Train Epoch: 17 [0/50000 (0%)]\tLosses 0: 0.019203 1: 0.038999 2: 0.008960 3: 0.011943\n",
      "Train Epoch: 17 [10000/50000 (20%)]\tLosses 0: 0.004502 1: 0.010130 2: 0.005283 3: 0.002891\n",
      "Train Epoch: 17 [20000/50000 (40%)]\tLosses 0: 0.002135 1: 0.003616 2: 0.002115 3: 0.001470\n",
      "Train Epoch: 17 [30000/50000 (60%)]\tLosses 0: 0.073538 1: 0.023680 2: 0.054996 3: 0.020328\n",
      "Train Epoch: 17 [40000/50000 (80%)]\tLosses 0: 0.006732 1: 0.004616 2: 0.007576 3: 0.004101\n",
      "Train Epoch: 17 [50000/50000 (100%)]\tLosses 0: 0.015794 1: 0.008553 2: 0.033069 3: 0.005357\n",
      "Test set:\n",
      "0: Loss: 0.0973\tAccuracy: 9736/10000 (97%)\n",
      "1: Loss: 0.0861\tAccuracy: 9802/10000 (98%)\n",
      "2: Loss: 0.0974\tAccuracy: 9739/10000 (97%)\n",
      "3: Loss: 0.0819\tAccuracy: 9793/10000 (97%)\n",
      "\n",
      "Train Epoch: 18 [0/50000 (0%)]\tLosses 0: 0.007000 1: 0.020315 2: 0.006954 3: 0.001491\n",
      "Train Epoch: 18 [10000/50000 (20%)]\tLosses 0: 0.006032 1: 0.006943 2: 0.008661 3: 0.009011\n",
      "Train Epoch: 18 [20000/50000 (40%)]\tLosses 0: 0.002619 1: 0.001083 2: 0.002529 3: 0.011959\n",
      "Train Epoch: 18 [30000/50000 (60%)]\tLosses 0: 0.029981 1: 0.004542 2: 0.008617 3: 0.003592\n",
      "Train Epoch: 18 [40000/50000 (80%)]\tLosses 0: 0.003963 1: 0.014584 2: 0.005063 3: 0.002634\n",
      "Train Epoch: 18 [50000/50000 (100%)]\tLosses 0: 0.007712 1: 0.000763 2: 0.008667 3: 0.040830\n",
      "Test set:\n",
      "0: Loss: 0.0981\tAccuracy: 9743/10000 (97%)\n",
      "1: Loss: 0.0923\tAccuracy: 9794/10000 (97%)\n",
      "2: Loss: 0.0896\tAccuracy: 9769/10000 (97%)\n",
      "3: Loss: 0.0868\tAccuracy: 9779/10000 (97%)\n",
      "\n",
      "Train Epoch: 19 [0/50000 (0%)]\tLosses 0: 0.007062 1: 0.016098 2: 0.003886 3: 0.003804\n",
      "Train Epoch: 19 [10000/50000 (20%)]\tLosses 0: 0.002421 1: 0.004151 2: 0.002943 3: 0.003885\n",
      "Train Epoch: 19 [20000/50000 (40%)]\tLosses 0: 0.024629 1: 0.004736 2: 0.043007 3: 0.030256\n",
      "Train Epoch: 19 [30000/50000 (60%)]\tLosses 0: 0.021850 1: 0.002322 2: 0.013158 3: 0.008069\n",
      "Train Epoch: 19 [40000/50000 (80%)]\tLosses 0: 0.032268 1: 0.049309 2: 0.008273 3: 0.021003\n",
      "Train Epoch: 19 [50000/50000 (100%)]\tLosses 0: 0.186935 1: 0.151397 2: 0.167388 3: 0.100222\n",
      "Test set:\n",
      "0: Loss: 0.0988\tAccuracy: 9738/10000 (97%)\n",
      "1: Loss: 0.0912\tAccuracy: 9791/10000 (97%)\n",
      "2: Loss: 0.0938\tAccuracy: 9759/10000 (97%)\n",
      "3: Loss: 0.0850\tAccuracy: 9783/10000 (97%)\n",
      "\n",
      "Train Epoch: 20 [0/50000 (0%)]\tLosses 0: 0.007619 1: 0.000789 2: 0.003421 3: 0.000361\n",
      "Train Epoch: 20 [10000/50000 (20%)]\tLosses 0: 0.003765 1: 0.007139 2: 0.007072 3: 0.008650\n",
      "Train Epoch: 20 [20000/50000 (40%)]\tLosses 0: 0.005585 1: 0.001016 2: 0.001929 3: 0.005158\n",
      "Train Epoch: 20 [30000/50000 (60%)]\tLosses 0: 0.010706 1: 0.004214 2: 0.016817 3: 0.023409\n",
      "Train Epoch: 20 [40000/50000 (80%)]\tLosses 0: 0.005713 1: 0.002513 2: 0.023187 3: 0.010155\n",
      "Train Epoch: 20 [50000/50000 (100%)]\tLosses 0: 0.003355 1: 0.002445 2: 0.001645 3: 0.012747\n",
      "Test set:\n",
      "0: Loss: 0.0941\tAccuracy: 9755/10000 (97%)\n",
      "1: Loss: 0.0913\tAccuracy: 9787/10000 (97%)\n",
      "2: Loss: 0.0920\tAccuracy: 9757/10000 (97%)\n",
      "3: Loss: 0.0955\tAccuracy: 9769/10000 (97%)\n",
      "\n"
     ]
    }
   ],
   "source": [
    "for epoch in range(1, 21):\n",
    "    for model in models:\n",
    "        model.train()\n",
    "    train_loss_val = train(epoch, models)\n",
    "    epoch_train_loss.append(train_loss_val)\n",
    "    \n",
    "    for model in models:\n",
    "        model.eval()\n",
    "    test_loss_val, test_acc_val = test(models, valid_loader)\n",
    "    epoch_test_loss.append(test_loss_val)\n",
    "    epoch_test_acc.append(test_acc_val)\n",
    "    "
   ]
  },
  {
   "cell_type": "code",
   "execution_count": 21,
   "metadata": {},
   "outputs": [],
   "source": [
    "final_train_loss = np.array(epoch_train_loss)\n",
    "final_test_loss = np.array(epoch_test_loss)\n",
    "final_test_acc = np.array(epoch_test_acc)"
   ]
  },
  {
   "cell_type": "code",
   "execution_count": 22,
   "metadata": {},
   "outputs": [
    {
     "name": "stderr",
     "output_type": "stream",
     "text": [
      "/Users/aleksey/anaconda3/envs/otus-dl-engineer/lib/python3.6/site-packages/torch/serialization.py:193: UserWarning: Couldn't retrieve source code for container of type Net. It won't be checked for correctness upon loading.\n",
      "  \"type \" + obj.__name__ + \". It won't be checked \"\n"
     ]
    }
   ],
   "source": [
    "torch.save(models[3], './model_classifier')"
   ]
  },
  {
   "cell_type": "markdown",
   "metadata": {},
   "source": [
    "## Вывод результатов"
   ]
  },
  {
   "cell_type": "code",
   "execution_count": 28,
   "metadata": {},
   "outputs": [],
   "source": [
    "model = torch.load('./model_classifier')"
   ]
  },
  {
   "cell_type": "code",
   "execution_count": 60,
   "metadata": {
    "scrolled": false
   },
   "outputs": [
    {
     "name": "stderr",
     "output_type": "stream",
     "text": [
      "/Users/aleksey/anaconda3/envs/otus-dl-engineer/lib/python3.6/site-packages/ipykernel_launcher.py:23: UserWarning: Implicit dimension choice for log_softmax has been deprecated. Change the call to include dim=X as an argument.\n"
     ]
    },
    {
     "data": {
      "image/png": "[encoded data removed]",
      "text/plain": [
       "<Figure size 800x400 with 50 Axes>"
      ]
     },
     "metadata": {},
     "output_type": "display_data"
    },
    {
     "name": "stdout",
     "output_type": "stream",
     "text": [
      "[tensor(7), tensor(2), tensor(1), tensor(0), tensor(4), tensor(1), tensor(4), tensor(9), tensor(5), tensor(9), tensor(0), tensor(6), tensor(9), tensor(0), tensor(1), tensor(5), tensor(9), tensor(7), tensor(3), tensor(4), tensor(9), tensor(6), tensor(6), tensor(5), tensor(4), tensor(0), tensor(7), tensor(4), tensor(0), tensor(1), tensor(3), tensor(1), tensor(3), tensor(4), tensor(7), tensor(2), tensor(7), tensor(1), tensor(2), tensor(1), tensor(1), tensor(7), tensor(4), tensor(2), tensor(3), tensor(5), tensor(1), tensor(2), tensor(4), tensor(4)]\n"
     ]
    }
   ],
   "source": [
    "data, _ = next(iter(test_loader))\n",
    "output = model.forward(data)\n",
    "predictions = [output[i].argmax() for i in range(50)]\n",
    "plot_mnist(data.data.numpy(), (5, 10))\n",
    "\n",
    "print (predictions)"
   ]
  },
  {
   "cell_type": "code",
   "execution_count": 112,
   "metadata": {},
   "outputs": [
    {
     "data": {
      "image/png": "[encoded data removed]",
      "text/plain": [
       "<Figure size 80x80 with 1 Axes>"
      ]
     },
     "metadata": {},
     "output_type": "display_data"
    }
   ],
   "source": [
    "data, _ = next(iter(test_loader))\n",
    "img = torch.ones((784))\n",
    "#img = data[2]\n",
    "to_plot = img.view(-1, 1, 28, 28).clamp(0, 1).data.numpy()\n",
    "plot_mnist(to_plot, (1, 1))\n"
   ]
  },
  {
   "cell_type": "code",
   "execution_count": 113,
   "metadata": {
    "scrolled": false
   },
   "outputs": [],
   "source": [
    "from torch.autograd import Variable\n",
    "\n",
    "def generate_image(img, cl):\n",
    "    \n",
    "    gen_img_par = Variable(img, requires_grad=True)    \n",
    "    target = torch.ones((10)) * 0.01\n",
    "    target[cl] = 0.99\n",
    "    target = target.view(1, 10)\n",
    "    \n",
    "    loss_stats = []    \n",
    "    gen_optim = optim.Adam([gen_img_par], lr=1e-4, weight_decay=0.5)\n",
    "\n",
    "    for i in range(1, 1000001):  \n",
    "                \n",
    "        out = torch.exp(model.forward(gen_img_par))    \n",
    "                 \n",
    "        gen_optim.zero_grad()\n",
    "        loss = F.mse_loss(out, target)    \n",
    "        loss.backward()                   \n",
    "        gen_optim.step()\n",
    "        \n",
    "        if i % 2000 == 0:    \n",
    "            print (\"Iteration {}: loss={} prediction={}\".format(i,loss, out.argmax()))\n",
    "            ls = loss.detach().numpy()            \n",
    "            loss_stats.append(ls)\n",
    "            \n",
    "            #print(\"PRED=\", out.argmax())\n",
    "            #print(\"OUT=\", out)\n",
    "            #print(\"TR=\", target)\n",
    "                        \n",
    "            if len(loss_stats) > 200:    \n",
    "                if ls > loss_stats[-2] and ls > loss_stats[-3] and ls > loss_stats[-4] and ls > loss_stats[-5]:\n",
    "                    print (\"Loss is rising .. stop\")\n",
    "                    break\n",
    "\n",
    "        if i % 20000 == 0:\n",
    "            to_plot = gen_img_par.view(-1, 1, 28, 28).clamp(0, 1).data.numpy()\n",
    "            plot_mnist(to_plot, (1, 1))\n",
    "                        \n",
    "    return gen_img_par    "
   ]
  },
  {
   "cell_type": "code",
   "execution_count": 114,
   "metadata": {
    "scrolled": false
   },
   "outputs": [
    {
     "name": "stderr",
     "output_type": "stream",
     "text": [
      "/Users/aleksey/anaconda3/envs/otus-dl-engineer/lib/python3.6/site-packages/ipykernel_launcher.py:23: UserWarning: Implicit dimension choice for log_softmax has been deprecated. Change the call to include dim=X as an argument.\n"
     ]
    },
    {
     "name": "stdout",
     "output_type": "stream",
     "text": [
      "Iteration 2000: loss=0.19609743356704712 prediction=4\n",
      "Iteration 4000: loss=0.19606894254684448 prediction=4\n",
      "Iteration 6000: loss=0.19571243226528168 prediction=4\n",
      "Iteration 8000: loss=0.14494116604328156 prediction=4\n",
      "Iteration 10000: loss=0.0010308314813300967 prediction=2\n",
      "Iteration 12000: loss=0.00013363076141104102 prediction=2\n",
      "Iteration 14000: loss=0.00020618045527953655 prediction=2\n",
      "Iteration 16000: loss=0.00021796164219267666 prediction=2\n",
      "Iteration 18000: loss=0.0002180443552788347 prediction=2\n",
      "Iteration 20000: loss=0.00021801159891765565 prediction=2\n"
     ]
    },
    {
     "data": {
      "image/png": "[encoded data removed]",
      "text/plain": [
       "<Figure size 80x80 with 1 Axes>"
      ]
     },
     "metadata": {},
     "output_type": "display_data"
    },
    {
     "name": "stdout",
     "output_type": "stream",
     "text": [
      "Iteration 22000: loss=0.00021870345517527312 prediction=2\n",
      "Iteration 24000: loss=0.0002194827247876674 prediction=2\n",
      "Iteration 26000: loss=0.00021938739519100636 prediction=2\n",
      "Iteration 28000: loss=0.00022166808776091784 prediction=2\n",
      "Iteration 30000: loss=0.0002217818982899189 prediction=2\n",
      "Iteration 32000: loss=0.00021377333905547857 prediction=2\n",
      "Iteration 34000: loss=0.00022336133406497538 prediction=2\n",
      "Iteration 36000: loss=0.00021417532116174698 prediction=2\n",
      "Iteration 38000: loss=0.0002206300850957632 prediction=2\n",
      "Iteration 40000: loss=0.0002158705610781908 prediction=2\n"
     ]
    },
    {
     "data": {
      "image/png": "[encoded data removed]",
      "text/plain": [
       "<Figure size 80x80 with 1 Axes>"
      ]
     },
     "metadata": {},
     "output_type": "display_data"
    },
    {
     "name": "stdout",
     "output_type": "stream",
     "text": [
      "Iteration 42000: loss=0.00021696242038160563 prediction=2\n",
      "Iteration 44000: loss=0.0002215863496530801 prediction=2\n",
      "Iteration 46000: loss=0.00021377939265221357 prediction=2\n",
      "Iteration 48000: loss=0.00022336342954076827 prediction=2\n",
      "Iteration 50000: loss=0.00021417252719402313 prediction=2\n",
      "Iteration 52000: loss=0.0002206312055932358 prediction=2\n",
      "Iteration 54000: loss=0.00021587216178886592 prediction=2\n",
      "Iteration 56000: loss=0.00021696242038160563 prediction=2\n",
      "Iteration 58000: loss=0.00022158733918331563 prediction=2\n",
      "Iteration 60000: loss=0.00021377885423135012 prediction=2\n"
     ]
    },
    {
     "data": {
      "image/png": "[encoded data removed]",
      "text/plain": [
       "<Figure size 80x80 with 1 Axes>"
      ]
     },
     "metadata": {},
     "output_type": "display_data"
    },
    {
     "name": "stdout",
     "output_type": "stream",
     "text": [
      "Iteration 62000: loss=0.00022336440451908857 prediction=2\n",
      "Iteration 64000: loss=0.00021417516109067947 prediction=2\n",
      "Iteration 66000: loss=0.00022063271899241954 prediction=2\n",
      "Iteration 68000: loss=0.00021587114315479994 prediction=2\n",
      "Iteration 70000: loss=0.00021696244948543608 prediction=2\n",
      "Iteration 72000: loss=0.00022158687352202833 prediction=2\n",
      "Iteration 74000: loss=0.00021377790835686028 prediction=2\n",
      "Iteration 76000: loss=0.0002233623235952109 prediction=2\n",
      "Iteration 78000: loss=0.00021417462266981602 prediction=2\n",
      "Iteration 80000: loss=0.00022063215146772563 prediction=2\n"
     ]
    },
    {
     "data": {
      "image/png": "[encoded data removed]",
      "text/plain": [
       "<Figure size 80x80 with 1 Axes>"
      ]
     },
     "metadata": {},
     "output_type": "display_data"
    },
    {
     "name": "stdout",
     "output_type": "stream",
     "text": [
      "Iteration 82000: loss=0.00021587366063613445 prediction=2\n",
      "Iteration 84000: loss=0.00021696093608625233 prediction=2\n",
      "Iteration 86000: loss=0.00022158733918331563 prediction=2\n",
      "Iteration 88000: loss=0.00021377878147177398 prediction=2\n",
      "Iteration 90000: loss=0.0002233617997262627 prediction=2\n",
      "Iteration 92000: loss=0.00021417481184471399 prediction=2\n",
      "Iteration 94000: loss=0.00022063164215069264 prediction=2\n",
      "Iteration 96000: loss=0.0002158706047339365 prediction=2\n",
      "Iteration 98000: loss=0.00021696186740882695 prediction=2\n",
      "Iteration 100000: loss=0.0002215873246314004 prediction=2\n"
     ]
    },
    {
     "data": {
      "image/png": "[encoded data removed]",
      "text/plain": [
       "<Figure size 80x80 with 1 Axes>"
      ]
     },
     "metadata": {},
     "output_type": "display_data"
    },
    {
     "name": "stdout",
     "output_type": "stream",
     "text": [
      "Iteration 102000: loss=0.00021377738448791206 prediction=2\n",
      "Iteration 104000: loss=0.00022336238180287182 prediction=2\n",
      "Iteration 106000: loss=0.00021417364769149572 prediction=2\n",
      "Iteration 108000: loss=0.00022063113283365965 prediction=2\n",
      "Iteration 110000: loss=0.00021587099763564765 prediction=2\n",
      "Iteration 112000: loss=0.00021696295880246907 prediction=2\n",
      "Iteration 114000: loss=0.0002215862477896735 prediction=2\n",
      "Iteration 116000: loss=0.00021377726807259023 prediction=2\n",
      "Iteration 118000: loss=0.00022336130496114492 prediction=2\n",
      "Iteration 120000: loss=0.0002141752338502556 prediction=2\n"
     ]
    },
    {
     "data": {
      "image/png": "[encoded data removed]",
      "text/plain": [
       "<Figure size 80x80 with 1 Axes>"
      ]
     },
     "metadata": {},
     "output_type": "display_data"
    },
    {
     "name": "stdout",
     "output_type": "stream",
     "text": [
      "Iteration 122000: loss=0.00022063113283365965 prediction=2\n",
      "Iteration 124000: loss=0.00021587355877272785 prediction=2\n",
      "Iteration 126000: loss=0.00021696400654036552 prediction=2\n",
      "Iteration 128000: loss=0.00022158640786074102 prediction=2\n",
      "Iteration 130000: loss=0.00021377683151513338 prediction=2\n",
      "Iteration 132000: loss=0.00022336290567182004 prediction=2\n",
      "Iteration 134000: loss=0.00021417424432002008 prediction=2\n",
      "Iteration 136000: loss=0.00022063271899241954 prediction=2\n",
      "Iteration 138000: loss=0.00021587262745015323 prediction=2\n",
      "Iteration 140000: loss=0.00021696144540328532 prediction=2\n"
     ]
    },
    {
     "data": {
      "image/png": "[encoded data removed]",
      "text/plain": [
       "<Figure size 80x80 with 1 Axes>"
      ]
     },
     "metadata": {},
     "output_type": "display_data"
    },
    {
     "name": "stdout",
     "output_type": "stream",
     "text": [
      "Iteration 142000: loss=0.00022158806677907705 prediction=2\n",
      "Iteration 144000: loss=0.00021377830125857145 prediction=2\n",
      "Iteration 146000: loss=0.00022336337133310735 prediction=2\n",
      "Iteration 148000: loss=0.00021417372045107186 prediction=2\n",
      "Iteration 150000: loss=0.00022063164215069264 prediction=2\n",
      "Iteration 152000: loss=0.00021587256924249232 prediction=2\n",
      "Iteration 154000: loss=0.0002169618383049965 prediction=2\n",
      "Iteration 156000: loss=0.0002215873682871461 prediction=2\n",
      "Iteration 158000: loss=0.00021377686061896384 prediction=2\n",
      "Iteration 160000: loss=0.00022336181427817792 prediction=2\n"
     ]
    },
    {
     "data": {
      "image/png": "[encoded data removed]",
      "text/plain": [
       "<Figure size 80x80 with 1 Axes>"
      ]
     },
     "metadata": {},
     "output_type": "display_data"
    },
    {
     "name": "stdout",
     "output_type": "stream",
     "text": [
      "Iteration 162000: loss=0.00021417361858766526 prediction=2\n",
      "Iteration 164000: loss=0.00022063327196519822 prediction=2\n",
      "Iteration 166000: loss=0.00021587169612757862 prediction=2\n",
      "Iteration 168000: loss=0.00021696176554542035 prediction=2\n",
      "Iteration 170000: loss=0.00022158797946758568 prediction=2\n",
      "Iteration 172000: loss=0.00021377691882662475 prediction=2\n",
      "Iteration 174000: loss=0.00022336239635478705 prediction=2\n",
      "Iteration 176000: loss=0.0002141736913472414 prediction=2\n",
      "Iteration 178000: loss=0.00022063117648940533 prediction=2\n",
      "Iteration 180000: loss=0.0002158725110348314 prediction=2\n"
     ]
    },
    {
     "data": {
      "image/png": "[encoded data removed]",
      "text/plain": [
       "<Figure size 80x80 with 1 Axes>"
      ]
     },
     "metadata": {},
     "output_type": "display_data"
    },
    {
     "name": "stdout",
     "output_type": "stream",
     "text": [
      "Iteration 182000: loss=0.00021696140174753964 prediction=2\n",
      "Iteration 184000: loss=0.00022158739739097655 prediction=2\n",
      "Iteration 186000: loss=0.00021377691882662475 prediction=2\n",
      "Iteration 188000: loss=0.00022336184338200837 prediction=2\n",
      "Iteration 190000: loss=0.00021417562675196677 prediction=2\n",
      "Iteration 192000: loss=0.00022063071082811803 prediction=2\n",
      "Iteration 194000: loss=0.0002158715797122568 prediction=2\n",
      "Iteration 196000: loss=0.0002169625659007579 prediction=2\n",
      "Iteration 198000: loss=0.0002215859421994537 prediction=2\n",
      "Iteration 200000: loss=0.00021377876691985875 prediction=2\n"
     ]
    },
    {
     "data": {
      "image/png": "[encoded data removed]",
      "text/plain": [
       "<Figure size 80x80 with 1 Axes>"
      ]
     },
     "metadata": {},
     "output_type": "display_data"
    },
    {
     "name": "stdout",
     "output_type": "stream",
     "text": [
      "Iteration 202000: loss=0.00022336127585731447 prediction=2\n",
      "Iteration 204000: loss=0.00021417267271317542 prediction=2\n",
      "Iteration 206000: loss=0.00022063062351662666 prediction=2\n",
      "Iteration 208000: loss=0.0002158716815756634 prediction=2\n",
      "Iteration 210000: loss=0.00021696036856155843 prediction=2\n",
      "Iteration 212000: loss=0.00022158792125992477 prediction=2\n",
      "Iteration 214000: loss=0.00021377732628025115 prediction=2\n",
      "Iteration 216000: loss=0.00022336244001053274 prediction=2\n",
      "Iteration 218000: loss=0.00021417372045107186 prediction=2\n",
      "Iteration 220000: loss=0.0002206337812822312 prediction=2\n"
     ]
    },
    {
     "data": {
      "image/png": "[encoded data removed]",
      "text/plain": [
       "<Figure size 80x80 with 1 Axes>"
      ]
     },
     "metadata": {},
     "output_type": "display_data"
    },
    {
     "name": "stdout",
     "output_type": "stream",
     "text": [
      "Iteration 222000: loss=0.00021587002265732735 prediction=2\n",
      "Iteration 224000: loss=0.0002169613289879635 prediction=2\n",
      "Iteration 226000: loss=0.0002215883432654664 prediction=2\n",
      "Iteration 228000: loss=0.00021377831581048667 prediction=2\n",
      "Iteration 230000: loss=0.0002233634004369378 prediction=2\n",
      "Iteration 232000: loss=0.00021417772222775966 prediction=2\n",
      "Iteration 234000: loss=0.00022063222422730178 prediction=2\n",
      "Iteration 236000: loss=0.000215872103581205 prediction=2\n",
      "Iteration 238000: loss=0.000216961998376064 prediction=2\n",
      "Iteration 240000: loss=0.00022158636420499533 prediction=2\n"
     ]
    },
    {
     "data": {
      "image/png": "[encoded data removed]",
      "text/plain": [
       "<Figure size 80x80 with 1 Axes>"
      ]
     },
     "metadata": {},
     "output_type": "display_data"
    },
    {
     "name": "stdout",
     "output_type": "stream",
     "text": [
      "Iteration 242000: loss=0.0002137788978870958 prediction=2\n",
      "Iteration 244000: loss=0.00022336289111990482 prediction=2\n",
      "Iteration 246000: loss=0.00021417559764813632 prediction=2\n",
      "Iteration 248000: loss=0.00022063066717237234 prediction=2\n",
      "Iteration 250000: loss=0.00021587207447737455 prediction=2\n",
      "Iteration 252000: loss=0.00021696249314118177 prediction=2\n",
      "Iteration 254000: loss=0.0002215863496530801 prediction=2\n",
      "Iteration 256000: loss=0.0002137772971764207 prediction=2\n",
      "Iteration 258000: loss=0.00022336235269904137 prediction=2\n",
      "Iteration 260000: loss=0.00021417567040771246 prediction=2\n"
     ]
    },
    {
     "data": {
      "image/png": "[encoded data removed]",
      "text/plain": [
       "<Figure size 80x80 with 1 Axes>"
      ]
     },
     "metadata": {},
     "output_type": "display_data"
    },
    {
     "name": "stdout",
     "output_type": "stream",
     "text": [
      "Iteration 262000: loss=0.00022063210781197995 prediction=2\n",
      "Iteration 264000: loss=0.00021587309311144054 prediction=2\n",
      "Iteration 266000: loss=0.00021696239127777517 prediction=2\n",
      "Iteration 268000: loss=0.00022158795036375523 prediction=2\n",
      "Iteration 270000: loss=0.00021377736993599683 prediction=2\n",
      "Iteration 272000: loss=0.00022336289111990482 prediction=2\n",
      "Iteration 274000: loss=0.00021417315292637795 prediction=2\n",
      "Iteration 276000: loss=0.00022063222422730178 prediction=2\n",
      "Iteration 278000: loss=0.000215872612898238 prediction=2\n",
      "Iteration 280000: loss=0.00021696145995520055 prediction=2\n"
     ]
    },
    {
     "data": {
      "image/png": "[encoded data removed]",
      "text/plain": [
       "<Figure size 80x80 with 1 Axes>"
      ]
     },
     "metadata": {},
     "output_type": "display_data"
    },
    {
     "name": "stdout",
     "output_type": "stream",
     "text": [
      "Iteration 282000: loss=0.0002215873682871461 prediction=2\n",
      "Iteration 284000: loss=0.00021377783559728414 prediction=2\n",
      "Iteration 286000: loss=0.00022336402616929263 prediction=2\n",
      "Iteration 288000: loss=0.00021417569951154292 prediction=2\n",
      "Iteration 290000: loss=0.00022063273354433477 prediction=2\n",
      "Iteration 292000: loss=0.00021587219089269638 prediction=2\n",
      "Iteration 294000: loss=0.0002169634390156716 prediction=2\n",
      "Iteration 296000: loss=0.00022158744104672223 prediction=2\n",
      "Iteration 298000: loss=0.00021377640950959176 prediction=2\n",
      "Iteration 300000: loss=0.00022336290567182004 prediction=2\n"
     ]
    },
    {
     "data": {
      "image/png": "[encoded data removed]",
      "text/plain": [
       "<Figure size 80x80 with 1 Axes>"
      ]
     },
     "metadata": {},
     "output_type": "display_data"
    },
    {
     "name": "stdout",
     "output_type": "stream",
     "text": [
      "Iteration 302000: loss=0.00021417380776256323 prediction=2\n",
      "Iteration 304000: loss=0.00022063276264816523 prediction=2\n",
      "Iteration 306000: loss=0.00021587216178886592 prediction=2\n",
      "Iteration 308000: loss=0.00021696234762202948 prediction=2\n",
      "Iteration 310000: loss=0.00022158733918331563 prediction=2\n",
      "Iteration 312000: loss=0.00021377738448791206 prediction=2\n",
      "Iteration 314000: loss=0.0002233629347756505 prediction=2\n",
      "Iteration 316000: loss=0.0002141762524843216 prediction=2\n",
      "Iteration 318000: loss=0.00022063108917791396 prediction=2\n",
      "Iteration 320000: loss=0.00021587198716588318 prediction=2\n"
     ]
    },
    {
     "data": {
      "image/png": "[encoded data removed]",
      "text/plain": [
       "<Figure size 80x80 with 1 Axes>"
      ]
     },
     "metadata": {},
     "output_type": "display_data"
    },
    {
     "name": "stdout",
     "output_type": "stream",
     "text": [
      "Iteration 322000: loss=0.00021696087787859142 prediction=2\n",
      "Iteration 324000: loss=0.0002215873682871461 prediction=2\n",
      "Iteration 326000: loss=0.00021377686061896384 prediction=2\n",
      "Iteration 328000: loss=0.00022336181427817792 prediction=2\n",
      "Iteration 330000: loss=0.00021417383686639369 prediction=2\n",
      "Iteration 332000: loss=0.00022063108917791396 prediction=2\n",
      "Iteration 334000: loss=0.00021587109949905425 prediction=2\n",
      "Iteration 336000: loss=0.0002169633808080107 prediction=2\n",
      "Iteration 338000: loss=0.00022158795036375523 prediction=2\n",
      "Iteration 340000: loss=0.000213778272154741 prediction=2\n"
     ]
    },
    {
     "data": {
      "image/png": "[encoded data removed]",
      "text/plain": [
       "<Figure size 80x80 with 1 Axes>"
      ]
     },
     "metadata": {},
     "output_type": "display_data"
    },
    {
     "name": "stdout",
     "output_type": "stream",
     "text": [
      "Iteration 342000: loss=0.0002233614941360429 prediction=2\n",
      "Iteration 344000: loss=0.00021417478274088353 prediction=2\n",
      "Iteration 346000: loss=0.0002206316275987774 prediction=2\n",
      "Iteration 348000: loss=0.0002158720453735441 prediction=2\n",
      "Iteration 350000: loss=0.00021696083422284573 prediction=2\n",
      "Iteration 352000: loss=0.00022158745559863746 prediction=2\n",
      "Iteration 354000: loss=0.000213777762837708 prediction=2\n",
      "Iteration 356000: loss=0.00022336081019602716 prediction=2\n",
      "Iteration 358000: loss=0.00021417354582808912 prediction=2\n",
      "Iteration 360000: loss=0.00022063271899241954 prediction=2\n"
     ]
    },
    {
     "data": {
      "image/png": "[encoded data removed]",
      "text/plain": [
       "<Figure size 80x80 with 1 Axes>"
      ]
     },
     "metadata": {},
     "output_type": "display_data"
    },
    {
     "name": "stdout",
     "output_type": "stream",
     "text": [
      "Iteration 362000: loss=0.00021587316587101668 prediction=2\n",
      "Iteration 364000: loss=0.00021696244948543608 prediction=2\n",
      "Iteration 366000: loss=0.00022158682986628264 prediction=2\n",
      "Iteration 368000: loss=0.0002137783740181476 prediction=2\n",
      "Iteration 370000: loss=0.00022336290567182004 prediction=2\n",
      "Iteration 372000: loss=0.0002141741570085287 prediction=2\n",
      "Iteration 374000: loss=0.00022063164215069264 prediction=2\n",
      "Iteration 376000: loss=0.000215873631532304 prediction=2\n",
      "Iteration 378000: loss=0.00021696032490581274 prediction=2\n",
      "Iteration 380000: loss=0.0002215879940195009 prediction=2\n"
     ]
    },
    {
     "data": {
      "image/png": "[encoded data removed]",
      "text/plain": [
       "<Figure size 80x80 with 1 Axes>"
      ]
     },
     "metadata": {},
     "output_type": "display_data"
    },
    {
     "name": "stdout",
     "output_type": "stream",
     "text": [
      "Iteration 382000: loss=0.00021377785014919937 prediction=2\n",
      "Iteration 384000: loss=0.00022336188703775406 prediction=2\n",
      "Iteration 386000: loss=0.0002141737350029871 prediction=2\n",
      "Iteration 388000: loss=0.00022063015785533935 prediction=2\n",
      "Iteration 390000: loss=0.000215873122215271 prediction=2\n",
      "Iteration 392000: loss=0.0002169610233977437 prediction=2\n",
      "Iteration 394000: loss=0.0002215896238340065 prediction=2\n",
      "Iteration 396000: loss=0.0002137783740181476 prediction=2\n",
      "Iteration 398000: loss=0.00022336184338200837 prediction=2\n",
      "Iteration 400000: loss=0.00021417575771920383 prediction=2\n"
     ]
    },
    {
     "data": {
      "image/png": "[encoded data removed]",
      "text/plain": [
       "<Figure size 80x80 with 1 Axes>"
      ]
     },
     "metadata": {},
     "output_type": "display_data"
    },
    {
     "name": "stdout",
     "output_type": "stream",
     "text": [
      "Iteration 402000: loss=0.00022063276264816523 prediction=2\n",
      "Iteration 404000: loss=0.00021587211813312024 prediction=2\n",
      "Iteration 406000: loss=0.00021696192561648786 prediction=2\n",
      "Iteration 408000: loss=0.00022158682986628264 prediction=2\n",
      "Loss is rising .. stop\n"
     ]
    }
   ],
   "source": [
    "new_image_randn = generate_image(img, 2)"
   ]
  },
  {
   "cell_type": "code",
   "execution_count": null,
   "metadata": {},
   "outputs": [],
   "source": []
  },
  {
   "cell_type": "code",
   "execution_count": null,
   "metadata": {},
   "outputs": [],
   "source": []
  },
  {
   "cell_type": "code",
   "execution_count": null,
   "metadata": {},
   "outputs": [],
   "source": []
  },
  {
   "cell_type": "code",
   "execution_count": null,
   "metadata": {},
   "outputs": [],
   "source": []
  },
  {
   "cell_type": "code",
   "execution_count": null,
   "metadata": {},
   "outputs": [],
   "source": []
  },
  {
   "cell_type": "code",
   "execution_count": null,
   "metadata": {},
   "outputs": [],
   "source": []
  },
  {
   "cell_type": "code",
   "execution_count": null,
   "metadata": {},
   "outputs": [],
   "source": []
  },
  {
   "cell_type": "code",
   "execution_count": null,
   "metadata": {},
   "outputs": [],
   "source": []
  }
 ],
 "metadata": {
  "kernelspec": {
   "display_name": "Python 3",
   "language": "python",
   "name": "python3"
  },
  "language_info": {
   "codemirror_mode": {
    "name": "ipython",
    "version": 3
   },
   "file_extension": ".py",
   "mimetype": "text/x-python",
   "name": "python",
   "nbconvert_exporter": "python",
   "pygments_lexer": "ipython3",
   "version": "3.6.6"
  }
 },
 "nbformat": 4,
 "nbformat_minor": 2
}
